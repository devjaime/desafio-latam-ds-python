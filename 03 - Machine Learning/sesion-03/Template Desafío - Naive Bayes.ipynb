{
 "cells": [
  {
   "cell_type": "markdown",
   "metadata": {},
   "source": [
    "### Solución Desafío - Naive Bayes\n",
    "\n",
    "* Para realizar este desafío debes haber revisado la lectura y videos correspondiente a la unidad.\n",
    "* Crea una carpeta de trabajo y guarda todos los archivos correspondientes (notebook y csv).\n",
    "* Una vez terminado el desafío, comprime la carpeta y sube el .zip a la sección correspondiente."
   ]
  },
  {
   "cell_type": "markdown",
   "metadata": {},
   "source": [
    "### Descripción\n",
    "\n",
    "* En esta sesión trabajaremos con una serie de base de datos sobre letras musicales de distintos artistas. \n",
    "* Cada uno de los csv se encuentra en la carpeta dump dentro del proyecto. Cada csv tiene el nombre del artista a analizar. Los archivos contienen el nombre del artista, el género musical del artista, el nombre de la canción y las letras.\n",
    "* En base a esta información, se les pide un modelo generativo que pueda predecir el género de una canción a patir de la letra de una canción.\n",
    "* Existen 4 géneros que se registran en la base de datos, por lo que para esta actividad trabajaremos con un Multinomial Naive Bayes."
   ]
  },
  {
   "cell_type": "markdown",
   "metadata": {},
   "source": [
    "### Ejercicio 1: Preparar el ambiente de trabajo\n",
    "\n",
    "* Importe los módulos numpy , pandas , matplotlib , seaborn , glob y os siguiendo las buenas prácticas. Los últimos dos módulos permitirán realizar la importación de múltiples archivos dentro de la carpeta dump.\n",
    "* Para ello genere un objeto que guarde en una lista todos los archivos alojados en dump utilizando glob.glob y os.getcwd() para extraer las rutas absolutas. Posteriormente genere un objeto pd.DataFrame que contenga todos los csv.\n",
    "* Asegúrese de eliminar la columna Unnamed: 0 que se genera por defecto."
   ]
  },
  {
   "cell_type": "code",
   "execution_count": 1,
   "metadata": {},
   "outputs": [],
   "source": [
    "import numpy as np\n",
    "import pandas as pd\n",
    "import matplotlib.pyplot as plt\n",
    "import seaborn as sns\n",
    "import glob\n",
    "import os\n",
    "import warnings\n",
    "\n",
    "warnings.filterwarnings(action='ignore')"
   ]
  },
  {
   "cell_type": "code",
   "execution_count": 2,
   "metadata": {},
   "outputs": [
    {
     "data": {
      "text/html": [
       "<div>\n",
       "<style scoped>\n",
       "    .dataframe tbody tr th:only-of-type {\n",
       "        vertical-align: middle;\n",
       "    }\n",
       "\n",
       "    .dataframe tbody tr th {\n",
       "        vertical-align: top;\n",
       "    }\n",
       "\n",
       "    .dataframe thead th {\n",
       "        text-align: right;\n",
       "    }\n",
       "</style>\n",
       "<table border=\"1\" class=\"dataframe\">\n",
       "  <thead>\n",
       "    <tr style=\"text-align: right;\">\n",
       "      <th></th>\n",
       "      <th>artist</th>\n",
       "      <th>genre</th>\n",
       "      <th>song</th>\n",
       "      <th>lyrics</th>\n",
       "    </tr>\n",
       "  </thead>\n",
       "  <tbody>\n",
       "    <tr>\n",
       "      <th>0</th>\n",
       "      <td>The Beatles</td>\n",
       "      <td>rock</td>\n",
       "      <td>I Saw Her Standing There</td>\n",
       "      <td>One, two, three, four! \\n Well, she was just s...</td>\n",
       "    </tr>\n",
       "    <tr>\n",
       "      <th>1</th>\n",
       "      <td>The Beatles</td>\n",
       "      <td>rock</td>\n",
       "      <td>Misery</td>\n",
       "      <td>The world is treating me bad \\n Misery \\n I'm ...</td>\n",
       "    </tr>\n",
       "    <tr>\n",
       "      <th>2</th>\n",
       "      <td>The Beatles</td>\n",
       "      <td>rock</td>\n",
       "      <td>Anna (Go To Him)</td>\n",
       "      <td>Anna \\n You come and ask me, girl \\n To set yo...</td>\n",
       "    </tr>\n",
       "    <tr>\n",
       "      <th>3</th>\n",
       "      <td>The Beatles</td>\n",
       "      <td>rock</td>\n",
       "      <td>Chains</td>\n",
       "      <td>Chains \\n My baby's got me locked up in chains...</td>\n",
       "    </tr>\n",
       "    <tr>\n",
       "      <th>4</th>\n",
       "      <td>The Beatles</td>\n",
       "      <td>rock</td>\n",
       "      <td>Boys</td>\n",
       "      <td>I've been told when a boy kiss a girl \\n Take ...</td>\n",
       "    </tr>\n",
       "  </tbody>\n",
       "</table>\n",
       "</div>"
      ],
      "text/plain": [
       "        artist genre                      song  \\\n",
       "0  The Beatles  rock  I Saw Her Standing There   \n",
       "1  The Beatles  rock                    Misery   \n",
       "2  The Beatles  rock          Anna (Go To Him)   \n",
       "3  The Beatles  rock                    Chains   \n",
       "4  The Beatles  rock                      Boys   \n",
       "\n",
       "                                              lyrics  \n",
       "0  One, two, three, four! \\n Well, she was just s...  \n",
       "1  The world is treating me bad \\n Misery \\n I'm ...  \n",
       "2  Anna \\n You come and ask me, girl \\n To set yo...  \n",
       "3  Chains \\n My baby's got me locked up in chains...  \n",
       "4  I've been told when a boy kiss a girl \\n Take ...  "
      ]
     },
     "execution_count": 2,
     "metadata": {},
     "output_type": "execute_result"
    }
   ],
   "source": [
    "dfs = list(map(lambda path: pd.read_csv(os.getcwd() + '/' + path), glob.glob('files/dump/*')))\n",
    "df = pd.concat(dfs).drop(columns=['Unnamed: 0'])\n",
    "df.columns = ['artist', 'genre', 'song', 'lyrics']\n",
    "df.head()"
   ]
  },
  {
   "cell_type": "markdown",
   "metadata": {},
   "source": [
    "### Ejercicio 2: Descripción de los datos\n",
    "* Utilizando el objeto creado en el Ejercicio 1, genere dos gráficos de barras que resuman la siguiente información:\n",
    "    * La cantidad de canciones registradas por cada artista, ordenado de mayor a menor.\n",
    "    * La cantidad de canciones registradas en cada género, ordenados de mayor a menor.\n",
    "* Comente sobre las principales tendencias."
   ]
  },
  {
   "cell_type": "code",
   "execution_count": 3,
   "metadata": {},
   "outputs": [
    {
     "data": {
      "image/png": "[encoded data removed]",
      "text/plain": [
       "<Figure size 1080x1080 with 2 Axes>"
      ]
     },
     "metadata": {
      "needs_background": "light"
     },
     "output_type": "display_data"
    }
   ],
   "source": [
    "fig, ax = plt.subplots(ncols=2, figsize=(15,15))\n",
    "df['artist'].value_counts(ascending=False).to_frame().plot.barh(ax=ax[0])\n",
    "df['genre'].value_counts(ascending=False).to_frame().plot.barh(ax=ax[1]);"
   ]
  },
  {
   "cell_type": "markdown",
   "metadata": {},
   "source": [
    "- Existen muchas canciones clasificadas como rock y como hiphop. Pop está subrepresentada.\n",
    "- Hay algunos artistas con muchos datos, como por ejemplo Britney Spears, Bob Dylan, Bruce Springsteen y Eminem."
   ]
  },
  {
   "cell_type": "markdown",
   "metadata": {},
   "source": [
    "### Ejercicio 3: Matriz de ocurrencias\n",
    "\n",
    "* Digresión: Tokenización de Textos\n",
    "    * Para poder trabajar con textos, debemos pasarlos a una matriz dispersa, donde cada fila representará una entrada (en este caso, una canción), y cada columna representará una palabra (token). Este es el proceso de tokenización: Identificar la ocurrencia de una palabra específica dentro de un conjunto de textos (corpus). El tokenizador más simple sklearn.feature_extraction.text.CountVectorizer genera una colección de textos a una matriz que representa la frecuencia dentro del texto de una palabra específica. El tokenizador funciona de la siguiente manera:\n",
    "    \n",
    "```python\n",
    "\n",
    "from sklearn.feature_extraction.text import CountVectorizer\n",
    "# instanciamos un objeto\n",
    "count_vectorizer=CountVectorizer(stop_words='english')\n",
    "# Implementamos los pasos fit y transform\n",
    "count_vectorizer_fit = count_vectorizer.fit_transform(lista_de_textos)\n",
    "# Extraemos tokens (palabras)\n",
    "words = count_vectorizer.get_feature_names()\n",
    "# extraemos frecuencia\n",
    "words_freq = count_vectorizer_fit.toarray().sum(axis=0)\n",
    "```\n",
    "    \n",
    "    \n",
    "* Importe la clase CountVectorizer dentro de los módulos feature_extraction.text de la librería sklearn . Lea la documentación asociada a ésta. ¿Cuál es el objetivo de esta clase?\n",
    "* Aplique la clase para extraer las 100 palabras más repetidas en toda la base de datos.\n",
    "* Genere una función que replique el procedimiento para cada uno de los géneros.\n",
    "* Comente sobre las principales características de cada género en cuanto a sus palabras."
   ]
  },
  {
   "cell_type": "markdown",
   "metadata": {},
   "source": [
    "La clase `CountVectorizer` convierte una colección de textos a una matriz de conteo de cada palabra en los textos."
   ]
  },
  {
   "cell_type": "code",
   "execution_count": 4,
   "metadata": {},
   "outputs": [],
   "source": [
    "from sklearn.feature_extraction.text import CountVectorizer\n",
    "\n",
    "def most_common_words(df):\n",
    "    count_vectorizer = CountVectorizer(stop_words='english')\n",
    "    lyrics_count = count_vectorizer.fit_transform(df['lyrics'])\n",
    "    words = count_vectorizer.get_feature_names()\n",
    "    words_freq = lyrics_count.toarray().sum(axis=0)\n",
    "    return pd.DataFrame({ 'freq': words_freq }, index=words).sort_values(by='freq', ascending=False)[:100]"
   ]
  },
  {
   "cell_type": "code",
   "execution_count": 5,
   "metadata": {},
   "outputs": [
    {
     "data": {
      "text/html": [
       "<div>\n",
       "<style scoped>\n",
       "    .dataframe tbody tr th:only-of-type {\n",
       "        vertical-align: middle;\n",
       "    }\n",
       "\n",
       "    .dataframe tbody tr th {\n",
       "        vertical-align: top;\n",
       "    }\n",
       "\n",
       "    .dataframe thead th {\n",
       "        text-align: right;\n",
       "    }\n",
       "</style>\n",
       "<table border=\"1\" class=\"dataframe\">\n",
       "  <thead>\n",
       "    <tr style=\"text-align: right;\">\n",
       "      <th></th>\n",
       "      <th>freq</th>\n",
       "    </tr>\n",
       "  </thead>\n",
       "  <tbody>\n",
       "    <tr>\n",
       "      <th>like</th>\n",
       "      <td>19629</td>\n",
       "    </tr>\n",
       "    <tr>\n",
       "      <th>don</th>\n",
       "      <td>17398</td>\n",
       "    </tr>\n",
       "    <tr>\n",
       "      <th>know</th>\n",
       "      <td>14962</td>\n",
       "    </tr>\n",
       "    <tr>\n",
       "      <th>got</th>\n",
       "      <td>14171</td>\n",
       "    </tr>\n",
       "    <tr>\n",
       "      <th>just</th>\n",
       "      <td>13978</td>\n",
       "    </tr>\n",
       "    <tr>\n",
       "      <th>love</th>\n",
       "      <td>11268</td>\n",
       "    </tr>\n",
       "    <tr>\n",
       "      <th>yeah</th>\n",
       "      <td>11071</td>\n",
       "    </tr>\n",
       "    <tr>\n",
       "      <th>ll</th>\n",
       "      <td>10028</td>\n",
       "    </tr>\n",
       "    <tr>\n",
       "      <th>oh</th>\n",
       "      <td>9879</td>\n",
       "    </tr>\n",
       "    <tr>\n",
       "      <th>cause</th>\n",
       "      <td>8356</td>\n",
       "    </tr>\n",
       "    <tr>\n",
       "      <th>time</th>\n",
       "      <td>8037</td>\n",
       "    </tr>\n",
       "    <tr>\n",
       "      <th>let</th>\n",
       "      <td>8009</td>\n",
       "    </tr>\n",
       "    <tr>\n",
       "      <th>come</th>\n",
       "      <td>7866</td>\n",
       "    </tr>\n",
       "    <tr>\n",
       "      <th>man</th>\n",
       "      <td>7467</td>\n",
       "    </tr>\n",
       "    <tr>\n",
       "      <th>ain</th>\n",
       "      <td>7323</td>\n",
       "    </tr>\n",
       "    <tr>\n",
       "      <th>make</th>\n",
       "      <td>6821</td>\n",
       "    </tr>\n",
       "    <tr>\n",
       "      <th>baby</th>\n",
       "      <td>6735</td>\n",
       "    </tr>\n",
       "    <tr>\n",
       "      <th>want</th>\n",
       "      <td>6698</td>\n",
       "    </tr>\n",
       "    <tr>\n",
       "      <th>say</th>\n",
       "      <td>6684</td>\n",
       "    </tr>\n",
       "    <tr>\n",
       "      <th>right</th>\n",
       "      <td>6207</td>\n",
       "    </tr>\n",
       "    <tr>\n",
       "      <th>shit</th>\n",
       "      <td>6128</td>\n",
       "    </tr>\n",
       "    <tr>\n",
       "      <th>ve</th>\n",
       "      <td>5924</td>\n",
       "    </tr>\n",
       "    <tr>\n",
       "      <th>way</th>\n",
       "      <td>5713</td>\n",
       "    </tr>\n",
       "    <tr>\n",
       "      <th>life</th>\n",
       "      <td>5710</td>\n",
       "    </tr>\n",
       "    <tr>\n",
       "      <th>wanna</th>\n",
       "      <td>5356</td>\n",
       "    </tr>\n",
       "    <tr>\n",
       "      <th>gonna</th>\n",
       "      <td>5121</td>\n",
       "    </tr>\n",
       "    <tr>\n",
       "      <th>yo</th>\n",
       "      <td>4859</td>\n",
       "    </tr>\n",
       "    <tr>\n",
       "      <th>feel</th>\n",
       "      <td>4704</td>\n",
       "    </tr>\n",
       "    <tr>\n",
       "      <th>need</th>\n",
       "      <td>4579</td>\n",
       "    </tr>\n",
       "    <tr>\n",
       "      <th>fuck</th>\n",
       "      <td>4537</td>\n",
       "    </tr>\n",
       "    <tr>\n",
       "      <th>...</th>\n",
       "      <td>...</td>\n",
       "    </tr>\n",
       "    <tr>\n",
       "      <th>big</th>\n",
       "      <td>2363</td>\n",
       "    </tr>\n",
       "    <tr>\n",
       "      <th>did</th>\n",
       "      <td>2359</td>\n",
       "    </tr>\n",
       "    <tr>\n",
       "      <th>hold</th>\n",
       "      <td>2326</td>\n",
       "    </tr>\n",
       "    <tr>\n",
       "      <th>die</th>\n",
       "      <td>2303</td>\n",
       "    </tr>\n",
       "    <tr>\n",
       "      <th>bad</th>\n",
       "      <td>2217</td>\n",
       "    </tr>\n",
       "    <tr>\n",
       "      <th>la</th>\n",
       "      <td>2202</td>\n",
       "    </tr>\n",
       "    <tr>\n",
       "      <th>things</th>\n",
       "      <td>2186</td>\n",
       "    </tr>\n",
       "    <tr>\n",
       "      <th>run</th>\n",
       "      <td>2176</td>\n",
       "    </tr>\n",
       "    <tr>\n",
       "      <th>try</th>\n",
       "      <td>2165</td>\n",
       "    </tr>\n",
       "    <tr>\n",
       "      <th>rock</th>\n",
       "      <td>2165</td>\n",
       "    </tr>\n",
       "    <tr>\n",
       "      <th>uh</th>\n",
       "      <td>2146</td>\n",
       "    </tr>\n",
       "    <tr>\n",
       "      <th>light</th>\n",
       "      <td>2101</td>\n",
       "    </tr>\n",
       "    <tr>\n",
       "      <th>turn</th>\n",
       "      <td>2078</td>\n",
       "    </tr>\n",
       "    <tr>\n",
       "      <th>dead</th>\n",
       "      <td>2076</td>\n",
       "    </tr>\n",
       "    <tr>\n",
       "      <th>leave</th>\n",
       "      <td>2056</td>\n",
       "    </tr>\n",
       "    <tr>\n",
       "      <th>hit</th>\n",
       "      <td>2048</td>\n",
       "    </tr>\n",
       "    <tr>\n",
       "      <th>hard</th>\n",
       "      <td>2037</td>\n",
       "    </tr>\n",
       "    <tr>\n",
       "      <th>gone</th>\n",
       "      <td>2016</td>\n",
       "    </tr>\n",
       "    <tr>\n",
       "      <th>tonight</th>\n",
       "      <td>2010</td>\n",
       "    </tr>\n",
       "    <tr>\n",
       "      <th>till</th>\n",
       "      <td>2003</td>\n",
       "    </tr>\n",
       "    <tr>\n",
       "      <th>high</th>\n",
       "      <td>1989</td>\n",
       "    </tr>\n",
       "    <tr>\n",
       "      <th>boy</th>\n",
       "      <td>1971</td>\n",
       "    </tr>\n",
       "    <tr>\n",
       "      <th>soul</th>\n",
       "      <td>1921</td>\n",
       "    </tr>\n",
       "    <tr>\n",
       "      <th>inside</th>\n",
       "      <td>1915</td>\n",
       "    </tr>\n",
       "    <tr>\n",
       "      <th>everybody</th>\n",
       "      <td>1903</td>\n",
       "    </tr>\n",
       "    <tr>\n",
       "      <th>death</th>\n",
       "      <td>1897</td>\n",
       "    </tr>\n",
       "    <tr>\n",
       "      <th>left</th>\n",
       "      <td>1895</td>\n",
       "    </tr>\n",
       "    <tr>\n",
       "      <th>thing</th>\n",
       "      <td>1882</td>\n",
       "    </tr>\n",
       "    <tr>\n",
       "      <th>end</th>\n",
       "      <td>1829</td>\n",
       "    </tr>\n",
       "    <tr>\n",
       "      <th>stay</th>\n",
       "      <td>1828</td>\n",
       "    </tr>\n",
       "  </tbody>\n",
       "</table>\n",
       "<p>100 rows × 1 columns</p>\n",
       "</div>"
      ],
      "text/plain": [
       "            freq\n",
       "like       19629\n",
       "don        17398\n",
       "know       14962\n",
       "got        14171\n",
       "just       13978\n",
       "love       11268\n",
       "yeah       11071\n",
       "ll         10028\n",
       "oh          9879\n",
       "cause       8356\n",
       "time        8037\n",
       "let         8009\n",
       "come        7866\n",
       "man         7467\n",
       "ain         7323\n",
       "make        6821\n",
       "baby        6735\n",
       "want        6698\n",
       "say         6684\n",
       "right       6207\n",
       "shit        6128\n",
       "ve          5924\n",
       "way         5713\n",
       "life        5710\n",
       "wanna       5356\n",
       "gonna       5121\n",
       "yo          4859\n",
       "feel        4704\n",
       "need        4579\n",
       "fuck        4537\n",
       "...          ...\n",
       "big         2363\n",
       "did         2359\n",
       "hold        2326\n",
       "die         2303\n",
       "bad         2217\n",
       "la          2202\n",
       "things      2186\n",
       "run         2176\n",
       "try         2165\n",
       "rock        2165\n",
       "uh          2146\n",
       "light       2101\n",
       "turn        2078\n",
       "dead        2076\n",
       "leave       2056\n",
       "hit         2048\n",
       "hard        2037\n",
       "gone        2016\n",
       "tonight     2010\n",
       "till        2003\n",
       "high        1989\n",
       "boy         1971\n",
       "soul        1921\n",
       "inside      1915\n",
       "everybody   1903\n",
       "death       1897\n",
       "left        1895\n",
       "thing       1882\n",
       "end         1829\n",
       "stay        1828\n",
       "\n",
       "[100 rows x 1 columns]"
      ]
     },
     "execution_count": 5,
     "metadata": {},
     "output_type": "execute_result"
    }
   ],
   "source": [
    "most_common = most_common_words(df)\n",
    "most_common"
   ]
  },
  {
   "cell_type": "code",
   "execution_count": 6,
   "metadata": {},
   "outputs": [
    {
     "data": {
      "image/png": "[encoded data removed]",
      "text/plain": [
       "<Figure size 1080x360 with 4 Axes>"
      ]
     },
     "metadata": {
      "needs_background": "light"
     },
     "output_type": "display_data"
    }
   ],
   "source": [
    "fig, ax = plt.subplots(ncols=4, figsize=(15,5))\n",
    "n = 0\n",
    "\n",
    "for name, group in df.groupby(by='genre'):\n",
    "    most_common_words(group)['freq'].plot.hist(ax=ax[n])\n",
    "    ax[n].set_title(name)\n",
    "    n += 1"
   ]
  },
  {
   "cell_type": "markdown",
   "metadata": {},
   "source": [
    "Podemos ver que existen algunas palabras que con una frecuencia muy alta para cada sub género."
   ]
  },
  {
   "cell_type": "markdown",
   "metadata": {},
   "source": [
    "### Ejercicio 4: Entrenamiento del Modelo\n",
    "* Digresión: sklearn Pipelines\n",
    "    * La clase Pipeline del módulo sklearn.pipeline permite concatenar múltiples pasos de procesamiento y preprocesamiento en un estimador generado por algún método de scikitlearn . En sí, la clase cuenta con los métodos clásicos fit , predict y score y presenta un comportamiento idéntico a los demás objetos de scikit-learn . Uno de los usos más comunes es para concatenar pasos de preprocesamiento con un modelo.\n",
    "    \n",
    "* Componentes de un Pipeline\n",
    "   * Imaginemos que deseamos implementar el siguiente modelo. Considerando un conjunto de datos, deseo Estandarlizarlo, posteriormente extraer sus principales componentes y finalmente aplicar un modelo de regresión lineal. Este flujo se puede reexpresar como:\n",
    "       \n",
    "```python\n",
    "pipeline_model = Pipeline([('scale', StandardScaler()),\n",
    "                            ('pca', RandomizedPCA(n_components=3)),\n",
    "                            ('model', LinearRegression())])\n",
    "```\n",
    "Algunos de los elementos a considerar:\n",
    "1. Cada paso se considera como una tupla, donde se declara el nombre del paso y la función\n",
    "a implementar. En este caso, nuestro primer paso es estandarizar la matriz, por lo que\n",
    "asociamos el método StandardScaler con el string scale .\n",
    "2. Todos los pasos declarados se incorporan en una lista, donde el orden de ingreso\n",
    "representa el orden de ejecución.\n",
    "Posteriormente el objeto creado puede utilizarse con los siguientes métodos\n",
    "\n",
    "```python\n",
    "pipeline_model.fit(X_train, y_train)\n",
    "y_hat = pipeline_model.predict(y_test)\n",
    "```"
   ]
  },
  {
   "cell_type": "markdown",
   "metadata": {},
   "source": [
    "* Importe MultinomialNB , train_test_split , Pipeline , confusion_matrix y classification_report.\n",
    "* Genere las muestras de entrenamiento y validación reservando un 40% para validación y declarando una semilla pseudoaleatoria.\n",
    "* Monte el modelo dentro de un Pipeline , donde el primer paso es implementar CountVectorizer y el segundo sea ejecutar el clasificador MultinomialNB.\n",
    "* A continuación se les presenta una lista de letras, ¿cuáles serían las predicciones correspondientes?\n",
    "\n",
    "```python\n",
    "['I got a place in the underworld', # Brody Dalle - Underworld\n",
    "'As veils of ignorance, hatred retains Storm of arrows through karma Seeking light through samsara', # Gorguts - Forgotten Arrows\n",
    "\"Bye bye Don't want to be a fool for you Just another player in your game for two You may hate me but it ain't no lie\", # N'SYNC - Bye Bye Bye\n",
    "'Move bitch, get out the way Get out the way bitch, get out the way Move bitch, get out the way Get out the way bitch, get out the way', # Ludacris -Move B*tch\n",
    "'Sexual violence doesn’t start and end with rape It starts in our books and behind our school gates' # IDLES - Mother,\n",
    "\"Take it from the girl you claimed to love You gonna get some bad karma I'm the one who had to learn to build a heart made of armor From the girl who made you soup and tied your shoes when you were hurting You are not deserving, you are not deserving\" #Banks -Drowning\n",
    "]\n",
    "```\n",
    "\n",
    "* Genere una predicción implementando la muestra de validación y contraste las predicciones del modelo con las etiquetas verdaderas. Reporte las principales métricas."
   ]
  },
  {
   "cell_type": "code",
   "execution_count": 7,
   "metadata": {},
   "outputs": [],
   "source": [
    "from sklearn.naive_bayes import MultinomialNB\n",
    "from sklearn.model_selection import train_test_split\n",
    "from sklearn.metrics import confusion_matrix, classification_report\n",
    "from sklearn.pipeline import Pipeline\n",
    "from sklearn.preprocessing import LabelEncoder"
   ]
  },
  {
   "cell_type": "code",
   "execution_count": 8,
   "metadata": {},
   "outputs": [],
   "source": [
    "y = df['genre']\n",
    "X = df['lyrics']\n",
    "\n",
    "X_train, X_test, y_train, y_test, = train_test_split(X, y, test_size = 0.4, random_state = 5082019)\n",
    "\n",
    "pipeline_model = Pipeline([('counter', CountVectorizer(stop_words='english')),\n",
    "                            ('model', MultinomialNB())])\n",
    "\n",
    "pipeline_model.fit(X_train, y_train);"
   ]
  },
  {
   "cell_type": "markdown",
   "metadata": {},
   "source": [
    "Predicciones solicitadas:"
   ]
  },
  {
   "cell_type": "code",
   "execution_count": 9,
   "metadata": {},
   "outputs": [
    {
     "name": "stdout",
     "output_type": "stream",
     "text": [
      "Las predicciones solicitadas, respectivamente, son: rock, metal, rock, pop, rock\n"
     ]
    }
   ],
   "source": [
    "to_predict = ['I got a place in the underworld', # Brody Dalle - Underworld\n",
    "'As veils of ignorance, hatred retains Storm of arrows through karma Seeking light through samsara', # Gorguts - Forgotten Arrows\n",
    "\"Bye bye Don't want to be a fool for you Just another player in your game for two You may hate me but it ain't no lie\", # N'SYNC - Bye Bye Bye\n",
    "'Move bitch, get out the way Get out the way bitch, get out the way Move bitch, get out the way Get out the way bitch, get out the way', # Ludacris -Move B*tch\n",
    "'Sexual violence doesn’t start and end with rape It starts in our books and behind our school gates' # IDLES - Mother,\n",
    "\"Take it from the girl you claimed to love You gonna get some bad karma I'm the one who had to learn to build a heart made of armor From the girl who made you soup and tied your shoes when you were hurting You are not deserving, you are not deserving\" #Banks -Drowning\n",
    "]\n",
    "\n",
    "print('Las predicciones solicitadas, respectivamente, son:', ', '.join(pipeline_model.predict(to_predict)))"
   ]
  },
  {
   "cell_type": "markdown",
   "metadata": {},
   "source": [
    "Ahora para el conjunto de test:"
   ]
  },
  {
   "cell_type": "code",
   "execution_count": 10,
   "metadata": {},
   "outputs": [],
   "source": [
    "y_hat = pipeline_model.predict(X_test)"
   ]
  },
  {
   "cell_type": "code",
   "execution_count": 11,
   "metadata": {},
   "outputs": [
    {
     "name": "stdout",
     "output_type": "stream",
     "text": [
      "              precision    recall  f1-score   support\n",
      "\n",
      "      hiphop       0.83      0.93      0.88       991\n",
      "       metal       0.83      0.68      0.75       662\n",
      "         pop       0.67      0.39      0.49       479\n",
      "        rock       0.77      0.86      0.81      1664\n",
      "\n",
      "    accuracy                           0.79      3796\n",
      "   macro avg       0.77      0.72      0.73      3796\n",
      "weighted avg       0.78      0.79      0.78      3796\n",
      "\n"
     ]
    }
   ],
   "source": [
    "print(classification_report(y_test, y_hat))"
   ]
  },
  {
   "cell_type": "code",
   "execution_count": 12,
   "metadata": {},
   "outputs": [
    {
     "data": {
      "image/png": "[encoded data removed]",
      "text/plain": [
       "<Figure size 432x288 with 1 Axes>"
      ]
     },
     "metadata": {
      "needs_background": "light"
     },
     "output_type": "display_data"
    }
   ],
   "source": [
    "cnf = confusion_matrix(y_test, y_hat) / len(y_test)\n",
    "sns.heatmap(cnf, xticklabels=pipeline_model.classes_, yticklabels=pipeline_model.classes_, annot=True, fmt=\".1%\", cbar=False, cmap='Blues');"
   ]
  },
  {
   "cell_type": "markdown",
   "metadata": {},
   "source": [
    "#### Observaciones\n",
    "\n",
    "- Este modelo clasifica de forma correcta casi el 80% de los casos.\n",
    "- En el caso de pop, el modelo al tener alto precision y bajo recall, significa que hay muchas canciones que son pop que no reconoce. Notar que esta clase está subrepresentada, tiene muy pocas observaciones comparada con el resto."
   ]
  },
  {
   "cell_type": "markdown",
   "metadata": {},
   "source": [
    "### Ejercicio 5: Mejora del Modelo\n",
    "\n",
    "* Proponga una estrategia para mejorar el desempeño del modelo en la categoría con peores métricas.\n",
    "* Repita los pasos de entrenamiento y reporte de métricas, esta vez incluyendo los nuevos datos suministrados.\n",
    "* Comente sobre el desempeño general de éste."
   ]
  },
  {
   "cell_type": "markdown",
   "metadata": {},
   "source": [
    "Una estrategia que podemos usar es recolectar más datos de las caterogorías con peores métricas, ya que justamente estas son las que están poco presentes en las observaciones."
   ]
  },
  {
   "cell_type": "code",
   "execution_count": 13,
   "metadata": {},
   "outputs": [
    {
     "name": "stdout",
     "output_type": "stream",
     "text": [
      "              precision    recall  f1-score   support\n",
      "\n",
      "      hiphop       0.89      0.93      0.91      1988\n",
      "       metal       0.85      0.79      0.82      1294\n",
      "         pop       0.74      0.66      0.70      1521\n",
      "        rock       0.81      0.84      0.83      3315\n",
      "\n",
      "    accuracy                           0.82      8118\n",
      "   macro avg       0.82      0.81      0.81      8118\n",
      "weighted avg       0.82      0.82      0.82      8118\n",
      "\n"
     ]
    },
    {
     "data": {
      "image/png": "[encoded data removed]",
      "text/plain": [
       "<Figure size 432x288 with 1 Axes>"
      ]
     },
     "metadata": {
      "needs_background": "light"
     },
     "output_type": "display_data"
    }
   ],
   "source": [
    "dfs = list(map(lambda path: pd.read_csv(os.getcwd() + '/' + path), glob.glob('files/**/*')))\n",
    "df = pd.concat(dfs).drop(columns=['Unnamed: 0'])\n",
    "df.columns = ['artist', 'genre', 'song', 'lyrics']\n",
    "\n",
    "y = df['genre']\n",
    "X = df['lyrics']\n",
    "\n",
    "X_train, X_test, y_train, y_test, = train_test_split(X, y, test_size = 0.4, random_state = 5082019)\n",
    "\n",
    "pipeline_model = Pipeline([('counter', CountVectorizer(stop_words='english')),\n",
    "                            ('model', MultinomialNB())])\n",
    "\n",
    "pipeline_model.fit(X_train, y_train)\n",
    "y_hat = pipeline_model.predict(X_test)\n",
    "\n",
    "print(classification_report(y_test, y_hat))\n",
    "\n",
    "cnf = confusion_matrix(y_test, y_hat) / len(y_test)\n",
    "sns.heatmap(cnf, xticklabels=pipeline_model.classes_, yticklabels=pipeline_model.classes_, annot=True, fmt=\".1%\", cbar=False, cmap='Blues');"
   ]
  },
  {
   "cell_type": "markdown",
   "metadata": {},
   "source": [
    "#### Observaciones\n",
    "\n",
    "- Viendo la matriz de confusión, podemos ver que el modelo mejoró un poco (de 79% a 82%)\n",
    "- Pop mejoró mucho, pues pasó de tener un `f1 score` de 0.49 a 0.7 (recall pasó de 0.39 a 0.66 y precision de 0.67 a  0.74\n",
    "- Mejoró el `f1 score` de todas las categorías, así como también `precision` y `recall`, excetuando el `recall` en la categoría `rock` donde disminuyó un poco (de 0.86 a 0.84)."
   ]
  }
 ],
 "metadata": {
  "hide_input": false,
  "kernelspec": {
   "display_name": "Python 3",
   "language": "python",
   "name": "python3"
  },
  "language_info": {
   "codemirror_mode": {
    "name": "ipython",
    "version": 3
   },
   "file_extension": ".py",
   "mimetype": "text/x-python",
   "name": "python",
   "nbconvert_exporter": "python",
   "pygments_lexer": "ipython3",
   "version": "3.6.8"
  }
 },
 "nbformat": 4,
 "nbformat_minor": 2
}
