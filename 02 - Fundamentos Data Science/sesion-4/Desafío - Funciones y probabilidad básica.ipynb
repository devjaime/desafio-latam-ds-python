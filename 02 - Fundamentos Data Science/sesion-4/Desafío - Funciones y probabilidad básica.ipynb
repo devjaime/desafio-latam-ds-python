{
 "cells": [
  {
   "cell_type": "markdown",
   "metadata": {},
   "source": [
    "# Desafío - Funciones y probabilidad básica"
   ]
  },
  {
   "cell_type": "markdown",
   "metadata": {},
   "source": [
    "## Desafío 1: Generación de funciones\n",
    "\n",
    "Genere funciones para calcular la media y varianza de un vector. Debe cumplir con los\n",
    "siguientes requisitos:\n",
    "\n",
    "- Ambas funciones deben ingresar un argumento x .\n",
    "- Las funciones deben contener docstrings con la documentación asociada a la variable.\n",
    "- Deben retornar el resultado (tip: utilice return ).\n",
    "- La función de la varianza debe llamar a la función de la media.\n",
    "- Utilice las funciones para reportar la información sobre `goles_favor`, `goles_contra`, `puntos`."
   ]
  },
  {
   "cell_type": "code",
   "execution_count": 1,
   "metadata": {},
   "outputs": [],
   "source": [
    "def media(x):\n",
    "    \"\"\"Returns the mean of the iterable object x\"\"\"\n",
    "    return sum(x) / len(x)\n",
    "\n",
    "def varianza(x):\n",
    "    \"\"\"Returns the variance of the iterable object x\"\"\"\n",
    "    n = len(x)\n",
    "    X = media(x)\n",
    "    return (1/n) * sum([(x_i - X) ** 2 for x_i in x])"
   ]
  },
  {
   "cell_type": "code",
   "execution_count": 2,
   "metadata": {},
   "outputs": [],
   "source": [
    "import pandas as pd\n",
    "import numpy as np"
   ]
  },
  {
   "cell_type": "code",
   "execution_count": 3,
   "metadata": {},
   "outputs": [],
   "source": [
    "df = pd.read_csv('worldcup2014.csv')\n",
    "europe_df = df[df['continent'] == 'europe']\n",
    "southamerica_df = df[df['continent'] == 'southamerica']\n",
    "africa_df = df[df['continent'] == 'africa']\n",
    "northamerica_df = df[df['continent'] == 'northamerica']\n",
    "asia_df = df[df['continent'] == 'asia']"
   ]
  },
  {
   "cell_type": "code",
   "execution_count": 4,
   "metadata": {},
   "outputs": [
    {
     "name": "stdout",
     "output_type": "stream",
     "text": [
      "Columna goles_favor: media = 4.25, varianza = 5.1875\n"
     ]
    }
   ],
   "source": [
    "print('Columna goles_favor: media = {}, varianza = {}'.format(media(df['goles_favor']), varianza(df['goles_favor'])))"
   ]
  },
  {
   "cell_type": "code",
   "execution_count": 5,
   "metadata": {},
   "outputs": [
    {
     "ename": "NameError",
     "evalue": "name 'mean' is not defined",
     "output_type": "error",
     "traceback": [
      "\u001b[0;31m---------------------------------------------------------------------------\u001b[0m",
      "\u001b[0;31mNameError\u001b[0m                                 Traceback (most recent call last)",
      "\u001b[0;32m<ipython-input-5-9d56e387be6d>\u001b[0m in \u001b[0;36m<module>\u001b[0;34m\u001b[0m\n\u001b[0;32m----> 1\u001b[0;31m \u001b[0mprint\u001b[0m\u001b[0;34m(\u001b[0m\u001b[0;34m'Columna goles_contra: media = {}, varianza = {}'\u001b[0m\u001b[0;34m.\u001b[0m\u001b[0mformat\u001b[0m\u001b[0;34m(\u001b[0m\u001b[0mmean\u001b[0m\u001b[0;34m(\u001b[0m\u001b[0mdf\u001b[0m\u001b[0;34m[\u001b[0m\u001b[0;34m'goles_contra'\u001b[0m\u001b[0;34m]\u001b[0m\u001b[0;34m)\u001b[0m\u001b[0;34m,\u001b[0m \u001b[0mstd\u001b[0m\u001b[0;34m(\u001b[0m\u001b[0mdf\u001b[0m\u001b[0;34m[\u001b[0m\u001b[0;34m'goles_contra'\u001b[0m\u001b[0;34m]\u001b[0m\u001b[0;34m)\u001b[0m\u001b[0;34m)\u001b[0m\u001b[0;34m)\u001b[0m\u001b[0;34m\u001b[0m\u001b[0;34m\u001b[0m\u001b[0m\n\u001b[0m",
      "\u001b[0;31mNameError\u001b[0m: name 'mean' is not defined"
     ]
    }
   ],
   "source": [
    "print('Columna goles_contra: media = {}, varianza = {}'.format(media(df['goles_contra']), varianza(df['goles_contra'])))"
   ]
  },
  {
   "cell_type": "code",
   "execution_count": null,
   "metadata": {},
   "outputs": [],
   "source": [
    "print('Columna puntos: media = {}, varianza = {}'.format(mean(df['puntos']), std(df['puntos'])))"
   ]
  },
  {
   "cell_type": "markdown",
   "metadata": {},
   "source": [
    "## Desafío 2\n",
    "\n",
    "A continuación se presenta el siguiente código para obtener la media y varianza de una variable para\n",
    "distintos continentes"
   ]
  },
  {
   "cell_type": "code",
   "execution_count": null,
   "metadata": {},
   "outputs": [],
   "source": [
    "continent = []\n",
    "store_mean = []\n",
    "store_std = []\n",
    "for d in [africa_df, europe_df, asia_df, northamerica_df, southamerica_df]:\n",
    "    continent.append(d.iloc[0,1])\n",
    "    store_mean.append(media(d['goles_favor']))\n",
    "    store_std.append(varianza(d['goles_favor']))\n",
    "tmp = pd.DataFrame({'continente': continent,\n",
    "    'media_goles': store_mean,\n",
    "    'std_goles': store_std})\n",
    "tmp"
   ]
  },
  {
   "cell_type": "markdown",
   "metadata": {},
   "source": [
    "- En base a la información disponible, genere una función con los argumentos group_by y var para ingresar una lista de submuestras y una variable a analizar, respectivamente.\n",
    "- La función debe retornar un DataFrame .\n",
    "- Implemente la función para extraer la información sobre la cantidad de goles a favor, en contra y la cantidad de puntos.\n",
    "- Reporte en qué continente se encuentra la mayor cantidad de goles a favor, en contra y cantidad de puntos."
   ]
  },
  {
   "cell_type": "code",
   "execution_count": null,
   "metadata": {},
   "outputs": [],
   "source": [
    "def describir(group_by, var):\n",
    "    continent = []\n",
    "    store_mean = []\n",
    "    store_var = []\n",
    "    store_std = []\n",
    "\n",
    "    for d in group_by:\n",
    "        continent.append(d.iloc[0,1])\n",
    "        store_mean.append(media(d[var]))\n",
    "        variance = varianza(d[var])\n",
    "        store_var.append(variance)\n",
    "        store_std.append(variance ** 0.5)\n",
    "\n",
    "    return pd.DataFrame({\n",
    "        'continente': continent,\n",
    "        'media': store_mean,\n",
    "        'std': store_std,\n",
    "        'var': store_var\n",
    "    })"
   ]
  },
  {
   "cell_type": "code",
   "execution_count": null,
   "metadata": {},
   "outputs": [],
   "source": [
    "describir([africa_df, europe_df, asia_df, northamerica_df, southamerica_df], 'goles_favor')"
   ]
  },
  {
   "cell_type": "code",
   "execution_count": null,
   "metadata": {},
   "outputs": [],
   "source": [
    "describir([africa_df, europe_df, asia_df, northamerica_df, southamerica_df], 'goles_contra')"
   ]
  },
  {
   "cell_type": "code",
   "execution_count": null,
   "metadata": {},
   "outputs": [],
   "source": [
    "describir([africa_df, europe_df, asia_df, northamerica_df, southamerica_df], 'puntos')"
   ]
  },
  {
   "cell_type": "markdown",
   "metadata": {},
   "source": [
    "En base a la información anterior:\n",
    "\n",
    "- El continente con mayor *Goles a Favor* es Suramérica\n",
    "- El continente con mayor *Goles en contra* es Asia\n",
    "- El continenete con mayor *Puntos a favor* es Suramérica"
   ]
  },
  {
   "cell_type": "markdown",
   "metadata": {},
   "source": [
    "## Desafío 3: Simulaciones\n",
    "\n",
    "- Genere una función `generate_pet` que devuelva de forma aleatoria un string `'perro'` o `'gato'`. Ejecútela un par de veces.\n",
    "    - tip: Puede utilizar la función `np.random.choice` para retornar elementos al azar."
   ]
  },
  {
   "cell_type": "code",
   "execution_count": null,
   "metadata": {},
   "outputs": [],
   "source": [
    "def generate_pet():\n",
    "    return np.random.choice(['perro', 'gato'])"
   ]
  },
  {
   "cell_type": "code",
   "execution_count": null,
   "metadata": {},
   "outputs": [],
   "source": [
    "generate_pet()"
   ]
  },
  {
   "cell_type": "code",
   "execution_count": null,
   "metadata": {},
   "outputs": [],
   "source": [
    "generate_pet()"
   ]
  },
  {
   "cell_type": "code",
   "execution_count": null,
   "metadata": {},
   "outputs": [],
   "source": [
    "generate_pet()"
   ]
  },
  {
   "cell_type": "markdown",
   "metadata": {},
   "source": [
    "- Aplique la función `generate_pet` 20 veces mediante un loop y guarde los resultados en una lista.\n",
    "    - tip: Puede generar una lista vacía con `[ ]` y asignarla a un objeto. Puede añadir elementos a la lista con `.append`."
   ]
  },
  {
   "cell_type": "code",
   "execution_count": null,
   "metadata": {},
   "outputs": [],
   "source": [
    "animalitos = [generate_pet() for i in range(20)]"
   ]
  },
  {
   "cell_type": "markdown",
   "metadata": {},
   "source": [
    "- ¿Cuál es la probabilidad de elegir un perro al azar? ¿Y un gato?"
   ]
  },
  {
   "cell_type": "code",
   "execution_count": null,
   "metadata": {},
   "outputs": [],
   "source": [
    "resultado = \"La probabilidad de elegir un perro al azar es {}%, mientras que la de un gato es {}%\"\n",
    "p_perros = 100 * animalitos.count(\"perro\") / len(animalitos)\n",
    "p_gatos = 100 * animalitos.count(\"gato\") / len(animalitos)\n",
    "print(resultado.format(p_perros, p_gatos))"
   ]
  },
  {
   "cell_type": "markdown",
   "metadata": {},
   "source": [
    "- Agrege np.random.seed(2) al inicio del chunk. ¿Qué hace éste método en la simulación?"
   ]
  },
  {
   "cell_type": "code",
   "execution_count": null,
   "metadata": {},
   "outputs": [],
   "source": [
    "np.random.seed(2)\n",
    "animalitos = [generate_pet() for i in range(20)]\n",
    "animalitos"
   ]
  },
  {
   "cell_type": "markdown",
   "metadata": {},
   "source": [
    "Hace que cada vez que ejecuto el código anterior, vuelva a imprimir la misma lista en el mismo orden.\n",
    "\n",
    "Es decir, hace que la simulación siempre entregue los mismos resultados, y ya no sea generada randomente cada vez que se genera"
   ]
  },
  {
   "cell_type": "markdown",
   "metadata": {},
   "source": [
    "## Desafío 4: Función simuladora\n",
    "\n",
    "- Genere un método llamado `simulate_pets_prob` que tome como argumento un número finito de simulaciones a generar.\n",
    "- El método debe simular dos situaciones `young_pet` y `old_pet`, y contar la ocurrencia de los siguientes casos:\n",
    "\n",
    "    - De los dos animales simulados, contar las ocasiones donde por lo menos uno de los animales sea un perro.\n",
    "    - De los dos animales simulados, contar las ocasiones donde por lo menos uno sea un perro viejo.\n",
    "    - De los dos animales simulados, contar las ocasiones donde los dos sean perros\n",
    "- El método debe tener una semilla pseudoaleatoria de 1.\n",
    "- De los tres escenarios, ¿Cuál es el menos probable? ¿Cuál es el más probable?"
   ]
  },
  {
   "cell_type": "code",
   "execution_count": null,
   "metadata": {},
   "outputs": [],
   "source": [
    "def simulate_pets_prob(number_of_simulations):\n",
    "    # semilla psudoaleatoria\n",
    "    np.random.seed(1)\n",
    "    \n",
    "    # simulaciones\n",
    "    young_pet = [generate_pet() for i in range(number_of_simulations)]\n",
    "    old_pet = [generate_pet() for i in range(number_of_simulations)]\n",
    "    \n",
    "    # contar ocurrencias\n",
    "    at_least_one_is_dog = 0\n",
    "    at_least_one_is_old_dog = 0\n",
    "    both_are_dog = 0\n",
    "    \n",
    "    for i in range(number_of_simulations):\n",
    "        old_is_dog = old_pet[i] == 'perro'\n",
    "        young_is_dog = young_pet[i] == 'perro'\n",
    "        \n",
    "        if old_is_dog or young_is_dog:\n",
    "            at_least_one_is_dog += 1\n",
    "            \n",
    "        if old_is_dog:\n",
    "            at_least_one_is_old_dog += 1\n",
    "        \n",
    "        if old_is_dog and young_is_dog:\n",
    "            both_are_dog += 1\n",
    "    \n",
    "    print(\"Cantidad de veces donde...\")\n",
    "    print(\"  Por lo menos uno de los animales sea un perro: {}\".format(at_least_one_is_dog))\n",
    "    print(\"  Por lo menos uno sea un perro viejo: {}\".format(at_least_one_is_old_dog))\n",
    "    print(\"  Los dos sean perros: {}\".format(both_are_dog))\n",
    "    \n",
    "simulate_pets_prob(100)"
   ]
  },
  {
   "cell_type": "markdown",
   "metadata": {},
   "source": [
    "Por lo tanto, de los 3 escenerarios:\n",
    "\n",
    "- El más probable es que por lo menos uno de los animales sea un perro (75 observaciones de 100, 75%)\n",
    "- El menos probable es que los dos sean perros (24 observaciones de 100, 24%)"
   ]
  },
  {
   "cell_type": "code",
   "execution_count": null,
   "metadata": {},
   "outputs": [],
   "source": []
  },
  {
   "cell_type": "code",
   "execution_count": null,
   "metadata": {},
   "outputs": [],
   "source": []
  }
 ],
 "metadata": {
  "kernelspec": {
   "display_name": "Python 3",
   "language": "python",
   "name": "python3"
  },
  "language_info": {
   "codemirror_mode": {
    "name": "ipython",
    "version": 3
   },
   "file_extension": ".py",
   "mimetype": "text/x-python",
   "name": "python",
   "nbconvert_exporter": "python",
   "pygments_lexer": "ipython3",
   "version": "3.7.3"
  }
 },
 "nbformat": 4,
 "nbformat_minor": 2
}
