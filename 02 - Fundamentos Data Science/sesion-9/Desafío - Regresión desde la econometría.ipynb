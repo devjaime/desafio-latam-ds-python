{
 "cells": [
  {
   "cell_type": "markdown",
   "metadata": {},
   "source": [
    "## Desafío - Regresión desde la econometría\n",
    "\n",
    "* Para poder realizar este desafío debes haber revisado la lectura y videos correspondiente a la unidad.\n",
    "* Crea una carpeta de trabajo y guarda todos los archivos correspondientes (notebook y csv).\n",
    "* Una vez terminado el desafío, comprime la carpeta y sube el .zip\n",
    "\n",
    "### Contexto\n",
    "\n",
    "En este desafío trabajaremos con un registro de clientes de un banco e información sobre su salud\n",
    "financiera. La base contenida en el csv Credit contiene las siguientes variables:\n",
    "\n",
    "* Income : Ingreso anual disponible en miles de dólares.\n",
    "* Limit : Límite del crédito.\n",
    "* Rating : Ranking del crédito.\n",
    "* Cards : Cantidad de tarjetas de credito.\n",
    "* Age : Edad del usuario.\n",
    "* Education : Años de educación del usuario.\n",
    "* Gender : ¿Hombre o mujer?\n",
    "* Student : ¿Es estudiante?\n",
    "* Married : ¿Está casado?\n",
    "* Ethnicity : Etnicidad del usuario (Caucásico, Afroamericano, Asiático)\n",
    "* Balance : Promedio de deuda en tarjeta de crédito de usuario.\n",
    "\n",
    "Para efectos prácticos del desafío, nos interesa saber sobre los determinantes de la variación en el\n",
    "promedio de deuda en tarjeta de crédito.\n",
    "\n",
    "A lo largo del desafío generaremos modelos econométricos para inspeccionar los efectos de\n",
    "distintos atributos\n"
   ]
  },
  {
   "cell_type": "markdown",
   "metadata": {},
   "source": [
    "### Desafío 1: Prepare el ambiente de trabajo\n",
    "\n",
    "* Importe las librerías básicas para el análisis de datos.\n",
    "* Incluya los import base de statsmodels .\n",
    "* Importe la base de datos Credit.csv y elimine la columna Unnamed: 0 .\n",
    "* Siguiendo las buenas prácticas, genere variables binarias para capturar el efecto del grupo minoritario en cada variable. Para el caso de Ethnicity, genere binarias para AfricanAmerican y Asian.\n",
    "    * tip: Utilice value_counts() para revisar la cantidad de casos en las variables categóricas."
   ]
  },
  {
   "cell_type": "code",
   "execution_count": 20,
   "metadata": {},
   "outputs": [],
   "source": [
    "import pandas as pd\n",
    "import numpy as np\n",
    "import scipy.stats as stats\n",
    "import matplotlib.pyplot as plt\n",
    "import statsmodels.api as sm\n",
    "import statsmodels.formula.api as smf\n",
    "import seaborn as sns"
   ]
  },
  {
   "cell_type": "code",
   "execution_count": 84,
   "metadata": {},
   "outputs": [
    {
     "data": {
      "text/html": [
       "<div>\n",
       "<style scoped>\n",
       "    .dataframe tbody tr th:only-of-type {\n",
       "        vertical-align: middle;\n",
       "    }\n",
       "\n",
       "    .dataframe tbody tr th {\n",
       "        vertical-align: top;\n",
       "    }\n",
       "\n",
       "    .dataframe thead th {\n",
       "        text-align: right;\n",
       "    }\n",
       "</style>\n",
       "<table border=\"1\" class=\"dataframe\">\n",
       "  <thead>\n",
       "    <tr style=\"text-align: right;\">\n",
       "      <th></th>\n",
       "      <th>Income</th>\n",
       "      <th>Limit</th>\n",
       "      <th>Rating</th>\n",
       "      <th>Cards</th>\n",
       "      <th>Age</th>\n",
       "      <th>Education</th>\n",
       "      <th>Gender</th>\n",
       "      <th>Student</th>\n",
       "      <th>Married</th>\n",
       "      <th>Ethnicity</th>\n",
       "      <th>Balance</th>\n",
       "    </tr>\n",
       "  </thead>\n",
       "  <tbody>\n",
       "    <tr>\n",
       "      <th>0</th>\n",
       "      <td>14.891</td>\n",
       "      <td>3606</td>\n",
       "      <td>283</td>\n",
       "      <td>2</td>\n",
       "      <td>34</td>\n",
       "      <td>11</td>\n",
       "      <td>Male</td>\n",
       "      <td>No</td>\n",
       "      <td>Yes</td>\n",
       "      <td>Caucasian</td>\n",
       "      <td>333</td>\n",
       "    </tr>\n",
       "    <tr>\n",
       "      <th>1</th>\n",
       "      <td>106.025</td>\n",
       "      <td>6645</td>\n",
       "      <td>483</td>\n",
       "      <td>3</td>\n",
       "      <td>82</td>\n",
       "      <td>15</td>\n",
       "      <td>Female</td>\n",
       "      <td>Yes</td>\n",
       "      <td>Yes</td>\n",
       "      <td>Asian</td>\n",
       "      <td>903</td>\n",
       "    </tr>\n",
       "    <tr>\n",
       "      <th>2</th>\n",
       "      <td>104.593</td>\n",
       "      <td>7075</td>\n",
       "      <td>514</td>\n",
       "      <td>4</td>\n",
       "      <td>71</td>\n",
       "      <td>11</td>\n",
       "      <td>Male</td>\n",
       "      <td>No</td>\n",
       "      <td>No</td>\n",
       "      <td>Asian</td>\n",
       "      <td>580</td>\n",
       "    </tr>\n",
       "    <tr>\n",
       "      <th>3</th>\n",
       "      <td>148.924</td>\n",
       "      <td>9504</td>\n",
       "      <td>681</td>\n",
       "      <td>3</td>\n",
       "      <td>36</td>\n",
       "      <td>11</td>\n",
       "      <td>Female</td>\n",
       "      <td>No</td>\n",
       "      <td>No</td>\n",
       "      <td>Asian</td>\n",
       "      <td>964</td>\n",
       "    </tr>\n",
       "    <tr>\n",
       "      <th>4</th>\n",
       "      <td>55.882</td>\n",
       "      <td>4897</td>\n",
       "      <td>357</td>\n",
       "      <td>2</td>\n",
       "      <td>68</td>\n",
       "      <td>16</td>\n",
       "      <td>Male</td>\n",
       "      <td>No</td>\n",
       "      <td>Yes</td>\n",
       "      <td>Caucasian</td>\n",
       "      <td>331</td>\n",
       "    </tr>\n",
       "  </tbody>\n",
       "</table>\n",
       "</div>"
      ],
      "text/plain": [
       "    Income  Limit  Rating  Cards  Age  Education  Gender Student Married  \\\n",
       "0   14.891   3606     283      2   34         11    Male      No     Yes   \n",
       "1  106.025   6645     483      3   82         15  Female     Yes     Yes   \n",
       "2  104.593   7075     514      4   71         11    Male      No      No   \n",
       "3  148.924   9504     681      3   36         11  Female      No      No   \n",
       "4   55.882   4897     357      2   68         16    Male      No     Yes   \n",
       "\n",
       "   Ethnicity  Balance  \n",
       "0  Caucasian      333  \n",
       "1      Asian      903  \n",
       "2      Asian      580  \n",
       "3      Asian      964  \n",
       "4  Caucasian      331  "
      ]
     },
     "execution_count": 84,
     "metadata": {},
     "output_type": "execute_result"
    }
   ],
   "source": [
    "df = pd.read_csv('Credit.csv')\n",
    "df.drop(df.columns[0], axis = 1, inplace = True)\n",
    "df.head(5)"
   ]
  },
  {
   "cell_type": "code",
   "execution_count": 23,
   "metadata": {},
   "outputs": [
    {
     "data": {
      "text/plain": [
       "Female    207\n",
       " Male     193\n",
       "Name: Gender, dtype: int64"
      ]
     },
     "execution_count": 23,
     "metadata": {},
     "output_type": "execute_result"
    }
   ],
   "source": [
    "df['Gender'].value_counts()"
   ]
  },
  {
   "cell_type": "code",
   "execution_count": 24,
   "metadata": {},
   "outputs": [
    {
     "data": {
      "text/plain": [
       "No     360\n",
       "Yes     40\n",
       "Name: Student, dtype: int64"
      ]
     },
     "execution_count": 24,
     "metadata": {},
     "output_type": "execute_result"
    }
   ],
   "source": [
    "df['Student'].value_counts()"
   ]
  },
  {
   "cell_type": "code",
   "execution_count": 25,
   "metadata": {},
   "outputs": [
    {
     "data": {
      "text/plain": [
       "Yes    245\n",
       "No     155\n",
       "Name: Married, dtype: int64"
      ]
     },
     "execution_count": 25,
     "metadata": {},
     "output_type": "execute_result"
    }
   ],
   "source": [
    "df['Married'].value_counts()"
   ]
  },
  {
   "cell_type": "code",
   "execution_count": 26,
   "metadata": {},
   "outputs": [
    {
     "data": {
      "text/plain": [
       "Caucasian           199\n",
       "Asian               102\n",
       "African American     99\n",
       "Name: Ethnicity, dtype: int64"
      ]
     },
     "execution_count": 26,
     "metadata": {},
     "output_type": "execute_result"
    }
   ],
   "source": [
    "df['Ethnicity'].value_counts()"
   ]
  },
  {
   "cell_type": "code",
   "execution_count": 85,
   "metadata": {},
   "outputs": [
    {
     "data": {
      "text/html": [
       "<div>\n",
       "<style scoped>\n",
       "    .dataframe tbody tr th:only-of-type {\n",
       "        vertical-align: middle;\n",
       "    }\n",
       "\n",
       "    .dataframe tbody tr th {\n",
       "        vertical-align: top;\n",
       "    }\n",
       "\n",
       "    .dataframe thead th {\n",
       "        text-align: right;\n",
       "    }\n",
       "</style>\n",
       "<table border=\"1\" class=\"dataframe\">\n",
       "  <thead>\n",
       "    <tr style=\"text-align: right;\">\n",
       "      <th></th>\n",
       "      <th>Income</th>\n",
       "      <th>Limit</th>\n",
       "      <th>Rating</th>\n",
       "      <th>Cards</th>\n",
       "      <th>Age</th>\n",
       "      <th>Education</th>\n",
       "      <th>Balance</th>\n",
       "      <th>Gender_Male</th>\n",
       "      <th>Student_Yes</th>\n",
       "      <th>Married_No</th>\n",
       "      <th>Ethnicity_African_American</th>\n",
       "      <th>Ethnicity_Asian</th>\n",
       "    </tr>\n",
       "  </thead>\n",
       "  <tbody>\n",
       "    <tr>\n",
       "      <th>0</th>\n",
       "      <td>14.891</td>\n",
       "      <td>3606</td>\n",
       "      <td>283</td>\n",
       "      <td>2</td>\n",
       "      <td>34</td>\n",
       "      <td>11</td>\n",
       "      <td>333</td>\n",
       "      <td>1</td>\n",
       "      <td>0</td>\n",
       "      <td>0</td>\n",
       "      <td>0</td>\n",
       "      <td>0</td>\n",
       "    </tr>\n",
       "    <tr>\n",
       "      <th>1</th>\n",
       "      <td>106.025</td>\n",
       "      <td>6645</td>\n",
       "      <td>483</td>\n",
       "      <td>3</td>\n",
       "      <td>82</td>\n",
       "      <td>15</td>\n",
       "      <td>903</td>\n",
       "      <td>0</td>\n",
       "      <td>1</td>\n",
       "      <td>0</td>\n",
       "      <td>0</td>\n",
       "      <td>1</td>\n",
       "    </tr>\n",
       "    <tr>\n",
       "      <th>2</th>\n",
       "      <td>104.593</td>\n",
       "      <td>7075</td>\n",
       "      <td>514</td>\n",
       "      <td>4</td>\n",
       "      <td>71</td>\n",
       "      <td>11</td>\n",
       "      <td>580</td>\n",
       "      <td>1</td>\n",
       "      <td>0</td>\n",
       "      <td>1</td>\n",
       "      <td>0</td>\n",
       "      <td>1</td>\n",
       "    </tr>\n",
       "    <tr>\n",
       "      <th>3</th>\n",
       "      <td>148.924</td>\n",
       "      <td>9504</td>\n",
       "      <td>681</td>\n",
       "      <td>3</td>\n",
       "      <td>36</td>\n",
       "      <td>11</td>\n",
       "      <td>964</td>\n",
       "      <td>0</td>\n",
       "      <td>0</td>\n",
       "      <td>1</td>\n",
       "      <td>0</td>\n",
       "      <td>1</td>\n",
       "    </tr>\n",
       "    <tr>\n",
       "      <th>4</th>\n",
       "      <td>55.882</td>\n",
       "      <td>4897</td>\n",
       "      <td>357</td>\n",
       "      <td>2</td>\n",
       "      <td>68</td>\n",
       "      <td>16</td>\n",
       "      <td>331</td>\n",
       "      <td>1</td>\n",
       "      <td>0</td>\n",
       "      <td>0</td>\n",
       "      <td>0</td>\n",
       "      <td>0</td>\n",
       "    </tr>\n",
       "  </tbody>\n",
       "</table>\n",
       "</div>"
      ],
      "text/plain": [
       "    Income  Limit  Rating  Cards  Age  Education  Balance  Gender_Male  \\\n",
       "0   14.891   3606     283      2   34         11      333            1   \n",
       "1  106.025   6645     483      3   82         15      903            0   \n",
       "2  104.593   7075     514      4   71         11      580            1   \n",
       "3  148.924   9504     681      3   36         11      964            0   \n",
       "4   55.882   4897     357      2   68         16      331            1   \n",
       "\n",
       "   Student_Yes  Married_No  Ethnicity_African_American  Ethnicity_Asian  \n",
       "0            0           0                           0                0  \n",
       "1            1           0                           0                1  \n",
       "2            0           1                           0                1  \n",
       "3            0           1                           0                1  \n",
       "4            0           0                           0                0  "
      ]
     },
     "execution_count": 85,
     "metadata": {},
     "output_type": "execute_result"
    }
   ],
   "source": [
    "df_final = pd.get_dummies(df).drop(['Gender_Female', 'Married_Yes', 'Student_No', 'Ethnicity_Caucasian'], axis = 1)\n",
    "df_final.rename(columns = {'Gender_ Male':'Gender_Male', 'Ethnicity_African American': 'Ethnicity_African_American' }, inplace = True)\n",
    "df_final.head(5)"
   ]
  },
  {
   "cell_type": "markdown",
   "metadata": {},
   "source": [
    "### Desafío 2: Genere gráficos descriptivos para las variables contínuas\n",
    "\n",
    "* Genere una función llamada plot_hist que genere un histograma de la variable e indique la media y mediana de la misma. Agrege una legenda para indicar qué representa cada línea.\n",
    "* ¿Cuál es el comportamiento de Balance , Income , Cards y Rating ?"
   ]
  },
  {
   "cell_type": "code",
   "execution_count": 74,
   "metadata": {},
   "outputs": [
    {
     "name": "stdout",
     "output_type": "stream",
     "text": [
      "<class 'pandas.core.frame.DataFrame'>\n",
      "RangeIndex: 400 entries, 0 to 399\n",
      "Data columns (total 12 columns):\n",
      "Income                        400 non-null float64\n",
      "Limit                         400 non-null int64\n",
      "Rating                        400 non-null int64\n",
      "Cards                         400 non-null int64\n",
      "Age                           400 non-null int64\n",
      "Education                     400 non-null int64\n",
      "Balance                       400 non-null int64\n",
      "Gender_Male                   400 non-null uint8\n",
      "Student_Yes                   400 non-null uint8\n",
      "Married_No                    400 non-null uint8\n",
      "Ethnicity_African_American    400 non-null uint8\n",
      "Ethnicity_Asian               400 non-null uint8\n",
      "dtypes: float64(1), int64(6), uint8(5)\n",
      "memory usage: 23.9 KB\n"
     ]
    }
   ],
   "source": [
    "# Vemos las variables continuas\n",
    "df_final.info()"
   ]
  },
  {
   "cell_type": "code",
   "execution_count": 75,
   "metadata": {},
   "outputs": [],
   "source": [
    "def plot_hist(dataframe, variable):\n",
    "    sns.distplot(dataframe[variable])\n",
    "    plt.axvline(dataframe[variable].mean(), color='tomato', label='Mean')\n",
    "    plt.axvline(dataframe[variable].median(), color='black', label='Median')\n",
    "    plt.legend()\n",
    "    plt.show()"
   ]
  },
  {
   "cell_type": "code",
   "execution_count": 76,
   "metadata": {},
   "outputs": [
    {
     "data": {
      "image/png": "[encoded data removed]",
      "text/plain": [
       "<Figure size 432x288 with 1 Axes>"
      ]
     },
     "metadata": {
      "needs_background": "light"
     },
     "output_type": "display_data"
    },
    {
     "data": {
      "image/png": "[encoded data removed]",
      "text/plain": [
       "<Figure size 432x288 with 1 Axes>"
      ]
     },
     "metadata": {
      "needs_background": "light"
     },
     "output_type": "display_data"
    },
    {
     "data": {
      "image/png": "[encoded data removed]",
      "text/plain": [
       "<Figure size 432x288 with 1 Axes>"
      ]
     },
     "metadata": {
      "needs_background": "light"
     },
     "output_type": "display_data"
    },
    {
     "data": {
      "image/png": "[encoded data removed]",
      "text/plain": [
       "<Figure size 432x288 with 1 Axes>"
      ]
     },
     "metadata": {
      "needs_background": "light"
     },
     "output_type": "display_data"
    }
   ],
   "source": [
    "for col in ['Balance', 'Income', 'Rating', 'Cards']:\n",
    "    plot_hist(df_final, col)"
   ]
  },
  {
   "cell_type": "markdown",
   "metadata": {},
   "source": [
    "- **Balance**: hay muchas personas con poco balance, lo que hace que la curva se cargue mucho a la izquierda. En general mientras más balance, menos personas.\n",
    "- **Income**: similar a lo anterior, más ingreso, menor cantidad de personas con dicho ingreso. La mediana es muy diferente a la media. Se puede ver que es más logarítmica.\n",
    "- **Rating**: el histograma calza mejor con la curva normal y la media es similar a la mediana. LA distribución se ve normal.\n",
    "- **Cards**: en realidad aquí Cards es categórica, pero la mediana calza con la media (3 tarjetas). A pesar de ser discreta, se ve normalizada."
   ]
  },
  {
   "cell_type": "markdown",
   "metadata": {},
   "source": [
    "### Desafío 3: Regresión Lineal Simple\n",
    "\n",
    "* A continuación generaremos una serie de modelos simples:\n",
    "\n",
    "\n",
    "$${Balance}={{\\beta }_{0} + {\\beta }_{1} \\cdot {Student} +{\\epsilon}_{i}}$$\n",
    "\n",
    "$${Balance}={{\\beta }_{0} + {\\beta }_{1} \\cdot {Income} +{\\epsilon}_{i}}$$\n",
    "\n",
    "$${Balance}={{\\beta }_{0} + {\\beta }_{1} \\cdot {Rating} +{\\epsilon}_{i}}$$\n",
    "\n",
    "\n",
    "\n",
    "* Utilizando statsmodels , comente brevemente los siguientes puntos:\n",
    "    * ¿Qué variable presenta un mayor poder explicativo de la variabilidad de Balance ?\n",
    "    * ¿Qué podemos decir sobre el comportamiento de Student ?\n",
    "        * ¿Qué pasa si aplicamos una prueba de hipótesis para muestras independientes de Balance entre aquellos que son y no son estudiantes?\n",
    "\n"
   ]
  },
  {
   "cell_type": "code",
   "execution_count": 109,
   "metadata": {},
   "outputs": [
    {
     "data": {
      "text/html": [
       "<table class=\"simpletable\">\n",
       "<caption>OLS Regression Results</caption>\n",
       "<tr>\n",
       "  <th>Dep. Variable:</th>         <td>Balance</td>     <th>  R-squared:         </th> <td>   0.067</td>\n",
       "</tr>\n",
       "<tr>\n",
       "  <th>Model:</th>                   <td>OLS</td>       <th>  Adj. R-squared:    </th> <td>   0.065</td>\n",
       "</tr>\n",
       "<tr>\n",
       "  <th>Method:</th>             <td>Least Squares</td>  <th>  F-statistic:       </th> <td>   28.62</td>\n",
       "</tr>\n",
       "<tr>\n",
       "  <th>Date:</th>             <td>Mon, 01 Jul 2019</td> <th>  Prob (F-statistic):</th> <td>1.49e-07</td>\n",
       "</tr>\n",
       "<tr>\n",
       "  <th>Time:</th>                 <td>21:55:47</td>     <th>  Log-Likelihood:    </th> <td> -3005.5</td>\n",
       "</tr>\n",
       "<tr>\n",
       "  <th>No. Observations:</th>      <td>   400</td>      <th>  AIC:               </th> <td>   6015.</td>\n",
       "</tr>\n",
       "<tr>\n",
       "  <th>Df Residuals:</th>          <td>   398</td>      <th>  BIC:               </th> <td>   6023.</td>\n",
       "</tr>\n",
       "<tr>\n",
       "  <th>Df Model:</th>              <td>     1</td>      <th>                     </th>     <td> </td>   \n",
       "</tr>\n",
       "<tr>\n",
       "  <th>Covariance Type:</th>      <td>nonrobust</td>    <th>                     </th>     <td> </td>   \n",
       "</tr>\n",
       "</table>\n",
       "<table class=\"simpletable\">\n",
       "<tr>\n",
       "       <td></td>          <th>coef</th>     <th>std err</th>      <th>t</th>      <th>P>|t|</th>  <th>[0.025</th>    <th>0.975]</th>  \n",
       "</tr>\n",
       "<tr>\n",
       "  <th>Intercept</th>   <td>  480.3694</td> <td>   23.434</td> <td>   20.499</td> <td> 0.000</td> <td>  434.300</td> <td>  526.439</td>\n",
       "</tr>\n",
       "<tr>\n",
       "  <th>Student_Yes</th> <td>  396.4556</td> <td>   74.104</td> <td>    5.350</td> <td> 0.000</td> <td>  250.771</td> <td>  542.140</td>\n",
       "</tr>\n",
       "</table>\n",
       "<table class=\"simpletable\">\n",
       "<tr>\n",
       "  <th>Omnibus:</th>       <td>20.866</td> <th>  Durbin-Watson:     </th> <td>   1.950</td>\n",
       "</tr>\n",
       "<tr>\n",
       "  <th>Prob(Omnibus):</th> <td> 0.000</td> <th>  Jarque-Bera (JB):  </th> <td>  21.920</td>\n",
       "</tr>\n",
       "<tr>\n",
       "  <th>Skew:</th>          <td> 0.544</td> <th>  Prob(JB):          </th> <td>1.74e-05</td>\n",
       "</tr>\n",
       "<tr>\n",
       "  <th>Kurtosis:</th>      <td> 2.637</td> <th>  Cond. No.          </th> <td>    3.37</td>\n",
       "</tr>\n",
       "</table><br/><br/>Warnings:<br/>[1] Standard Errors assume that the covariance matrix of the errors is correctly specified."
      ],
      "text/plain": [
       "<class 'statsmodels.iolib.summary.Summary'>\n",
       "\"\"\"\n",
       "                            OLS Regression Results                            \n",
       "==============================================================================\n",
       "Dep. Variable:                Balance   R-squared:                       0.067\n",
       "Model:                            OLS   Adj. R-squared:                  0.065\n",
       "Method:                 Least Squares   F-statistic:                     28.62\n",
       "Date:                Mon, 01 Jul 2019   Prob (F-statistic):           1.49e-07\n",
       "Time:                        21:55:47   Log-Likelihood:                -3005.5\n",
       "No. Observations:                 400   AIC:                             6015.\n",
       "Df Residuals:                     398   BIC:                             6023.\n",
       "Df Model:                           1                                         \n",
       "Covariance Type:            nonrobust                                         \n",
       "===============================================================================\n",
       "                  coef    std err          t      P>|t|      [0.025      0.975]\n",
       "-------------------------------------------------------------------------------\n",
       "Intercept     480.3694     23.434     20.499      0.000     434.300     526.439\n",
       "Student_Yes   396.4556     74.104      5.350      0.000     250.771     542.140\n",
       "==============================================================================\n",
       "Omnibus:                       20.866   Durbin-Watson:                   1.950\n",
       "Prob(Omnibus):                  0.000   Jarque-Bera (JB):               21.920\n",
       "Skew:                           0.544   Prob(JB):                     1.74e-05\n",
       "Kurtosis:                       2.637   Cond. No.                         3.37\n",
       "==============================================================================\n",
       "\n",
       "Warnings:\n",
       "[1] Standard Errors assume that the covariance matrix of the errors is correctly specified.\n",
       "\"\"\""
      ]
     },
     "execution_count": 109,
     "metadata": {},
     "output_type": "execute_result"
    }
   ],
   "source": [
    "model1 = smf.ols('Balance ~ Student_Yes', data = df_final).fit()\n",
    "model1.summary()"
   ]
  },
  {
   "cell_type": "code",
   "execution_count": 78,
   "metadata": {},
   "outputs": [
    {
     "data": {
      "text/html": [
       "<table class=\"simpletable\">\n",
       "<caption>OLS Regression Results</caption>\n",
       "<tr>\n",
       "  <th>Dep. Variable:</th>         <td>Balance</td>     <th>  R-squared:         </th> <td>   0.215</td>\n",
       "</tr>\n",
       "<tr>\n",
       "  <th>Model:</th>                   <td>OLS</td>       <th>  Adj. R-squared:    </th> <td>   0.213</td>\n",
       "</tr>\n",
       "<tr>\n",
       "  <th>Method:</th>             <td>Least Squares</td>  <th>  F-statistic:       </th> <td>   109.0</td>\n",
       "</tr>\n",
       "<tr>\n",
       "  <th>Date:</th>             <td>Mon, 01 Jul 2019</td> <th>  Prob (F-statistic):</th> <td>1.03e-22</td>\n",
       "</tr>\n",
       "<tr>\n",
       "  <th>Time:</th>                 <td>21:08:28</td>     <th>  Log-Likelihood:    </th> <td> -2970.9</td>\n",
       "</tr>\n",
       "<tr>\n",
       "  <th>No. Observations:</th>      <td>   400</td>      <th>  AIC:               </th> <td>   5946.</td>\n",
       "</tr>\n",
       "<tr>\n",
       "  <th>Df Residuals:</th>          <td>   398</td>      <th>  BIC:               </th> <td>   5954.</td>\n",
       "</tr>\n",
       "<tr>\n",
       "  <th>Df Model:</th>              <td>     1</td>      <th>                     </th>     <td> </td>   \n",
       "</tr>\n",
       "<tr>\n",
       "  <th>Covariance Type:</th>      <td>nonrobust</td>    <th>                     </th>     <td> </td>   \n",
       "</tr>\n",
       "</table>\n",
       "<table class=\"simpletable\">\n",
       "<tr>\n",
       "      <td></td>         <th>coef</th>     <th>std err</th>      <th>t</th>      <th>P>|t|</th>  <th>[0.025</th>    <th>0.975]</th>  \n",
       "</tr>\n",
       "<tr>\n",
       "  <th>Intercept</th> <td>  246.5148</td> <td>   33.199</td> <td>    7.425</td> <td> 0.000</td> <td>  181.247</td> <td>  311.783</td>\n",
       "</tr>\n",
       "<tr>\n",
       "  <th>Income</th>    <td>    6.0484</td> <td>    0.579</td> <td>   10.440</td> <td> 0.000</td> <td>    4.909</td> <td>    7.187</td>\n",
       "</tr>\n",
       "</table>\n",
       "<table class=\"simpletable\">\n",
       "<tr>\n",
       "  <th>Omnibus:</th>       <td>42.505</td> <th>  Durbin-Watson:     </th> <td>   1.951</td>\n",
       "</tr>\n",
       "<tr>\n",
       "  <th>Prob(Omnibus):</th> <td> 0.000</td> <th>  Jarque-Bera (JB):  </th> <td>  20.975</td>\n",
       "</tr>\n",
       "<tr>\n",
       "  <th>Skew:</th>          <td> 0.384</td> <th>  Prob(JB):          </th> <td>2.79e-05</td>\n",
       "</tr>\n",
       "<tr>\n",
       "  <th>Kurtosis:</th>      <td> 2.182</td> <th>  Cond. No.          </th> <td>    93.3</td>\n",
       "</tr>\n",
       "</table><br/><br/>Warnings:<br/>[1] Standard Errors assume that the covariance matrix of the errors is correctly specified."
      ],
      "text/plain": [
       "<class 'statsmodels.iolib.summary.Summary'>\n",
       "\"\"\"\n",
       "                            OLS Regression Results                            \n",
       "==============================================================================\n",
       "Dep. Variable:                Balance   R-squared:                       0.215\n",
       "Model:                            OLS   Adj. R-squared:                  0.213\n",
       "Method:                 Least Squares   F-statistic:                     109.0\n",
       "Date:                Mon, 01 Jul 2019   Prob (F-statistic):           1.03e-22\n",
       "Time:                        21:08:28   Log-Likelihood:                -2970.9\n",
       "No. Observations:                 400   AIC:                             5946.\n",
       "Df Residuals:                     398   BIC:                             5954.\n",
       "Df Model:                           1                                         \n",
       "Covariance Type:            nonrobust                                         \n",
       "==============================================================================\n",
       "                 coef    std err          t      P>|t|      [0.025      0.975]\n",
       "------------------------------------------------------------------------------\n",
       "Intercept    246.5148     33.199      7.425      0.000     181.247     311.783\n",
       "Income         6.0484      0.579     10.440      0.000       4.909       7.187\n",
       "==============================================================================\n",
       "Omnibus:                       42.505   Durbin-Watson:                   1.951\n",
       "Prob(Omnibus):                  0.000   Jarque-Bera (JB):               20.975\n",
       "Skew:                           0.384   Prob(JB):                     2.79e-05\n",
       "Kurtosis:                       2.182   Cond. No.                         93.3\n",
       "==============================================================================\n",
       "\n",
       "Warnings:\n",
       "[1] Standard Errors assume that the covariance matrix of the errors is correctly specified.\n",
       "\"\"\""
      ]
     },
     "execution_count": 78,
     "metadata": {},
     "output_type": "execute_result"
    }
   ],
   "source": [
    "model2 = smf.ols('Balance ~ Income', data = df_final).fit()\n",
    "model2.summary()"
   ]
  },
  {
   "cell_type": "code",
   "execution_count": 79,
   "metadata": {},
   "outputs": [
    {
     "data": {
      "text/html": [
       "<table class=\"simpletable\">\n",
       "<caption>OLS Regression Results</caption>\n",
       "<tr>\n",
       "  <th>Dep. Variable:</th>         <td>Balance</td>     <th>  R-squared:         </th> <td>   0.746</td> \n",
       "</tr>\n",
       "<tr>\n",
       "  <th>Model:</th>                   <td>OLS</td>       <th>  Adj. R-squared:    </th> <td>   0.745</td> \n",
       "</tr>\n",
       "<tr>\n",
       "  <th>Method:</th>             <td>Least Squares</td>  <th>  F-statistic:       </th> <td>   1168.</td> \n",
       "</tr>\n",
       "<tr>\n",
       "  <th>Date:</th>             <td>Mon, 01 Jul 2019</td> <th>  Prob (F-statistic):</th> <td>1.90e-120</td>\n",
       "</tr>\n",
       "<tr>\n",
       "  <th>Time:</th>                 <td>21:08:28</td>     <th>  Log-Likelihood:    </th> <td> -2745.4</td> \n",
       "</tr>\n",
       "<tr>\n",
       "  <th>No. Observations:</th>      <td>   400</td>      <th>  AIC:               </th> <td>   5495.</td> \n",
       "</tr>\n",
       "<tr>\n",
       "  <th>Df Residuals:</th>          <td>   398</td>      <th>  BIC:               </th> <td>   5503.</td> \n",
       "</tr>\n",
       "<tr>\n",
       "  <th>Df Model:</th>              <td>     1</td>      <th>                     </th>     <td> </td>    \n",
       "</tr>\n",
       "<tr>\n",
       "  <th>Covariance Type:</th>      <td>nonrobust</td>    <th>                     </th>     <td> </td>    \n",
       "</tr>\n",
       "</table>\n",
       "<table class=\"simpletable\">\n",
       "<tr>\n",
       "      <td></td>         <th>coef</th>     <th>std err</th>      <th>t</th>      <th>P>|t|</th>  <th>[0.025</th>    <th>0.975]</th>  \n",
       "</tr>\n",
       "<tr>\n",
       "  <th>Intercept</th> <td> -390.8463</td> <td>   29.069</td> <td>  -13.446</td> <td> 0.000</td> <td> -447.993</td> <td> -333.699</td>\n",
       "</tr>\n",
       "<tr>\n",
       "  <th>Rating</th>    <td>    2.5662</td> <td>    0.075</td> <td>   34.176</td> <td> 0.000</td> <td>    2.419</td> <td>    2.714</td>\n",
       "</tr>\n",
       "</table>\n",
       "<table class=\"simpletable\">\n",
       "<tr>\n",
       "  <th>Omnibus:</th>       <td>23.223</td> <th>  Durbin-Watson:     </th> <td>   1.966</td>\n",
       "</tr>\n",
       "<tr>\n",
       "  <th>Prob(Omnibus):</th> <td> 0.000</td> <th>  Jarque-Bera (JB):  </th> <td>  38.802</td>\n",
       "</tr>\n",
       "<tr>\n",
       "  <th>Skew:</th>          <td> 0.390</td> <th>  Prob(JB):          </th> <td>3.75e-09</td>\n",
       "</tr>\n",
       "<tr>\n",
       "  <th>Kurtosis:</th>      <td> 4.311</td> <th>  Cond. No.          </th> <td>    970.</td>\n",
       "</tr>\n",
       "</table><br/><br/>Warnings:<br/>[1] Standard Errors assume that the covariance matrix of the errors is correctly specified."
      ],
      "text/plain": [
       "<class 'statsmodels.iolib.summary.Summary'>\n",
       "\"\"\"\n",
       "                            OLS Regression Results                            \n",
       "==============================================================================\n",
       "Dep. Variable:                Balance   R-squared:                       0.746\n",
       "Model:                            OLS   Adj. R-squared:                  0.745\n",
       "Method:                 Least Squares   F-statistic:                     1168.\n",
       "Date:                Mon, 01 Jul 2019   Prob (F-statistic):          1.90e-120\n",
       "Time:                        21:08:28   Log-Likelihood:                -2745.4\n",
       "No. Observations:                 400   AIC:                             5495.\n",
       "Df Residuals:                     398   BIC:                             5503.\n",
       "Df Model:                           1                                         \n",
       "Covariance Type:            nonrobust                                         \n",
       "==============================================================================\n",
       "                 coef    std err          t      P>|t|      [0.025      0.975]\n",
       "------------------------------------------------------------------------------\n",
       "Intercept   -390.8463     29.069    -13.446      0.000    -447.993    -333.699\n",
       "Rating         2.5662      0.075     34.176      0.000       2.419       2.714\n",
       "==============================================================================\n",
       "Omnibus:                       23.223   Durbin-Watson:                   1.966\n",
       "Prob(Omnibus):                  0.000   Jarque-Bera (JB):               38.802\n",
       "Skew:                           0.390   Prob(JB):                     3.75e-09\n",
       "Kurtosis:                       4.311   Cond. No.                         970.\n",
       "==============================================================================\n",
       "\n",
       "Warnings:\n",
       "[1] Standard Errors assume that the covariance matrix of the errors is correctly specified.\n",
       "\"\"\""
      ]
     },
     "execution_count": 79,
     "metadata": {},
     "output_type": "execute_result"
    }
   ],
   "source": [
    "model3 = smf.ols('Balance ~ Rating', data = df_final).fit()\n",
    "model3.summary()"
   ]
  },
  {
   "cell_type": "markdown",
   "metadata": {},
   "source": [
    "- La variable con mayor poder explicativo es el **Rating** con ~75% 😮\n",
    "- ¿Qué pasa con **Student**? Bueno, tiene un poder explicativo MUY bajo sobre el Balance (explica la variabilidad de `Balance` en un ~7%)"
   ]
  },
  {
   "cell_type": "markdown",
   "metadata": {},
   "source": [
    "Primero veamos el gráfico de cajas entre ambas variables:"
   ]
  },
  {
   "cell_type": "code",
   "execution_count": 111,
   "metadata": {},
   "outputs": [
    {
     "data": {
      "image/png": "[encoded data removed]",
      "text/plain": [
       "<Figure size 432x288 with 1 Axes>"
      ]
     },
     "metadata": {
      "needs_background": "light"
     },
     "output_type": "display_data"
    }
   ],
   "source": [
    "sns.boxplot(x=df_final['Student_Yes'], y=df_final['Balance']);"
   ]
  },
  {
   "cell_type": "markdown",
   "metadata": {},
   "source": [
    "Ok, aquí podemos ver que:\n",
    "\n",
    "- el rango de los que no son estudiantes es mayor\n",
    "- la mediana de los que sí son estudiantes se situana en valores más altos\n",
    "\n"
   ]
  },
  {
   "cell_type": "markdown",
   "metadata": {},
   "source": [
    "### Desafío 4: Genere un modelo que incluya todos los regresores\n",
    "\n",
    "* Comente brevemente sobre el poder explicativo en la varianza de Y las principales características de los predictores.\n"
   ]
  },
  {
   "cell_type": "code",
   "execution_count": 83,
   "metadata": {},
   "outputs": [
    {
     "data": {
      "text/html": [
       "<table class=\"simpletable\">\n",
       "<caption>OLS Regression Results</caption>\n",
       "<tr>\n",
       "  <th>Dep. Variable:</th>         <td>Balance</td>     <th>  R-squared:         </th> <td>   0.955</td> \n",
       "</tr>\n",
       "<tr>\n",
       "  <th>Model:</th>                   <td>OLS</td>       <th>  Adj. R-squared:    </th> <td>   0.954</td> \n",
       "</tr>\n",
       "<tr>\n",
       "  <th>Method:</th>             <td>Least Squares</td>  <th>  F-statistic:       </th> <td>   750.3</td> \n",
       "</tr>\n",
       "<tr>\n",
       "  <th>Date:</th>             <td>Mon, 01 Jul 2019</td> <th>  Prob (F-statistic):</th> <td>1.11e-253</td>\n",
       "</tr>\n",
       "<tr>\n",
       "  <th>Time:</th>                 <td>21:08:56</td>     <th>  Log-Likelihood:    </th> <td> -2398.7</td> \n",
       "</tr>\n",
       "<tr>\n",
       "  <th>No. Observations:</th>      <td>   400</td>      <th>  AIC:               </th> <td>   4821.</td> \n",
       "</tr>\n",
       "<tr>\n",
       "  <th>Df Residuals:</th>          <td>   388</td>      <th>  BIC:               </th> <td>   4869.</td> \n",
       "</tr>\n",
       "<tr>\n",
       "  <th>Df Model:</th>              <td>    11</td>      <th>                     </th>     <td> </td>    \n",
       "</tr>\n",
       "<tr>\n",
       "  <th>Covariance Type:</th>      <td>nonrobust</td>    <th>                     </th>     <td> </td>    \n",
       "</tr>\n",
       "</table>\n",
       "<table class=\"simpletable\">\n",
       "<tr>\n",
       "               <td></td>                 <th>coef</th>     <th>std err</th>      <th>t</th>      <th>P>|t|</th>  <th>[0.025</th>    <th>0.975]</th>  \n",
       "</tr>\n",
       "<tr>\n",
       "  <th>Intercept</th>                  <td> -488.2880</td> <td>   34.816</td> <td>  -14.025</td> <td> 0.000</td> <td> -556.740</td> <td> -419.836</td>\n",
       "</tr>\n",
       "<tr>\n",
       "  <th>Income</th>                     <td>   -7.8031</td> <td>    0.234</td> <td>  -33.314</td> <td> 0.000</td> <td>   -8.264</td> <td>   -7.343</td>\n",
       "</tr>\n",
       "<tr>\n",
       "  <th>Limit</th>                      <td>    0.1909</td> <td>    0.033</td> <td>    5.824</td> <td> 0.000</td> <td>    0.126</td> <td>    0.255</td>\n",
       "</tr>\n",
       "<tr>\n",
       "  <th>Rating</th>                     <td>    1.1365</td> <td>    0.491</td> <td>    2.315</td> <td> 0.021</td> <td>    0.171</td> <td>    2.102</td>\n",
       "</tr>\n",
       "<tr>\n",
       "  <th>Cards</th>                      <td>   17.7245</td> <td>    4.341</td> <td>    4.083</td> <td> 0.000</td> <td>    9.190</td> <td>   26.259</td>\n",
       "</tr>\n",
       "<tr>\n",
       "  <th>Age</th>                        <td>   -0.6139</td> <td>    0.294</td> <td>   -2.088</td> <td> 0.037</td> <td>   -1.192</td> <td>   -0.036</td>\n",
       "</tr>\n",
       "<tr>\n",
       "  <th>Education</th>                  <td>   -1.0989</td> <td>    1.598</td> <td>   -0.688</td> <td> 0.492</td> <td>   -4.241</td> <td>    2.043</td>\n",
       "</tr>\n",
       "<tr>\n",
       "  <th>Student_Yes</th>                <td>  425.7474</td> <td>   16.723</td> <td>   25.459</td> <td> 0.000</td> <td>  392.869</td> <td>  458.626</td>\n",
       "</tr>\n",
       "<tr>\n",
       "  <th>Married_No</th>                 <td>    8.5339</td> <td>   10.363</td> <td>    0.824</td> <td> 0.411</td> <td>  -11.841</td> <td>   28.908</td>\n",
       "</tr>\n",
       "<tr>\n",
       "  <th>Ethnicity_African_American</th> <td>  -10.1070</td> <td>   12.210</td> <td>   -0.828</td> <td> 0.408</td> <td>  -34.113</td> <td>   13.899</td>\n",
       "</tr>\n",
       "<tr>\n",
       "  <th>Ethnicity_Asian</th>            <td>    6.6972</td> <td>   12.122</td> <td>    0.552</td> <td> 0.581</td> <td>  -17.137</td> <td>   30.531</td>\n",
       "</tr>\n",
       "<tr>\n",
       "  <th>Gender_Male</th>                <td>   10.6532</td> <td>    9.914</td> <td>    1.075</td> <td> 0.283</td> <td>   -8.839</td> <td>   30.145</td>\n",
       "</tr>\n",
       "</table>\n",
       "<table class=\"simpletable\">\n",
       "<tr>\n",
       "  <th>Omnibus:</th>       <td>34.899</td> <th>  Durbin-Watson:     </th> <td>   1.968</td>\n",
       "</tr>\n",
       "<tr>\n",
       "  <th>Prob(Omnibus):</th> <td> 0.000</td> <th>  Jarque-Bera (JB):  </th> <td>  41.766</td>\n",
       "</tr>\n",
       "<tr>\n",
       "  <th>Skew:</th>          <td> 0.782</td> <th>  Prob(JB):          </th> <td>8.52e-10</td>\n",
       "</tr>\n",
       "<tr>\n",
       "  <th>Kurtosis:</th>      <td> 3.241</td> <th>  Cond. No.          </th> <td>3.74e+04</td>\n",
       "</tr>\n",
       "</table><br/><br/>Warnings:<br/>[1] Standard Errors assume that the covariance matrix of the errors is correctly specified.<br/>[2] The condition number is large, 3.74e+04. This might indicate that there are<br/>strong multicollinearity or other numerical problems."
      ],
      "text/plain": [
       "<class 'statsmodels.iolib.summary.Summary'>\n",
       "\"\"\"\n",
       "                            OLS Regression Results                            \n",
       "==============================================================================\n",
       "Dep. Variable:                Balance   R-squared:                       0.955\n",
       "Model:                            OLS   Adj. R-squared:                  0.954\n",
       "Method:                 Least Squares   F-statistic:                     750.3\n",
       "Date:                Mon, 01 Jul 2019   Prob (F-statistic):          1.11e-253\n",
       "Time:                        21:08:56   Log-Likelihood:                -2398.7\n",
       "No. Observations:                 400   AIC:                             4821.\n",
       "Df Residuals:                     388   BIC:                             4869.\n",
       "Df Model:                          11                                         \n",
       "Covariance Type:            nonrobust                                         \n",
       "==============================================================================================\n",
       "                                 coef    std err          t      P>|t|      [0.025      0.975]\n",
       "----------------------------------------------------------------------------------------------\n",
       "Intercept                   -488.2880     34.816    -14.025      0.000    -556.740    -419.836\n",
       "Income                        -7.8031      0.234    -33.314      0.000      -8.264      -7.343\n",
       "Limit                          0.1909      0.033      5.824      0.000       0.126       0.255\n",
       "Rating                         1.1365      0.491      2.315      0.021       0.171       2.102\n",
       "Cards                         17.7245      4.341      4.083      0.000       9.190      26.259\n",
       "Age                           -0.6139      0.294     -2.088      0.037      -1.192      -0.036\n",
       "Education                     -1.0989      1.598     -0.688      0.492      -4.241       2.043\n",
       "Student_Yes                  425.7474     16.723     25.459      0.000     392.869     458.626\n",
       "Married_No                     8.5339     10.363      0.824      0.411     -11.841      28.908\n",
       "Ethnicity_African_American   -10.1070     12.210     -0.828      0.408     -34.113      13.899\n",
       "Ethnicity_Asian                6.6972     12.122      0.552      0.581     -17.137      30.531\n",
       "Gender_Male                   10.6532      9.914      1.075      0.283      -8.839      30.145\n",
       "==============================================================================\n",
       "Omnibus:                       34.899   Durbin-Watson:                   1.968\n",
       "Prob(Omnibus):                  0.000   Jarque-Bera (JB):               41.766\n",
       "Skew:                           0.782   Prob(JB):                     8.52e-10\n",
       "Kurtosis:                       3.241   Cond. No.                     3.74e+04\n",
       "==============================================================================\n",
       "\n",
       "Warnings:\n",
       "[1] Standard Errors assume that the covariance matrix of the errors is correctly specified.\n",
       "[2] The condition number is large, 3.74e+04. This might indicate that there are\n",
       "strong multicollinearity or other numerical problems.\n",
       "\"\"\""
      ]
     },
     "execution_count": 83,
     "metadata": {},
     "output_type": "execute_result"
    }
   ],
   "source": [
    "model_all = smf.ols('Balance ~ Income + Limit + Rating + Cards + Age + Education + Student_Yes + Married_No + Ethnicity_African_American + Ethnicity_Asian + Gender_Male', data = df_final).fit()\n",
    "model_all.summary()"
   ]
  },
  {
   "cell_type": "markdown",
   "metadata": {},
   "source": [
    "Viendo los valores P de cada intercepto, podemos decir que para la estimación de los coeficientes `Income` , `Limit`, `Rating`, `Cards`, `Age`, `Student_Yes` es significativa al 95% (el valor p es menor a 0.05)\n",
    "\n",
    "Para el resto de los atributos, no podemos rechazar la hipótesis nula de que al menos uno de los dos sea igual a 0."
   ]
  },
  {
   "cell_type": "markdown",
   "metadata": {},
   "source": [
    "### Desafío 5: Depure el modelo e incluya sólo los predictores significativo\n",
    "\n",
    "* En base al modelo anterior, refactorize e incluya sólo las variables con un nivel de significancia p-value <= 0.025. Comente brevemente sobre el poder explicativo en la varianza de Y las principales características de los predictores.\n",
    "* ¿Mejoró o empeoró el modelo con la reducción de regresores?\n"
   ]
  },
  {
   "cell_type": "code",
   "execution_count": 88,
   "metadata": {},
   "outputs": [
    {
     "data": {
      "text/html": [
       "<table class=\"simpletable\">\n",
       "<caption>OLS Regression Results</caption>\n",
       "<tr>\n",
       "  <th>Dep. Variable:</th>         <td>Balance</td>     <th>  R-squared:         </th> <td>   0.954</td> \n",
       "</tr>\n",
       "<tr>\n",
       "  <th>Model:</th>                   <td>OLS</td>       <th>  Adj. R-squared:    </th> <td>   0.954</td> \n",
       "</tr>\n",
       "<tr>\n",
       "  <th>Method:</th>             <td>Least Squares</td>  <th>  F-statistic:       </th> <td>   1640.</td> \n",
       "</tr>\n",
       "<tr>\n",
       "  <th>Date:</th>             <td>Mon, 01 Jul 2019</td> <th>  Prob (F-statistic):</th> <td>3.60e-261</td>\n",
       "</tr>\n",
       "<tr>\n",
       "  <th>Time:</th>                 <td>21:26:18</td>     <th>  Log-Likelihood:    </th> <td> -2402.8</td> \n",
       "</tr>\n",
       "<tr>\n",
       "  <th>No. Observations:</th>      <td>   400</td>      <th>  AIC:               </th> <td>   4818.</td> \n",
       "</tr>\n",
       "<tr>\n",
       "  <th>Df Residuals:</th>          <td>   394</td>      <th>  BIC:               </th> <td>   4842.</td> \n",
       "</tr>\n",
       "<tr>\n",
       "  <th>Df Model:</th>              <td>     5</td>      <th>                     </th>     <td> </td>    \n",
       "</tr>\n",
       "<tr>\n",
       "  <th>Covariance Type:</th>      <td>nonrobust</td>    <th>                     </th>     <td> </td>    \n",
       "</tr>\n",
       "</table>\n",
       "<table class=\"simpletable\">\n",
       "<tr>\n",
       "       <td></td>          <th>coef</th>     <th>std err</th>      <th>t</th>      <th>P>|t|</th>  <th>[0.025</th>    <th>0.975]</th>  \n",
       "</tr>\n",
       "<tr>\n",
       "  <th>Intercept</th>   <td> -526.1555</td> <td>   19.747</td> <td>  -26.645</td> <td> 0.000</td> <td> -564.977</td> <td> -487.334</td>\n",
       "</tr>\n",
       "<tr>\n",
       "  <th>Income</th>      <td>   -7.8749</td> <td>    0.231</td> <td>  -34.024</td> <td> 0.000</td> <td>   -8.330</td> <td>   -7.420</td>\n",
       "</tr>\n",
       "<tr>\n",
       "  <th>Limit</th>       <td>    0.1944</td> <td>    0.033</td> <td>    5.977</td> <td> 0.000</td> <td>    0.130</td> <td>    0.258</td>\n",
       "</tr>\n",
       "<tr>\n",
       "  <th>Rating</th>      <td>    1.0879</td> <td>    0.487</td> <td>    2.234</td> <td> 0.026</td> <td>    0.130</td> <td>    2.045</td>\n",
       "</tr>\n",
       "<tr>\n",
       "  <th>Cards</th>       <td>   17.8517</td> <td>    4.335</td> <td>    4.118</td> <td> 0.000</td> <td>    9.329</td> <td>   26.374</td>\n",
       "</tr>\n",
       "<tr>\n",
       "  <th>Student_Yes</th> <td>  426.8501</td> <td>   16.574</td> <td>   25.754</td> <td> 0.000</td> <td>  394.266</td> <td>  459.435</td>\n",
       "</tr>\n",
       "</table>\n",
       "<table class=\"simpletable\">\n",
       "<tr>\n",
       "  <th>Omnibus:</th>       <td>30.263</td> <th>  Durbin-Watson:     </th> <td>   1.949</td>\n",
       "</tr>\n",
       "<tr>\n",
       "  <th>Prob(Omnibus):</th> <td> 0.000</td> <th>  Jarque-Bera (JB):  </th> <td>  35.257</td>\n",
       "</tr>\n",
       "<tr>\n",
       "  <th>Skew:</th>          <td> 0.722</td> <th>  Prob(JB):          </th> <td>2.21e-08</td>\n",
       "</tr>\n",
       "<tr>\n",
       "  <th>Kurtosis:</th>      <td> 3.179</td> <th>  Cond. No.          </th> <td>2.12e+04</td>\n",
       "</tr>\n",
       "</table><br/><br/>Warnings:<br/>[1] Standard Errors assume that the covariance matrix of the errors is correctly specified.<br/>[2] The condition number is large, 2.12e+04. This might indicate that there are<br/>strong multicollinearity or other numerical problems."
      ],
      "text/plain": [
       "<class 'statsmodels.iolib.summary.Summary'>\n",
       "\"\"\"\n",
       "                            OLS Regression Results                            \n",
       "==============================================================================\n",
       "Dep. Variable:                Balance   R-squared:                       0.954\n",
       "Model:                            OLS   Adj. R-squared:                  0.954\n",
       "Method:                 Least Squares   F-statistic:                     1640.\n",
       "Date:                Mon, 01 Jul 2019   Prob (F-statistic):          3.60e-261\n",
       "Time:                        21:26:18   Log-Likelihood:                -2402.8\n",
       "No. Observations:                 400   AIC:                             4818.\n",
       "Df Residuals:                     394   BIC:                             4842.\n",
       "Df Model:                           5                                         \n",
       "Covariance Type:            nonrobust                                         \n",
       "===============================================================================\n",
       "                  coef    std err          t      P>|t|      [0.025      0.975]\n",
       "-------------------------------------------------------------------------------\n",
       "Intercept    -526.1555     19.747    -26.645      0.000    -564.977    -487.334\n",
       "Income         -7.8749      0.231    -34.024      0.000      -8.330      -7.420\n",
       "Limit           0.1944      0.033      5.977      0.000       0.130       0.258\n",
       "Rating          1.0879      0.487      2.234      0.026       0.130       2.045\n",
       "Cards          17.8517      4.335      4.118      0.000       9.329      26.374\n",
       "Student_Yes   426.8501     16.574     25.754      0.000     394.266     459.435\n",
       "==============================================================================\n",
       "Omnibus:                       30.263   Durbin-Watson:                   1.949\n",
       "Prob(Omnibus):                  0.000   Jarque-Bera (JB):               35.257\n",
       "Skew:                           0.722   Prob(JB):                     2.21e-08\n",
       "Kurtosis:                       3.179   Cond. No.                     2.12e+04\n",
       "==============================================================================\n",
       "\n",
       "Warnings:\n",
       "[1] Standard Errors assume that the covariance matrix of the errors is correctly specified.\n",
       "[2] The condition number is large, 2.12e+04. This might indicate that there are\n",
       "strong multicollinearity or other numerical problems.\n",
       "\"\"\""
      ]
     },
     "execution_count": 88,
     "metadata": {},
     "output_type": "execute_result"
    }
   ],
   "source": [
    "model5 = smf.ols('Balance ~ Income + Limit + Rating + Cards + Student_Yes', data = df_final).fit()\n",
    "model5.summary()"
   ]
  },
  {
   "cell_type": "markdown",
   "metadata": {},
   "source": [
    "El modelo empeoró un poco (0.1%) pero ahora utiliza menos variables. Es decir, las variables que eliminamos no eran determinantes para el `Balance`.\n",
    "\n",
    "Podemos ver que ahora el valor `p` de `Rating` es de `0.026`, si usamos el mismo criterio nuevamente, tendríamos que eliminar el `Rating` (ya que es mayor a `0.025`)."
   ]
  },
  {
   "cell_type": "code",
   "execution_count": 89,
   "metadata": {},
   "outputs": [
    {
     "data": {
      "text/html": [
       "<table class=\"simpletable\">\n",
       "<caption>OLS Regression Results</caption>\n",
       "<tr>\n",
       "  <th>Dep. Variable:</th>         <td>Balance</td>     <th>  R-squared:         </th> <td>   0.954</td> \n",
       "</tr>\n",
       "<tr>\n",
       "  <th>Model:</th>                   <td>OLS</td>       <th>  Adj. R-squared:    </th> <td>   0.953</td> \n",
       "</tr>\n",
       "<tr>\n",
       "  <th>Method:</th>             <td>Least Squares</td>  <th>  F-statistic:       </th> <td>   2029.</td> \n",
       "</tr>\n",
       "<tr>\n",
       "  <th>Date:</th>             <td>Mon, 01 Jul 2019</td> <th>  Prob (F-statistic):</th> <td>8.94e-262</td>\n",
       "</tr>\n",
       "<tr>\n",
       "  <th>Time:</th>                 <td>21:31:02</td>     <th>  Log-Likelihood:    </th> <td> -2405.4</td> \n",
       "</tr>\n",
       "<tr>\n",
       "  <th>No. Observations:</th>      <td>   400</td>      <th>  AIC:               </th> <td>   4821.</td> \n",
       "</tr>\n",
       "<tr>\n",
       "  <th>Df Residuals:</th>          <td>   395</td>      <th>  BIC:               </th> <td>   4841.</td> \n",
       "</tr>\n",
       "<tr>\n",
       "  <th>Df Model:</th>              <td>     4</td>      <th>                     </th>     <td> </td>    \n",
       "</tr>\n",
       "<tr>\n",
       "  <th>Covariance Type:</th>      <td>nonrobust</td>    <th>                     </th>     <td> </td>    \n",
       "</tr>\n",
       "</table>\n",
       "<table class=\"simpletable\">\n",
       "<tr>\n",
       "       <td></td>          <th>coef</th>     <th>std err</th>      <th>t</th>      <th>P>|t|</th>  <th>[0.025</th>    <th>0.975]</th>  \n",
       "</tr>\n",
       "<tr>\n",
       "  <th>Intercept</th>   <td> -499.7272</td> <td>   15.890</td> <td>  -31.449</td> <td> 0.000</td> <td> -530.967</td> <td> -468.488</td>\n",
       "</tr>\n",
       "<tr>\n",
       "  <th>Income</th>      <td>   -7.8392</td> <td>    0.232</td> <td>  -33.780</td> <td> 0.000</td> <td>   -8.295</td> <td>   -7.383</td>\n",
       "</tr>\n",
       "<tr>\n",
       "  <th>Limit</th>       <td>    0.2666</td> <td>    0.004</td> <td>   75.271</td> <td> 0.000</td> <td>    0.260</td> <td>    0.274</td>\n",
       "</tr>\n",
       "<tr>\n",
       "  <th>Cards</th>       <td>   23.1754</td> <td>    3.639</td> <td>    6.368</td> <td> 0.000</td> <td>   16.021</td> <td>   30.330</td>\n",
       "</tr>\n",
       "<tr>\n",
       "  <th>Student_Yes</th> <td>  429.6064</td> <td>   16.611</td> <td>   25.862</td> <td> 0.000</td> <td>  396.949</td> <td>  462.264</td>\n",
       "</tr>\n",
       "</table>\n",
       "<table class=\"simpletable\">\n",
       "<tr>\n",
       "  <th>Omnibus:</th>       <td>34.751</td> <th>  Durbin-Watson:     </th> <td>   1.950</td>\n",
       "</tr>\n",
       "<tr>\n",
       "  <th>Prob(Omnibus):</th> <td> 0.000</td> <th>  Jarque-Bera (JB):  </th> <td>  41.363</td>\n",
       "</tr>\n",
       "<tr>\n",
       "  <th>Skew:</th>          <td> 0.771</td> <th>  Prob(JB):          </th> <td>1.04e-09</td>\n",
       "</tr>\n",
       "<tr>\n",
       "  <th>Kurtosis:</th>      <td> 3.319</td> <th>  Cond. No.          </th> <td>1.84e+04</td>\n",
       "</tr>\n",
       "</table><br/><br/>Warnings:<br/>[1] Standard Errors assume that the covariance matrix of the errors is correctly specified.<br/>[2] The condition number is large, 1.84e+04. This might indicate that there are<br/>strong multicollinearity or other numerical problems."
      ],
      "text/plain": [
       "<class 'statsmodels.iolib.summary.Summary'>\n",
       "\"\"\"\n",
       "                            OLS Regression Results                            \n",
       "==============================================================================\n",
       "Dep. Variable:                Balance   R-squared:                       0.954\n",
       "Model:                            OLS   Adj. R-squared:                  0.953\n",
       "Method:                 Least Squares   F-statistic:                     2029.\n",
       "Date:                Mon, 01 Jul 2019   Prob (F-statistic):          8.94e-262\n",
       "Time:                        21:31:02   Log-Likelihood:                -2405.4\n",
       "No. Observations:                 400   AIC:                             4821.\n",
       "Df Residuals:                     395   BIC:                             4841.\n",
       "Df Model:                           4                                         \n",
       "Covariance Type:            nonrobust                                         \n",
       "===============================================================================\n",
       "                  coef    std err          t      P>|t|      [0.025      0.975]\n",
       "-------------------------------------------------------------------------------\n",
       "Intercept    -499.7272     15.890    -31.449      0.000    -530.967    -468.488\n",
       "Income         -7.8392      0.232    -33.780      0.000      -8.295      -7.383\n",
       "Limit           0.2666      0.004     75.271      0.000       0.260       0.274\n",
       "Cards          23.1754      3.639      6.368      0.000      16.021      30.330\n",
       "Student_Yes   429.6064     16.611     25.862      0.000     396.949     462.264\n",
       "==============================================================================\n",
       "Omnibus:                       34.751   Durbin-Watson:                   1.950\n",
       "Prob(Omnibus):                  0.000   Jarque-Bera (JB):               41.363\n",
       "Skew:                           0.771   Prob(JB):                     1.04e-09\n",
       "Kurtosis:                       3.319   Cond. No.                     1.84e+04\n",
       "==============================================================================\n",
       "\n",
       "Warnings:\n",
       "[1] Standard Errors assume that the covariance matrix of the errors is correctly specified.\n",
       "[2] The condition number is large, 1.84e+04. This might indicate that there are\n",
       "strong multicollinearity or other numerical problems.\n",
       "\"\"\""
      ]
     },
     "execution_count": 89,
     "metadata": {},
     "output_type": "execute_result"
    }
   ],
   "source": [
    "model5_no_rating = smf.ols('Balance ~ Income + Limit + Cards + Student_Yes', data = df_final).fit()\n",
    "model5_no_rating.summary()"
   ]
  },
  {
   "cell_type": "markdown",
   "metadata": {},
   "source": [
    "El valor de `R-squared` no varían mucho al quitar el `Rating`"
   ]
  },
  {
   "cell_type": "markdown",
   "metadata": {},
   "source": [
    "### Desafío 6:\n",
    "\n",
    "* Utilizando lmplot de seaborn , inspeccione el comportamiento de los tres principales determinantes."
   ]
  },
  {
   "cell_type": "code",
   "execution_count": 100,
   "metadata": {},
   "outputs": [
    {
     "data": {
      "text/plain": [
       "<seaborn.axisgrid.FacetGrid at 0x7f7bc4b1c0f0>"
      ]
     },
     "execution_count": 100,
     "metadata": {},
     "output_type": "execute_result"
    },
    {
     "data": {
      "image/png": "[encoded data removed]",
      "text/plain": [
       "<Figure size 429.609x360 with 1 Axes>"
      ]
     },
     "metadata": {
      "needs_background": "light"
     },
     "output_type": "display_data"
    }
   ],
   "source": [
    "sns.lmplot(x=\"Income\", y=\"Balance\", hue=\"Student_Yes\", data=df_final)"
   ]
  },
  {
   "cell_type": "code",
   "execution_count": 101,
   "metadata": {},
   "outputs": [
    {
     "data": {
      "text/plain": [
       "<seaborn.axisgrid.FacetGrid at 0x7f7bc4aa4278>"
      ]
     },
     "execution_count": 101,
     "metadata": {},
     "output_type": "execute_result"
    },
    {
     "data": {
      "image/png": "[encoded data removed]",
      "text/plain": [
       "<Figure size 429.609x360 with 1 Axes>"
      ]
     },
     "metadata": {
      "needs_background": "light"
     },
     "output_type": "display_data"
    }
   ],
   "source": [
    "sns.lmplot(x=\"Limit\", y=\"Balance\", hue=\"Student_Yes\", data=df_final)"
   ]
  },
  {
   "cell_type": "code",
   "execution_count": 102,
   "metadata": {},
   "outputs": [
    {
     "data": {
      "text/plain": [
       "<seaborn.axisgrid.FacetGrid at 0x7f7bc4a93748>"
      ]
     },
     "execution_count": 102,
     "metadata": {},
     "output_type": "execute_result"
    },
    {
     "data": {
      "image/png": "[encoded data removed]",
      "text/plain": [
       "<Figure size 429.609x360 with 1 Axes>"
      ]
     },
     "metadata": {
      "needs_background": "light"
     },
     "output_type": "display_data"
    }
   ],
   "source": [
    "sns.lmplot(x=\"Cards\", y=\"Balance\", hue=\"Student_Yes\", data=df_final)"
   ]
  },
  {
   "cell_type": "markdown",
   "metadata": {},
   "source": [
    "En base a los gráficos, podemos ver que para los estudiantes, el Balance es superior comparado con los que no lo son.\n",
    "\n",
    "Además, el regresor `Limit` es el que está más ajustada a la recta de la regresión."
   ]
  },
  {
   "cell_type": "code",
   "execution_count": 107,
   "metadata": {},
   "outputs": [
    {
     "data": {
      "image/png": "[encoded data removed]",
      "text/plain": [
       "<Figure size 432x288 with 4 Axes>"
      ]
     },
     "metadata": {
      "needs_background": "light"
     },
     "output_type": "display_data"
    }
   ],
   "source": [
    "sm.graphics.plot_regress_exog(model5_no_rating, 'Limit');"
   ]
  },
  {
   "cell_type": "code",
   "execution_count": null,
   "metadata": {},
   "outputs": [],
   "source": []
  },
  {
   "cell_type": "code",
   "execution_count": null,
   "metadata": {},
   "outputs": [],
   "source": []
  }
 ],
 "metadata": {
  "hide_input": false,
  "kernelspec": {
   "display_name": "Python 3",
   "language": "python",
   "name": "python3"
  },
  "language_info": {
   "codemirror_mode": {
    "name": "ipython",
    "version": 3
   },
   "file_extension": ".py",
   "mimetype": "text/x-python",
   "name": "python",
   "nbconvert_exporter": "python",
   "pygments_lexer": "ipython3",
   "version": "3.7.3"
  }
 },
 "nbformat": 4,
 "nbformat_minor": 2
}
