{
 "cells": [
  {
   "cell_type": "markdown",
   "metadata": {},
   "source": [
    "# Desafío 2: Rendimiento escolar"
   ]
  },
  {
   "cell_type": "markdown",
   "metadata": {},
   "source": [
    "1) Preliminares\n",
    "---"
   ]
  },
  {
   "cell_type": "markdown",
   "metadata": {},
   "source": [
    "### Problema\n",
    "\n",
    "El problema consiste en el desarrollo de un modelo predictivo de **regresión** para predecir, en base a atributos sociodemográficos y conductuales de alumnos, las notas de los alumnos.\n",
    "\n",
    "A continuación se presenta el modelo a estimar:\n",
    "\n",
    "$$Y={{\\beta }_{0} + \\sum_{i=1} {\\beta }_{i} \\cdot {X_{i}}}$$\n",
    "\n",
    "Donde $X_{i}$ corresponden a los atributos sociodemográficos y conductuales, mientras que $Y$ es el vector objetivo a estimar (notas)\n",
    "\n",
    "### Métricas de desempeño\n",
    "\n",
    "Como este es un problema de regresión, se utilizarán las siguientes dos métricas:\n",
    "\n",
    "- **Promedio del Error Cuadrático (Mean Squared Error)**: Representa la expectativa del error cuadrático. Es un indicador de calidad con valores no negativos, donde menores valores indican mejores niveles de ajuste.\n",
    "- **R-cuadrado**: Representa la capacidad explicativa de nuestro conjunto de atributos en la variabilidad de nuestro vector objetivo.\n",
    "\n",
    "### Descripción de la base de datos\n",
    "\n",
    "- school : Escuela del estudiante. (binaria: 'GP' - Gabriel Pereira o 'MS' - Mousinho da Silveira)\n",
    "- sex : Sexo del estudiante. (binaria: 'F' - Mujer o 'M' - Hombre)\n",
    "- age : Edad del estudiante. (numérica: de 15 a 22)\n",
    "- address : Ubicación de la casa del estudiante. (binaria: 'U' - urbana o 'R' - rural)\n",
    "- famsize : Tamaño de la familia. (binaria: 'LE3' - less or equal to 3 or 'GT3' - greater than 3)\n",
    "- Pstatus : Estado cohabitacional de los padres. (binaria: 'T' - cohabitando juntos o 'A' - viviendo separados)\n",
    "- Medu : Nivel educacional de la madre. (numérica: 0 - ninguno, 1 - educación básica (4to), 2 - de 5to a 9, 3 - educación media, o 4 - educación superior).\n",
    "- Fedu : Nivel educacional del padre. (numérica: 0 - ninguno, 1 - educación básica (4to), 2 - de 5to a 9, 3 - educación media, o 4 - educación superior).\n",
    "- Mjob : Ocupación de la madre. (nominal: 'teacher' profesora, 'health' relacionada a salud, 'services' (e.g. administración pública o policía), 'at_home' en casa u 'other' otra).\n",
    "- Fjob : Ocupación del padre (nominal: 'teacher' profesor, 'health' relacionado a salud, 'services' (e.g. administración pública o policía), 'at_home' en casa u 'other' otra).\n",
    "- reason : Razón para escoger la escuela (nominal: 'home' cercano a casa, 'reputation' reputación de la escuela, 'course' preferencia de cursos u 'other' otra)\n",
    "- guardian : Apoderado del estudiante (nominal: 'mother' madre, 'father' padre u 'other' otro)\n",
    "- traveltime : Tiempo de viaje entre hogar y colegio. (numeric: 1 - <15 min., 2 - 15 a 30 min., 3 - 30 min. a 1 hora, or 4 - >1 hora).\n",
    "- studytime : Horas semanales dedicadas al estudio. (numérica: 1 - <2 horas, 2 - 2 a 5 horas, 3- 5 a 10 horas, o 4 - >10 horas)\n",
    "- failures : Número de clases reprobadas. (numérica: n si 1<=n<3, de lo contrario 4)\n",
    "- schoolsup : Apoyo educacional del colegio. (binaria: si o no)\n",
    "- famsup : Apoyo educacional familiar. (binaria: si o no)\n",
    "- paid : Clases particulares pagadas (matemáticas o portugués) (binaria: si o no)\n",
    "- activities : Actividades extracurriculares. (binaria: si o no)\n",
    "- nursery : Asistió a guardería infantil. (binaria: si o no)\n",
    "- higher : Desea proseguir estudios superiores (binaria: si o no)\n",
    "- internet : Acceso a internet desde el hogar (binaria: si o no)\n",
    "- romantic : Relación romántica (binaria: si o no)\n",
    "- famrel : Calidad de las relaciones familiares. (numérica: de 1 - muy malas a 5 - excelentes)\n",
    "- freetime : Tiempo libre fuera del colegio (numérica: de 1 - muy poco a 5 - mucho)\n",
    "- goout : Salidas con amigos (numérica: de 1 - muy pocas a 5 - muchas)\n",
    "- Dalc : Consumo de alcohol en día de semana (numérica: de 1 - muy bajo a 5 - muy alto)\n",
    "- Walc : Consumo de alcohol en fines de semana (numérica: de 1 - muy bajo a 5 - muy alto)\n",
    "- health : Estado de salud actual (numérica: from 1 - muy malo to 5 - muy bueno)\n",
    "- absences : Cantidad de ausencias escolares (numérica: de 0 a 93)\n",
    "- G1 : Notas durante el primer semestre (numérica: de 0 a 20). Este es uno de sus vectores objetivos para el modelo descriptivo.\n",
    "- G2 : Notas durante el segundo semestre (numérica: de 0 a 20). Este es uno de sus vectores objetivos para el modelo descriptivo.\n",
    "- G3 : Promedio final (numérica: de 0 a 20). Este es uno de sus vectores objetivos para el modelo descriptivo y el vector a predecir en el modelo predictivo."
   ]
  },
  {
   "cell_type": "markdown",
   "metadata": {},
   "source": [
    "2) Aspectos computacionales\n",
    "---"
   ]
  },
  {
   "cell_type": "markdown",
   "metadata": {},
   "source": [
    "### Librerías a utilizar\n",
    "\n",
    "- `pandas`: manipulación y análisis de datos.\n",
    "- `numpy`: biblioteca de funciones matemáticas de alto nivel para operar con vectores o matrices.\n",
    "- `scipy.stats`: contiene una gran cantidad de distribuciones de probabilidad y de funciones estadísticas.\n",
    "- `matplotlib.pyplot`: nos permite mostrar gráficos.\n",
    "- `seaborn`: librería especializada para gráficos estadísticos.\n",
    "- `sklearn`: herramientas para análisis de datos y minería de datos. En particular se utilizará:\n",
    "    - `linear_model`: módulo para trabajar con regresión donde el valor target es una combinación lineal de los features. Utilizaremos en este caso `LogisticRegression`.\n",
    "    - `metrics`: módulo para obtener métricas de nuestros modelos (`mean_squared_error`, `r2_score`).\n",
    "    - `model_selection`: de aquí se utilizará `train_test_split` para dividir nuestro datos en un set de entrenamiento y en un set de validación.\n",
    "    - `preprocessing`: funciones para transformar datos en una representación más adecuada para los estimadores.\n",
    "- `statsmodel`: provee clases y funciones para la estimación de distintos modelos estadísticos, así como para la realización de pruebas estadísticas y la exploración de datos estadísticos.\n",
    "- `missingno`: librería para la visualización de datos perdidos.\n",
    "- `factor_analyzer`: librería para el análisis factorial.\n",
    "- `warnings`: será utilizada para evitar avisos de deprecación."
   ]
  },
  {
   "cell_type": "code",
   "execution_count": 1,
   "metadata": {},
   "outputs": [],
   "source": [
    "import pandas as pd\n",
    "import numpy as np\n",
    "import scipy.stats as stats\n",
    "import matplotlib.pyplot as plt\n",
    "import seaborn as sns\n",
    "from sklearn.linear_model import LinearRegression \n",
    "from sklearn.model_selection import train_test_split\n",
    "from sklearn.preprocessing import StandardScaler\n",
    "from sklearn.metrics import mean_squared_error, r2_score\n",
    "import statsmodels.api as sm\n",
    "import statsmodels.formula.api as smf\n",
    "import factor_analyzer as factor\n",
    "import missingno as msngo\n",
    "import warnings\n",
    "\n",
    "warnings.filterwarnings('ignore')"
   ]
  },
  {
   "cell_type": "markdown",
   "metadata": {},
   "source": [
    "### Funciones\n",
    "\n",
    "- `get_dummies(df, columns)`, función que convierte variables categóricas en variables dummy.\n",
    "- `humanize(col_name)`, retorna un string que representa el nombre de la columna en español.\n",
    "- `plot_columns_behaviour(df, kind)`, función que dado un `DataFrame` `df` y genera un gráfico para cada columna dependiendo del parámetro kind (displot o catplot).\n",
    "- `run_hip_test(df, col_name, group_by)`, función que hace un test de hipótesis para saber si la media de los grupos creados a partir de la columna binaria group_by son iguales (con un 95% de significancia). Retorna true cuando podemos rechazar la hipótesis de que las medias son iguales.\n",
    "- `graph_hist(df, col_name, group_by)`, muestra un histograma de la columna segmentado por la variable binaria group_by\n",
    "- `plot_main_correlations(df, threshold)`, grafica las principales correlaciones del dataframe, basado en un valor umbral (correlaciones tal que > threshold)\n",
    "- `plot_worst_correlations(df, threshold)`, grafica las correlaciones que sean menor al valor umbral.\n",
    "- `build_model(df, model, target, *banned_columns)`, construye un modelo de regresión para el dataframe entregado, donde la variable independiente es `target`, las variables independientes son todas las columnas del dataframe exceptuando `target` y las columnas excluidas (`banned_columns`).\n",
    "- `not_significant_pvalues(model)`, entrega un listado con los `p-values` no significativos (al 95%) del modelo entregado.\n",
    "- `significant_pvalues(model)`, entrega un listado con los `p-values` significativos (al 95%) del modelo entregado."
   ]
  },
  {
   "cell_type": "code",
   "execution_count": 2,
   "metadata": {},
   "outputs": [],
   "source": [
    "# Importar las funciones auxiliares\n",
    "import auxiliary as nicos"
   ]
  },
  {
   "cell_type": "markdown",
   "metadata": {},
   "source": [
    "### Proceso de preprocesamiento y recodificación de datos\n",
    "\n",
    "El proceso de preprocesamiento y recodificación de los datos consistirá en lo siguiente:\n",
    "\n",
    "1. Análisis de cada columna (tipos de datos).\n",
    "2. Resolución de anomalías.\n",
    "3. Recodificación de las variables binarias como 0 y 1. Se asignará 1 a aquellas categorías minoritarias.\n",
    "4. Recodificación de las variables nominales con más de 2 categorías."
   ]
  },
  {
   "cell_type": "code",
   "execution_count": 3,
   "metadata": {
    "scrolled": true
   },
   "outputs": [
    {
     "data": {
      "text/html": [
       "<div>\n",
       "<style scoped>\n",
       "    .dataframe tbody tr th:only-of-type {\n",
       "        vertical-align: middle;\n",
       "    }\n",
       "\n",
       "    .dataframe tbody tr th {\n",
       "        vertical-align: top;\n",
       "    }\n",
       "\n",
       "    .dataframe thead th {\n",
       "        text-align: right;\n",
       "    }\n",
       "</style>\n",
       "<table border=\"1\" class=\"dataframe\">\n",
       "  <thead>\n",
       "    <tr style=\"text-align: right;\">\n",
       "      <th></th>\n",
       "      <th>Unnamed: 0</th>\n",
       "      <th>school</th>\n",
       "      <th>sex</th>\n",
       "      <th>age</th>\n",
       "      <th>address</th>\n",
       "      <th>famsize</th>\n",
       "      <th>Pstatus</th>\n",
       "      <th>Medu</th>\n",
       "      <th>Fedu</th>\n",
       "      <th>Mjob</th>\n",
       "      <th>...</th>\n",
       "      <th>famrel</th>\n",
       "      <th>freetime</th>\n",
       "      <th>goout</th>\n",
       "      <th>Dalc</th>\n",
       "      <th>Walc</th>\n",
       "      <th>health</th>\n",
       "      <th>absences</th>\n",
       "      <th>G1</th>\n",
       "      <th>G2</th>\n",
       "      <th>G3</th>\n",
       "    </tr>\n",
       "  </thead>\n",
       "  <tbody>\n",
       "    <tr>\n",
       "      <th>0</th>\n",
       "      <td>0</td>\n",
       "      <td>GP</td>\n",
       "      <td>F</td>\n",
       "      <td>nulidade</td>\n",
       "      <td>U</td>\n",
       "      <td>GT3</td>\n",
       "      <td>A</td>\n",
       "      <td>4</td>\n",
       "      <td>4</td>\n",
       "      <td>at_home</td>\n",
       "      <td>...</td>\n",
       "      <td>4</td>\n",
       "      <td>3</td>\n",
       "      <td>\"4\"</td>\n",
       "      <td>1</td>\n",
       "      <td>1</td>\n",
       "      <td>\"3\"</td>\n",
       "      <td>6</td>\n",
       "      <td>5</td>\n",
       "      <td>6</td>\n",
       "      <td>6</td>\n",
       "    </tr>\n",
       "    <tr>\n",
       "      <th>1</th>\n",
       "      <td>1</td>\n",
       "      <td>GP</td>\n",
       "      <td>F</td>\n",
       "      <td>\"17\"</td>\n",
       "      <td>U</td>\n",
       "      <td>GT3</td>\n",
       "      <td>T</td>\n",
       "      <td>1</td>\n",
       "      <td>1</td>\n",
       "      <td>at_home</td>\n",
       "      <td>...</td>\n",
       "      <td>5</td>\n",
       "      <td>3</td>\n",
       "      <td>\"3\"</td>\n",
       "      <td>1</td>\n",
       "      <td>1</td>\n",
       "      <td>\"3\"</td>\n",
       "      <td>4</td>\n",
       "      <td>5</td>\n",
       "      <td>5</td>\n",
       "      <td>6</td>\n",
       "    </tr>\n",
       "    <tr>\n",
       "      <th>2</th>\n",
       "      <td>2</td>\n",
       "      <td>GP</td>\n",
       "      <td>F</td>\n",
       "      <td>\"15\"</td>\n",
       "      <td>U</td>\n",
       "      <td>LE3</td>\n",
       "      <td>T</td>\n",
       "      <td>1</td>\n",
       "      <td>1</td>\n",
       "      <td>at_home</td>\n",
       "      <td>...</td>\n",
       "      <td>4</td>\n",
       "      <td>3</td>\n",
       "      <td>\"2\"</td>\n",
       "      <td>2</td>\n",
       "      <td>3</td>\n",
       "      <td>\"3\"</td>\n",
       "      <td>10</td>\n",
       "      <td>zero</td>\n",
       "      <td>8</td>\n",
       "      <td>10</td>\n",
       "    </tr>\n",
       "    <tr>\n",
       "      <th>3</th>\n",
       "      <td>3</td>\n",
       "      <td>GP</td>\n",
       "      <td>F</td>\n",
       "      <td>\"15\"</td>\n",
       "      <td>U</td>\n",
       "      <td>GT3</td>\n",
       "      <td>T</td>\n",
       "      <td>4</td>\n",
       "      <td>2</td>\n",
       "      <td>health</td>\n",
       "      <td>...</td>\n",
       "      <td>3</td>\n",
       "      <td>2</td>\n",
       "      <td>\"2\"</td>\n",
       "      <td>1</td>\n",
       "      <td>1</td>\n",
       "      <td>\"5\"</td>\n",
       "      <td>2</td>\n",
       "      <td>15</td>\n",
       "      <td>14</td>\n",
       "      <td>15</td>\n",
       "    </tr>\n",
       "    <tr>\n",
       "      <th>4</th>\n",
       "      <td>4</td>\n",
       "      <td>GP</td>\n",
       "      <td>F</td>\n",
       "      <td>sem validade</td>\n",
       "      <td>U</td>\n",
       "      <td>GT3</td>\n",
       "      <td>T</td>\n",
       "      <td>3</td>\n",
       "      <td>3</td>\n",
       "      <td>other</td>\n",
       "      <td>...</td>\n",
       "      <td>4</td>\n",
       "      <td>3</td>\n",
       "      <td>\"2\"</td>\n",
       "      <td>1</td>\n",
       "      <td>2</td>\n",
       "      <td>\"5\"</td>\n",
       "      <td>4</td>\n",
       "      <td>6</td>\n",
       "      <td>10</td>\n",
       "      <td>10</td>\n",
       "    </tr>\n",
       "  </tbody>\n",
       "</table>\n",
       "<p>5 rows × 34 columns</p>\n",
       "</div>"
      ],
      "text/plain": [
       "   Unnamed: 0 school sex           age address famsize Pstatus Medu Fedu  \\\n",
       "0           0     GP   F      nulidade       U     GT3       A    4    4   \n",
       "1           1     GP   F          \"17\"       U     GT3       T    1    1   \n",
       "2           2     GP   F          \"15\"       U     LE3       T    1    1   \n",
       "3           3     GP   F          \"15\"       U     GT3       T    4    2   \n",
       "4           4     GP   F  sem validade       U     GT3       T    3    3   \n",
       "\n",
       "      Mjob  ... famrel freetime goout Dalc Walc health absences    G1  G2  G3  \n",
       "0  at_home  ...      4        3   \"4\"    1    1    \"3\"        6     5   6   6  \n",
       "1  at_home  ...      5        3   \"3\"    1    1    \"3\"        4     5   5   6  \n",
       "2  at_home  ...      4        3   \"2\"    2    3    \"3\"       10  zero   8  10  \n",
       "3   health  ...      3        2   \"2\"    1    1    \"5\"        2    15  14  15  \n",
       "4    other  ...      4        3   \"2\"    1    2    \"5\"        4     6  10  10  \n",
       "\n",
       "[5 rows x 34 columns]"
      ]
     },
     "execution_count": 3,
     "metadata": {},
     "output_type": "execute_result"
    }
   ],
   "source": [
    "original_df = pd.read_csv('students.csv', sep='|')\n",
    "original_df.head(5)"
   ]
  },
  {
   "cell_type": "markdown",
   "metadata": {},
   "source": [
    "#### Análisis de cada columna"
   ]
  },
  {
   "cell_type": "code",
   "execution_count": 4,
   "metadata": {
    "scrolled": true
   },
   "outputs": [
    {
     "name": "stdout",
     "output_type": "stream",
     "text": [
      "<class 'pandas.core.frame.DataFrame'>\n",
      "RangeIndex: 395 entries, 0 to 394\n",
      "Data columns (total 34 columns):\n",
      "Unnamed: 0    395 non-null int64\n",
      "school        395 non-null object\n",
      "sex           395 non-null object\n",
      "age           395 non-null object\n",
      "address       395 non-null object\n",
      "famsize       395 non-null object\n",
      "Pstatus       395 non-null object\n",
      "Medu          395 non-null object\n",
      "Fedu          395 non-null object\n",
      "Mjob          395 non-null object\n",
      "Fjob          395 non-null object\n",
      "reason        395 non-null object\n",
      "guardian      395 non-null object\n",
      "traveltime    395 non-null object\n",
      "studytime     395 non-null object\n",
      "failures      395 non-null object\n",
      "schoolsup     395 non-null object\n",
      "famsup        395 non-null object\n",
      "paid          395 non-null object\n",
      "activities    395 non-null object\n",
      "nursery       395 non-null object\n",
      "higher        395 non-null object\n",
      "internet      395 non-null object\n",
      "romantic      395 non-null object\n",
      "famrel        395 non-null object\n",
      "freetime      395 non-null object\n",
      "goout         395 non-null object\n",
      "Dalc          395 non-null object\n",
      "Walc          395 non-null object\n",
      "health        395 non-null object\n",
      "absences      395 non-null object\n",
      "G1            395 non-null object\n",
      "G2            395 non-null int64\n",
      "G3            395 non-null object\n",
      "dtypes: int64(2), object(32)\n",
      "memory usage: 105.0+ KB\n"
     ]
    }
   ],
   "source": [
    "original_df.info()"
   ]
  },
  {
   "cell_type": "markdown",
   "metadata": {},
   "source": [
    "Debido a que hay datos perdidos y strings, varias columnas quedaron como `object`. Notar que `G2` quedó bien codificada (está como `int64`)"
   ]
  },
  {
   "cell_type": "markdown",
   "metadata": {},
   "source": [
    "#### Resolución de anomalías"
   ]
  },
  {
   "cell_type": "code",
   "execution_count": 5,
   "metadata": {},
   "outputs": [
    {
     "data": {
      "text/html": [
       "<div>\n",
       "<style scoped>\n",
       "    .dataframe tbody tr th:only-of-type {\n",
       "        vertical-align: middle;\n",
       "    }\n",
       "\n",
       "    .dataframe tbody tr th {\n",
       "        vertical-align: top;\n",
       "    }\n",
       "\n",
       "    .dataframe thead th {\n",
       "        text-align: right;\n",
       "    }\n",
       "</style>\n",
       "<table border=\"1\" class=\"dataframe\">\n",
       "  <thead>\n",
       "    <tr style=\"text-align: right;\">\n",
       "      <th></th>\n",
       "      <th>school</th>\n",
       "      <th>sex</th>\n",
       "      <th>age</th>\n",
       "      <th>address</th>\n",
       "      <th>famsize</th>\n",
       "      <th>Pstatus</th>\n",
       "      <th>Medu</th>\n",
       "      <th>Fedu</th>\n",
       "      <th>Mjob</th>\n",
       "      <th>Fjob</th>\n",
       "      <th>...</th>\n",
       "      <th>famrel</th>\n",
       "      <th>freetime</th>\n",
       "      <th>goout</th>\n",
       "      <th>Dalc</th>\n",
       "      <th>Walc</th>\n",
       "      <th>health</th>\n",
       "      <th>absences</th>\n",
       "      <th>G1</th>\n",
       "      <th>G2</th>\n",
       "      <th>G3</th>\n",
       "    </tr>\n",
       "  </thead>\n",
       "  <tbody>\n",
       "    <tr>\n",
       "      <th>0</th>\n",
       "      <td>GP</td>\n",
       "      <td>F</td>\n",
       "      <td>nulidade</td>\n",
       "      <td>U</td>\n",
       "      <td>GT3</td>\n",
       "      <td>A</td>\n",
       "      <td>4</td>\n",
       "      <td>4</td>\n",
       "      <td>at_home</td>\n",
       "      <td>teacher</td>\n",
       "      <td>...</td>\n",
       "      <td>4</td>\n",
       "      <td>3</td>\n",
       "      <td>\"4\"</td>\n",
       "      <td>1</td>\n",
       "      <td>1</td>\n",
       "      <td>\"3\"</td>\n",
       "      <td>6</td>\n",
       "      <td>5</td>\n",
       "      <td>6</td>\n",
       "      <td>6</td>\n",
       "    </tr>\n",
       "    <tr>\n",
       "      <th>1</th>\n",
       "      <td>GP</td>\n",
       "      <td>F</td>\n",
       "      <td>\"17\"</td>\n",
       "      <td>U</td>\n",
       "      <td>GT3</td>\n",
       "      <td>T</td>\n",
       "      <td>1</td>\n",
       "      <td>1</td>\n",
       "      <td>at_home</td>\n",
       "      <td>other</td>\n",
       "      <td>...</td>\n",
       "      <td>5</td>\n",
       "      <td>3</td>\n",
       "      <td>\"3\"</td>\n",
       "      <td>1</td>\n",
       "      <td>1</td>\n",
       "      <td>\"3\"</td>\n",
       "      <td>4</td>\n",
       "      <td>5</td>\n",
       "      <td>5</td>\n",
       "      <td>6</td>\n",
       "    </tr>\n",
       "    <tr>\n",
       "      <th>2</th>\n",
       "      <td>GP</td>\n",
       "      <td>F</td>\n",
       "      <td>\"15\"</td>\n",
       "      <td>U</td>\n",
       "      <td>LE3</td>\n",
       "      <td>T</td>\n",
       "      <td>1</td>\n",
       "      <td>1</td>\n",
       "      <td>at_home</td>\n",
       "      <td>other</td>\n",
       "      <td>...</td>\n",
       "      <td>4</td>\n",
       "      <td>3</td>\n",
       "      <td>\"2\"</td>\n",
       "      <td>2</td>\n",
       "      <td>3</td>\n",
       "      <td>\"3\"</td>\n",
       "      <td>10</td>\n",
       "      <td>zero</td>\n",
       "      <td>8</td>\n",
       "      <td>10</td>\n",
       "    </tr>\n",
       "  </tbody>\n",
       "</table>\n",
       "<p>3 rows × 33 columns</p>\n",
       "</div>"
      ],
      "text/plain": [
       "  school sex       age address famsize Pstatus Medu Fedu     Mjob     Fjob  \\\n",
       "0     GP   F  nulidade       U     GT3       A    4    4  at_home  teacher   \n",
       "1     GP   F      \"17\"       U     GT3       T    1    1  at_home    other   \n",
       "2     GP   F      \"15\"       U     LE3       T    1    1  at_home    other   \n",
       "\n",
       "   ... famrel freetime goout Dalc Walc health absences    G1 G2  G3  \n",
       "0  ...      4        3   \"4\"    1    1    \"3\"        6     5  6   6  \n",
       "1  ...      5        3   \"3\"    1    1    \"3\"        4     5  5   6  \n",
       "2  ...      4        3   \"2\"    2    3    \"3\"       10  zero  8  10  \n",
       "\n",
       "[3 rows x 33 columns]"
      ]
     },
     "execution_count": 5,
     "metadata": {},
     "output_type": "execute_result"
    }
   ],
   "source": [
    "# 2.1) Eliminar unnamed column\n",
    "df1 = original_df.drop(columns=['Unnamed: 0'])\n",
    "\n",
    "df1.head(3)"
   ]
  },
  {
   "cell_type": "code",
   "execution_count": 6,
   "metadata": {},
   "outputs": [
    {
     "data": {
      "text/html": [
       "<div>\n",
       "<style scoped>\n",
       "    .dataframe tbody tr th:only-of-type {\n",
       "        vertical-align: middle;\n",
       "    }\n",
       "\n",
       "    .dataframe tbody tr th {\n",
       "        vertical-align: top;\n",
       "    }\n",
       "\n",
       "    .dataframe thead th {\n",
       "        text-align: right;\n",
       "    }\n",
       "</style>\n",
       "<table border=\"1\" class=\"dataframe\">\n",
       "  <thead>\n",
       "    <tr style=\"text-align: right;\">\n",
       "      <th></th>\n",
       "      <th>school</th>\n",
       "      <th>sex</th>\n",
       "      <th>age</th>\n",
       "      <th>address</th>\n",
       "      <th>famsize</th>\n",
       "      <th>Pstatus</th>\n",
       "      <th>Medu</th>\n",
       "      <th>Fedu</th>\n",
       "      <th>Mjob</th>\n",
       "      <th>Fjob</th>\n",
       "      <th>...</th>\n",
       "      <th>famrel</th>\n",
       "      <th>freetime</th>\n",
       "      <th>goout</th>\n",
       "      <th>Dalc</th>\n",
       "      <th>Walc</th>\n",
       "      <th>health</th>\n",
       "      <th>absences</th>\n",
       "      <th>G1</th>\n",
       "      <th>G2</th>\n",
       "      <th>G3</th>\n",
       "    </tr>\n",
       "  </thead>\n",
       "  <tbody>\n",
       "    <tr>\n",
       "      <th>0</th>\n",
       "      <td>GP</td>\n",
       "      <td>F</td>\n",
       "      <td>NaN</td>\n",
       "      <td>U</td>\n",
       "      <td>GT3</td>\n",
       "      <td>A</td>\n",
       "      <td>4</td>\n",
       "      <td>4</td>\n",
       "      <td>at_home</td>\n",
       "      <td>teacher</td>\n",
       "      <td>...</td>\n",
       "      <td>4</td>\n",
       "      <td>3</td>\n",
       "      <td>\"4\"</td>\n",
       "      <td>1</td>\n",
       "      <td>1</td>\n",
       "      <td>\"3\"</td>\n",
       "      <td>6</td>\n",
       "      <td>5</td>\n",
       "      <td>6</td>\n",
       "      <td>6</td>\n",
       "    </tr>\n",
       "    <tr>\n",
       "      <th>1</th>\n",
       "      <td>GP</td>\n",
       "      <td>F</td>\n",
       "      <td>\"17\"</td>\n",
       "      <td>U</td>\n",
       "      <td>GT3</td>\n",
       "      <td>T</td>\n",
       "      <td>1</td>\n",
       "      <td>1</td>\n",
       "      <td>at_home</td>\n",
       "      <td>other</td>\n",
       "      <td>...</td>\n",
       "      <td>5</td>\n",
       "      <td>3</td>\n",
       "      <td>\"3\"</td>\n",
       "      <td>1</td>\n",
       "      <td>1</td>\n",
       "      <td>\"3\"</td>\n",
       "      <td>4</td>\n",
       "      <td>5</td>\n",
       "      <td>5</td>\n",
       "      <td>6</td>\n",
       "    </tr>\n",
       "    <tr>\n",
       "      <th>2</th>\n",
       "      <td>GP</td>\n",
       "      <td>F</td>\n",
       "      <td>\"15\"</td>\n",
       "      <td>U</td>\n",
       "      <td>LE3</td>\n",
       "      <td>T</td>\n",
       "      <td>1</td>\n",
       "      <td>1</td>\n",
       "      <td>at_home</td>\n",
       "      <td>other</td>\n",
       "      <td>...</td>\n",
       "      <td>4</td>\n",
       "      <td>3</td>\n",
       "      <td>\"2\"</td>\n",
       "      <td>2</td>\n",
       "      <td>3</td>\n",
       "      <td>\"3\"</td>\n",
       "      <td>10</td>\n",
       "      <td>NaN</td>\n",
       "      <td>8</td>\n",
       "      <td>10</td>\n",
       "    </tr>\n",
       "  </tbody>\n",
       "</table>\n",
       "<p>3 rows × 33 columns</p>\n",
       "</div>"
      ],
      "text/plain": [
       "  school sex   age address famsize Pstatus Medu Fedu     Mjob     Fjob  ...  \\\n",
       "0     GP   F   NaN       U     GT3       A    4    4  at_home  teacher  ...   \n",
       "1     GP   F  \"17\"       U     GT3       T    1    1  at_home    other  ...   \n",
       "2     GP   F  \"15\"       U     LE3       T    1    1  at_home    other  ...   \n",
       "\n",
       "  famrel freetime goout Dalc Walc health absences   G1 G2  G3  \n",
       "0      4        3   \"4\"    1    1    \"3\"        6    5  6   6  \n",
       "1      5        3   \"3\"    1    1    \"3\"        4    5  5   6  \n",
       "2      4        3   \"2\"    2    3    \"3\"       10  NaN  8  10  \n",
       "\n",
       "[3 rows x 33 columns]"
      ]
     },
     "execution_count": 6,
     "metadata": {},
     "output_type": "execute_result"
    }
   ],
   "source": [
    "# 2.2) Para cada columna, reemplazar los casos perdidos\n",
    "df2 = df1.copy()\n",
    "\n",
    "numeric = [\n",
    "    'age',\n",
    "    'Medu',\n",
    "    'Fedu',\n",
    "    'traveltime',\n",
    "    'studytime',\n",
    "    'failures',\n",
    "    'famrel',\n",
    "    'freetime',\n",
    "    'goout',\n",
    "    'Dalc',\n",
    "    'Walc',\n",
    "    'health',\n",
    "    'absences',\n",
    "    'G1',\n",
    "    'G2',\n",
    "    'G3',\n",
    "]\n",
    "\n",
    "for col_name in df2:\n",
    "    missing = df2[col_name].isin(['nulidade', 'zero', 'sem validade'])\n",
    "    missing_count = sum(missing)\n",
    "    if missing_count > 0:\n",
    "        if col_name in numeric:\n",
    "            df2.loc[missing, col_name] = np.nan\n",
    "        else:\n",
    "            df2.loc[missing, col_name] = None\n",
    "\n",
    "df2.head(3)"
   ]
  },
  {
   "cell_type": "code",
   "execution_count": 7,
   "metadata": {},
   "outputs": [
    {
     "data": {
      "text/html": [
       "<div>\n",
       "<style scoped>\n",
       "    .dataframe tbody tr th:only-of-type {\n",
       "        vertical-align: middle;\n",
       "    }\n",
       "\n",
       "    .dataframe tbody tr th {\n",
       "        vertical-align: top;\n",
       "    }\n",
       "\n",
       "    .dataframe thead th {\n",
       "        text-align: right;\n",
       "    }\n",
       "</style>\n",
       "<table border=\"1\" class=\"dataframe\">\n",
       "  <thead>\n",
       "    <tr style=\"text-align: right;\">\n",
       "      <th></th>\n",
       "      <th>school</th>\n",
       "      <th>sex</th>\n",
       "      <th>age</th>\n",
       "      <th>address</th>\n",
       "      <th>famsize</th>\n",
       "      <th>Pstatus</th>\n",
       "      <th>Medu</th>\n",
       "      <th>Fedu</th>\n",
       "      <th>Mjob</th>\n",
       "      <th>Fjob</th>\n",
       "      <th>...</th>\n",
       "      <th>famrel</th>\n",
       "      <th>freetime</th>\n",
       "      <th>goout</th>\n",
       "      <th>Dalc</th>\n",
       "      <th>Walc</th>\n",
       "      <th>health</th>\n",
       "      <th>absences</th>\n",
       "      <th>G1</th>\n",
       "      <th>G2</th>\n",
       "      <th>G3</th>\n",
       "    </tr>\n",
       "  </thead>\n",
       "  <tbody>\n",
       "    <tr>\n",
       "      <th>0</th>\n",
       "      <td>GP</td>\n",
       "      <td>F</td>\n",
       "      <td>NaN</td>\n",
       "      <td>U</td>\n",
       "      <td>GT3</td>\n",
       "      <td>A</td>\n",
       "      <td>4</td>\n",
       "      <td>4</td>\n",
       "      <td>at_home</td>\n",
       "      <td>teacher</td>\n",
       "      <td>...</td>\n",
       "      <td>4</td>\n",
       "      <td>3</td>\n",
       "      <td>4</td>\n",
       "      <td>1</td>\n",
       "      <td>1</td>\n",
       "      <td>3</td>\n",
       "      <td>6</td>\n",
       "      <td>5</td>\n",
       "      <td>6</td>\n",
       "      <td>6</td>\n",
       "    </tr>\n",
       "    <tr>\n",
       "      <th>1</th>\n",
       "      <td>GP</td>\n",
       "      <td>F</td>\n",
       "      <td>17</td>\n",
       "      <td>U</td>\n",
       "      <td>GT3</td>\n",
       "      <td>T</td>\n",
       "      <td>1</td>\n",
       "      <td>1</td>\n",
       "      <td>at_home</td>\n",
       "      <td>other</td>\n",
       "      <td>...</td>\n",
       "      <td>5</td>\n",
       "      <td>3</td>\n",
       "      <td>3</td>\n",
       "      <td>1</td>\n",
       "      <td>1</td>\n",
       "      <td>3</td>\n",
       "      <td>4</td>\n",
       "      <td>5</td>\n",
       "      <td>5</td>\n",
       "      <td>6</td>\n",
       "    </tr>\n",
       "    <tr>\n",
       "      <th>2</th>\n",
       "      <td>GP</td>\n",
       "      <td>F</td>\n",
       "      <td>15</td>\n",
       "      <td>U</td>\n",
       "      <td>LE3</td>\n",
       "      <td>T</td>\n",
       "      <td>1</td>\n",
       "      <td>1</td>\n",
       "      <td>at_home</td>\n",
       "      <td>other</td>\n",
       "      <td>...</td>\n",
       "      <td>4</td>\n",
       "      <td>3</td>\n",
       "      <td>2</td>\n",
       "      <td>2</td>\n",
       "      <td>3</td>\n",
       "      <td>3</td>\n",
       "      <td>10</td>\n",
       "      <td>NaN</td>\n",
       "      <td>8</td>\n",
       "      <td>10</td>\n",
       "    </tr>\n",
       "  </tbody>\n",
       "</table>\n",
       "<p>3 rows × 33 columns</p>\n",
       "</div>"
      ],
      "text/plain": [
       "  school sex  age address famsize Pstatus Medu Fedu     Mjob     Fjob  ...  \\\n",
       "0     GP   F  NaN       U     GT3       A    4    4  at_home  teacher  ...   \n",
       "1     GP   F   17       U     GT3       T    1    1  at_home    other  ...   \n",
       "2     GP   F   15       U     LE3       T    1    1  at_home    other  ...   \n",
       "\n",
       "  famrel freetime goout Dalc Walc health absences   G1 G2  G3  \n",
       "0      4        3     4    1    1      3        6    5  6   6  \n",
       "1      5        3     3    1    1      3        4    5  5   6  \n",
       "2      4        3     2    2    3      3       10  NaN  8  10  \n",
       "\n",
       "[3 rows x 33 columns]"
      ]
     },
     "execution_count": 7,
     "metadata": {},
     "output_type": "execute_result"
    }
   ],
   "source": [
    "# 2.3) Columnas que son número pero que están como string\n",
    "df3 = df2.copy()\n",
    "\n",
    "for col_name in ['age', 'goout', 'health']:\n",
    "    not_null = df3[col_name].notnull()\n",
    "    df3.loc[not_null, col_name] = df3[not_null][col_name].apply(lambda n: int(n.replace('\"', '')))\n",
    "    \n",
    "for col_name in numeric:\n",
    "    not_nan = df3[col_name].notnull()\n",
    "    df3.loc[not_nan, col_name] = df3[not_nan][col_name].astype('int')\n",
    "\n",
    "df3.head(3)"
   ]
  },
  {
   "cell_type": "code",
   "execution_count": 8,
   "metadata": {},
   "outputs": [
    {
     "data": {
      "text/html": [
       "<div>\n",
       "<style scoped>\n",
       "    .dataframe tbody tr th:only-of-type {\n",
       "        vertical-align: middle;\n",
       "    }\n",
       "\n",
       "    .dataframe tbody tr th {\n",
       "        vertical-align: top;\n",
       "    }\n",
       "\n",
       "    .dataframe thead th {\n",
       "        text-align: right;\n",
       "    }\n",
       "</style>\n",
       "<table border=\"1\" class=\"dataframe\">\n",
       "  <thead>\n",
       "    <tr style=\"text-align: right;\">\n",
       "      <th></th>\n",
       "      <th>age</th>\n",
       "      <th>Medu</th>\n",
       "      <th>Fedu</th>\n",
       "      <th>failures</th>\n",
       "      <th>absences</th>\n",
       "      <th>G1</th>\n",
       "      <th>G2</th>\n",
       "      <th>G3</th>\n",
       "      <th>school_MS</th>\n",
       "      <th>sex_M</th>\n",
       "      <th>...</th>\n",
       "      <th>health_3</th>\n",
       "      <th>health_4</th>\n",
       "      <th>health_2</th>\n",
       "      <th>health_1</th>\n",
       "      <th>studytime_1</th>\n",
       "      <th>studytime_3</th>\n",
       "      <th>studytime_4</th>\n",
       "      <th>traveltime_2</th>\n",
       "      <th>traveltime_3</th>\n",
       "      <th>traveltime_4</th>\n",
       "    </tr>\n",
       "  </thead>\n",
       "  <tbody>\n",
       "    <tr>\n",
       "      <th>1</th>\n",
       "      <td>17</td>\n",
       "      <td>1</td>\n",
       "      <td>1</td>\n",
       "      <td>0</td>\n",
       "      <td>4</td>\n",
       "      <td>5</td>\n",
       "      <td>5</td>\n",
       "      <td>6</td>\n",
       "      <td>0</td>\n",
       "      <td>0</td>\n",
       "      <td>...</td>\n",
       "      <td>1</td>\n",
       "      <td>0</td>\n",
       "      <td>0</td>\n",
       "      <td>0</td>\n",
       "      <td>0</td>\n",
       "      <td>0</td>\n",
       "      <td>0</td>\n",
       "      <td>0</td>\n",
       "      <td>0</td>\n",
       "      <td>0</td>\n",
       "    </tr>\n",
       "    <tr>\n",
       "      <th>3</th>\n",
       "      <td>15</td>\n",
       "      <td>4</td>\n",
       "      <td>2</td>\n",
       "      <td>0</td>\n",
       "      <td>2</td>\n",
       "      <td>15</td>\n",
       "      <td>14</td>\n",
       "      <td>15</td>\n",
       "      <td>0</td>\n",
       "      <td>0</td>\n",
       "      <td>...</td>\n",
       "      <td>0</td>\n",
       "      <td>0</td>\n",
       "      <td>0</td>\n",
       "      <td>0</td>\n",
       "      <td>0</td>\n",
       "      <td>1</td>\n",
       "      <td>0</td>\n",
       "      <td>0</td>\n",
       "      <td>0</td>\n",
       "      <td>0</td>\n",
       "    </tr>\n",
       "    <tr>\n",
       "      <th>5</th>\n",
       "      <td>16</td>\n",
       "      <td>4</td>\n",
       "      <td>3</td>\n",
       "      <td>0</td>\n",
       "      <td>10</td>\n",
       "      <td>15</td>\n",
       "      <td>15</td>\n",
       "      <td>15</td>\n",
       "      <td>0</td>\n",
       "      <td>1</td>\n",
       "      <td>...</td>\n",
       "      <td>0</td>\n",
       "      <td>0</td>\n",
       "      <td>0</td>\n",
       "      <td>0</td>\n",
       "      <td>0</td>\n",
       "      <td>0</td>\n",
       "      <td>0</td>\n",
       "      <td>0</td>\n",
       "      <td>0</td>\n",
       "      <td>0</td>\n",
       "    </tr>\n",
       "    <tr>\n",
       "      <th>6</th>\n",
       "      <td>16</td>\n",
       "      <td>2</td>\n",
       "      <td>2</td>\n",
       "      <td>0</td>\n",
       "      <td>0</td>\n",
       "      <td>12</td>\n",
       "      <td>12</td>\n",
       "      <td>11</td>\n",
       "      <td>0</td>\n",
       "      <td>1</td>\n",
       "      <td>...</td>\n",
       "      <td>1</td>\n",
       "      <td>0</td>\n",
       "      <td>0</td>\n",
       "      <td>0</td>\n",
       "      <td>0</td>\n",
       "      <td>0</td>\n",
       "      <td>0</td>\n",
       "      <td>0</td>\n",
       "      <td>0</td>\n",
       "      <td>0</td>\n",
       "    </tr>\n",
       "    <tr>\n",
       "      <th>7</th>\n",
       "      <td>17</td>\n",
       "      <td>4</td>\n",
       "      <td>4</td>\n",
       "      <td>0</td>\n",
       "      <td>6</td>\n",
       "      <td>6</td>\n",
       "      <td>5</td>\n",
       "      <td>6</td>\n",
       "      <td>0</td>\n",
       "      <td>0</td>\n",
       "      <td>...</td>\n",
       "      <td>0</td>\n",
       "      <td>0</td>\n",
       "      <td>0</td>\n",
       "      <td>1</td>\n",
       "      <td>0</td>\n",
       "      <td>0</td>\n",
       "      <td>0</td>\n",
       "      <td>1</td>\n",
       "      <td>0</td>\n",
       "      <td>0</td>\n",
       "    </tr>\n",
       "  </tbody>\n",
       "</table>\n",
       "<p>5 rows × 64 columns</p>\n",
       "</div>"
      ],
      "text/plain": [
       "   age  Medu  Fedu  failures  absences  G1  G2  G3  school_MS  sex_M  ...  \\\n",
       "1   17     1     1         0         4   5   5   6          0      0  ...   \n",
       "3   15     4     2         0         2  15  14  15          0      0  ...   \n",
       "5   16     4     3         0        10  15  15  15          0      1  ...   \n",
       "6   16     2     2         0         0  12  12  11          0      1  ...   \n",
       "7   17     4     4         0         6   6   5   6          0      0  ...   \n",
       "\n",
       "   health_3  health_4  health_2  health_1  studytime_1  studytime_3  \\\n",
       "1         1         0         0         0            0            0   \n",
       "3         0         0         0         0            0            1   \n",
       "5         0         0         0         0            0            0   \n",
       "6         1         0         0         0            0            0   \n",
       "7         0         0         0         1            0            0   \n",
       "\n",
       "   studytime_4  traveltime_2  traveltime_3  traveltime_4  \n",
       "1            0             0             0             0  \n",
       "3            0             0             0             0  \n",
       "5            0             0             0             0  \n",
       "6            0             0             0             0  \n",
       "7            0             1             0             0  \n",
       "\n",
       "[5 rows x 64 columns]"
      ]
     },
     "execution_count": 8,
     "metadata": {},
     "output_type": "execute_result"
    }
   ],
   "source": [
    "df = nicos.get_dummies(df3)\n",
    "\n",
    "survey_columns = ['famrel', 'freetime', 'goout', 'Dalc', 'Walc', 'health', 'studytime', 'traveltime']\n",
    "df = nicos.get_dummies(df, columns=survey_columns)\n",
    "\n",
    "df.head(5)"
   ]
  },
  {
   "cell_type": "markdown",
   "metadata": {},
   "source": [
    "3) Descripción\n",
    "---"
   ]
  },
  {
   "cell_type": "markdown",
   "metadata": {},
   "source": [
    "### Análisis de valores perdidos"
   ]
  },
  {
   "cell_type": "markdown",
   "metadata": {},
   "source": [
    "Vamos a ver cómo se distribuyen los datos perdidos a lo largo del dataset:"
   ]
  },
  {
   "cell_type": "code",
   "execution_count": 9,
   "metadata": {
    "scrolled": false
   },
   "outputs": [
    {
     "data": {
      "image/png": "[encoded data removed]",
      "text/plain": [
       "<Figure size 1800x720 with 2 Axes>"
      ]
     },
     "metadata": {
      "needs_background": "light"
     },
     "output_type": "display_data"
    }
   ],
   "source": [
    "msngo.matrix(df3);"
   ]
  },
  {
   "cell_type": "code",
   "execution_count": 10,
   "metadata": {
    "scrolled": true
   },
   "outputs": [
    {
     "data": {
      "text/plain": [
       "schoolsup    8\n",
       "higher       6\n",
       "Pstatus      6\n",
       "Mjob         6\n",
       "nursery      6\n",
       "dtype: int64"
      ]
     },
     "execution_count": 10,
     "metadata": {},
     "output_type": "execute_result"
    }
   ],
   "source": [
    "df3.isna().sum().sort_values(ascending=False).head(5)"
   ]
  },
  {
   "cell_type": "markdown",
   "metadata": {},
   "source": [
    "En general son pocos los datos perdidos para cada columna, pero, como aparece en el gráfico anterior, están repartido en distintas observaciones.\n",
    "\n",
    "De hecho, si elimináramos las columnas con valores perdidos nos quedamos con un dataframe mucho más pequeño:"
   ]
  },
  {
   "cell_type": "code",
   "execution_count": 11,
   "metadata": {},
   "outputs": [
    {
     "name": "stdout",
     "output_type": "stream",
     "text": [
      "Perderíamos 111\n"
     ]
    }
   ],
   "source": [
    "print('Perderíamos', df3.shape[0] - df3.dropna().shape[0])"
   ]
  },
  {
   "cell_type": "markdown",
   "metadata": {},
   "source": [
    "Perderíamos cerca del 30% de datos. Sin embargo, debido a la distribución de datos perdidos, parece ser la mejor opción para así no interferir con los resultados del modelo.\n",
    "\n",
    "El dataframe final quedade la siguiente forma (obtenido en la sección anterior):"
   ]
  },
  {
   "cell_type": "code",
   "execution_count": 12,
   "metadata": {},
   "outputs": [
    {
     "data": {
      "text/html": [
       "<div>\n",
       "<style scoped>\n",
       "    .dataframe tbody tr th:only-of-type {\n",
       "        vertical-align: middle;\n",
       "    }\n",
       "\n",
       "    .dataframe tbody tr th {\n",
       "        vertical-align: top;\n",
       "    }\n",
       "\n",
       "    .dataframe thead th {\n",
       "        text-align: right;\n",
       "    }\n",
       "</style>\n",
       "<table border=\"1\" class=\"dataframe\">\n",
       "  <thead>\n",
       "    <tr style=\"text-align: right;\">\n",
       "      <th></th>\n",
       "      <th>age</th>\n",
       "      <th>Medu</th>\n",
       "      <th>Fedu</th>\n",
       "      <th>failures</th>\n",
       "      <th>absences</th>\n",
       "      <th>G1</th>\n",
       "      <th>G2</th>\n",
       "      <th>G3</th>\n",
       "      <th>school_MS</th>\n",
       "      <th>sex_M</th>\n",
       "      <th>...</th>\n",
       "      <th>health_3</th>\n",
       "      <th>health_4</th>\n",
       "      <th>health_2</th>\n",
       "      <th>health_1</th>\n",
       "      <th>studytime_1</th>\n",
       "      <th>studytime_3</th>\n",
       "      <th>studytime_4</th>\n",
       "      <th>traveltime_2</th>\n",
       "      <th>traveltime_3</th>\n",
       "      <th>traveltime_4</th>\n",
       "    </tr>\n",
       "  </thead>\n",
       "  <tbody>\n",
       "    <tr>\n",
       "      <th>1</th>\n",
       "      <td>17</td>\n",
       "      <td>1</td>\n",
       "      <td>1</td>\n",
       "      <td>0</td>\n",
       "      <td>4</td>\n",
       "      <td>5</td>\n",
       "      <td>5</td>\n",
       "      <td>6</td>\n",
       "      <td>0</td>\n",
       "      <td>0</td>\n",
       "      <td>...</td>\n",
       "      <td>1</td>\n",
       "      <td>0</td>\n",
       "      <td>0</td>\n",
       "      <td>0</td>\n",
       "      <td>0</td>\n",
       "      <td>0</td>\n",
       "      <td>0</td>\n",
       "      <td>0</td>\n",
       "      <td>0</td>\n",
       "      <td>0</td>\n",
       "    </tr>\n",
       "    <tr>\n",
       "      <th>3</th>\n",
       "      <td>15</td>\n",
       "      <td>4</td>\n",
       "      <td>2</td>\n",
       "      <td>0</td>\n",
       "      <td>2</td>\n",
       "      <td>15</td>\n",
       "      <td>14</td>\n",
       "      <td>15</td>\n",
       "      <td>0</td>\n",
       "      <td>0</td>\n",
       "      <td>...</td>\n",
       "      <td>0</td>\n",
       "      <td>0</td>\n",
       "      <td>0</td>\n",
       "      <td>0</td>\n",
       "      <td>0</td>\n",
       "      <td>1</td>\n",
       "      <td>0</td>\n",
       "      <td>0</td>\n",
       "      <td>0</td>\n",
       "      <td>0</td>\n",
       "    </tr>\n",
       "    <tr>\n",
       "      <th>5</th>\n",
       "      <td>16</td>\n",
       "      <td>4</td>\n",
       "      <td>3</td>\n",
       "      <td>0</td>\n",
       "      <td>10</td>\n",
       "      <td>15</td>\n",
       "      <td>15</td>\n",
       "      <td>15</td>\n",
       "      <td>0</td>\n",
       "      <td>1</td>\n",
       "      <td>...</td>\n",
       "      <td>0</td>\n",
       "      <td>0</td>\n",
       "      <td>0</td>\n",
       "      <td>0</td>\n",
       "      <td>0</td>\n",
       "      <td>0</td>\n",
       "      <td>0</td>\n",
       "      <td>0</td>\n",
       "      <td>0</td>\n",
       "      <td>0</td>\n",
       "    </tr>\n",
       "    <tr>\n",
       "      <th>6</th>\n",
       "      <td>16</td>\n",
       "      <td>2</td>\n",
       "      <td>2</td>\n",
       "      <td>0</td>\n",
       "      <td>0</td>\n",
       "      <td>12</td>\n",
       "      <td>12</td>\n",
       "      <td>11</td>\n",
       "      <td>0</td>\n",
       "      <td>1</td>\n",
       "      <td>...</td>\n",
       "      <td>1</td>\n",
       "      <td>0</td>\n",
       "      <td>0</td>\n",
       "      <td>0</td>\n",
       "      <td>0</td>\n",
       "      <td>0</td>\n",
       "      <td>0</td>\n",
       "      <td>0</td>\n",
       "      <td>0</td>\n",
       "      <td>0</td>\n",
       "    </tr>\n",
       "    <tr>\n",
       "      <th>7</th>\n",
       "      <td>17</td>\n",
       "      <td>4</td>\n",
       "      <td>4</td>\n",
       "      <td>0</td>\n",
       "      <td>6</td>\n",
       "      <td>6</td>\n",
       "      <td>5</td>\n",
       "      <td>6</td>\n",
       "      <td>0</td>\n",
       "      <td>0</td>\n",
       "      <td>...</td>\n",
       "      <td>0</td>\n",
       "      <td>0</td>\n",
       "      <td>0</td>\n",
       "      <td>1</td>\n",
       "      <td>0</td>\n",
       "      <td>0</td>\n",
       "      <td>0</td>\n",
       "      <td>1</td>\n",
       "      <td>0</td>\n",
       "      <td>0</td>\n",
       "    </tr>\n",
       "  </tbody>\n",
       "</table>\n",
       "<p>5 rows × 64 columns</p>\n",
       "</div>"
      ],
      "text/plain": [
       "   age  Medu  Fedu  failures  absences  G1  G2  G3  school_MS  sex_M  ...  \\\n",
       "1   17     1     1         0         4   5   5   6          0      0  ...   \n",
       "3   15     4     2         0         2  15  14  15          0      0  ...   \n",
       "5   16     4     3         0        10  15  15  15          0      1  ...   \n",
       "6   16     2     2         0         0  12  12  11          0      1  ...   \n",
       "7   17     4     4         0         6   6   5   6          0      0  ...   \n",
       "\n",
       "   health_3  health_4  health_2  health_1  studytime_1  studytime_3  \\\n",
       "1         1         0         0         0            0            0   \n",
       "3         0         0         0         0            0            1   \n",
       "5         0         0         0         0            0            0   \n",
       "6         1         0         0         0            0            0   \n",
       "7         0         0         0         1            0            0   \n",
       "\n",
       "   studytime_4  traveltime_2  traveltime_3  traveltime_4  \n",
       "1            0             0             0             0  \n",
       "3            0             0             0             0  \n",
       "5            0             0             0             0  \n",
       "6            0             0             0             0  \n",
       "7            0             1             0             0  \n",
       "\n",
       "[5 rows x 64 columns]"
      ]
     },
     "execution_count": 12,
     "metadata": {},
     "output_type": "execute_result"
    }
   ],
   "source": [
    "df.head(5)"
   ]
  },
  {
   "cell_type": "code",
   "execution_count": 13,
   "metadata": {
    "scrolled": true
   },
   "outputs": [
    {
     "name": "stdout",
     "output_type": "stream",
     "text": [
      "<class 'pandas.core.frame.DataFrame'>\n",
      "Int64Index: 284 entries, 1 to 394\n",
      "Data columns (total 64 columns):\n",
      "age                  284 non-null int64\n",
      "Medu                 284 non-null int64\n",
      "Fedu                 284 non-null int64\n",
      "failures             284 non-null int64\n",
      "absences             284 non-null int64\n",
      "G1                   284 non-null int64\n",
      "G2                   284 non-null int64\n",
      "G3                   284 non-null int64\n",
      "school_MS            284 non-null int64\n",
      "sex_M                284 non-null int64\n",
      "address_R            284 non-null int64\n",
      "famsize_LE3          284 non-null int64\n",
      "Pstatus_A            284 non-null int64\n",
      "Mjob_services        284 non-null int64\n",
      "Mjob_teacher         284 non-null int64\n",
      "Mjob_at_home         284 non-null int64\n",
      "Mjob_health          284 non-null int64\n",
      "Fjob_services        284 non-null int64\n",
      "Fjob_teacher         284 non-null int64\n",
      "Fjob_health          284 non-null int64\n",
      "Fjob_at_home         284 non-null int64\n",
      "reason_home          284 non-null int64\n",
      "reason_reputation    284 non-null int64\n",
      "reason_other         284 non-null int64\n",
      "guardian_father      284 non-null int64\n",
      "guardian_other       284 non-null int64\n",
      "schoolsup_yes        284 non-null int64\n",
      "famsup_no            284 non-null int64\n",
      "paid_yes             284 non-null int64\n",
      "activities_no        284 non-null int64\n",
      "nursery_no           284 non-null int64\n",
      "higher_no            284 non-null int64\n",
      "internet_no          284 non-null int64\n",
      "romantic_yes         284 non-null int64\n",
      "famrel_5             284 non-null int64\n",
      "famrel_3             284 non-null int64\n",
      "famrel_2             284 non-null int64\n",
      "famrel_1             284 non-null int64\n",
      "freetime_4           284 non-null int64\n",
      "freetime_2           284 non-null int64\n",
      "freetime_5           284 non-null int64\n",
      "freetime_1           284 non-null int64\n",
      "goout_2              284 non-null int64\n",
      "goout_4              284 non-null int64\n",
      "goout_5              284 non-null int64\n",
      "goout_1              284 non-null int64\n",
      "Dalc_2               284 non-null int64\n",
      "Dalc_3               284 non-null int64\n",
      "Dalc_4               284 non-null int64\n",
      "Dalc_5               284 non-null int64\n",
      "Walc_2               284 non-null int64\n",
      "Walc_3               284 non-null int64\n",
      "Walc_4               284 non-null int64\n",
      "Walc_5               284 non-null int64\n",
      "health_3             284 non-null int64\n",
      "health_4             284 non-null int64\n",
      "health_2             284 non-null int64\n",
      "health_1             284 non-null int64\n",
      "studytime_1          284 non-null int64\n",
      "studytime_3          284 non-null int64\n",
      "studytime_4          284 non-null int64\n",
      "traveltime_2         284 non-null int64\n",
      "traveltime_3         284 non-null int64\n",
      "traveltime_4         284 non-null int64\n",
      "dtypes: int64(64)\n",
      "memory usage: 144.2 KB\n"
     ]
    }
   ],
   "source": [
    "df.info()"
   ]
  },
  {
   "cell_type": "markdown",
   "metadata": {},
   "source": [
    "### Análisis descriptivo"
   ]
  },
  {
   "cell_type": "markdown",
   "metadata": {},
   "source": [
    "Ahora veremos un análisis descriptivo de las variables del dataset. \n",
    "\n",
    "Para esto, utilizaré el dataframe `df3` (aunque sin datos perdidos) el cual es igual al los datos original pero sin variables binarizadas. Esto es por facilidad para graficar la información."
   ]
  },
  {
   "cell_type": "code",
   "execution_count": 14,
   "metadata": {},
   "outputs": [],
   "source": [
    "data = df3.dropna().infer_objects()"
   ]
  },
  {
   "cell_type": "markdown",
   "metadata": {},
   "source": [
    "#### Inspección visual vector objetivo"
   ]
  },
  {
   "cell_type": "code",
   "execution_count": 15,
   "metadata": {
    "scrolled": false
   },
   "outputs": [
    {
     "data": {
      "image/png": "[encoded data removed]",
      "text/plain": [
       "<Figure size 1080x360 with 3 Axes>"
      ]
     },
     "metadata": {
      "needs_background": "light"
     },
     "output_type": "display_data"
    }
   ],
   "source": [
    "nicos.plot_columns_behaviour(data[['G1', 'G2', 'G3']], kind='numeric')"
   ]
  },
  {
   "cell_type": "markdown",
   "metadata": {},
   "source": [
    "La media y la mediana en todos los vectores objetivos se ve muy similar, exceptuando el promedio final donde la frecuencia de promedios con 0 es mayor.\n",
    "\n",
    "Para el promedio inicial, no hay observaciones con 0. Pero en el segundo semestre la frecuencia aumenta a 3% mientras que para el promedio final ésta se encuentra cercana a 6%."
   ]
  },
  {
   "cell_type": "markdown",
   "metadata": {},
   "source": [
    "#### Inspeción visual de Variables"
   ]
  },
  {
   "cell_type": "code",
   "execution_count": 16,
   "metadata": {
    "scrolled": false
   },
   "outputs": [
    {
     "data": {
      "image/png": "[encoded data removed]",
      "text/plain": [
       "<Figure size 1080x360 with 1 Axes>"
      ]
     },
     "metadata": {
      "needs_background": "light"
     },
     "output_type": "display_data"
    }
   ],
   "source": [
    "nicos.plot_columns_behaviour(data[['absences']], kind='numeric')"
   ]
  },
  {
   "cell_type": "markdown",
   "metadata": {},
   "source": [
    "La cantidad de ausencias escolares se parece más a una expotencial, donde existen muchos alumnos sin ausencias, y a medida que aumentamos la cantidad de ausencias, la frecuencia disminuye considerablemente."
   ]
  },
  {
   "cell_type": "code",
   "execution_count": 17,
   "metadata": {},
   "outputs": [
    {
     "data": {
      "image/png": "[encoded data removed]",
      "text/plain": [
       "<Figure size 1080x360 with 1 Axes>"
      ]
     },
     "metadata": {
      "needs_background": "light"
     },
     "output_type": "display_data"
    }
   ],
   "source": [
    "nicos.plot_columns_behaviour(data[['age']])"
   ]
  },
  {
   "cell_type": "markdown",
   "metadata": {},
   "source": [
    "La edad si bien es numérica, queda mejor graficada con un `countplot` que con un histograma debido a que la cantidad de edades es bajo. \n",
    "\n",
    "Aquí la mayoría de alumnos tiene entre 15 y 18 años, mientras que unos pocos tienen edad 19 o más (los que probablemente hayan repetido alguna vez)"
   ]
  },
  {
   "cell_type": "code",
   "execution_count": 18,
   "metadata": {},
   "outputs": [
    {
     "data": {
      "image/png": "[encoded data removed]",
      "text/plain": [
       "<Figure size 432x288 with 1 Axes>"
      ]
     },
     "metadata": {
      "needs_background": "light"
     },
     "output_type": "display_data"
    }
   ],
   "source": [
    "pd.concat([data['Mjob'].value_counts('%').to_frame(), data['Fjob'].value_counts('%').to_frame()], axis=1).plot.bar();"
   ]
  },
  {
   "cell_type": "markdown",
   "metadata": {},
   "source": [
    "Comparativamente, las madres son las que mayoritariamente están en la casa (triplican la frecuencia comparado con los padres) y que trabajan principalmente en como profesoras o en algo relacionado a la salud (duplican en frecuencia comparado con los padres). Como la categoría de servicios está balanceada, los padres restantes están trabajando en otros tipos de trabajos."
   ]
  },
  {
   "cell_type": "code",
   "execution_count": 19,
   "metadata": {},
   "outputs": [
    {
     "data": {
      "image/png": "[encoded data removed]",
      "text/plain": [
       "<Figure size 1080x360 with 2 Axes>"
      ]
     },
     "metadata": {
      "needs_background": "light"
     },
     "output_type": "display_data"
    }
   ],
   "source": [
    "nicos.plot_columns_behaviour(data[['guardian', 'reason']])"
   ]
  },
  {
   "cell_type": "markdown",
   "metadata": {},
   "source": [
    "La mayoría de apoderados son las madres, superando enormemente a las categorías de padre y de otros.\n",
    "\n",
    "La razón para escoger la escuela está balanceado. La preferencia de cursos está en primer lugar, mientras que la reputación de la escuela y la cercanía con la casa están muy parecidas."
   ]
  },
  {
   "cell_type": "code",
   "execution_count": 20,
   "metadata": {},
   "outputs": [
    {
     "data": {
      "image/png": "[encoded data removed]",
      "text/plain": [
       "<Figure size 1080x1800 with 13 Axes>"
      ]
     },
     "metadata": {
      "needs_background": "light"
     },
     "output_type": "display_data"
    }
   ],
   "source": [
    "binary_columns = []\n",
    "\n",
    "for col_name, col in data.iteritems():\n",
    "    if col.value_counts().count() == 2:\n",
    "        binary_columns.append(col_name)\n",
    "\n",
    "nicos.plot_columns_behaviour(data[binary_columns])"
   ]
  },
  {
   "cell_type": "markdown",
   "metadata": {},
   "source": [
    "En cuanto a las variables binarias, hay variables que están o muy balanceadas o muy desbalanceadas.\n",
    "\n",
    "**Balanceadas**:\n",
    "    \n",
    "- Apoyo educacional familiar\n",
    "- Clases particulares\n",
    "- Actividades extracurriculares\n",
    "- Sexo el estudiante\n",
    "\n",
    "Para cada una de estas variables, aproximadamente la mitad de observaciones son `si` y la otra mitad son `no`.\n",
    "\n",
    "**No balanceadas**:\n",
    "\n",
    "- Apoyo educacional en el colegio: son pocos los que dicen haber tenido apoyo.\n",
    "- Asistió a guardería infantil: la mayoría si asistió a guardería\n",
    "- Desea proseguir estudios superiores: la mayoría desea proseguir con estudios superiores\n",
    "- Acceso a internet desde el hogar: la mayoría tiene acceso a internet\n",
    "- Relación romántica: la mayoría no tiene relaciones románticas\n",
    "- Escuela del estudiante: la mayoría de las observaciones son de la escuela Gabriel Pereira\n",
    "- Ubicación casa del estudiante: la mayoría está en zonas urbanas\n",
    "- Tamaño de la familia: la mayoría vive con familia de tamaño mayor o igual a 3\n",
    "- Estado cohabitacional de los padres: la mayoría de los padres de los estudiantes viven juntos"
   ]
  },
  {
   "cell_type": "code",
   "execution_count": 21,
   "metadata": {},
   "outputs": [
    {
     "data": {
      "image/png": "[encoded data removed]",
      "text/plain": [
       "<Figure size 432x288 with 1 Axes>"
      ]
     },
     "metadata": {
      "needs_background": "light"
     },
     "output_type": "display_data"
    }
   ],
   "source": [
    "pd.concat([data['Medu'].value_counts('%').to_frame(), data['Fedu'].value_counts('%').to_frame()], axis=1).plot.bar();"
   ]
  },
  {
   "cell_type": "markdown",
   "metadata": {},
   "source": [
    "Porcentualmente, las madres de los alumnos tienen un mayor nivel educacional en comparación a los padres."
   ]
  },
  {
   "cell_type": "code",
   "execution_count": 22,
   "metadata": {
    "scrolled": true
   },
   "outputs": [
    {
     "data": {
      "image/png": "[encoded data removed]",
      "text/plain": [
       "<Figure size 432x288 with 1 Axes>"
      ]
     },
     "metadata": {
      "needs_background": "light"
     },
     "output_type": "display_data"
    }
   ],
   "source": [
    "value_count_dfs = [data[x].value_counts().to_frame() for x in ['traveltime', 'studytime', 'freetime']]\n",
    "pd.concat(value_count_dfs, axis=1).plot.bar();"
   ]
  },
  {
   "cell_type": "markdown",
   "metadata": {},
   "source": [
    "- La mayoría de alumnos considera que tiene mucho tiempo libre\n",
    "- La mayoría de alumnos considera que el tiempo de viaje al colegio es poco (< 15 minutos)\n",
    "- La mayoría de alumnos considera que estudia poco (<3 horas)"
   ]
  },
  {
   "cell_type": "code",
   "execution_count": 23,
   "metadata": {},
   "outputs": [
    {
     "data": {
      "image/png": "[encoded data removed]",
      "text/plain": [
       "<Figure size 432x288 with 2 Axes>"
      ]
     },
     "metadata": {
      "needs_background": "light"
     },
     "output_type": "display_data"
    }
   ],
   "source": [
    "sns.heatmap(data[['traveltime', 'studytime', 'freetime']].corr(), annot=True);"
   ]
  },
  {
   "cell_type": "markdown",
   "metadata": {},
   "source": [
    "Viendo las correlaciones entre estas tres, en realidad se ve una baja correlación entre estas variables. Cabe destacar que si bien hay poca, entre todas es negativa (mayor tiempo de viaje, menor tiempo de estudio)."
   ]
  },
  {
   "cell_type": "code",
   "execution_count": 24,
   "metadata": {},
   "outputs": [
    {
     "data": {
      "image/png": "[encoded data removed]",
      "text/plain": [
       "<Figure size 1080x720 with 6 Axes>"
      ]
     },
     "metadata": {
      "needs_background": "light"
     },
     "output_type": "display_data"
    }
   ],
   "source": [
    "rest_of_colums = [\n",
    "    'failures',\n",
    "    'famrel',\n",
    "    'goout',\n",
    "    'Dalc',\n",
    "    'Walc',\n",
    "    'health',\n",
    "]\n",
    "\n",
    "nicos.plot_columns_behaviour(data[rest_of_colums])"
   ]
  },
  {
   "cell_type": "markdown",
   "metadata": {},
   "source": [
    "- Si bien la mayoría de los alumnos no toma alcohol durante la semana, la distribución cambia cuando vemos el consumo de alchool los fines de semana.\n",
    "- En cuanto a salud, la mayoría indica estar bien\n",
    "- Las salidas con alumnos se ve que distribuye normal\n",
    "- El número de clases reprobadas para la mayoría es 0\n",
    "- La mayoría dice tener buenas relaciones familiares\n",
    "\n",
    "La matriz de correlación entre las variables que tienen que ver con el consumo de alcohol:"
   ]
  },
  {
   "cell_type": "code",
   "execution_count": 25,
   "metadata": {},
   "outputs": [
    {
     "data": {
      "image/png": "[encoded data removed]",
      "text/plain": [
       "<Figure size 432x288 with 2 Axes>"
      ]
     },
     "metadata": {
      "needs_background": "light"
     },
     "output_type": "display_data"
    }
   ],
   "source": [
    "sns.heatmap(data[rest_of_colums].corr(), annot=True);"
   ]
  },
  {
   "cell_type": "markdown",
   "metadata": {},
   "source": [
    "Al ver las correlaciones más altas podemos decir que:\n",
    "\n",
    "- La correlación entre consumo de alchool en la semana y el fin de semana es > 0.5, lo cual tiene sentido pues alguien que toma en la semana es probable que también tome el fin de semana.\n",
    "- Las salidas con amigos pueden influir en un aumento en de consumo de alchool, sobretodo los fin de semana (aunque la correlación es < 0.5)\n",
    "\n",
    "De estas correlaciones, la más significativa es consumo de alcohol en la semana y el fin de semana.\n",
    "\n",
    "Si vemos los promedios de estas variables:"
   ]
  },
  {
   "cell_type": "code",
   "execution_count": 26,
   "metadata": {},
   "outputs": [
    {
     "data": {
      "image/png": "[encoded data removed]",
      "text/plain": [
       "<Figure size 432x288 with 1 Axes>"
      ]
     },
     "metadata": {
      "needs_background": "light"
     },
     "output_type": "display_data"
    }
   ],
   "source": [
    "variable = []\n",
    "mean = []\n",
    "\n",
    "for colname, serie in data[rest_of_colums].iteritems():\n",
    "    variable.append(nicos.humanize(colname))\n",
    "    mean.append(serie.mean())\n",
    "\n",
    "df_mean = pd.DataFrame({'var':variable, 'mean': mean}).sort_values(by=['mean'])\n",
    "plt.plot(df_mean['mean'], df_mean['var'],'o');"
   ]
  },
  {
   "cell_type": "markdown",
   "metadata": {},
   "source": [
    "Un sujeto promedio tendería a tener \"buenos\" indicadores: buena relación con los familiares, buen estado de salud actal, salidas con amigos, bajo consumo de alcohol durante la semana, sin clases reprobadas y un consumo moderado de alcohol el fin de semana."
   ]
  },
  {
   "cell_type": "markdown",
   "metadata": {},
   "source": [
    "#### Inspección visual de coreaciones entre vector objetivo y otras variables"
   ]
  },
  {
   "cell_type": "markdown",
   "metadata": {},
   "source": [
    "Las principales correlaciones (a nivel global) las podemos ver en la siguiente imagen:"
   ]
  },
  {
   "cell_type": "code",
   "execution_count": 27,
   "metadata": {
    "scrolled": false
   },
   "outputs": [
    {
     "data": {
      "image/png": "[encoded data removed]",
      "text/plain": [
       "<Figure size 1080x360 with 2 Axes>"
      ]
     },
     "metadata": {
      "needs_background": "light"
     },
     "output_type": "display_data"
    }
   ],
   "source": [
    "nicos.plot_main_correlations(data[numeric], 0.4)"
   ]
  },
  {
   "cell_type": "markdown",
   "metadata": {},
   "source": [
    "Nada fuera de lo común:\n",
    "\n",
    "- Hay una alta correlación entre G2 y G3, así como entre G1 y G2. La nota final debería depender de la nota de los dos primeros semestres.\n",
    "- Existe una correlación entre nivel educacional de los padres y madres.\n",
    "- Como vimos anteriormente, existe correlación entre beber alcohol en la semana y los fin de semanas, así como también salir con amigos con beber alchohol."
   ]
  },
  {
   "cell_type": "markdown",
   "metadata": {},
   "source": [
    "Mientras que las correlaciones más pequeñas (respecto a las notas) son:"
   ]
  },
  {
   "cell_type": "code",
   "execution_count": 28,
   "metadata": {},
   "outputs": [
    {
     "data": {
      "text/html": [
       "<div>\n",
       "<style scoped>\n",
       "    .dataframe tbody tr th:only-of-type {\n",
       "        vertical-align: middle;\n",
       "    }\n",
       "\n",
       "    .dataframe tbody tr th {\n",
       "        vertical-align: top;\n",
       "    }\n",
       "\n",
       "    .dataframe thead th {\n",
       "        text-align: right;\n",
       "    }\n",
       "</style>\n",
       "<table border=\"1\" class=\"dataframe\">\n",
       "  <thead>\n",
       "    <tr style=\"text-align: right;\">\n",
       "      <th></th>\n",
       "      <th>G1</th>\n",
       "      <th>G2</th>\n",
       "      <th>G3</th>\n",
       "    </tr>\n",
       "  </thead>\n",
       "  <tbody>\n",
       "    <tr>\n",
       "      <th>age</th>\n",
       "      <td>-0.042289</td>\n",
       "      <td>NaN</td>\n",
       "      <td>NaN</td>\n",
       "    </tr>\n",
       "    <tr>\n",
       "      <th>traveltime</th>\n",
       "      <td>-0.078746</td>\n",
       "      <td>NaN</td>\n",
       "      <td>-0.091532</td>\n",
       "    </tr>\n",
       "    <tr>\n",
       "      <th>studytime</th>\n",
       "      <td>NaN</td>\n",
       "      <td>0.092907</td>\n",
       "      <td>0.066506</td>\n",
       "    </tr>\n",
       "    <tr>\n",
       "      <th>famrel</th>\n",
       "      <td>0.033950</td>\n",
       "      <td>-0.003285</td>\n",
       "      <td>0.069963</td>\n",
       "    </tr>\n",
       "    <tr>\n",
       "      <th>freetime</th>\n",
       "      <td>0.026875</td>\n",
       "      <td>0.011904</td>\n",
       "      <td>0.037968</td>\n",
       "    </tr>\n",
       "    <tr>\n",
       "      <th>Dalc</th>\n",
       "      <td>-0.080415</td>\n",
       "      <td>-0.061280</td>\n",
       "      <td>-0.052820</td>\n",
       "    </tr>\n",
       "    <tr>\n",
       "      <th>Walc</th>\n",
       "      <td>NaN</td>\n",
       "      <td>-0.079485</td>\n",
       "      <td>-0.033601</td>\n",
       "    </tr>\n",
       "    <tr>\n",
       "      <th>absences</th>\n",
       "      <td>-0.055033</td>\n",
       "      <td>-0.056140</td>\n",
       "      <td>0.013487</td>\n",
       "    </tr>\n",
       "  </tbody>\n",
       "</table>\n",
       "</div>"
      ],
      "text/plain": [
       "                  G1        G2        G3\n",
       "age        -0.042289       NaN       NaN\n",
       "traveltime -0.078746       NaN -0.091532\n",
       "studytime        NaN  0.092907  0.066506\n",
       "famrel      0.033950 -0.003285  0.069963\n",
       "freetime    0.026875  0.011904  0.037968\n",
       "Dalc       -0.080415 -0.061280 -0.052820\n",
       "Walc             NaN -0.079485 -0.033601\n",
       "absences   -0.055033 -0.056140  0.013487"
      ]
     },
     "execution_count": 28,
     "metadata": {},
     "output_type": "execute_result"
    }
   ],
   "source": [
    "M = data[numeric].corr()\n",
    "threshold = 0.1\n",
    "worst_corr = M[((M < threshold) & (M > -threshold))\n",
    "              ].dropna(axis=0, how='all').dropna(axis=1, how='all')\n",
    "worst_corr[['G1', 'G2', 'G3']].dropna(how='all')"
   ]
  },
  {
   "cell_type": "markdown",
   "metadata": {},
   "source": [
    "**¿Cómo varía el vector objetivo con las variables categóricas o binarias?**\n",
    "\n",
    "Los siguientes gráficos muestran la distribución de cada nota en distintos grupos para las variables binarias pero sólo se muestran cuando existe suficiencia estadística para rechazar la hipótesis nula de que las medias son iguales en ambos grupos.\n",
    "\n",
    "Usamos ahora el dataset que tenemos con todas las variables binarizadas:"
   ]
  },
  {
   "cell_type": "code",
   "execution_count": 29,
   "metadata": {
    "scrolled": false
   },
   "outputs": [
    {
     "data": {
      "image/png": "[encoded data removed]",
      "text/plain": [
       "<Figure size 432x288 with 1 Axes>"
      ]
     },
     "metadata": {
      "needs_background": "light"
     },
     "output_type": "display_data"
    },
    {
     "data": {
      "image/png": "[encoded data removed]",
      "text/plain": [
       "<Figure size 432x288 with 1 Axes>"
      ]
     },
     "metadata": {
      "needs_background": "light"
     },
     "output_type": "display_data"
    },
    {
     "data": {
      "image/png": "[encoded data removed]",
      "text/plain": [
       "<Figure size 432x288 with 1 Axes>"
      ]
     },
     "metadata": {
      "needs_background": "light"
     },
     "output_type": "display_data"
    },
    {
     "data": {
      "image/png": "[encoded data removed]",
      "text/plain": [
       "<Figure size 432x288 with 1 Axes>"
      ]
     },
     "metadata": {
      "needs_background": "light"
     },
     "output_type": "display_data"
    },
    {
     "data": {
      "image/png": "[encoded data removed]",
      "text/plain": [
       "<Figure size 432x288 with 1 Axes>"
      ]
     },
     "metadata": {
      "needs_background": "light"
     },
     "output_type": "display_data"
    },
    {
     "data": {
      "image/png": "[encoded data removed]",
      "text/plain": [
       "<Figure size 432x288 with 1 Axes>"
      ]
     },
     "metadata": {
      "needs_background": "light"
     },
     "output_type": "display_data"
    },
    {
     "data": {
      "image/png": "[encoded data removed]",
      "text/plain": [
       "<Figure size 432x288 with 1 Axes>"
      ]
     },
     "metadata": {
      "needs_background": "light"
     },
     "output_type": "display_data"
    },
    {
     "data": {
      "image/png": "[encoded data removed]",
      "text/plain": [
       "<Figure size 432x288 with 1 Axes>"
      ]
     },
     "metadata": {
      "needs_background": "light"
     },
     "output_type": "display_data"
    },
    {
     "data": {
      "image/png": "[encoded data removed]",
      "text/plain": [
       "<Figure size 432x288 with 1 Axes>"
      ]
     },
     "metadata": {
      "needs_background": "light"
     },
     "output_type": "display_data"
    },
    {
     "data": {
      "image/png": "[encoded data removed]",
      "text/plain": [
       "<Figure size 432x288 with 1 Axes>"
      ]
     },
     "metadata": {
      "needs_background": "light"
     },
     "output_type": "display_data"
    }
   ],
   "source": [
    "for grades in ['G1', 'G2', 'G3']:\n",
    "    for binary in df.loc[:, 'school_MS': 'romantic_yes']:\n",
    "        different_mean = nicos.run_hip_test(df, grades, binary)\n",
    "        if different_mean:\n",
    "            nicos.graph_hist(df, grades, binary)"
   ]
  },
  {
   "cell_type": "markdown",
   "metadata": {},
   "source": [
    "**Observaciones**:\n",
    "\n",
    "- Al parecer los alumnos que viven en zonas urbanas tienen mejor promedio en comparación con los que no viven en zonas urbanas.\n",
    "- Los alumnos que quieren continuar con estudios superiores tienen mejor promedio en comparación con los que no.\n",
    "- Por alguna razón, el promedio de la nota en el grupo de alumnos que prefirió un colegio por cursos es menor que en el resto.\n",
    "- Los alumnos que dicen tener apoyo de la escuela tienen mayor promedio."
   ]
  },
  {
   "cell_type": "markdown",
   "metadata": {},
   "source": [
    "**¿Cómo se ven las principales correlaciones en el conjunto completo?**"
   ]
  },
  {
   "cell_type": "code",
   "execution_count": 30,
   "metadata": {},
   "outputs": [
    {
     "data": {
      "image/png": "[encoded data removed]",
      "text/plain": [
       "<Figure size 1080x360 with 2 Axes>"
      ]
     },
     "metadata": {
      "needs_background": "light"
     },
     "output_type": "display_data"
    }
   ],
   "source": [
    "nicos.plot_main_correlations(df)"
   ]
  },
  {
   "cell_type": "markdown",
   "metadata": {},
   "source": [
    "No se ve ninguna correlación importante para las notas, aunque muchos de los atributos son `boolean` (la correlación de Pearson no funciona muy bien en este caso)."
   ]
  },
  {
   "cell_type": "markdown",
   "metadata": {},
   "source": [
    "4) Modelación descriptiva\n",
    "---"
   ]
  },
  {
   "cell_type": "markdown",
   "metadata": {},
   "source": [
    "### Modelación de regresión"
   ]
  },
  {
   "cell_type": "markdown",
   "metadata": {},
   "source": [
    "El siguiente código crea para cada vector objetivo modelos de regresión iterando 3 veces sobre los regresores menos significativos. El primer modelo es el saturado, luego se quitan del modelo los regresores que no son significativos al 95%, y así sucesivamente."
   ]
  },
  {
   "cell_type": "code",
   "execution_count": 31,
   "metadata": {},
   "outputs": [],
   "source": [
    "models = {}\n",
    "targets = ['G1', 'G2', 'G3']\n",
    "iterations = 3\n",
    "\n",
    "for target in targets:\n",
    "    banned_coefs = []\n",
    "    for i in range(1, iterations + 1):\n",
    "        model = nicos.build_model(df, 'ols', target, *targets, *banned_coefs).fit()\n",
    "        worst_p_values = list(nicos.not_significant_pvalues(model).index)\n",
    "        for coef in worst_p_values:\n",
    "            banned_coefs.append(coef)\n",
    "        models[target + '_' + str(i)] = model"
   ]
  },
  {
   "cell_type": "markdown",
   "metadata": {},
   "source": [
    "A continuación veremos los resultados de los modelos depurados para cada nota:"
   ]
  },
  {
   "cell_type": "code",
   "execution_count": 32,
   "metadata": {},
   "outputs": [
    {
     "data": {
      "text/html": [
       "<table class=\"simpletable\">\n",
       "<caption>OLS Regression Results</caption>\n",
       "<tr>\n",
       "  <th>Dep. Variable:</th>           <td>G1</td>        <th>  R-squared:         </th> <td>   0.207</td>\n",
       "</tr>\n",
       "<tr>\n",
       "  <th>Model:</th>                   <td>OLS</td>       <th>  Adj. R-squared:    </th> <td>   0.193</td>\n",
       "</tr>\n",
       "<tr>\n",
       "  <th>Method:</th>             <td>Least Squares</td>  <th>  F-statistic:       </th> <td>   14.52</td>\n",
       "</tr>\n",
       "<tr>\n",
       "  <th>Date:</th>             <td>Thu, 25 Jul 2019</td> <th>  Prob (F-statistic):</th> <td>1.21e-12</td>\n",
       "</tr>\n",
       "<tr>\n",
       "  <th>Time:</th>                 <td>23:23:57</td>     <th>  Log-Likelihood:    </th> <td> -707.68</td>\n",
       "</tr>\n",
       "<tr>\n",
       "  <th>No. Observations:</th>      <td>   284</td>      <th>  AIC:               </th> <td>   1427.</td>\n",
       "</tr>\n",
       "<tr>\n",
       "  <th>Df Residuals:</th>          <td>   278</td>      <th>  BIC:               </th> <td>   1449.</td>\n",
       "</tr>\n",
       "<tr>\n",
       "  <th>Df Model:</th>              <td>     5</td>      <th>                     </th>     <td> </td>   \n",
       "</tr>\n",
       "<tr>\n",
       "  <th>Covariance Type:</th>      <td>nonrobust</td>    <th>                     </th>     <td> </td>   \n",
       "</tr>\n",
       "</table>\n",
       "<table class=\"simpletable\">\n",
       "<tr>\n",
       "        <td></td>           <th>coef</th>     <th>std err</th>      <th>t</th>      <th>P>|t|</th>  <th>[0.025</th>    <th>0.975]</th>  \n",
       "</tr>\n",
       "<tr>\n",
       "  <th>Intercept</th>     <td>   11.2031</td> <td>    0.237</td> <td>   47.292</td> <td> 0.000</td> <td>   10.737</td> <td>   11.669</td>\n",
       "</tr>\n",
       "<tr>\n",
       "  <th>failures</th>      <td>   -1.4815</td> <td>    0.243</td> <td>   -6.107</td> <td> 0.000</td> <td>   -1.959</td> <td>   -1.004</td>\n",
       "</tr>\n",
       "<tr>\n",
       "  <th>Fjob_teacher</th>  <td>    1.9168</td> <td>    0.673</td> <td>    2.850</td> <td> 0.005</td> <td>    0.593</td> <td>    3.241</td>\n",
       "</tr>\n",
       "<tr>\n",
       "  <th>schoolsup_yes</th> <td>   -1.9942</td> <td>    0.516</td> <td>   -3.862</td> <td> 0.000</td> <td>   -3.011</td> <td>   -0.978</td>\n",
       "</tr>\n",
       "<tr>\n",
       "  <th>freetime_5</th>    <td>    1.6350</td> <td>    0.587</td> <td>    2.783</td> <td> 0.006</td> <td>    0.479</td> <td>    2.791</td>\n",
       "</tr>\n",
       "<tr>\n",
       "  <th>studytime_3</th>   <td>    1.0230</td> <td>    0.462</td> <td>    2.214</td> <td> 0.028</td> <td>    0.113</td> <td>    1.933</td>\n",
       "</tr>\n",
       "</table>\n",
       "<table class=\"simpletable\">\n",
       "<tr>\n",
       "  <th>Omnibus:</th>       <td> 6.728</td> <th>  Durbin-Watson:     </th> <td>   1.986</td>\n",
       "</tr>\n",
       "<tr>\n",
       "  <th>Prob(Omnibus):</th> <td> 0.035</td> <th>  Jarque-Bera (JB):  </th> <td>   4.708</td>\n",
       "</tr>\n",
       "<tr>\n",
       "  <th>Skew:</th>          <td> 0.177</td> <th>  Prob(JB):          </th> <td>  0.0950</td>\n",
       "</tr>\n",
       "<tr>\n",
       "  <th>Kurtosis:</th>      <td> 2.478</td> <th>  Cond. No.          </th> <td>    4.33</td>\n",
       "</tr>\n",
       "</table><br/><br/>Warnings:<br/>[1] Standard Errors assume that the covariance matrix of the errors is correctly specified."
      ],
      "text/plain": [
       "<class 'statsmodels.iolib.summary.Summary'>\n",
       "\"\"\"\n",
       "                            OLS Regression Results                            \n",
       "==============================================================================\n",
       "Dep. Variable:                     G1   R-squared:                       0.207\n",
       "Model:                            OLS   Adj. R-squared:                  0.193\n",
       "Method:                 Least Squares   F-statistic:                     14.52\n",
       "Date:                Thu, 25 Jul 2019   Prob (F-statistic):           1.21e-12\n",
       "Time:                        23:23:57   Log-Likelihood:                -707.68\n",
       "No. Observations:                 284   AIC:                             1427.\n",
       "Df Residuals:                     278   BIC:                             1449.\n",
       "Df Model:                           5                                         \n",
       "Covariance Type:            nonrobust                                         \n",
       "=================================================================================\n",
       "                    coef    std err          t      P>|t|      [0.025      0.975]\n",
       "---------------------------------------------------------------------------------\n",
       "Intercept        11.2031      0.237     47.292      0.000      10.737      11.669\n",
       "failures         -1.4815      0.243     -6.107      0.000      -1.959      -1.004\n",
       "Fjob_teacher      1.9168      0.673      2.850      0.005       0.593       3.241\n",
       "schoolsup_yes    -1.9942      0.516     -3.862      0.000      -3.011      -0.978\n",
       "freetime_5        1.6350      0.587      2.783      0.006       0.479       2.791\n",
       "studytime_3       1.0230      0.462      2.214      0.028       0.113       1.933\n",
       "==============================================================================\n",
       "Omnibus:                        6.728   Durbin-Watson:                   1.986\n",
       "Prob(Omnibus):                  0.035   Jarque-Bera (JB):                4.708\n",
       "Skew:                           0.177   Prob(JB):                       0.0950\n",
       "Kurtosis:                       2.478   Cond. No.                         4.33\n",
       "==============================================================================\n",
       "\n",
       "Warnings:\n",
       "[1] Standard Errors assume that the covariance matrix of the errors is correctly specified.\n",
       "\"\"\""
      ]
     },
     "execution_count": 32,
     "metadata": {},
     "output_type": "execute_result"
    }
   ],
   "source": [
    "models['G1_3'].summary()"
   ]
  },
  {
   "cell_type": "code",
   "execution_count": 33,
   "metadata": {},
   "outputs": [
    {
     "data": {
      "text/html": [
       "<table class=\"simpletable\">\n",
       "<caption>OLS Regression Results</caption>\n",
       "<tr>\n",
       "  <th>Dep. Variable:</th>           <td>G2</td>        <th>  R-squared:         </th> <td>   0.143</td>\n",
       "</tr>\n",
       "<tr>\n",
       "  <th>Model:</th>                   <td>OLS</td>       <th>  Adj. R-squared:    </th> <td>   0.134</td>\n",
       "</tr>\n",
       "<tr>\n",
       "  <th>Method:</th>             <td>Least Squares</td>  <th>  F-statistic:       </th> <td>   15.57</td>\n",
       "</tr>\n",
       "<tr>\n",
       "  <th>Date:</th>             <td>Thu, 25 Jul 2019</td> <th>  Prob (F-statistic):</th> <td>2.15e-09</td>\n",
       "</tr>\n",
       "<tr>\n",
       "  <th>Time:</th>                 <td>23:23:58</td>     <th>  Log-Likelihood:    </th> <td> -758.90</td>\n",
       "</tr>\n",
       "<tr>\n",
       "  <th>No. Observations:</th>      <td>   284</td>      <th>  AIC:               </th> <td>   1526.</td>\n",
       "</tr>\n",
       "<tr>\n",
       "  <th>Df Residuals:</th>          <td>   280</td>      <th>  BIC:               </th> <td>   1540.</td>\n",
       "</tr>\n",
       "<tr>\n",
       "  <th>Df Model:</th>              <td>     3</td>      <th>                     </th>     <td> </td>   \n",
       "</tr>\n",
       "<tr>\n",
       "  <th>Covariance Type:</th>      <td>nonrobust</td>    <th>                     </th>     <td> </td>   \n",
       "</tr>\n",
       "</table>\n",
       "<table class=\"simpletable\">\n",
       "<tr>\n",
       "       <td></td>         <th>coef</th>     <th>std err</th>      <th>t</th>      <th>P>|t|</th>  <th>[0.025</th>    <th>0.975]</th>  \n",
       "</tr>\n",
       "<tr>\n",
       "  <th>Intercept</th>  <td>   11.1779</td> <td>    0.242</td> <td>   46.233</td> <td> 0.000</td> <td>   10.702</td> <td>   11.654</td>\n",
       "</tr>\n",
       "<tr>\n",
       "  <th>failures</th>   <td>   -1.5912</td> <td>    0.295</td> <td>   -5.399</td> <td> 0.000</td> <td>   -2.171</td> <td>   -1.011</td>\n",
       "</tr>\n",
       "<tr>\n",
       "  <th>freetime_5</th> <td>    2.1703</td> <td>    0.725</td> <td>    2.993</td> <td> 0.003</td> <td>    0.743</td> <td>    3.598</td>\n",
       "</tr>\n",
       "<tr>\n",
       "  <th>goout_5</th>    <td>   -1.8374</td> <td>    0.681</td> <td>   -2.699</td> <td> 0.007</td> <td>   -3.177</td> <td>   -0.497</td>\n",
       "</tr>\n",
       "</table>\n",
       "<table class=\"simpletable\">\n",
       "<tr>\n",
       "  <th>Omnibus:</th>       <td>13.697</td> <th>  Durbin-Watson:     </th> <td>   1.872</td>\n",
       "</tr>\n",
       "<tr>\n",
       "  <th>Prob(Omnibus):</th> <td> 0.001</td> <th>  Jarque-Bera (JB):  </th> <td>  15.688</td>\n",
       "</tr>\n",
       "<tr>\n",
       "  <th>Skew:</th>          <td>-0.441</td> <th>  Prob(JB):          </th> <td>0.000392</td>\n",
       "</tr>\n",
       "<tr>\n",
       "  <th>Kurtosis:</th>      <td> 3.740</td> <th>  Cond. No.          </th> <td>    4.24</td>\n",
       "</tr>\n",
       "</table><br/><br/>Warnings:<br/>[1] Standard Errors assume that the covariance matrix of the errors is correctly specified."
      ],
      "text/plain": [
       "<class 'statsmodels.iolib.summary.Summary'>\n",
       "\"\"\"\n",
       "                            OLS Regression Results                            \n",
       "==============================================================================\n",
       "Dep. Variable:                     G2   R-squared:                       0.143\n",
       "Model:                            OLS   Adj. R-squared:                  0.134\n",
       "Method:                 Least Squares   F-statistic:                     15.57\n",
       "Date:                Thu, 25 Jul 2019   Prob (F-statistic):           2.15e-09\n",
       "Time:                        23:23:58   Log-Likelihood:                -758.90\n",
       "No. Observations:                 284   AIC:                             1526.\n",
       "Df Residuals:                     280   BIC:                             1540.\n",
       "Df Model:                           3                                         \n",
       "Covariance Type:            nonrobust                                         \n",
       "==============================================================================\n",
       "                 coef    std err          t      P>|t|      [0.025      0.975]\n",
       "------------------------------------------------------------------------------\n",
       "Intercept     11.1779      0.242     46.233      0.000      10.702      11.654\n",
       "failures      -1.5912      0.295     -5.399      0.000      -2.171      -1.011\n",
       "freetime_5     2.1703      0.725      2.993      0.003       0.743       3.598\n",
       "goout_5       -1.8374      0.681     -2.699      0.007      -3.177      -0.497\n",
       "==============================================================================\n",
       "Omnibus:                       13.697   Durbin-Watson:                   1.872\n",
       "Prob(Omnibus):                  0.001   Jarque-Bera (JB):               15.688\n",
       "Skew:                          -0.441   Prob(JB):                     0.000392\n",
       "Kurtosis:                       3.740   Cond. No.                         4.24\n",
       "==============================================================================\n",
       "\n",
       "Warnings:\n",
       "[1] Standard Errors assume that the covariance matrix of the errors is correctly specified.\n",
       "\"\"\""
      ]
     },
     "execution_count": 33,
     "metadata": {},
     "output_type": "execute_result"
    }
   ],
   "source": [
    "models['G2_3'].summary()"
   ]
  },
  {
   "cell_type": "code",
   "execution_count": 34,
   "metadata": {},
   "outputs": [
    {
     "data": {
      "text/html": [
       "<table class=\"simpletable\">\n",
       "<caption>OLS Regression Results</caption>\n",
       "<tr>\n",
       "  <th>Dep. Variable:</th>           <td>G3</td>        <th>  R-squared:         </th> <td>   0.159</td>\n",
       "</tr>\n",
       "<tr>\n",
       "  <th>Model:</th>                   <td>OLS</td>       <th>  Adj. R-squared:    </th> <td>   0.150</td>\n",
       "</tr>\n",
       "<tr>\n",
       "  <th>Method:</th>             <td>Least Squares</td>  <th>  F-statistic:       </th> <td>   17.62</td>\n",
       "</tr>\n",
       "<tr>\n",
       "  <th>Date:</th>             <td>Thu, 25 Jul 2019</td> <th>  Prob (F-statistic):</th> <td>1.67e-10</td>\n",
       "</tr>\n",
       "<tr>\n",
       "  <th>Time:</th>                 <td>23:23:58</td>     <th>  Log-Likelihood:    </th> <td> -809.21</td>\n",
       "</tr>\n",
       "<tr>\n",
       "  <th>No. Observations:</th>      <td>   284</td>      <th>  AIC:               </th> <td>   1626.</td>\n",
       "</tr>\n",
       "<tr>\n",
       "  <th>Df Residuals:</th>          <td>   280</td>      <th>  BIC:               </th> <td>   1641.</td>\n",
       "</tr>\n",
       "<tr>\n",
       "  <th>Df Model:</th>              <td>     3</td>      <th>                     </th>     <td> </td>   \n",
       "</tr>\n",
       "<tr>\n",
       "  <th>Covariance Type:</th>      <td>nonrobust</td>    <th>                     </th>     <td> </td>   \n",
       "</tr>\n",
       "</table>\n",
       "<table class=\"simpletable\">\n",
       "<tr>\n",
       "       <td></td>         <th>coef</th>     <th>std err</th>      <th>t</th>      <th>P>|t|</th>  <th>[0.025</th>    <th>0.975]</th>  \n",
       "</tr>\n",
       "<tr>\n",
       "  <th>Intercept</th>  <td>   11.0677</td> <td>    0.289</td> <td>   38.346</td> <td> 0.000</td> <td>   10.500</td> <td>   11.636</td>\n",
       "</tr>\n",
       "<tr>\n",
       "  <th>failures</th>   <td>   -2.0799</td> <td>    0.352</td> <td>   -5.912</td> <td> 0.000</td> <td>   -2.772</td> <td>   -1.387</td>\n",
       "</tr>\n",
       "<tr>\n",
       "  <th>freetime_5</th> <td>    2.7398</td> <td>    0.866</td> <td>    3.165</td> <td> 0.002</td> <td>    1.036</td> <td>    4.444</td>\n",
       "</tr>\n",
       "<tr>\n",
       "  <th>goout_5</th>    <td>   -2.0883</td> <td>    0.813</td> <td>   -2.570</td> <td> 0.011</td> <td>   -3.688</td> <td>   -0.489</td>\n",
       "</tr>\n",
       "</table>\n",
       "<table class=\"simpletable\">\n",
       "<tr>\n",
       "  <th>Omnibus:</th>       <td>21.168</td> <th>  Durbin-Watson:     </th> <td>   1.920</td>\n",
       "</tr>\n",
       "<tr>\n",
       "  <th>Prob(Omnibus):</th> <td> 0.000</td> <th>  Jarque-Bera (JB):  </th> <td>  23.943</td>\n",
       "</tr>\n",
       "<tr>\n",
       "  <th>Skew:</th>          <td>-0.645</td> <th>  Prob(JB):          </th> <td>6.32e-06</td>\n",
       "</tr>\n",
       "<tr>\n",
       "  <th>Kurtosis:</th>      <td> 3.599</td> <th>  Cond. No.          </th> <td>    4.24</td>\n",
       "</tr>\n",
       "</table><br/><br/>Warnings:<br/>[1] Standard Errors assume that the covariance matrix of the errors is correctly specified."
      ],
      "text/plain": [
       "<class 'statsmodels.iolib.summary.Summary'>\n",
       "\"\"\"\n",
       "                            OLS Regression Results                            \n",
       "==============================================================================\n",
       "Dep. Variable:                     G3   R-squared:                       0.159\n",
       "Model:                            OLS   Adj. R-squared:                  0.150\n",
       "Method:                 Least Squares   F-statistic:                     17.62\n",
       "Date:                Thu, 25 Jul 2019   Prob (F-statistic):           1.67e-10\n",
       "Time:                        23:23:58   Log-Likelihood:                -809.21\n",
       "No. Observations:                 284   AIC:                             1626.\n",
       "Df Residuals:                     280   BIC:                             1641.\n",
       "Df Model:                           3                                         \n",
       "Covariance Type:            nonrobust                                         \n",
       "==============================================================================\n",
       "                 coef    std err          t      P>|t|      [0.025      0.975]\n",
       "------------------------------------------------------------------------------\n",
       "Intercept     11.0677      0.289     38.346      0.000      10.500      11.636\n",
       "failures      -2.0799      0.352     -5.912      0.000      -2.772      -1.387\n",
       "freetime_5     2.7398      0.866      3.165      0.002       1.036       4.444\n",
       "goout_5       -2.0883      0.813     -2.570      0.011      -3.688      -0.489\n",
       "==============================================================================\n",
       "Omnibus:                       21.168   Durbin-Watson:                   1.920\n",
       "Prob(Omnibus):                  0.000   Jarque-Bera (JB):               23.943\n",
       "Skew:                          -0.645   Prob(JB):                     6.32e-06\n",
       "Kurtosis:                       3.599   Cond. No.                         4.24\n",
       "==============================================================================\n",
       "\n",
       "Warnings:\n",
       "[1] Standard Errors assume that the covariance matrix of the errors is correctly specified.\n",
       "\"\"\""
      ]
     },
     "execution_count": 34,
     "metadata": {},
     "output_type": "execute_result"
    }
   ],
   "source": [
    "models['G3_3'].summary()"
   ]
  },
  {
   "cell_type": "markdown",
   "metadata": {},
   "source": [
    "#### Saturados vs Depurados"
   ]
  },
  {
   "cell_type": "code",
   "execution_count": 35,
   "metadata": {},
   "outputs": [
    {
     "name": "stdout",
     "output_type": "stream",
     "text": [
      "Para los modelos saturados:\n",
      "\n",
      "== G1 ==\n",
      "rsquared:  0.4094717059865769\n",
      "rsquared_adj:  0.24720942700090653\n",
      "\n",
      "== G2 ==\n",
      "rsquared:  0.37346402526325906\n",
      "rsquared_adj:  0.20130774391667705\n",
      "\n",
      "== G3 ==\n",
      "rsquared:  0.384165933004056\n",
      "rsquared_adj:  0.21495026594661182\n"
     ]
    }
   ],
   "source": [
    "print('Para los modelos saturados:')\n",
    "\n",
    "for target in targets:\n",
    "    print('\\n==', target, '==')\n",
    "    print('rsquared: ', models[target + '_1'].rsquared)\n",
    "    print('rsquared_adj: ', models[target + '_1'].rsquared_adj)"
   ]
  },
  {
   "cell_type": "markdown",
   "metadata": {},
   "source": [
    "`R-squared` para los modelos saturados de G1, G2 y G3 es 41%, 37% y 38%, respectivamente. Pero notar que la versión `adj` para todos está cercano al 20%, por lo hay evidencia para decir que el modelo tiene variables sobrantes.\n",
    "\n",
    "Al analizar el modelo menos saturado:"
   ]
  },
  {
   "cell_type": "code",
   "execution_count": 36,
   "metadata": {},
   "outputs": [
    {
     "name": "stdout",
     "output_type": "stream",
     "text": [
      "Para los modelos menos saturados:\n",
      "\n",
      "== G1 ==\n",
      "rsquared:  0.20704029872953955\n",
      "rsquared_adj:  0.19277843359877578\n",
      "\n",
      "== G2 ==\n",
      "rsquared:  0.1429681638744098\n",
      "rsquared_adj:  0.13378567991592138\n",
      "\n",
      "== G3 ==\n",
      "rsquared:  0.15876871830726502\n",
      "rsquared_adj:  0.14975552600341435\n"
     ]
    }
   ],
   "source": [
    "print('Para los modelos menos saturados:')\n",
    "\n",
    "for target in targets:\n",
    "    print('\\n==', target, '==')\n",
    "    print('rsquared: ', models[target + '_3'].rsquared)\n",
    "    print('rsquared_adj: ', models[target + '_3'].rsquared_adj)"
   ]
  },
  {
   "cell_type": "markdown",
   "metadata": {},
   "source": [
    "Aquí vemos que hay una gran diferencia, sobre todo para G2 y G3.\n",
    "\n",
    "Este resultado quiere decir que los regresores pueden explicar en un 21%, 14% y en un 16% a G1, G2 y G3 respectivamente."
   ]
  },
  {
   "cell_type": "markdown",
   "metadata": {},
   "source": [
    "### Interpretación de los principales regresores\n",
    "\n",
    "Ahora analizaremos los principales regresores considerando los que están presentes en los modelos depurados de cada promedio."
   ]
  },
  {
   "cell_type": "code",
   "execution_count": 37,
   "metadata": {},
   "outputs": [
    {
     "name": "stdout",
     "output_type": "stream",
     "text": [
      "\n",
      "== G1 ==\n",
      "Intercept        11.203098\n",
      "failures         -1.481461\n",
      "Fjob_teacher      1.916801\n",
      "schoolsup_yes    -1.994233\n",
      "freetime_5        1.635012\n",
      "studytime_3       1.022974\n",
      "dtype: float64\n",
      "\n",
      "== G2 ==\n",
      "Intercept     11.177937\n",
      "failures      -1.591199\n",
      "freetime_5     2.170313\n",
      "goout_5       -1.837405\n",
      "dtype: float64\n",
      "\n",
      "== G3 ==\n",
      "Intercept     11.067702\n",
      "failures      -2.079919\n",
      "freetime_5     2.739811\n",
      "goout_5       -2.088271\n",
      "dtype: float64\n"
     ]
    }
   ],
   "source": [
    "for target in targets:\n",
    "    print('\\n==', target, '==')\n",
    "    print(models[target + '_3'].params)"
   ]
  },
  {
   "cell_type": "markdown",
   "metadata": {},
   "source": [
    "Aquí podemos ver que `failures` (cantidad de cursos reprobados) es un regresor que está en todos los modelos."
   ]
  },
  {
   "cell_type": "markdown",
   "metadata": {},
   "source": [
    "#### Notas primer semeste (G1)\n",
    "\n",
    "- `failures`: por cada vez que el alumno ha reprobado un curso, el promedio G1 disminuye en 1.5 puntos.\n",
    "- `Fjob_teacher`: el promedio aumenta en casi dos puntos cuando el padre es profesor.\n",
    "- `schoolsup_yes`: el promedio disminuye en casi dos puntos cuando los alumnos recibieron ayuda del colegio.\n",
    "- `freetime_5`: los alumnos que dicen tener más tiempo, la nota aumenta en 1.6.\n",
    "- `studytime_3`: los alumnos que estudian de 3 a 5 horas, la nota aumenta en 1 punto.\n"
   ]
  },
  {
   "cell_type": "markdown",
   "metadata": {},
   "source": [
    "#### Notas segundo semeste (G2)\n",
    "\n",
    "- `failures`: cada vez que el alumno ha reprobado un curso, el promedio G2 disminuye en 1.6 puntos\n",
    "- `freetime_5`: los alumnos que tienen mucho tiempo libre tienen un promedio 2.2 mayor.\n",
    "- `goout_5`: para alumnos que salen mucho con sus amigos, su promedio es 1.8 menor."
   ]
  },
  {
   "cell_type": "markdown",
   "metadata": {},
   "source": [
    "#### Nota final (G3)"
   ]
  },
  {
   "cell_type": "markdown",
   "metadata": {},
   "source": [
    "Aquí quedaron los mismos regresores que en G2, pero con valores mayores:\n",
    "    \n",
    "- `failures`: cada vez que el alumno ha reprobado un curso, el promedio G3 disminuye en 2.1 puntos\n",
    "- `freetime_5`: los alumnos que tienen mucho tiempo libre tienen un promedio 2.7 mayor.\n",
    "- `goout_5`: para alumnos que salen mucho con sus amigos, su promedio es 2.1 menor."
   ]
  },
  {
   "cell_type": "markdown",
   "metadata": {},
   "source": [
    "### Categorías latentes"
   ]
  },
  {
   "cell_type": "code",
   "execution_count": 38,
   "metadata": {},
   "outputs": [
    {
     "data": {
      "text/html": [
       "<div>\n",
       "<style scoped>\n",
       "    .dataframe tbody tr th:only-of-type {\n",
       "        vertical-align: middle;\n",
       "    }\n",
       "\n",
       "    .dataframe tbody tr th {\n",
       "        vertical-align: top;\n",
       "    }\n",
       "\n",
       "    .dataframe thead th {\n",
       "        text-align: right;\n",
       "    }\n",
       "</style>\n",
       "<table border=\"1\" class=\"dataframe\">\n",
       "  <thead>\n",
       "    <tr style=\"text-align: right;\">\n",
       "      <th></th>\n",
       "      <th>famrel</th>\n",
       "      <th>freetime</th>\n",
       "      <th>goout</th>\n",
       "      <th>Dalc</th>\n",
       "      <th>Walc</th>\n",
       "      <th>health</th>\n",
       "    </tr>\n",
       "  </thead>\n",
       "  <tbody>\n",
       "    <tr>\n",
       "      <th>1</th>\n",
       "      <td>5</td>\n",
       "      <td>3</td>\n",
       "      <td>3</td>\n",
       "      <td>1</td>\n",
       "      <td>1</td>\n",
       "      <td>3</td>\n",
       "    </tr>\n",
       "    <tr>\n",
       "      <th>3</th>\n",
       "      <td>3</td>\n",
       "      <td>2</td>\n",
       "      <td>2</td>\n",
       "      <td>1</td>\n",
       "      <td>1</td>\n",
       "      <td>5</td>\n",
       "    </tr>\n",
       "    <tr>\n",
       "      <th>5</th>\n",
       "      <td>5</td>\n",
       "      <td>4</td>\n",
       "      <td>2</td>\n",
       "      <td>1</td>\n",
       "      <td>2</td>\n",
       "      <td>5</td>\n",
       "    </tr>\n",
       "  </tbody>\n",
       "</table>\n",
       "</div>"
      ],
      "text/plain": [
       "   famrel  freetime  goout  Dalc  Walc  health\n",
       "1       5         3      3     1     1       3\n",
       "3       3         2      2     1     1       5\n",
       "5       5         4      2     1     2       5"
      ]
     },
     "execution_count": 38,
     "metadata": {},
     "output_type": "execute_result"
    }
   ],
   "source": [
    "df_questions = df3.dropna().loc[:, 'famrel':'health'].infer_objects()\n",
    "df_questions.head(3)"
   ]
  },
  {
   "cell_type": "code",
   "execution_count": 39,
   "metadata": {},
   "outputs": [
    {
     "data": {
      "image/png": "[encoded data removed]",
      "text/plain": [
       "<Figure size 432x288 with 1 Axes>"
      ]
     },
     "metadata": {
      "needs_background": "light"
     },
     "output_type": "display_data"
    }
   ],
   "source": [
    "def plot_column_mean(df):\n",
    "    columns = []\n",
    "    mean = []\n",
    "\n",
    "    for colname, serie in df.iteritems():\n",
    "        columns.append(colname)\n",
    "        mean.append(serie.mean())\n",
    "\n",
    "    df_means = pd.DataFrame({'var': columns, 'mean': mean}).sort_values(by=['mean'])\n",
    "    plt.plot(df_means['mean'], df_means['var'],'o')\n",
    "\n",
    "plot_column_mean(df_questions)"
   ]
  },
  {
   "cell_type": "code",
   "execution_count": 40,
   "metadata": {},
   "outputs": [
    {
     "data": {
      "image/png": "[encoded data removed]",
      "text/plain": [
       "<Figure size 432x288 with 2 Axes>"
      ]
     },
     "metadata": {
      "needs_background": "light"
     },
     "output_type": "display_data"
    }
   ],
   "source": [
    "sns.heatmap(df_questions.corr(), annot=True);"
   ]
  },
  {
   "cell_type": "code",
   "execution_count": 41,
   "metadata": {},
   "outputs": [
    {
     "data": {
      "image/png": "[encoded data removed]",
      "text/plain": [
       "<Figure size 1080x360 with 2 Axes>"
      ]
     },
     "metadata": {
      "needs_background": "light"
     },
     "output_type": "display_data"
    }
   ],
   "source": [
    "nicos.plot_main_correlations(df_questions)"
   ]
  },
  {
   "cell_type": "code",
   "execution_count": 42,
   "metadata": {},
   "outputs": [
    {
     "data": {
      "text/plain": [
       "(258.5684035558002, 1.010339288896483e-46)"
      ]
     },
     "execution_count": 42,
     "metadata": {},
     "output_type": "execute_result"
    }
   ],
   "source": [
    "factor.calculate_bartlett_sphericity(df_questions)"
   ]
  },
  {
   "cell_type": "markdown",
   "metadata": {},
   "source": [
    "En este caso, la prueba de esferacidad de errores sugiere que la matriz de correlaciones no es igual a la matriz de identidad, por lo que se puede seguir con el análisis."
   ]
  },
  {
   "cell_type": "code",
   "execution_count": 43,
   "metadata": {},
   "outputs": [
    {
     "data": {
      "text/plain": [
       "(               KMO\n",
       " famrel    0.503497\n",
       " freetime  0.578644\n",
       " goout     0.618506\n",
       " Dalc      0.588351\n",
       " Walc      0.557151\n",
       " health    0.594361, 0.5784452766434522)"
      ]
     },
     "execution_count": 43,
     "metadata": {},
     "output_type": "execute_result"
    }
   ],
   "source": [
    "factor.calculate_kmo(df_questions)"
   ]
  },
  {
   "cell_type": "markdown",
   "metadata": {},
   "source": [
    "Podemos ver que no hay ninguno que esté sobre 0.7"
   ]
  },
  {
   "cell_type": "code",
   "execution_count": 44,
   "metadata": {},
   "outputs": [],
   "source": [
    "def factorize(df, n_factors, rotation=None):\n",
    "\n",
    "    # Generamos una nueva instancia en el objeto factorize\n",
    "    factor_analyzer = factor.FactorAnalyzer()\n",
    "\n",
    "    # Implementamos el análisis\n",
    "    factor_analyzer.analyze(data=df, n_factors=n_factors, rotation=rotation)\n",
    "\n",
    "    # extraemos los eigenvalues\n",
    "    factor_screeplot = factor_analyzer.get_eigenvalues()[0]\n",
    "\n",
    "    # graficamos los eigenvalues contra la cantidad de dimensiones estimables\n",
    "    plt.plot(factor_screeplot.index + 1, factor_screeplot.values, 'o-', color='tomato')\n",
    "    plt.xlabel('Número de Factor')\n",
    "    plt.ylabel('Valores Propios')\n",
    "\n",
    "    # visualizamos el criterio de corte\n",
    "    plt.axhline(1)\n",
    "    plt.title(\"Scree plot\")\n",
    "\n",
    "    return factor_analyzer"
   ]
  },
  {
   "cell_type": "code",
   "execution_count": 45,
   "metadata": {},
   "outputs": [
    {
     "data": {
      "text/plain": [
       "<factor_analyzer.factor_analyzer.FactorAnalyzer at 0x7fa792bac0b8>"
      ]
     },
     "execution_count": 45,
     "metadata": {},
     "output_type": "execute_result"
    },
    {
     "data": {
      "image/png": "[encoded data removed]",
      "text/plain": [
       "<Figure size 432x288 with 1 Axes>"
      ]
     },
     "metadata": {
      "needs_background": "light"
     },
     "output_type": "display_data"
    }
   ],
   "source": [
    "factorize(df_questions, 6)"
   ]
  },
  {
   "cell_type": "code",
   "execution_count": 46,
   "metadata": {},
   "outputs": [
    {
     "data": {
      "image/png": "[encoded data removed]",
      "text/plain": [
       "<Figure size 432x288 with 1 Axes>"
      ]
     },
     "metadata": {
      "needs_background": "light"
     },
     "output_type": "display_data"
    }
   ],
   "source": [
    "refactorize = factorize(df_questions, 3, 'promax')"
   ]
  },
  {
   "cell_type": "code",
   "execution_count": 47,
   "metadata": {},
   "outputs": [
    {
     "data": {
      "text/html": [
       "<div>\n",
       "<style scoped>\n",
       "    .dataframe tbody tr th:only-of-type {\n",
       "        vertical-align: middle;\n",
       "    }\n",
       "\n",
       "    .dataframe tbody tr th {\n",
       "        vertical-align: top;\n",
       "    }\n",
       "\n",
       "    .dataframe thead th {\n",
       "        text-align: right;\n",
       "    }\n",
       "</style>\n",
       "<table border=\"1\" class=\"dataframe\">\n",
       "  <thead>\n",
       "    <tr style=\"text-align: right;\">\n",
       "      <th></th>\n",
       "      <th>Factor1</th>\n",
       "      <th>Factor2</th>\n",
       "      <th>Factor3</th>\n",
       "    </tr>\n",
       "  </thead>\n",
       "  <tbody>\n",
       "    <tr>\n",
       "      <th>famrel</th>\n",
       "      <td></td>\n",
       "      <td></td>\n",
       "      <td>0.46</td>\n",
       "    </tr>\n",
       "    <tr>\n",
       "      <th>freetime</th>\n",
       "      <td></td>\n",
       "      <td></td>\n",
       "      <td></td>\n",
       "    </tr>\n",
       "    <tr>\n",
       "      <th>goout</th>\n",
       "      <td></td>\n",
       "      <td>0.94</td>\n",
       "      <td></td>\n",
       "    </tr>\n",
       "    <tr>\n",
       "      <th>Dalc</th>\n",
       "      <td>0.91</td>\n",
       "      <td></td>\n",
       "      <td></td>\n",
       "    </tr>\n",
       "    <tr>\n",
       "      <th>Walc</th>\n",
       "      <td>0.7</td>\n",
       "      <td></td>\n",
       "      <td></td>\n",
       "    </tr>\n",
       "    <tr>\n",
       "      <th>health</th>\n",
       "      <td></td>\n",
       "      <td></td>\n",
       "      <td></td>\n",
       "    </tr>\n",
       "  </tbody>\n",
       "</table>\n",
       "</div>"
      ],
      "text/plain": [
       "         Factor1 Factor2 Factor3\n",
       "famrel                      0.46\n",
       "freetime                        \n",
       "goout               0.94        \n",
       "Dalc        0.91                \n",
       "Walc         0.7                \n",
       "health                          "
      ]
     },
     "execution_count": 47,
     "metadata": {},
     "output_type": "execute_result"
    }
   ],
   "source": [
    "refactorize.loadings.applymap(lambda x: np.where(x < .4, ' ', round(x, 2)))"
   ]
  },
  {
   "cell_type": "markdown",
   "metadata": {},
   "source": [
    "De aquí podemos ver que:\n",
    "    \n",
    "- `Factor1`: está asociado al consumo de alcohol.\n",
    "- `Factor2`: está asociado a las salidas con amigos.\n",
    "- `Factor3`: está asociado a las relaciones familiares."
   ]
  },
  {
   "cell_type": "markdown",
   "metadata": {},
   "source": [
    "Ahora crearemos un modelo para predecir G3 utilizando estos factores en vez de las variables de la encuesta:"
   ]
  },
  {
   "cell_type": "code",
   "execution_count": 48,
   "metadata": {},
   "outputs": [
    {
     "data": {
      "text/html": [
       "<table class=\"simpletable\">\n",
       "<caption>OLS Regression Results</caption>\n",
       "<tr>\n",
       "  <th>Dep. Variable:</th>           <td>G3</td>        <th>  R-squared:         </th> <td>   0.174</td>\n",
       "</tr>\n",
       "<tr>\n",
       "  <th>Model:</th>                   <td>OLS</td>       <th>  Adj. R-squared:    </th> <td>   0.165</td>\n",
       "</tr>\n",
       "<tr>\n",
       "  <th>Method:</th>             <td>Least Squares</td>  <th>  F-statistic:       </th> <td>   19.60</td>\n",
       "</tr>\n",
       "<tr>\n",
       "  <th>Date:</th>             <td>Thu, 25 Jul 2019</td> <th>  Prob (F-statistic):</th> <td>1.47e-11</td>\n",
       "</tr>\n",
       "<tr>\n",
       "  <th>Time:</th>                 <td>23:24:01</td>     <th>  Log-Likelihood:    </th> <td> -806.70</td>\n",
       "</tr>\n",
       "<tr>\n",
       "  <th>No. Observations:</th>      <td>   284</td>      <th>  AIC:               </th> <td>   1621.</td>\n",
       "</tr>\n",
       "<tr>\n",
       "  <th>Df Residuals:</th>          <td>   280</td>      <th>  BIC:               </th> <td>   1636.</td>\n",
       "</tr>\n",
       "<tr>\n",
       "  <th>Df Model:</th>              <td>     3</td>      <th>                     </th>     <td> </td>   \n",
       "</tr>\n",
       "<tr>\n",
       "  <th>Covariance Type:</th>      <td>nonrobust</td>    <th>                     </th>     <td> </td>   \n",
       "</tr>\n",
       "</table>\n",
       "<table class=\"simpletable\">\n",
       "<tr>\n",
       "       <td></td>         <th>coef</th>     <th>std err</th>      <th>t</th>      <th>P>|t|</th>  <th>[0.025</th>    <th>0.975]</th>  \n",
       "</tr>\n",
       "<tr>\n",
       "  <th>Intercept</th>  <td>   10.8626</td> <td>    0.282</td> <td>   38.487</td> <td> 0.000</td> <td>   10.307</td> <td>   11.418</td>\n",
       "</tr>\n",
       "<tr>\n",
       "  <th>failures</th>   <td>   -2.0847</td> <td>    0.346</td> <td>   -6.033</td> <td> 0.000</td> <td>   -2.765</td> <td>   -1.405</td>\n",
       "</tr>\n",
       "<tr>\n",
       "  <th>freetime_5</th> <td>    2.2433</td> <td>    0.824</td> <td>    2.722</td> <td> 0.007</td> <td>    0.621</td> <td>    3.866</td>\n",
       "</tr>\n",
       "<tr>\n",
       "  <th>Factor2</th>    <td>   -0.8723</td> <td>    0.255</td> <td>   -3.423</td> <td> 0.001</td> <td>   -1.374</td> <td>   -0.371</td>\n",
       "</tr>\n",
       "</table>\n",
       "<table class=\"simpletable\">\n",
       "<tr>\n",
       "  <th>Omnibus:</th>       <td>22.219</td> <th>  Durbin-Watson:     </th> <td>   1.935</td>\n",
       "</tr>\n",
       "<tr>\n",
       "  <th>Prob(Omnibus):</th> <td> 0.000</td> <th>  Jarque-Bera (JB):  </th> <td>  25.425</td>\n",
       "</tr>\n",
       "<tr>\n",
       "  <th>Skew:</th>          <td>-0.662</td> <th>  Prob(JB):          </th> <td>3.01e-06</td>\n",
       "</tr>\n",
       "<tr>\n",
       "  <th>Kurtosis:</th>      <td> 3.631</td> <th>  Cond. No.          </th> <td>    3.71</td>\n",
       "</tr>\n",
       "</table><br/><br/>Warnings:<br/>[1] Standard Errors assume that the covariance matrix of the errors is correctly specified."
      ],
      "text/plain": [
       "<class 'statsmodels.iolib.summary.Summary'>\n",
       "\"\"\"\n",
       "                            OLS Regression Results                            \n",
       "==============================================================================\n",
       "Dep. Variable:                     G3   R-squared:                       0.174\n",
       "Model:                            OLS   Adj. R-squared:                  0.165\n",
       "Method:                 Least Squares   F-statistic:                     19.60\n",
       "Date:                Thu, 25 Jul 2019   Prob (F-statistic):           1.47e-11\n",
       "Time:                        23:24:01   Log-Likelihood:                -806.70\n",
       "No. Observations:                 284   AIC:                             1621.\n",
       "Df Residuals:                     280   BIC:                             1636.\n",
       "Df Model:                           3                                         \n",
       "Covariance Type:            nonrobust                                         \n",
       "==============================================================================\n",
       "                 coef    std err          t      P>|t|      [0.025      0.975]\n",
       "------------------------------------------------------------------------------\n",
       "Intercept     10.8626      0.282     38.487      0.000      10.307      11.418\n",
       "failures      -2.0847      0.346     -6.033      0.000      -2.765      -1.405\n",
       "freetime_5     2.2433      0.824      2.722      0.007       0.621       3.866\n",
       "Factor2       -0.8723      0.255     -3.423      0.001      -1.374      -0.371\n",
       "==============================================================================\n",
       "Omnibus:                       22.219   Durbin-Watson:                   1.935\n",
       "Prob(Omnibus):                  0.000   Jarque-Bera (JB):               25.425\n",
       "Skew:                          -0.662   Prob(JB):                     3.01e-06\n",
       "Kurtosis:                       3.631   Cond. No.                         3.71\n",
       "==============================================================================\n",
       "\n",
       "Warnings:\n",
       "[1] Standard Errors assume that the covariance matrix of the errors is correctly specified.\n",
       "\"\"\""
      ]
     },
     "execution_count": 48,
     "metadata": {},
     "output_type": "execute_result"
    }
   ],
   "source": [
    "df_final = df.reset_index().drop(columns=[\n",
    "    'index', \n",
    "    'Dalc_2', 'Dalc_3', 'Dalc_4', 'Dalc_5',\n",
    "    'famrel_5', 'famrel_3', 'famrel_2', 'famrel_1',\n",
    "    'Walc_2', 'Walc_3', 'Walc_4', 'Walc_5',\n",
    "    'goout_2','goout_4', 'goout_5', 'goout_1',\n",
    "])\n",
    "\n",
    "scores = refactorize.get_scores(df_questions)\n",
    "\n",
    "df_with_factors = pd.concat([df_final, scores], axis=1)\n",
    "\n",
    "model_with_factors = {}\n",
    "iterations = 3\n",
    "\n",
    "banned_coefs = ['G1', 'G2', 'G3']\n",
    "for i in range(1, iterations + 1):\n",
    "    model = nicos.build_model(df_with_factors, 'ols', 'G3', *banned_coefs).fit()\n",
    "    worst_p_values = list(nicos.not_significant_pvalues(model).index)\n",
    "    for coef in worst_p_values:\n",
    "        banned_coefs.append(coef)\n",
    "    model_with_factors['G3_' + str(i)] = model\n",
    "model_with_factors['G3_3'].summary()"
   ]
  },
  {
   "cell_type": "markdown",
   "metadata": {},
   "source": [
    "En este caso, usando el factor, llegamos a un `rsquared` de 17% con `adj-rsquared` de 17%. Enfocándonos solo en esto, este modelo se comporta un poco mejor que el modelo anterior."
   ]
  },
  {
   "cell_type": "markdown",
   "metadata": {},
   "source": [
    "### Definición de las estrategias de Modelación predictiva\n",
    "\n",
    "#### Paso 1: preparación\n",
    "\n",
    "importación de módulos y definición de funciones auxiliares para el problema.\n",
    "\n",
    "Luego, para cada uno de nuestros modelos:\n",
    "\n",
    "- Haremos una división de la muestra (paso 2)\n",
    "- Generaremos objeto y modelo (paso 3)\n",
    "\n",
    "#### Paso 2:  división de la muestra. \n",
    "\n",
    "Primero, obtendremos una muestra con los atributos necesarios para el modelo de prediccón, y la estandarizaremos con StandardScaler (https://scikit-learn.org/stable/modules/generated/sklearn.preprocessing.StandardScaler.html).\n",
    "\n",
    "La muestra estandarizada será dividida en dos sets:\n",
    "\n",
    "1. Training Set: Donde implementamos el modelo.\n",
    "2. Test Set: Donde probamos el modelo.\n",
    "\n",
    "Utilizaremos la función `train_test_split` con un 33% para generar los siguientes objetos:\n",
    "\n",
    "1. Matriz de Atributos en Training Set: X_train\n",
    "2. Vector Objetivo en Training Set: y_train\n",
    "3. Matriz de Atributos en Testing Set: X_test\n",
    "4. Vector Objetivo en Testing Set: y_test\n",
    "\n",
    "#### Paso 3: Generar objeto y modelo\n",
    "\n",
    "El siguiente paso es la construcción de un objeto que contenga las instrucciones a ejecutar en el\n",
    "modelo, en este caso con la clase `LinearRegression`.\n",
    "\n",
    "Una vez tengamos una instancia de dicha clase, debemos entrenarlo con la función `fit`, la cual solicita la matriz `X_train` y el vector objetivo `y_train`.\n",
    "\n",
    "#### Paso 4: Generar métricas\n",
    "\n",
    "Finalmente, es necesario juzgar qué tan bien se comportó nuestro modelo al predecir los valores\n",
    "del vector objetivo de nuestro testing set.\n",
    "\n",
    "Como se comentó al comienzo, se utilizarán las siguientes métricas:\n",
    "\n",
    "- Promedio del Error Cuadrático (Mean Squared Error): Representa la expectativa del error cuadrático. Es un indicador de calidad con valores no negativos, donde menores valores indican mejores niveles de ajuste.\n",
    "- R-cuadrado: Representa la capacidad explicativa de nuestro conjunto de atributos en la variabilidad de nuestro vector objetivo. Tiene la misma interpretación que la enseñada desde la econometría.\n",
    "\n",
    "En base al MSE y R-cuadrado podremos evaluar cual de los modelos que creamos es mejor. Buscaremos el modelo que tenga un menor `MSE` y un mayor `R-cuadrado`."
   ]
  },
  {
   "cell_type": "markdown",
   "metadata": {},
   "source": [
    "5) Modelación predictiva\n",
    "--"
   ]
  },
  {
   "cell_type": "markdown",
   "metadata": {},
   "source": [
    "### Preparación ambiente de trabajo"
   ]
  },
  {
   "cell_type": "markdown",
   "metadata": {},
   "source": [
    "Principalmente utilizaremos `scikit-learn`, una librería diseñada para implementar modelos de minería de\n",
    "datos y machine learning de manera simple y efectiva.\n",
    "\n",
    "Esta librería ya fue importada, aunque definiremos funciones a continuación que ayudarán con el resto de la modelación predictiva:"
   ]
  },
  {
   "cell_type": "code",
   "execution_count": 49,
   "metadata": {},
   "outputs": [],
   "source": [
    "def report_scores(name, prediction, validation):\n",
    "    print(name)\n",
    "    mse = mean_squared_error(prediction, validation)\n",
    "    print('MSE: {}'.format(mse))\n",
    "    \n",
    "    r2 = r2_score(prediction, validation)\n",
    "    print('R2: {}\\n'.format(r2))\n",
    "    \n",
    "    return mse, r2"
   ]
  },
  {
   "cell_type": "markdown",
   "metadata": {},
   "source": [
    "### Implementación de modelos predictivos\n",
    "\n",
    "#### Separación de datos de prueba y datos de entrenamiento"
   ]
  },
  {
   "cell_type": "code",
   "execution_count": 50,
   "metadata": {},
   "outputs": [],
   "source": [
    "standard_scaler = StandardScaler()\n",
    "df_scaled = pd.DataFrame(standard_scaler.fit_transform(df), columns = df.columns)\n",
    "random_state = 24072019\n",
    "X_train, X_test, y_train, y_test = train_test_split(df_scaled, df.loc[:, 'G3'], test_size=0.33, random_state=random_state)"
   ]
  },
  {
   "cell_type": "markdown",
   "metadata": {},
   "source": [
    "#### Modelo 1 y Modelo 2"
   ]
  },
  {
   "cell_type": "markdown",
   "metadata": {},
   "source": [
    "Para estos modelos, utilizaré los atributos `failures`, `freetime_5` y `goout_5` que corresponden al modelo depurado en la descripción econométrica luego de descartar los regresores no significativos (al 95%).\n",
    "\n",
    "La diferencia es que uno de ellos va a ser normalizado y el otro no."
   ]
  },
  {
   "cell_type": "code",
   "execution_count": 51,
   "metadata": {},
   "outputs": [
    {
     "name": "stdout",
     "output_type": "stream",
     "text": [
      "Modelo 1\n",
      "MSE: 21.095962731624372\n",
      "R2: 0.10374109675626031\n",
      "\n",
      "Modelo 2\n",
      "MSE: 138.56022846571568\n",
      "R2: -4.8867111199301085\n",
      "\n"
     ]
    }
   ],
   "source": [
    "attrs = ['failures', 'freetime_5', 'goout_5']\n",
    "\n",
    "model_1 = LinearRegression(fit_intercept=True, normalize=True)\n",
    "model_2 = LinearRegression(fit_intercept=False, normalize=False)\n",
    "\n",
    "model_1.fit(X_train.loc[:, attrs], y_train)\n",
    "model_2.fit(X_train.loc[:, attrs], y_train)\n",
    "\n",
    "model_1_yhat = model_1.predict(X_test.loc[:, attrs])\n",
    "model_2_yhat = model_2.predict(X_test.loc[:, attrs])\n",
    "\n",
    "model_1_scores = report_scores('Modelo 1', y_test, model_1_yhat)\n",
    "model_2_scores = report_scores('Modelo 2', y_test, model_2_yhat)"
   ]
  },
  {
   "cell_type": "markdown",
   "metadata": {},
   "source": [
    "#### Modelo 3 y Modelo 4\n",
    "\n",
    "Desde el punto econométrico, podemos ver que hay una alta correlación entre todas las notas. Es por esto que para estos modelos, se utilizarán los mismos atributos que en los anteriores pero además se incluirá las notas `G2`.\n",
    "\n",
    "¿Por qué solo G2? porque lo que aprendes un semestre te sirve de base para los siguientes. Entonces `G2` no es independiente de `G1`, y está dependencia podría producir ruido en el resultado del modelo, ya que la regresión asume independencia entre las variables dependientes."
   ]
  },
  {
   "cell_type": "code",
   "execution_count": 52,
   "metadata": {},
   "outputs": [
    {
     "name": "stdout",
     "output_type": "stream",
     "text": [
      "Modelo 3\n",
      "MSE: 3.8007668879537846\n",
      "R2: 0.8385249724879332\n",
      "\n",
      "Modelo 4\n",
      "MSE: 116.59637717572723\n",
      "R2: -3.9535800977244255\n",
      "\n"
     ]
    }
   ],
   "source": [
    "attrs = ['failures', 'freetime_5', 'studytime_3', 'G2']\n",
    "\n",
    "model_3 = LinearRegression(fit_intercept=True, normalize=True)\n",
    "model_4 = LinearRegression(fit_intercept=False, normalize=False)\n",
    "\n",
    "model_3.fit(X_train.loc[:, attrs], y_train)\n",
    "model_4.fit(X_train.loc[:, attrs], y_train)\n",
    "\n",
    "model_3_yhat = model_3.predict(X_test.loc[:, attrs])\n",
    "model_4_yhat = model_4.predict(X_test.loc[:, attrs])\n",
    "\n",
    "model_3_scores = report_scores('Modelo 3', y_test, model_3_yhat)\n",
    "model_4_scores = report_scores('Modelo 4', y_test, model_4_yhat)"
   ]
  },
  {
   "cell_type": "markdown",
   "metadata": {},
   "source": [
    "### Mejor modelo predictivo en base a los resultados\n",
    "\n",
    "Al graficar los errores, podemos concluir que:"
   ]
  },
  {
   "cell_type": "code",
   "execution_count": 53,
   "metadata": {},
   "outputs": [
    {
     "data": {
      "image/png": "[encoded data removed]",
      "text/plain": [
       "<Figure size 432x288 with 2 Axes>"
      ]
     },
     "metadata": {
      "needs_background": "light"
     },
     "output_type": "display_data"
    }
   ],
   "source": [
    "plt.subplot(2,1,1)\n",
    "\n",
    "mse = [model_1_scores[0], model_2_scores[0], model_3_scores[0], model_4_scores[0]]\n",
    "r2 = [model_1_scores[1], model_2_scores[1], model_3_scores[1], model_4_scores[1]]\n",
    "\n",
    "plt.barh(['Modelo 1', 'Modelo 2', 'Modelo 3', 'Modelo 4'], mse)\n",
    "plt.title(\"Promedio Error Cuadrático\")\n",
    "\n",
    "plt.subplot(2,1, 2)\n",
    "plt.barh(['Modelo 1', 'Modelo 2', 'Modelo 3', 'Modelo 4'], r2)\n",
    "plt.title(\"R cuadrado\");\n",
    "plt.tight_layout()"
   ]
  },
  {
   "cell_type": "markdown",
   "metadata": {},
   "source": [
    "- Los modelos normalizados tienen mejor rendimiento (Modelo 1 y Modelo 3) ya que el MSE es menor y el R2 el mayor.\n",
    "- Pero entre estos dos, el Modelo 3 tiene un MSE mucho menor y un R2 muchísimo mayor, por lo que existe evidencia para preferirlo.\n",
    "\n",
    "En los análisis previos, pudimos ver que hay una alta correlación entre las notas, las cuales no consideré dentro del análisis descriptivo porque no creo que exista independencia entre variables (lo que aprendes en un semestre te ayuda para los siguientes semestres).\n",
    "\n",
    "Si bien el mejor modelo es el _Modelo 3_ (en base a estos resultados), no está muy claro cuál es el significado de las columnas de las notas. Algunas posibilidades son:\n",
    "\n",
    "- Notas de distintos semestres\n",
    "- Notas de distintos años\n",
    "- Un promedio de curso tomado a distintas alturas durante un año\n",
    "\n",
    "En cualquiera de estos casos, puede darse que la nota `G2`, considerada en _Modelo 3_, sea dependiente del resto de variables, lo cual va en contra del principio de independencia de la regresión lineal."
   ]
  },
  {
   "cell_type": "code",
   "execution_count": null,
   "metadata": {},
   "outputs": [],
   "source": []
  }
 ],
 "metadata": {
  "kernelspec": {
   "display_name": "Python 3",
   "language": "python",
   "name": "python3"
  },
  "language_info": {
   "codemirror_mode": {
    "name": "ipython",
    "version": 3
   },
   "file_extension": ".py",
   "mimetype": "text/x-python",
   "name": "python",
   "nbconvert_exporter": "python",
   "pygments_lexer": "ipython3",
   "version": "3.6.8"
  }
 },
 "nbformat": 4,
 "nbformat_minor": 2
}
