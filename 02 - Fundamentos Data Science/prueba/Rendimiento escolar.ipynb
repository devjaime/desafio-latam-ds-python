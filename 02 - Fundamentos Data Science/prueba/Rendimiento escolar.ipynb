{
 "cells": [
  {
   "cell_type": "markdown",
   "metadata": {},
   "source": [
    "# Desafío 2: Rendimiento escolar"
   ]
  },
  {
   "cell_type": "markdown",
   "metadata": {},
   "source": [
    "Preliminares\n",
    "---"
   ]
  },
  {
   "cell_type": "markdown",
   "metadata": {},
   "source": [
    "### Problema\n",
    "\n",
    "El problema consiste en el desarrollo de un modelo predictivo de **regresión** para predecir, en base a atributos sociodemográficos y conductuales de alumnos, las notas de los alumnos.\n",
    "\n",
    "A continuación se presenta el modelo a estimar:\n",
    "\n",
    "$$Y={{\\beta }_{0} + \\sum_{i=1} {\\beta }_{i} \\cdot {X_{i}}}$$\n",
    "\n",
    "Donde $X_{i}$ corresponden a los atributos sociodemográficos y conductuales, mientras que $Y$ es el vector objetivo a estimar (notas)\n",
    "\n",
    "### Métricas de desempeño\n",
    "\n",
    "Como este es un problema de regresión, se utilizarán las siguientes dos métricas:\n",
    "\n",
    "- **Promedio del Error Cuadrático (Mean Squared Error)**: Representa la expectativa del error cuadrático. Es un indicador de calidad con valores no negativos, donde menores valores indican mejores niveles de ajuste.\n",
    "- **R-cuadrado**: Representa la capacidad explicativa de nuestro conjunto de atributos en la variabilidad de nuestro vector objetivo.\n",
    "\n",
    "### Descripción de la base de datos\n",
    "\n",
    "- school : Escuela del estudiante. (binaria: 'GP' - Gabriel Pereira o 'MS' - Mousinho da Silveira)\n",
    "- sex : Sexo del estudiante. (binaria: 'F' - Mujer o 'M' - Hombre)\n",
    "- age : Edad del estudiante. (numérica: de 15 a 22)\n",
    "- address : Ubicación de la casa del estudiante. (binaria: 'U' - urbana o 'R' - rural)\n",
    "- famsize : Tamaño de la familia. (binaria: 'LE3' - less or equal to 3 or 'GT3' - greater than 3)\n",
    "- Pstatus : Estado cohabitacional de los padres. (binaria: 'T' - cohabitando juntos o 'A' - viviendo separados)\n",
    "- Medu : Nivel educacional de la madre. (numérica: 0 - ninguno, 1 - educación básica (4to), 2 - de 5to a 9, 3 - educación media, o 4 - educación superior).\n",
    "- Fedu : Nivel educacional del padre. (numérica: 0 - ninguno, 1 - educación básica (4to), 2 - de 5to a 9, 3 - educación media, o 4 - educación superior).\n",
    "- Mjob : Ocupación de la madre. (nominal: 'teacher' profesora, 'health' relacionada a salud, 'services' (e.g. administración pública o policía), 'at_home' en casa u 'other' otra).\n",
    "- Fjob : Ocupación del padre (nominal: 'teacher' profesor, 'health' relacionado a salud, 'services' (e.g. administración pública o policía), 'at_home' en casa u 'other' otra).\n",
    "- reason : Razón para escoger la escuela (nominal: 'home' cercano a casa, 'reputation' reputación de la escuela, 'course' preferencia de cursos u 'other' otra)\n",
    "- guardian : Apoderado del estudiante (nominal: 'mother' madre, 'father' padre u 'other' otro)\n",
    "- traveltime : Tiempo de viaje entre hogar y colegio. (numeric: 1 - <15 min., 2 - 15 a 30 min., 3 - 30 min. a 1 hora, or 4 - >1 hora).\n",
    "- studytime : Horas semanales dedicadas al estudio. (numérica: 1 - <2 horas, 2 - 2 a 5 horas, 3- 5 a 10 horas, o 4 - >10 horas)\n",
    "- failures : Número de clases reprobadas. (numérica: n si 1<=n<3, de lo contrario 4)\n",
    "- schoolsup : Apoyo educacional del colegio. (binaria: si o no)\n",
    "- famsup : Apoyo educacional familiar. (binaria: si o no)\n",
    "- paid : Clases particulares pagadas (matemáticas o portugués) (binaria: si o no)\n",
    "- activities : Actividades extracurriculares. (binaria: si o no)\n",
    "- nursery : Asistió a guardería infantil. (binaria: si o no)\n",
    "- higher : Desea proseguir estudios superiores (binaria: si o no)\n",
    "- internet : Acceso a internet desde el hogar (binaria: si o no)\n",
    "- romantic : Relación romántica (binaria: si o no)\n",
    "- famrel : Calidad de las relaciones familiares. (numérica: de 1 - muy malas a 5 - excelentes)\n",
    "- freetime : Tiempo libre fuera del colegio (numérica: de 1 - muy poco a 5 - mucho)\n",
    "- goout : Salidas con amigos (numérica: de 1 - muy pocas a 5 - muchas)\n",
    "- Dalc : Consumo de alcohol en día de semana (numérica: de 1 - muy bajo a 5 - muy alto)\n",
    "- Walc : Consumo de alcohol en fines de semana (numérica: de 1 - muy bajo a 5 - muy alto)\n",
    "- health : Estado de salud actual (numérica: from 1 - muy malo to 5 - muy bueno)\n",
    "- absences : Cantidad de ausencias escolares (numérica: de 0 a 93)\n",
    "- G1 : Notas durante el primer semestre (numérica: de 0 a 20). Este es uno de sus vectores objetivos para el modelo descriptivo.\n",
    "- G2 : Notas durante el segundo semestre (numérica: de 0 a 20). Este es uno de sus vectores objetivos para el modelo descriptivo.\n",
    "- G3 : Promedio final (numérica: de 0 a 20). Este es uno de sus vectores objetivos para el modelo descriptivo y el vector a predecir en el modelo predictivo."
   ]
  },
  {
   "cell_type": "markdown",
   "metadata": {},
   "source": [
    "Aspectos computacionales\n",
    "---"
   ]
  },
  {
   "cell_type": "markdown",
   "metadata": {},
   "source": [
    "### Librerías a utilizar\n",
    "\n",
    "- `pandas`: manipulación y análisis de datos.\n",
    "- `numpy`: biblioteca de funciones matemáticas de alto nivel para operar con vectores o matrices.\n",
    "- `scipy.stats`: contiene una gran cantidad de distribuciones de probabilidad y de funciones estadísticas.\n",
    "- `matplotlib.pyplot`: nos permite mostrar gráficos.\n",
    "- `seaborn`: librería especializada para gráficos estadísticos.\n",
    "- `sklearn`: herramientas para análisis de datos y minería de datos. En particular se utilizará:\n",
    "    - `linear_model`: módulo para trabajar con regresión donde el valor target es una combinación lineal de los features. Utilizaremos en este caso `LogisticRegression`.\n",
    "    - `metrics`: módulo para obtener métricas de nuestros modelos (`mean_squared_error`, `r2_score`).\n",
    "    - `model_selection`: de aquí se utilizará `train_test_split` para dividir nuestro datos en un set de entrenamiento y en un set de validación.\n",
    "    - `preprocessing`: funciones para transformar datos en una representación más adecuada para los estimadores.\n",
    "- `statsmodel`: provee clases y funciones para la estimación de distintos modelos estadísticos, así como para la realización de pruebas estadísticas y la exploración de datos estadísticos.\n",
    "- `missingno`: librería para la visualización de datos perdidos.\n",
    "- `factor_analyzer`: librería para el análisis factorial.\n",
    "- `warnings`: será utilizada para evitar avisos de deprecación."
   ]
  },
  {
   "cell_type": "code",
   "execution_count": 1,
   "metadata": {},
   "outputs": [],
   "source": [
    "import pandas as pd\n",
    "import numpy as np\n",
    "import scipy.stats as stats\n",
    "import matplotlib.pyplot as plt\n",
    "import seaborn as sns\n",
    "from sklearn.linear_model import LogisticRegression \n",
    "from sklearn.model_selection import train_test_split\n",
    "from sklearn.preprocessing import StandardScaler\n",
    "from sklearn.metrics import mean_squared_error, r2_score\n",
    "import statsmodels.api as sm\n",
    "import statsmodels.formula.api as smf\n",
    "import factor_analyzer as factor\n",
    "import missingno as msngo\n",
    "import warnings\n",
    "\n",
    "warnings.filterwarnings('ignore')"
   ]
  },
  {
   "cell_type": "markdown",
   "metadata": {},
   "source": [
    "### Proceso de preprocesamiento y recodificación de datos\n",
    "\n",
    "El proceso de preprocesamiento y recodificación de los datos consistirá en lo siguiente:\n",
    "\n",
    "1. Análisis de cada columna (tipos de datos).\n",
    "2. Resolución de anomalías.\n",
    "3. Recodificación de las variables binarias como 0 y 1. Se asignará 1 a aquellas categorías minoritarias.\n",
    "4. Recodificación de las variables nominales con más de 2 categorías."
   ]
  },
  {
   "cell_type": "markdown",
   "metadata": {},
   "source": [
    "### Funciones\n",
    "\n",
    "- `binarize(df, column)`, función que dado un `df` (DataFrame) y un `column` (nombre de columna), retorna una copia del dataframe con una columna adicional con la variable binarizada (considerando el valor minoritario). La diferencia con `pd.get_dummies(df)` es que mantiene los valores `null`.\n",
    "- `binarize_columns(df, columns)` devuelve un nuevo dataframe con todas todas las columnas en `columns` binarizadas.\n",
    "- `dummierize_columns(data, columns)` devuelve un nuevo dataframe con nuevas columnas binarizadas para cada valor posible de las columnas `columns` entregadas.\n",
    "- `describe_columns(df)`, función que dado un `DataFrame` `df` reporta las medidas descriptivas de cada columna. Para columnas con valores numéricos, utilizará `describe`, mientras para las columnas con atributos discretos utilizará `value_counts`.\n",
    "- `plot_columns_behaviour(df)`, función que dado un `DataFrame` `df`, grafica histogramas para los atributos contínuos y gráficos de barra los discretos."
   ]
  },
  {
   "cell_type": "code",
   "execution_count": 2,
   "metadata": {},
   "outputs": [],
   "source": [
    "# Importar las funciones auxiliares\n",
    "import auxiliary as nicos"
   ]
  },
  {
   "cell_type": "code",
   "execution_count": 3,
   "metadata": {
    "scrolled": true
   },
   "outputs": [
    {
     "data": {
      "text/html": [
       "<div>\n",
       "<style scoped>\n",
       "    .dataframe tbody tr th:only-of-type {\n",
       "        vertical-align: middle;\n",
       "    }\n",
       "\n",
       "    .dataframe tbody tr th {\n",
       "        vertical-align: top;\n",
       "    }\n",
       "\n",
       "    .dataframe thead th {\n",
       "        text-align: right;\n",
       "    }\n",
       "</style>\n",
       "<table border=\"1\" class=\"dataframe\">\n",
       "  <thead>\n",
       "    <tr style=\"text-align: right;\">\n",
       "      <th></th>\n",
       "      <th>Unnamed: 0</th>\n",
       "      <th>school</th>\n",
       "      <th>sex</th>\n",
       "      <th>age</th>\n",
       "      <th>address</th>\n",
       "      <th>famsize</th>\n",
       "      <th>Pstatus</th>\n",
       "      <th>Medu</th>\n",
       "      <th>Fedu</th>\n",
       "      <th>Mjob</th>\n",
       "      <th>...</th>\n",
       "      <th>famrel</th>\n",
       "      <th>freetime</th>\n",
       "      <th>goout</th>\n",
       "      <th>Dalc</th>\n",
       "      <th>Walc</th>\n",
       "      <th>health</th>\n",
       "      <th>absences</th>\n",
       "      <th>G1</th>\n",
       "      <th>G2</th>\n",
       "      <th>G3</th>\n",
       "    </tr>\n",
       "  </thead>\n",
       "  <tbody>\n",
       "    <tr>\n",
       "      <th>0</th>\n",
       "      <td>0</td>\n",
       "      <td>GP</td>\n",
       "      <td>F</td>\n",
       "      <td>nulidade</td>\n",
       "      <td>U</td>\n",
       "      <td>GT3</td>\n",
       "      <td>A</td>\n",
       "      <td>4</td>\n",
       "      <td>4</td>\n",
       "      <td>at_home</td>\n",
       "      <td>...</td>\n",
       "      <td>4</td>\n",
       "      <td>3</td>\n",
       "      <td>\"4\"</td>\n",
       "      <td>1</td>\n",
       "      <td>1</td>\n",
       "      <td>\"3\"</td>\n",
       "      <td>6</td>\n",
       "      <td>5</td>\n",
       "      <td>6</td>\n",
       "      <td>6</td>\n",
       "    </tr>\n",
       "    <tr>\n",
       "      <th>1</th>\n",
       "      <td>1</td>\n",
       "      <td>GP</td>\n",
       "      <td>F</td>\n",
       "      <td>\"17\"</td>\n",
       "      <td>U</td>\n",
       "      <td>GT3</td>\n",
       "      <td>T</td>\n",
       "      <td>1</td>\n",
       "      <td>1</td>\n",
       "      <td>at_home</td>\n",
       "      <td>...</td>\n",
       "      <td>5</td>\n",
       "      <td>3</td>\n",
       "      <td>\"3\"</td>\n",
       "      <td>1</td>\n",
       "      <td>1</td>\n",
       "      <td>\"3\"</td>\n",
       "      <td>4</td>\n",
       "      <td>5</td>\n",
       "      <td>5</td>\n",
       "      <td>6</td>\n",
       "    </tr>\n",
       "    <tr>\n",
       "      <th>2</th>\n",
       "      <td>2</td>\n",
       "      <td>GP</td>\n",
       "      <td>F</td>\n",
       "      <td>\"15\"</td>\n",
       "      <td>U</td>\n",
       "      <td>LE3</td>\n",
       "      <td>T</td>\n",
       "      <td>1</td>\n",
       "      <td>1</td>\n",
       "      <td>at_home</td>\n",
       "      <td>...</td>\n",
       "      <td>4</td>\n",
       "      <td>3</td>\n",
       "      <td>\"2\"</td>\n",
       "      <td>2</td>\n",
       "      <td>3</td>\n",
       "      <td>\"3\"</td>\n",
       "      <td>10</td>\n",
       "      <td>zero</td>\n",
       "      <td>8</td>\n",
       "      <td>10</td>\n",
       "    </tr>\n",
       "    <tr>\n",
       "      <th>3</th>\n",
       "      <td>3</td>\n",
       "      <td>GP</td>\n",
       "      <td>F</td>\n",
       "      <td>\"15\"</td>\n",
       "      <td>U</td>\n",
       "      <td>GT3</td>\n",
       "      <td>T</td>\n",
       "      <td>4</td>\n",
       "      <td>2</td>\n",
       "      <td>health</td>\n",
       "      <td>...</td>\n",
       "      <td>3</td>\n",
       "      <td>2</td>\n",
       "      <td>\"2\"</td>\n",
       "      <td>1</td>\n",
       "      <td>1</td>\n",
       "      <td>\"5\"</td>\n",
       "      <td>2</td>\n",
       "      <td>15</td>\n",
       "      <td>14</td>\n",
       "      <td>15</td>\n",
       "    </tr>\n",
       "    <tr>\n",
       "      <th>4</th>\n",
       "      <td>4</td>\n",
       "      <td>GP</td>\n",
       "      <td>F</td>\n",
       "      <td>sem validade</td>\n",
       "      <td>U</td>\n",
       "      <td>GT3</td>\n",
       "      <td>T</td>\n",
       "      <td>3</td>\n",
       "      <td>3</td>\n",
       "      <td>other</td>\n",
       "      <td>...</td>\n",
       "      <td>4</td>\n",
       "      <td>3</td>\n",
       "      <td>\"2\"</td>\n",
       "      <td>1</td>\n",
       "      <td>2</td>\n",
       "      <td>\"5\"</td>\n",
       "      <td>4</td>\n",
       "      <td>6</td>\n",
       "      <td>10</td>\n",
       "      <td>10</td>\n",
       "    </tr>\n",
       "  </tbody>\n",
       "</table>\n",
       "<p>5 rows × 34 columns</p>\n",
       "</div>"
      ],
      "text/plain": [
       "   Unnamed: 0 school sex           age address famsize Pstatus Medu Fedu  \\\n",
       "0           0     GP   F      nulidade       U     GT3       A    4    4   \n",
       "1           1     GP   F          \"17\"       U     GT3       T    1    1   \n",
       "2           2     GP   F          \"15\"       U     LE3       T    1    1   \n",
       "3           3     GP   F          \"15\"       U     GT3       T    4    2   \n",
       "4           4     GP   F  sem validade       U     GT3       T    3    3   \n",
       "\n",
       "      Mjob  ... famrel freetime goout Dalc Walc health absences    G1  G2  G3  \n",
       "0  at_home  ...      4        3   \"4\"    1    1    \"3\"        6     5   6   6  \n",
       "1  at_home  ...      5        3   \"3\"    1    1    \"3\"        4     5   5   6  \n",
       "2  at_home  ...      4        3   \"2\"    2    3    \"3\"       10  zero   8  10  \n",
       "3   health  ...      3        2   \"2\"    1    1    \"5\"        2    15  14  15  \n",
       "4    other  ...      4        3   \"2\"    1    2    \"5\"        4     6  10  10  \n",
       "\n",
       "[5 rows x 34 columns]"
      ]
     },
     "execution_count": 3,
     "metadata": {},
     "output_type": "execute_result"
    }
   ],
   "source": [
    "original_df = pd.read_csv('students.csv', sep='|')\n",
    "original_df.head(5)"
   ]
  },
  {
   "cell_type": "code",
   "execution_count": 4,
   "metadata": {},
   "outputs": [
    {
     "name": "stdout",
     "output_type": "stream",
     "text": [
      "<class 'pandas.core.frame.DataFrame'>\n",
      "RangeIndex: 395 entries, 0 to 394\n",
      "Data columns (total 34 columns):\n",
      "Unnamed: 0    395 non-null int64\n",
      "school        395 non-null object\n",
      "sex           395 non-null object\n",
      "age           395 non-null object\n",
      "address       395 non-null object\n",
      "famsize       395 non-null object\n",
      "Pstatus       395 non-null object\n",
      "Medu          395 non-null object\n",
      "Fedu          395 non-null object\n",
      "Mjob          395 non-null object\n",
      "Fjob          395 non-null object\n",
      "reason        395 non-null object\n",
      "guardian      395 non-null object\n",
      "traveltime    395 non-null object\n",
      "studytime     395 non-null object\n",
      "failures      395 non-null object\n",
      "schoolsup     395 non-null object\n",
      "famsup        395 non-null object\n",
      "paid          395 non-null object\n",
      "activities    395 non-null object\n",
      "nursery       395 non-null object\n",
      "higher        395 non-null object\n",
      "internet      395 non-null object\n",
      "romantic      395 non-null object\n",
      "famrel        395 non-null object\n",
      "freetime      395 non-null object\n",
      "goout         395 non-null object\n",
      "Dalc          395 non-null object\n",
      "Walc          395 non-null object\n",
      "health        395 non-null object\n",
      "absences      395 non-null object\n",
      "G1            395 non-null object\n",
      "G2            395 non-null int64\n",
      "G3            395 non-null object\n",
      "dtypes: int64(2), object(32)\n",
      "memory usage: 105.0+ KB\n"
     ]
    }
   ],
   "source": [
    "# 1. Análisis de cada columna\n",
    "original_df.info()"
   ]
  },
  {
   "cell_type": "code",
   "execution_count": 5,
   "metadata": {},
   "outputs": [
    {
     "data": {
      "text/html": [
       "<div>\n",
       "<style scoped>\n",
       "    .dataframe tbody tr th:only-of-type {\n",
       "        vertical-align: middle;\n",
       "    }\n",
       "\n",
       "    .dataframe tbody tr th {\n",
       "        vertical-align: top;\n",
       "    }\n",
       "\n",
       "    .dataframe thead th {\n",
       "        text-align: right;\n",
       "    }\n",
       "</style>\n",
       "<table border=\"1\" class=\"dataframe\">\n",
       "  <thead>\n",
       "    <tr style=\"text-align: right;\">\n",
       "      <th></th>\n",
       "      <th>school</th>\n",
       "      <th>sex</th>\n",
       "      <th>age</th>\n",
       "      <th>address</th>\n",
       "      <th>famsize</th>\n",
       "      <th>Pstatus</th>\n",
       "      <th>Medu</th>\n",
       "      <th>Fedu</th>\n",
       "      <th>Mjob</th>\n",
       "      <th>Fjob</th>\n",
       "      <th>...</th>\n",
       "      <th>famrel</th>\n",
       "      <th>freetime</th>\n",
       "      <th>goout</th>\n",
       "      <th>Dalc</th>\n",
       "      <th>Walc</th>\n",
       "      <th>health</th>\n",
       "      <th>absences</th>\n",
       "      <th>G1</th>\n",
       "      <th>G2</th>\n",
       "      <th>G3</th>\n",
       "    </tr>\n",
       "  </thead>\n",
       "  <tbody>\n",
       "    <tr>\n",
       "      <th>0</th>\n",
       "      <td>GP</td>\n",
       "      <td>F</td>\n",
       "      <td>nulidade</td>\n",
       "      <td>U</td>\n",
       "      <td>GT3</td>\n",
       "      <td>A</td>\n",
       "      <td>4</td>\n",
       "      <td>4</td>\n",
       "      <td>at_home</td>\n",
       "      <td>teacher</td>\n",
       "      <td>...</td>\n",
       "      <td>4</td>\n",
       "      <td>3</td>\n",
       "      <td>\"4\"</td>\n",
       "      <td>1</td>\n",
       "      <td>1</td>\n",
       "      <td>\"3\"</td>\n",
       "      <td>6</td>\n",
       "      <td>5</td>\n",
       "      <td>6</td>\n",
       "      <td>6</td>\n",
       "    </tr>\n",
       "    <tr>\n",
       "      <th>1</th>\n",
       "      <td>GP</td>\n",
       "      <td>F</td>\n",
       "      <td>\"17\"</td>\n",
       "      <td>U</td>\n",
       "      <td>GT3</td>\n",
       "      <td>T</td>\n",
       "      <td>1</td>\n",
       "      <td>1</td>\n",
       "      <td>at_home</td>\n",
       "      <td>other</td>\n",
       "      <td>...</td>\n",
       "      <td>5</td>\n",
       "      <td>3</td>\n",
       "      <td>\"3\"</td>\n",
       "      <td>1</td>\n",
       "      <td>1</td>\n",
       "      <td>\"3\"</td>\n",
       "      <td>4</td>\n",
       "      <td>5</td>\n",
       "      <td>5</td>\n",
       "      <td>6</td>\n",
       "    </tr>\n",
       "    <tr>\n",
       "      <th>2</th>\n",
       "      <td>GP</td>\n",
       "      <td>F</td>\n",
       "      <td>\"15\"</td>\n",
       "      <td>U</td>\n",
       "      <td>LE3</td>\n",
       "      <td>T</td>\n",
       "      <td>1</td>\n",
       "      <td>1</td>\n",
       "      <td>at_home</td>\n",
       "      <td>other</td>\n",
       "      <td>...</td>\n",
       "      <td>4</td>\n",
       "      <td>3</td>\n",
       "      <td>\"2\"</td>\n",
       "      <td>2</td>\n",
       "      <td>3</td>\n",
       "      <td>\"3\"</td>\n",
       "      <td>10</td>\n",
       "      <td>zero</td>\n",
       "      <td>8</td>\n",
       "      <td>10</td>\n",
       "    </tr>\n",
       "  </tbody>\n",
       "</table>\n",
       "<p>3 rows × 33 columns</p>\n",
       "</div>"
      ],
      "text/plain": [
       "  school sex       age address famsize Pstatus Medu Fedu     Mjob     Fjob  \\\n",
       "0     GP   F  nulidade       U     GT3       A    4    4  at_home  teacher   \n",
       "1     GP   F      \"17\"       U     GT3       T    1    1  at_home    other   \n",
       "2     GP   F      \"15\"       U     LE3       T    1    1  at_home    other   \n",
       "\n",
       "   ... famrel freetime goout Dalc Walc health absences    G1 G2  G3  \n",
       "0  ...      4        3   \"4\"    1    1    \"3\"        6     5  6   6  \n",
       "1  ...      5        3   \"3\"    1    1    \"3\"        4     5  5   6  \n",
       "2  ...      4        3   \"2\"    2    3    \"3\"       10  zero  8  10  \n",
       "\n",
       "[3 rows x 33 columns]"
      ]
     },
     "execution_count": 5,
     "metadata": {},
     "output_type": "execute_result"
    }
   ],
   "source": [
    "# 2. Resolución de anomalías\n",
    "\n",
    "# 2.1) Eliminar unnamed column\n",
    "df1 = original_df.drop(columns=['Unnamed: 0'])\n",
    "\n",
    "df1.head(3)"
   ]
  },
  {
   "cell_type": "code",
   "execution_count": 6,
   "metadata": {},
   "outputs": [
    {
     "data": {
      "text/html": [
       "<div>\n",
       "<style scoped>\n",
       "    .dataframe tbody tr th:only-of-type {\n",
       "        vertical-align: middle;\n",
       "    }\n",
       "\n",
       "    .dataframe tbody tr th {\n",
       "        vertical-align: top;\n",
       "    }\n",
       "\n",
       "    .dataframe thead th {\n",
       "        text-align: right;\n",
       "    }\n",
       "</style>\n",
       "<table border=\"1\" class=\"dataframe\">\n",
       "  <thead>\n",
       "    <tr style=\"text-align: right;\">\n",
       "      <th></th>\n",
       "      <th>school</th>\n",
       "      <th>sex</th>\n",
       "      <th>age</th>\n",
       "      <th>address</th>\n",
       "      <th>famsize</th>\n",
       "      <th>Pstatus</th>\n",
       "      <th>Medu</th>\n",
       "      <th>Fedu</th>\n",
       "      <th>Mjob</th>\n",
       "      <th>Fjob</th>\n",
       "      <th>...</th>\n",
       "      <th>famrel</th>\n",
       "      <th>freetime</th>\n",
       "      <th>goout</th>\n",
       "      <th>Dalc</th>\n",
       "      <th>Walc</th>\n",
       "      <th>health</th>\n",
       "      <th>absences</th>\n",
       "      <th>G1</th>\n",
       "      <th>G2</th>\n",
       "      <th>G3</th>\n",
       "    </tr>\n",
       "  </thead>\n",
       "  <tbody>\n",
       "    <tr>\n",
       "      <th>0</th>\n",
       "      <td>GP</td>\n",
       "      <td>F</td>\n",
       "      <td>NaN</td>\n",
       "      <td>U</td>\n",
       "      <td>GT3</td>\n",
       "      <td>A</td>\n",
       "      <td>4</td>\n",
       "      <td>4</td>\n",
       "      <td>at_home</td>\n",
       "      <td>teacher</td>\n",
       "      <td>...</td>\n",
       "      <td>4</td>\n",
       "      <td>3</td>\n",
       "      <td>\"4\"</td>\n",
       "      <td>1</td>\n",
       "      <td>1</td>\n",
       "      <td>\"3\"</td>\n",
       "      <td>6</td>\n",
       "      <td>5</td>\n",
       "      <td>6</td>\n",
       "      <td>6</td>\n",
       "    </tr>\n",
       "    <tr>\n",
       "      <th>1</th>\n",
       "      <td>GP</td>\n",
       "      <td>F</td>\n",
       "      <td>\"17\"</td>\n",
       "      <td>U</td>\n",
       "      <td>GT3</td>\n",
       "      <td>T</td>\n",
       "      <td>1</td>\n",
       "      <td>1</td>\n",
       "      <td>at_home</td>\n",
       "      <td>other</td>\n",
       "      <td>...</td>\n",
       "      <td>5</td>\n",
       "      <td>3</td>\n",
       "      <td>\"3\"</td>\n",
       "      <td>1</td>\n",
       "      <td>1</td>\n",
       "      <td>\"3\"</td>\n",
       "      <td>4</td>\n",
       "      <td>5</td>\n",
       "      <td>5</td>\n",
       "      <td>6</td>\n",
       "    </tr>\n",
       "    <tr>\n",
       "      <th>2</th>\n",
       "      <td>GP</td>\n",
       "      <td>F</td>\n",
       "      <td>\"15\"</td>\n",
       "      <td>U</td>\n",
       "      <td>LE3</td>\n",
       "      <td>T</td>\n",
       "      <td>1</td>\n",
       "      <td>1</td>\n",
       "      <td>at_home</td>\n",
       "      <td>other</td>\n",
       "      <td>...</td>\n",
       "      <td>4</td>\n",
       "      <td>3</td>\n",
       "      <td>\"2\"</td>\n",
       "      <td>2</td>\n",
       "      <td>3</td>\n",
       "      <td>\"3\"</td>\n",
       "      <td>10</td>\n",
       "      <td>NaN</td>\n",
       "      <td>8</td>\n",
       "      <td>10</td>\n",
       "    </tr>\n",
       "  </tbody>\n",
       "</table>\n",
       "<p>3 rows × 33 columns</p>\n",
       "</div>"
      ],
      "text/plain": [
       "  school sex   age address famsize Pstatus Medu Fedu     Mjob     Fjob  ...  \\\n",
       "0     GP   F   NaN       U     GT3       A    4    4  at_home  teacher  ...   \n",
       "1     GP   F  \"17\"       U     GT3       T    1    1  at_home    other  ...   \n",
       "2     GP   F  \"15\"       U     LE3       T    1    1  at_home    other  ...   \n",
       "\n",
       "  famrel freetime goout Dalc Walc health absences   G1 G2  G3  \n",
       "0      4        3   \"4\"    1    1    \"3\"        6    5  6   6  \n",
       "1      5        3   \"3\"    1    1    \"3\"        4    5  5   6  \n",
       "2      4        3   \"2\"    2    3    \"3\"       10  NaN  8  10  \n",
       "\n",
       "[3 rows x 33 columns]"
      ]
     },
     "execution_count": 6,
     "metadata": {},
     "output_type": "execute_result"
    }
   ],
   "source": [
    "# 2.2) Para cada columna, reemplazar los casos perdidos\n",
    "df2 = df1.copy()\n",
    "\n",
    "numeric = [\n",
    "    'age',\n",
    "    'Medu',\n",
    "    'Fedu',\n",
    "    'traveltime',\n",
    "    'studytime',\n",
    "    'failures',\n",
    "    'famrel',\n",
    "    'freetime',\n",
    "    'goout',\n",
    "    'Dalc',\n",
    "    'Walc',\n",
    "    'health',\n",
    "    'absences',\n",
    "    'G1',\n",
    "    'G2',\n",
    "    'G3',\n",
    "]\n",
    "\n",
    "for col_name in df2:\n",
    "    missing = df2[col_name].isin(['nulidade', 'zero', 'sem validade'])\n",
    "    missing_count = sum(missing)\n",
    "    if missing_count > 0:\n",
    "        if col_name in numeric:\n",
    "            df2.loc[missing, col_name] = np.nan\n",
    "        else:\n",
    "            df2.loc[missing, col_name] = None\n",
    "\n",
    "df2.head(3)"
   ]
  },
  {
   "cell_type": "code",
   "execution_count": 7,
   "metadata": {},
   "outputs": [
    {
     "data": {
      "text/html": [
       "<div>\n",
       "<style scoped>\n",
       "    .dataframe tbody tr th:only-of-type {\n",
       "        vertical-align: middle;\n",
       "    }\n",
       "\n",
       "    .dataframe tbody tr th {\n",
       "        vertical-align: top;\n",
       "    }\n",
       "\n",
       "    .dataframe thead th {\n",
       "        text-align: right;\n",
       "    }\n",
       "</style>\n",
       "<table border=\"1\" class=\"dataframe\">\n",
       "  <thead>\n",
       "    <tr style=\"text-align: right;\">\n",
       "      <th></th>\n",
       "      <th>school</th>\n",
       "      <th>sex</th>\n",
       "      <th>age</th>\n",
       "      <th>address</th>\n",
       "      <th>famsize</th>\n",
       "      <th>Pstatus</th>\n",
       "      <th>Medu</th>\n",
       "      <th>Fedu</th>\n",
       "      <th>Mjob</th>\n",
       "      <th>Fjob</th>\n",
       "      <th>...</th>\n",
       "      <th>famrel</th>\n",
       "      <th>freetime</th>\n",
       "      <th>goout</th>\n",
       "      <th>Dalc</th>\n",
       "      <th>Walc</th>\n",
       "      <th>health</th>\n",
       "      <th>absences</th>\n",
       "      <th>G1</th>\n",
       "      <th>G2</th>\n",
       "      <th>G3</th>\n",
       "    </tr>\n",
       "  </thead>\n",
       "  <tbody>\n",
       "    <tr>\n",
       "      <th>0</th>\n",
       "      <td>GP</td>\n",
       "      <td>F</td>\n",
       "      <td>NaN</td>\n",
       "      <td>U</td>\n",
       "      <td>GT3</td>\n",
       "      <td>A</td>\n",
       "      <td>4</td>\n",
       "      <td>4</td>\n",
       "      <td>at_home</td>\n",
       "      <td>teacher</td>\n",
       "      <td>...</td>\n",
       "      <td>4</td>\n",
       "      <td>3</td>\n",
       "      <td>4</td>\n",
       "      <td>1</td>\n",
       "      <td>1</td>\n",
       "      <td>3</td>\n",
       "      <td>6</td>\n",
       "      <td>5</td>\n",
       "      <td>6</td>\n",
       "      <td>6</td>\n",
       "    </tr>\n",
       "    <tr>\n",
       "      <th>1</th>\n",
       "      <td>GP</td>\n",
       "      <td>F</td>\n",
       "      <td>17</td>\n",
       "      <td>U</td>\n",
       "      <td>GT3</td>\n",
       "      <td>T</td>\n",
       "      <td>1</td>\n",
       "      <td>1</td>\n",
       "      <td>at_home</td>\n",
       "      <td>other</td>\n",
       "      <td>...</td>\n",
       "      <td>5</td>\n",
       "      <td>3</td>\n",
       "      <td>3</td>\n",
       "      <td>1</td>\n",
       "      <td>1</td>\n",
       "      <td>3</td>\n",
       "      <td>4</td>\n",
       "      <td>5</td>\n",
       "      <td>5</td>\n",
       "      <td>6</td>\n",
       "    </tr>\n",
       "    <tr>\n",
       "      <th>2</th>\n",
       "      <td>GP</td>\n",
       "      <td>F</td>\n",
       "      <td>15</td>\n",
       "      <td>U</td>\n",
       "      <td>LE3</td>\n",
       "      <td>T</td>\n",
       "      <td>1</td>\n",
       "      <td>1</td>\n",
       "      <td>at_home</td>\n",
       "      <td>other</td>\n",
       "      <td>...</td>\n",
       "      <td>4</td>\n",
       "      <td>3</td>\n",
       "      <td>2</td>\n",
       "      <td>2</td>\n",
       "      <td>3</td>\n",
       "      <td>3</td>\n",
       "      <td>10</td>\n",
       "      <td>NaN</td>\n",
       "      <td>8</td>\n",
       "      <td>10</td>\n",
       "    </tr>\n",
       "  </tbody>\n",
       "</table>\n",
       "<p>3 rows × 33 columns</p>\n",
       "</div>"
      ],
      "text/plain": [
       "  school sex  age address famsize Pstatus Medu Fedu     Mjob     Fjob  ...  \\\n",
       "0     GP   F  NaN       U     GT3       A    4    4  at_home  teacher  ...   \n",
       "1     GP   F   17       U     GT3       T    1    1  at_home    other  ...   \n",
       "2     GP   F   15       U     LE3       T    1    1  at_home    other  ...   \n",
       "\n",
       "  famrel freetime goout Dalc Walc health absences   G1 G2  G3  \n",
       "0      4        3     4    1    1      3        6    5  6   6  \n",
       "1      5        3     3    1    1      3        4    5  5   6  \n",
       "2      4        3     2    2    3      3       10  NaN  8  10  \n",
       "\n",
       "[3 rows x 33 columns]"
      ]
     },
     "execution_count": 7,
     "metadata": {},
     "output_type": "execute_result"
    }
   ],
   "source": [
    "# 2.3) Columnas que son número pero que están como string\n",
    "df3 = df2.copy()\n",
    "\n",
    "for col_name in ['age', 'goout', 'health']:\n",
    "    not_null = df3[col_name].notnull()\n",
    "    df3.loc[not_null, col_name] = df3[not_null][col_name].apply(lambda n: int(n.replace('\"', '')))\n",
    "    \n",
    "for col_name in numeric:\n",
    "    not_nan = df3[col_name].notnull()\n",
    "    df3.loc[not_nan, col_name] = df3[not_nan][col_name].astype('int')\n",
    "\n",
    "df3.head(3)"
   ]
  },
  {
   "cell_type": "code",
   "execution_count": 8,
   "metadata": {},
   "outputs": [
    {
     "data": {
      "text/html": [
       "<div>\n",
       "<style scoped>\n",
       "    .dataframe tbody tr th:only-of-type {\n",
       "        vertical-align: middle;\n",
       "    }\n",
       "\n",
       "    .dataframe tbody tr th {\n",
       "        vertical-align: top;\n",
       "    }\n",
       "\n",
       "    .dataframe thead th {\n",
       "        text-align: right;\n",
       "    }\n",
       "</style>\n",
       "<table border=\"1\" class=\"dataframe\">\n",
       "  <thead>\n",
       "    <tr style=\"text-align: right;\">\n",
       "      <th></th>\n",
       "      <th>age</th>\n",
       "      <th>Medu</th>\n",
       "      <th>Fedu</th>\n",
       "      <th>traveltime</th>\n",
       "      <th>studytime</th>\n",
       "      <th>failures</th>\n",
       "      <th>famrel</th>\n",
       "      <th>freetime</th>\n",
       "      <th>goout</th>\n",
       "      <th>Dalc</th>\n",
       "      <th>...</th>\n",
       "      <th>guardian_father</th>\n",
       "      <th>guardian_other</th>\n",
       "      <th>schoolsup_yes</th>\n",
       "      <th>famsup_no</th>\n",
       "      <th>paid_yes</th>\n",
       "      <th>activities_no</th>\n",
       "      <th>nursery_no</th>\n",
       "      <th>higher_no</th>\n",
       "      <th>internet_no</th>\n",
       "      <th>romantic_yes</th>\n",
       "    </tr>\n",
       "  </thead>\n",
       "  <tbody>\n",
       "    <tr>\n",
       "      <th>1</th>\n",
       "      <td>17</td>\n",
       "      <td>1</td>\n",
       "      <td>1</td>\n",
       "      <td>1</td>\n",
       "      <td>2</td>\n",
       "      <td>0</td>\n",
       "      <td>5</td>\n",
       "      <td>3</td>\n",
       "      <td>3</td>\n",
       "      <td>1</td>\n",
       "      <td>...</td>\n",
       "      <td>1</td>\n",
       "      <td>0</td>\n",
       "      <td>0</td>\n",
       "      <td>0</td>\n",
       "      <td>0</td>\n",
       "      <td>1</td>\n",
       "      <td>1</td>\n",
       "      <td>0</td>\n",
       "      <td>0</td>\n",
       "      <td>0</td>\n",
       "    </tr>\n",
       "    <tr>\n",
       "      <th>3</th>\n",
       "      <td>15</td>\n",
       "      <td>4</td>\n",
       "      <td>2</td>\n",
       "      <td>1</td>\n",
       "      <td>3</td>\n",
       "      <td>0</td>\n",
       "      <td>3</td>\n",
       "      <td>2</td>\n",
       "      <td>2</td>\n",
       "      <td>1</td>\n",
       "      <td>...</td>\n",
       "      <td>0</td>\n",
       "      <td>0</td>\n",
       "      <td>0</td>\n",
       "      <td>0</td>\n",
       "      <td>1</td>\n",
       "      <td>0</td>\n",
       "      <td>0</td>\n",
       "      <td>0</td>\n",
       "      <td>0</td>\n",
       "      <td>1</td>\n",
       "    </tr>\n",
       "    <tr>\n",
       "      <th>5</th>\n",
       "      <td>16</td>\n",
       "      <td>4</td>\n",
       "      <td>3</td>\n",
       "      <td>1</td>\n",
       "      <td>2</td>\n",
       "      <td>0</td>\n",
       "      <td>5</td>\n",
       "      <td>4</td>\n",
       "      <td>2</td>\n",
       "      <td>1</td>\n",
       "      <td>...</td>\n",
       "      <td>0</td>\n",
       "      <td>0</td>\n",
       "      <td>0</td>\n",
       "      <td>0</td>\n",
       "      <td>1</td>\n",
       "      <td>0</td>\n",
       "      <td>0</td>\n",
       "      <td>0</td>\n",
       "      <td>0</td>\n",
       "      <td>0</td>\n",
       "    </tr>\n",
       "    <tr>\n",
       "      <th>6</th>\n",
       "      <td>16</td>\n",
       "      <td>2</td>\n",
       "      <td>2</td>\n",
       "      <td>1</td>\n",
       "      <td>2</td>\n",
       "      <td>0</td>\n",
       "      <td>4</td>\n",
       "      <td>4</td>\n",
       "      <td>4</td>\n",
       "      <td>1</td>\n",
       "      <td>...</td>\n",
       "      <td>0</td>\n",
       "      <td>0</td>\n",
       "      <td>0</td>\n",
       "      <td>1</td>\n",
       "      <td>0</td>\n",
       "      <td>1</td>\n",
       "      <td>0</td>\n",
       "      <td>0</td>\n",
       "      <td>0</td>\n",
       "      <td>0</td>\n",
       "    </tr>\n",
       "    <tr>\n",
       "      <th>7</th>\n",
       "      <td>17</td>\n",
       "      <td>4</td>\n",
       "      <td>4</td>\n",
       "      <td>2</td>\n",
       "      <td>2</td>\n",
       "      <td>0</td>\n",
       "      <td>4</td>\n",
       "      <td>1</td>\n",
       "      <td>4</td>\n",
       "      <td>1</td>\n",
       "      <td>...</td>\n",
       "      <td>0</td>\n",
       "      <td>0</td>\n",
       "      <td>1</td>\n",
       "      <td>0</td>\n",
       "      <td>0</td>\n",
       "      <td>1</td>\n",
       "      <td>0</td>\n",
       "      <td>0</td>\n",
       "      <td>1</td>\n",
       "      <td>0</td>\n",
       "    </tr>\n",
       "  </tbody>\n",
       "</table>\n",
       "<p>5 rows × 42 columns</p>\n",
       "</div>"
      ],
      "text/plain": [
       "   age  Medu  Fedu  traveltime  studytime  failures  famrel  freetime  goout  \\\n",
       "1   17     1     1           1          2         0       5         3      3   \n",
       "3   15     4     2           1          3         0       3         2      2   \n",
       "5   16     4     3           1          2         0       5         4      2   \n",
       "6   16     2     2           1          2         0       4         4      4   \n",
       "7   17     4     4           2          2         0       4         1      4   \n",
       "\n",
       "   Dalc  ...  guardian_father  guardian_other  schoolsup_yes  famsup_no  \\\n",
       "1     1  ...                1               0              0          0   \n",
       "3     1  ...                0               0              0          0   \n",
       "5     1  ...                0               0              0          0   \n",
       "6     1  ...                0               0              0          1   \n",
       "7     1  ...                0               0              1          0   \n",
       "\n",
       "   paid_yes  activities_no  nursery_no  higher_no  internet_no  romantic_yes  \n",
       "1         0              1           1          0            0             0  \n",
       "3         1              0           0          0            0             1  \n",
       "5         1              0           0          0            0             0  \n",
       "6         0              1           0          0            0             0  \n",
       "7         0              1           0          0            1             0  \n",
       "\n",
       "[5 rows x 42 columns]"
      ]
     },
     "execution_count": 8,
     "metadata": {},
     "output_type": "execute_result"
    }
   ],
   "source": [
    "df = nicos.get_dummies(df3)\n",
    "df.head(5)"
   ]
  },
  {
   "cell_type": "markdown",
   "metadata": {},
   "source": [
    "Descripción\n",
    "---"
   ]
  },
  {
   "cell_type": "markdown",
   "metadata": {},
   "source": [
    "### Análisis de valores perdidos"
   ]
  },
  {
   "cell_type": "markdown",
   "metadata": {},
   "source": [
    "Vamos a ver cómo se distribuyen los datos perdidos a lo largo del dataset:"
   ]
  },
  {
   "cell_type": "code",
   "execution_count": 9,
   "metadata": {
    "scrolled": false
   },
   "outputs": [
    {
     "data": {
      "image/png": "[encoded data removed]",
      "text/plain": [
       "<Figure size 1800x720 with 2 Axes>"
      ]
     },
     "metadata": {
      "needs_background": "light"
     },
     "output_type": "display_data"
    }
   ],
   "source": [
    "msngo.matrix(df3);"
   ]
  },
  {
   "cell_type": "code",
   "execution_count": 10,
   "metadata": {
    "scrolled": true
   },
   "outputs": [
    {
     "data": {
      "text/plain": [
       "schoolsup    8\n",
       "higher       6\n",
       "Pstatus      6\n",
       "Mjob         6\n",
       "nursery      6\n",
       "dtype: int64"
      ]
     },
     "execution_count": 10,
     "metadata": {},
     "output_type": "execute_result"
    }
   ],
   "source": [
    "df3.isna().sum().sort_values(ascending=False).head(5)"
   ]
  },
  {
   "cell_type": "markdown",
   "metadata": {},
   "source": [
    "En general son pocos los datos perdidos para cada columna, pero, como aparece en el gráfico anterior, están repartido en distintas observaciones.\n",
    "\n",
    "De hecho, si elimináramos las columnas con valores perdidos nos quedamos con un dataframe mucho más pequeño:"
   ]
  },
  {
   "cell_type": "code",
   "execution_count": 11,
   "metadata": {},
   "outputs": [
    {
     "name": "stdout",
     "output_type": "stream",
     "text": [
      "Perderíamos 111\n"
     ]
    }
   ],
   "source": [
    "print('Perderíamos', df3.shape[0] - df3.dropna().shape[0])"
   ]
  },
  {
   "cell_type": "markdown",
   "metadata": {},
   "source": [
    "Perderíamos cerca del 30% de datos. Sin embargo, debido a la distribución de datos perdidos, parece ser la mejor opción para así no interferir con los resultados del modelo.\n",
    "\n",
    "El dataframe final quedade la siguiente forma (obtenido en la sección anterior):"
   ]
  },
  {
   "cell_type": "code",
   "execution_count": 12,
   "metadata": {},
   "outputs": [
    {
     "data": {
      "text/html": [
       "<div>\n",
       "<style scoped>\n",
       "    .dataframe tbody tr th:only-of-type {\n",
       "        vertical-align: middle;\n",
       "    }\n",
       "\n",
       "    .dataframe tbody tr th {\n",
       "        vertical-align: top;\n",
       "    }\n",
       "\n",
       "    .dataframe thead th {\n",
       "        text-align: right;\n",
       "    }\n",
       "</style>\n",
       "<table border=\"1\" class=\"dataframe\">\n",
       "  <thead>\n",
       "    <tr style=\"text-align: right;\">\n",
       "      <th></th>\n",
       "      <th>age</th>\n",
       "      <th>Medu</th>\n",
       "      <th>Fedu</th>\n",
       "      <th>traveltime</th>\n",
       "      <th>studytime</th>\n",
       "      <th>failures</th>\n",
       "      <th>famrel</th>\n",
       "      <th>freetime</th>\n",
       "      <th>goout</th>\n",
       "      <th>Dalc</th>\n",
       "      <th>...</th>\n",
       "      <th>guardian_father</th>\n",
       "      <th>guardian_other</th>\n",
       "      <th>schoolsup_yes</th>\n",
       "      <th>famsup_no</th>\n",
       "      <th>paid_yes</th>\n",
       "      <th>activities_no</th>\n",
       "      <th>nursery_no</th>\n",
       "      <th>higher_no</th>\n",
       "      <th>internet_no</th>\n",
       "      <th>romantic_yes</th>\n",
       "    </tr>\n",
       "  </thead>\n",
       "  <tbody>\n",
       "    <tr>\n",
       "      <th>1</th>\n",
       "      <td>17</td>\n",
       "      <td>1</td>\n",
       "      <td>1</td>\n",
       "      <td>1</td>\n",
       "      <td>2</td>\n",
       "      <td>0</td>\n",
       "      <td>5</td>\n",
       "      <td>3</td>\n",
       "      <td>3</td>\n",
       "      <td>1</td>\n",
       "      <td>...</td>\n",
       "      <td>1</td>\n",
       "      <td>0</td>\n",
       "      <td>0</td>\n",
       "      <td>0</td>\n",
       "      <td>0</td>\n",
       "      <td>1</td>\n",
       "      <td>1</td>\n",
       "      <td>0</td>\n",
       "      <td>0</td>\n",
       "      <td>0</td>\n",
       "    </tr>\n",
       "    <tr>\n",
       "      <th>3</th>\n",
       "      <td>15</td>\n",
       "      <td>4</td>\n",
       "      <td>2</td>\n",
       "      <td>1</td>\n",
       "      <td>3</td>\n",
       "      <td>0</td>\n",
       "      <td>3</td>\n",
       "      <td>2</td>\n",
       "      <td>2</td>\n",
       "      <td>1</td>\n",
       "      <td>...</td>\n",
       "      <td>0</td>\n",
       "      <td>0</td>\n",
       "      <td>0</td>\n",
       "      <td>0</td>\n",
       "      <td>1</td>\n",
       "      <td>0</td>\n",
       "      <td>0</td>\n",
       "      <td>0</td>\n",
       "      <td>0</td>\n",
       "      <td>1</td>\n",
       "    </tr>\n",
       "    <tr>\n",
       "      <th>5</th>\n",
       "      <td>16</td>\n",
       "      <td>4</td>\n",
       "      <td>3</td>\n",
       "      <td>1</td>\n",
       "      <td>2</td>\n",
       "      <td>0</td>\n",
       "      <td>5</td>\n",
       "      <td>4</td>\n",
       "      <td>2</td>\n",
       "      <td>1</td>\n",
       "      <td>...</td>\n",
       "      <td>0</td>\n",
       "      <td>0</td>\n",
       "      <td>0</td>\n",
       "      <td>0</td>\n",
       "      <td>1</td>\n",
       "      <td>0</td>\n",
       "      <td>0</td>\n",
       "      <td>0</td>\n",
       "      <td>0</td>\n",
       "      <td>0</td>\n",
       "    </tr>\n",
       "    <tr>\n",
       "      <th>6</th>\n",
       "      <td>16</td>\n",
       "      <td>2</td>\n",
       "      <td>2</td>\n",
       "      <td>1</td>\n",
       "      <td>2</td>\n",
       "      <td>0</td>\n",
       "      <td>4</td>\n",
       "      <td>4</td>\n",
       "      <td>4</td>\n",
       "      <td>1</td>\n",
       "      <td>...</td>\n",
       "      <td>0</td>\n",
       "      <td>0</td>\n",
       "      <td>0</td>\n",
       "      <td>1</td>\n",
       "      <td>0</td>\n",
       "      <td>1</td>\n",
       "      <td>0</td>\n",
       "      <td>0</td>\n",
       "      <td>0</td>\n",
       "      <td>0</td>\n",
       "    </tr>\n",
       "    <tr>\n",
       "      <th>7</th>\n",
       "      <td>17</td>\n",
       "      <td>4</td>\n",
       "      <td>4</td>\n",
       "      <td>2</td>\n",
       "      <td>2</td>\n",
       "      <td>0</td>\n",
       "      <td>4</td>\n",
       "      <td>1</td>\n",
       "      <td>4</td>\n",
       "      <td>1</td>\n",
       "      <td>...</td>\n",
       "      <td>0</td>\n",
       "      <td>0</td>\n",
       "      <td>1</td>\n",
       "      <td>0</td>\n",
       "      <td>0</td>\n",
       "      <td>1</td>\n",
       "      <td>0</td>\n",
       "      <td>0</td>\n",
       "      <td>1</td>\n",
       "      <td>0</td>\n",
       "    </tr>\n",
       "  </tbody>\n",
       "</table>\n",
       "<p>5 rows × 42 columns</p>\n",
       "</div>"
      ],
      "text/plain": [
       "   age  Medu  Fedu  traveltime  studytime  failures  famrel  freetime  goout  \\\n",
       "1   17     1     1           1          2         0       5         3      3   \n",
       "3   15     4     2           1          3         0       3         2      2   \n",
       "5   16     4     3           1          2         0       5         4      2   \n",
       "6   16     2     2           1          2         0       4         4      4   \n",
       "7   17     4     4           2          2         0       4         1      4   \n",
       "\n",
       "   Dalc  ...  guardian_father  guardian_other  schoolsup_yes  famsup_no  \\\n",
       "1     1  ...                1               0              0          0   \n",
       "3     1  ...                0               0              0          0   \n",
       "5     1  ...                0               0              0          0   \n",
       "6     1  ...                0               0              0          1   \n",
       "7     1  ...                0               0              1          0   \n",
       "\n",
       "   paid_yes  activities_no  nursery_no  higher_no  internet_no  romantic_yes  \n",
       "1         0              1           1          0            0             0  \n",
       "3         1              0           0          0            0             1  \n",
       "5         1              0           0          0            0             0  \n",
       "6         0              1           0          0            0             0  \n",
       "7         0              1           0          0            1             0  \n",
       "\n",
       "[5 rows x 42 columns]"
      ]
     },
     "execution_count": 12,
     "metadata": {},
     "output_type": "execute_result"
    }
   ],
   "source": [
    "df.head(5)"
   ]
  },
  {
   "cell_type": "code",
   "execution_count": 13,
   "metadata": {
    "scrolled": true
   },
   "outputs": [
    {
     "name": "stdout",
     "output_type": "stream",
     "text": [
      "<class 'pandas.core.frame.DataFrame'>\n",
      "Int64Index: 284 entries, 1 to 394\n",
      "Data columns (total 42 columns):\n",
      "age                  284 non-null int64\n",
      "Medu                 284 non-null int64\n",
      "Fedu                 284 non-null int64\n",
      "traveltime           284 non-null int64\n",
      "studytime            284 non-null int64\n",
      "failures             284 non-null int64\n",
      "famrel               284 non-null int64\n",
      "freetime             284 non-null int64\n",
      "goout                284 non-null int64\n",
      "Dalc                 284 non-null int64\n",
      "Walc                 284 non-null int64\n",
      "health               284 non-null int64\n",
      "absences             284 non-null int64\n",
      "G1                   284 non-null int64\n",
      "G2                   284 non-null int64\n",
      "G3                   284 non-null int64\n",
      "school_MS            284 non-null int64\n",
      "sex_M                284 non-null int64\n",
      "address_R            284 non-null int64\n",
      "famsize_LE3          284 non-null int64\n",
      "Pstatus_A            284 non-null int64\n",
      "Mjob_services        284 non-null int64\n",
      "Mjob_teacher         284 non-null int64\n",
      "Mjob_at_home         284 non-null int64\n",
      "Mjob_health          284 non-null int64\n",
      "Fjob_services        284 non-null int64\n",
      "Fjob_teacher         284 non-null int64\n",
      "Fjob_health          284 non-null int64\n",
      "Fjob_at_home         284 non-null int64\n",
      "reason_home          284 non-null int64\n",
      "reason_reputation    284 non-null int64\n",
      "reason_other         284 non-null int64\n",
      "guardian_father      284 non-null int64\n",
      "guardian_other       284 non-null int64\n",
      "schoolsup_yes        284 non-null int64\n",
      "famsup_no            284 non-null int64\n",
      "paid_yes             284 non-null int64\n",
      "activities_no        284 non-null int64\n",
      "nursery_no           284 non-null int64\n",
      "higher_no            284 non-null int64\n",
      "internet_no          284 non-null int64\n",
      "romantic_yes         284 non-null int64\n",
      "dtypes: int64(42)\n",
      "memory usage: 95.4 KB\n"
     ]
    }
   ],
   "source": [
    "df.info()"
   ]
  },
  {
   "cell_type": "markdown",
   "metadata": {},
   "source": [
    "### Análisis descriptivo"
   ]
  },
  {
   "cell_type": "markdown",
   "metadata": {},
   "source": [
    "Ahora veremos un análisis descriptivo de las variables del dataset. \n",
    "\n",
    "Para esto, utilizaré el dataframe `df3` (aunque sin datos perdidos) el cual es igual al los datos original pero sin variables binarizadas. Esto es por facilidad para graficar la información."
   ]
  },
  {
   "cell_type": "code",
   "execution_count": 14,
   "metadata": {},
   "outputs": [],
   "source": [
    "data = df3.dropna().infer_objects()"
   ]
  },
  {
   "cell_type": "markdown",
   "metadata": {},
   "source": [
    "### Inspección visual vector objetivo"
   ]
  },
  {
   "cell_type": "code",
   "execution_count": 15,
   "metadata": {
    "scrolled": false
   },
   "outputs": [
    {
     "data": {
      "image/png": "[encoded data removed]",
      "text/plain": [
       "<Figure size 1080x360 with 3 Axes>"
      ]
     },
     "metadata": {
      "needs_background": "light"
     },
     "output_type": "display_data"
    }
   ],
   "source": [
    "nicos.plot_columns_behaviour(data[['G1', 'G2', 'G3']], kind='numeric')"
   ]
  },
  {
   "cell_type": "markdown",
   "metadata": {},
   "source": [
    "La media y la mediana en todos los vectores objetivos se ve muy similar, exceptuando el promedio final donde la frecuencia de promedios con 0 es mayor.\n",
    "\n",
    "Para el promedio inicial, no hay observaciones con 0. Pero en el segundo semestre la frecuencia aumenta a 3% mientras que para el promedio final ésta se encuentra cercana a 6%."
   ]
  },
  {
   "cell_type": "markdown",
   "metadata": {},
   "source": [
    "### Inspeción visual de Variables"
   ]
  },
  {
   "cell_type": "code",
   "execution_count": 16,
   "metadata": {
    "scrolled": false
   },
   "outputs": [
    {
     "data": {
      "image/png": "[encoded data removed]",
      "text/plain": [
       "<Figure size 1080x360 with 1 Axes>"
      ]
     },
     "metadata": {
      "needs_background": "light"
     },
     "output_type": "display_data"
    }
   ],
   "source": [
    "nicos.plot_columns_behaviour(data[['absences']], kind='numeric')"
   ]
  },
  {
   "cell_type": "markdown",
   "metadata": {},
   "source": [
    "La cantidad de ausencias escolares se parece más a una expotencial, donde existen muchos alumnos sin ausencias, y a medida que aumentamos la cantidad de ausencias, la frecuencia disminuye considerablemente."
   ]
  },
  {
   "cell_type": "code",
   "execution_count": 17,
   "metadata": {},
   "outputs": [
    {
     "data": {
      "image/png": "[encoded data removed]",
      "text/plain": [
       "<Figure size 1080x360 with 1 Axes>"
      ]
     },
     "metadata": {
      "needs_background": "light"
     },
     "output_type": "display_data"
    }
   ],
   "source": [
    "nicos.plot_columns_behaviour(data[['age']])"
   ]
  },
  {
   "cell_type": "markdown",
   "metadata": {},
   "source": [
    "La edad si bien es numérica, queda mejor graficada con un `countplot` que con un histograma debido a que la cantidad de edades es bajo. \n",
    "\n",
    "Aquí la mayoría de alumnos tiene entre 15 y 18 años, mientras que unos pocos tienen edad 19 o más (los que probablemente hayan repetido alguna vez)"
   ]
  },
  {
   "cell_type": "code",
   "execution_count": 18,
   "metadata": {},
   "outputs": [
    {
     "data": {
      "image/png": "[encoded data removed]",
      "text/plain": [
       "<Figure size 432x288 with 1 Axes>"
      ]
     },
     "metadata": {
      "needs_background": "light"
     },
     "output_type": "display_data"
    }
   ],
   "source": [
    "pd.concat([data['Mjob'].value_counts('%').to_frame(), data['Fjob'].value_counts('%').to_frame()], axis=1).plot.bar();"
   ]
  },
  {
   "cell_type": "markdown",
   "metadata": {},
   "source": [
    "Comparativamente, las madres son las que mayoritariamente están en la casa (triplican la frecuencia comparado con los padres) y que trabajan principalmente en como profesoras o en algo relacionado a la salud (duplican en frecuencia comparado con los padres). Como la categoría de servicios está balanceada, los padres restantes están trabajando en otros tipos de trabajos."
   ]
  },
  {
   "cell_type": "code",
   "execution_count": 19,
   "metadata": {},
   "outputs": [
    {
     "data": {
      "image/png": "[encoded data removed]",
      "text/plain": [
       "<Figure size 1080x360 with 2 Axes>"
      ]
     },
     "metadata": {
      "needs_background": "light"
     },
     "output_type": "display_data"
    }
   ],
   "source": [
    "nicos.plot_columns_behaviour(data[['guardian', 'reason']])"
   ]
  },
  {
   "cell_type": "markdown",
   "metadata": {},
   "source": [
    "La mayoría de apoderados son las madres, superando enormemente a las categorías de padre y de otros.\n",
    "\n",
    "La razón para escoger la escuela está balanceado. La preferencia de cursos está en primer lugar, mientras que la reputación de la escuela y la cercanía con la casa están muy parecidas."
   ]
  },
  {
   "cell_type": "code",
   "execution_count": 20,
   "metadata": {},
   "outputs": [
    {
     "ename": "NameError",
     "evalue": "name 'binary_columns' is not defined",
     "output_type": "error",
     "traceback": [
      "\u001b[0;31m---------------------------------------------------------------------------\u001b[0m",
      "\u001b[0;31mNameError\u001b[0m                                 Traceback (most recent call last)",
      "\u001b[0;32m<ipython-input-20-142c5c204672>\u001b[0m in \u001b[0;36m<module>\u001b[0;34m\u001b[0m\n\u001b[0;32m----> 1\u001b[0;31m \u001b[0mnicos\u001b[0m\u001b[0;34m.\u001b[0m\u001b[0mplot_columns_behaviour\u001b[0m\u001b[0;34m(\u001b[0m\u001b[0mdata\u001b[0m\u001b[0;34m[\u001b[0m\u001b[0mbinary_columns\u001b[0m\u001b[0;34m]\u001b[0m\u001b[0;34m)\u001b[0m\u001b[0;34m\u001b[0m\u001b[0;34m\u001b[0m\u001b[0m\n\u001b[0m",
      "\u001b[0;31mNameError\u001b[0m: name 'binary_columns' is not defined"
     ]
    }
   ],
   "source": [
    "nicos.plot_columns_behaviour(data[binary_columns])"
   ]
  },
  {
   "cell_type": "markdown",
   "metadata": {},
   "source": [
    "En cuanto a las variables binarias, hay variables que están o muy balanceadas o muy desbalanceadas.\n",
    "\n",
    "**Balanceadas**:\n",
    "    \n",
    "- Apoyo educacional familiar\n",
    "- Clases particulares\n",
    "- Actividades extracurriculares\n",
    "- Sexo el estudiante\n",
    "\n",
    "Para cada una de estas variables, aproximadamente la mitad de observaciones son `si` y la otra mitad son `no`.\n",
    "\n",
    "**No balanceadas**:\n",
    "\n",
    "- Apoyo educacional en el colegio: son pocos los que dicen haber tenido apoyo.\n",
    "- Asistió a guardería infantil: la mayoría si asistió a guardería\n",
    "- Desea proseguir estudios superiores: la mayoría desea proseguir con estudios superiores\n",
    "- Acceso a internet desde el hogar: la mayoría tiene acceso a internet\n",
    "- Relación romántica: la mayoría no tiene relaciones románticas\n",
    "- Escuela del estudiante: la mayoría de las observaciones son de la escuela Gabriel Pereira\n",
    "- Ubicación casa del estudiante: la mayoría está en zonas urbanas\n",
    "- Tamaño de la familia: la mayoría vive con familia de tamaño mayor o igual a 3\n",
    "- Estado cohabitacional de los padres: la mayoría de los padres de los estudiantes viven juntos"
   ]
  },
  {
   "cell_type": "code",
   "execution_count": 21,
   "metadata": {},
   "outputs": [
    {
     "data": {
      "image/png": "[encoded data removed]",
      "text/plain": [
       "<Figure size 432x288 with 1 Axes>"
      ]
     },
     "metadata": {
      "needs_background": "light"
     },
     "output_type": "display_data"
    }
   ],
   "source": [
    "pd.concat([data['Medu'].value_counts('%').to_frame(), data['Fedu'].value_counts('%').to_frame()], axis=1).plot.bar();"
   ]
  },
  {
   "cell_type": "markdown",
   "metadata": {},
   "source": [
    "Porcentualmente, las madres de los alumnos tienen un mayor nivel educacional en comparación a los padres."
   ]
  },
  {
   "cell_type": "code",
   "execution_count": 22,
   "metadata": {
    "scrolled": true
   },
   "outputs": [
    {
     "data": {
      "image/png": "[encoded data removed]",
      "text/plain": [
       "<Figure size 432x288 with 1 Axes>"
      ]
     },
     "metadata": {
      "needs_background": "light"
     },
     "output_type": "display_data"
    }
   ],
   "source": [
    "value_count_dfs = [data[x].value_counts().to_frame() for x in ['traveltime', 'studytime', 'freetime']]\n",
    "pd.concat(value_count_dfs, axis=1).plot.bar();"
   ]
  },
  {
   "cell_type": "markdown",
   "metadata": {},
   "source": [
    "- La mayoría de alumnos considera que tiene mucho tiempo libre\n",
    "- La mayoría de alumnos considera que el tiempo de viaje al colegio es poco (< 15 minutos)\n",
    "- La mayoría de alumnos considera que estudia poco (<3 horas)"
   ]
  },
  {
   "cell_type": "code",
   "execution_count": 23,
   "metadata": {},
   "outputs": [
    {
     "data": {
      "image/png": "[encoded data removed]",
      "text/plain": [
       "<Figure size 432x288 with 2 Axes>"
      ]
     },
     "metadata": {
      "needs_background": "light"
     },
     "output_type": "display_data"
    }
   ],
   "source": [
    "sns.heatmap(data[['traveltime', 'studytime', 'freetime']].corr(), annot=True);"
   ]
  },
  {
   "cell_type": "markdown",
   "metadata": {},
   "source": [
    "Viendo las correlaciones entre estas tres, en realidad se ve una baja correlación entre estas variables. Cabe destacar que si bien hay poca, entre todas es negativa (mayor tiempo de viaje, menor tiempo de estudio)."
   ]
  },
  {
   "cell_type": "code",
   "execution_count": 24,
   "metadata": {},
   "outputs": [
    {
     "data": {
      "image/png": "[encoded data removed]",
      "text/plain": [
       "<Figure size 1080x720 with 6 Axes>"
      ]
     },
     "metadata": {
      "needs_background": "light"
     },
     "output_type": "display_data"
    }
   ],
   "source": [
    "rest_of_colums = [\n",
    "    'failures',\n",
    "    'famrel',\n",
    "    'goout',\n",
    "    'Dalc',\n",
    "    'Walc',\n",
    "    'health',\n",
    "]\n",
    "\n",
    "nicos.plot_columns_behaviour(data[rest_of_colums])"
   ]
  },
  {
   "cell_type": "markdown",
   "metadata": {},
   "source": [
    "- Si bien la mayoría de los alumnos no toma alcohol durante la semana, la distribución cambia cuando vemos el consumo de alchool los fines de semana.\n",
    "- En cuanto a salud, la mayoría indica estar bien\n",
    "- Las salidas con alumnos se ve que distribuye normal\n",
    "- El número de clases reprobadas para la mayoría es 0\n",
    "- La mayoría dice tener buenas relaciones familiares\n",
    "\n",
    "La matriz de correlación entre las variables que tienen que ver con el consumo de alcohol:"
   ]
  },
  {
   "cell_type": "code",
   "execution_count": 25,
   "metadata": {},
   "outputs": [
    {
     "data": {
      "image/png": "[encoded data removed]",
      "text/plain": [
       "<Figure size 432x288 with 2 Axes>"
      ]
     },
     "metadata": {
      "needs_background": "light"
     },
     "output_type": "display_data"
    }
   ],
   "source": [
    "sns.heatmap(data[rest_of_colums].corr(), annot=True);"
   ]
  },
  {
   "cell_type": "markdown",
   "metadata": {},
   "source": [
    "Al ver las correlaciones más altas podemos decir que:\n",
    "\n",
    "- La correlación entre consumo de alchool en la semana y el fin de semana es > 0.5, lo cual tiene sentido pues alguien que toma en la semana es probable que también tome el fin de semana.\n",
    "- Las salidas con amigos pueden influir en un aumento en de consumo de alchool, sobretodo los fin de semana (aunque la correlación es < 0.5)\n",
    "\n",
    "De estas correlaciones, la más significativa es consumo de alcohol en la semana y el fin de semana.\n",
    "\n",
    "Si vemos los promedios de estas variables:"
   ]
  },
  {
   "cell_type": "code",
   "execution_count": 26,
   "metadata": {},
   "outputs": [
    {
     "data": {
      "image/png": "[encoded data removed]",
      "text/plain": [
       "<Figure size 432x288 with 1 Axes>"
      ]
     },
     "metadata": {
      "needs_background": "light"
     },
     "output_type": "display_data"
    }
   ],
   "source": [
    "variable = []\n",
    "mean = []\n",
    "\n",
    "for colname, serie in data[rest_of_colums].iteritems():\n",
    "    variable.append(nicos.humanize(colname))\n",
    "    mean.append(serie.mean())\n",
    "\n",
    "df_mean = pd.DataFrame({'var':variable, 'mean': mean}).sort_values(by=['mean'])\n",
    "plt.plot(df_mean['mean'], df_mean['var'],'o');"
   ]
  },
  {
   "cell_type": "markdown",
   "metadata": {},
   "source": [
    "Un sujeto promedio tendería a tener \"buenos\" indicadores: buena relación con los familiares, buen estado de salud actal, salidas con amigos, bajo consumo de alcohol durante la semana, sin clases reprobadas y un consumo moderado de alcohol el fin de semana."
   ]
  },
  {
   "cell_type": "markdown",
   "metadata": {},
   "source": [
    "### Inspección visual de coreaciones entre vector objetivo y otras variables"
   ]
  },
  {
   "cell_type": "markdown",
   "metadata": {},
   "source": [
    "Las principales correlaciones (a nivel global) las podemos ver en la siguiente imagen:"
   ]
  },
  {
   "cell_type": "code",
   "execution_count": 27,
   "metadata": {
    "scrolled": false
   },
   "outputs": [
    {
     "data": {
      "image/png": "[encoded data removed]",
      "text/plain": [
       "<Figure size 1080x360 with 2 Axes>"
      ]
     },
     "metadata": {
      "needs_background": "light"
     },
     "output_type": "display_data"
    }
   ],
   "source": [
    "nicos.plot_main_correlations(data[numeric], 0.4)"
   ]
  },
  {
   "cell_type": "markdown",
   "metadata": {},
   "source": [
    "Nada fuera de lo común:\n",
    "\n",
    "- Hay una alta correlación entre G2 y G3, así como entre G1 y G2. La nota final debería depender de la nota de los dos primeros semestres.\n",
    "- Existe una correlación entre nivel educacional de los padres y madres.\n",
    "- Como vimos anteriormente, existe correlación entre beber alcohol en la semana y los fin de semanas, así como también salir con amigos con beber alchohol."
   ]
  },
  {
   "cell_type": "markdown",
   "metadata": {},
   "source": [
    "Mientras que las correlaciones más pequeñas (respecto a las notas) son:"
   ]
  },
  {
   "cell_type": "code",
   "execution_count": 28,
   "metadata": {},
   "outputs": [
    {
     "data": {
      "text/html": [
       "<div>\n",
       "<style scoped>\n",
       "    .dataframe tbody tr th:only-of-type {\n",
       "        vertical-align: middle;\n",
       "    }\n",
       "\n",
       "    .dataframe tbody tr th {\n",
       "        vertical-align: top;\n",
       "    }\n",
       "\n",
       "    .dataframe thead th {\n",
       "        text-align: right;\n",
       "    }\n",
       "</style>\n",
       "<table border=\"1\" class=\"dataframe\">\n",
       "  <thead>\n",
       "    <tr style=\"text-align: right;\">\n",
       "      <th></th>\n",
       "      <th>G1</th>\n",
       "      <th>G2</th>\n",
       "      <th>G3</th>\n",
       "    </tr>\n",
       "  </thead>\n",
       "  <tbody>\n",
       "    <tr>\n",
       "      <th>age</th>\n",
       "      <td>-0.042289</td>\n",
       "      <td>NaN</td>\n",
       "      <td>NaN</td>\n",
       "    </tr>\n",
       "    <tr>\n",
       "      <th>traveltime</th>\n",
       "      <td>-0.078746</td>\n",
       "      <td>NaN</td>\n",
       "      <td>-0.091532</td>\n",
       "    </tr>\n",
       "    <tr>\n",
       "      <th>studytime</th>\n",
       "      <td>NaN</td>\n",
       "      <td>0.092907</td>\n",
       "      <td>0.066506</td>\n",
       "    </tr>\n",
       "    <tr>\n",
       "      <th>famrel</th>\n",
       "      <td>0.033950</td>\n",
       "      <td>-0.003285</td>\n",
       "      <td>0.069963</td>\n",
       "    </tr>\n",
       "    <tr>\n",
       "      <th>freetime</th>\n",
       "      <td>0.026875</td>\n",
       "      <td>0.011904</td>\n",
       "      <td>0.037968</td>\n",
       "    </tr>\n",
       "    <tr>\n",
       "      <th>Dalc</th>\n",
       "      <td>-0.080415</td>\n",
       "      <td>-0.061280</td>\n",
       "      <td>-0.052820</td>\n",
       "    </tr>\n",
       "    <tr>\n",
       "      <th>Walc</th>\n",
       "      <td>NaN</td>\n",
       "      <td>-0.079485</td>\n",
       "      <td>-0.033601</td>\n",
       "    </tr>\n",
       "    <tr>\n",
       "      <th>absences</th>\n",
       "      <td>-0.055033</td>\n",
       "      <td>-0.056140</td>\n",
       "      <td>0.013487</td>\n",
       "    </tr>\n",
       "  </tbody>\n",
       "</table>\n",
       "</div>"
      ],
      "text/plain": [
       "                  G1        G2        G3\n",
       "age        -0.042289       NaN       NaN\n",
       "traveltime -0.078746       NaN -0.091532\n",
       "studytime        NaN  0.092907  0.066506\n",
       "famrel      0.033950 -0.003285  0.069963\n",
       "freetime    0.026875  0.011904  0.037968\n",
       "Dalc       -0.080415 -0.061280 -0.052820\n",
       "Walc             NaN -0.079485 -0.033601\n",
       "absences   -0.055033 -0.056140  0.013487"
      ]
     },
     "execution_count": 28,
     "metadata": {},
     "output_type": "execute_result"
    }
   ],
   "source": [
    "M = data[numeric].corr()\n",
    "threshold = 0.1\n",
    "worst_corr = M[((M < threshold) & (M > -threshold))\n",
    "              ].dropna(axis=0, how='all').dropna(axis=1, how='all')\n",
    "worst_corr[['G1', 'G2', 'G3']].dropna(how='all')"
   ]
  },
  {
   "cell_type": "markdown",
   "metadata": {},
   "source": [
    "**¿Cómo varía el vector objetivo con las variables categóricas o binarias?**\n",
    "\n",
    "Los siguientes gráficos muestran la distribución de cada nota en distintos grupos para las variables binarias pero sólo se muestran cuando existe suficiencia estadística para rechazar la hipótesis nula de que las medias son iguales en ambos grupos.\n",
    "\n",
    "Usamos ahora el dataset que tenemos con todas las variables binarizadas:"
   ]
  },
  {
   "cell_type": "code",
   "execution_count": 32,
   "metadata": {
    "scrolled": false
   },
   "outputs": [
    {
     "data": {
      "image/png": "[encoded data removed]",
      "text/plain": [
       "<Figure size 432x288 with 1 Axes>"
      ]
     },
     "metadata": {
      "needs_background": "light"
     },
     "output_type": "display_data"
    },
    {
     "data": {
      "image/png": "[encoded data removed]",
      "text/plain": [
       "<Figure size 432x288 with 1 Axes>"
      ]
     },
     "metadata": {
      "needs_background": "light"
     },
     "output_type": "display_data"
    },
    {
     "data": {
      "image/png": "[encoded data removed]",
      "text/plain": [
       "<Figure size 432x288 with 1 Axes>"
      ]
     },
     "metadata": {
      "needs_background": "light"
     },
     "output_type": "display_data"
    },
    {
     "data": {
      "image/png": "[encoded data removed]",
      "text/plain": [
       "<Figure size 432x288 with 1 Axes>"
      ]
     },
     "metadata": {
      "needs_background": "light"
     },
     "output_type": "display_data"
    },
    {
     "data": {
      "image/png": "[encoded data removed]",
      "text/plain": [
       "<Figure size 432x288 with 1 Axes>"
      ]
     },
     "metadata": {
      "needs_background": "light"
     },
     "output_type": "display_data"
    },
    {
     "data": {
      "image/png": "[encoded data removed]",
      "text/plain": [
       "<Figure size 432x288 with 1 Axes>"
      ]
     },
     "metadata": {
      "needs_background": "light"
     },
     "output_type": "display_data"
    },
    {
     "data": {
      "image/png": "[encoded data removed]",
      "text/plain": [
       "<Figure size 432x288 with 1 Axes>"
      ]
     },
     "metadata": {
      "needs_background": "light"
     },
     "output_type": "display_data"
    },
    {
     "data": {
      "image/png": "[encoded data removed]",
      "text/plain": [
       "<Figure size 432x288 with 1 Axes>"
      ]
     },
     "metadata": {
      "needs_background": "light"
     },
     "output_type": "display_data"
    },
    {
     "data": {
      "image/png": "[encoded data removed]",
      "text/plain": [
       "<Figure size 432x288 with 1 Axes>"
      ]
     },
     "metadata": {
      "needs_background": "light"
     },
     "output_type": "display_data"
    },
    {
     "data": {
      "image/png": "[encoded data removed]",
      "text/plain": [
       "<Figure size 432x288 with 1 Axes>"
      ]
     },
     "metadata": {
      "needs_background": "light"
     },
     "output_type": "display_data"
    }
   ],
   "source": [
    "for grades in ['G1', 'G2', 'G3']:\n",
    "    for binary in df.loc[:, 'school_MS': 'romantic_yes']:\n",
    "        different_mean = nicos.run_hip_test(df, grades, binary)\n",
    "        if different_mean:\n",
    "            nicos.graph_hist(df, grades, binary)"
   ]
  },
  {
   "cell_type": "markdown",
   "metadata": {},
   "source": [
    "**Observaciones**:\n",
    "\n",
    "- Al parecer los alumnos que viven en zonas urbanas tienen mejor promedio en comparación con los que no viven en zonas urbanas.\n",
    "- Los alumnos que quieren continuar con estudios superiores tienen mejor promedio en comparación con los que no.\n",
    "- Por alguna razón, el promedio de la nota en el grupo de alumnos que prefirió un colegio por cursos es menor que en el resto.\n",
    "- Los alumnos que dicen tener apoyo de la escuela tienen mayor promedio."
   ]
  },
  {
   "cell_type": "markdown",
   "metadata": {},
   "source": [
    "**¿Cómo se ven las principales correlaciones en el conjunto completo?**"
   ]
  },
  {
   "cell_type": "code",
   "execution_count": 33,
   "metadata": {},
   "outputs": [
    {
     "data": {
      "image/png": "[encoded data removed]",
      "text/plain": [
       "<Figure size 1080x360 with 2 Axes>"
      ]
     },
     "metadata": {
      "needs_background": "light"
     },
     "output_type": "display_data"
    }
   ],
   "source": [
    "nicos.plot_main_correlations(df)"
   ]
  },
  {
   "cell_type": "markdown",
   "metadata": {},
   "source": [
    "No se ve ninguna correlación importante para las notas, aunque muchos de los atributos son `boolean` (la correlación de Pearson no funciona muy bien en este caso)."
   ]
  },
  {
   "cell_type": "markdown",
   "metadata": {},
   "source": [
    "Modelación descriptiva\n",
    "---\n",
    "\n",
    "TODO:\n",
    "\n",
    "- Elementos a considerar en éste hito:\n",
    "    - La modelación mediante regresión de ambos problemas. (2 puntos)\n",
    "    - La interpretación de los principales regresores en cada problema. (2 puntos)\n",
    "    - La definición de las estrategias de Modelación predictiva. (1 punto)"
   ]
  },
  {
   "cell_type": "markdown",
   "metadata": {},
   "source": [
    "### Modelación de regresión"
   ]
  },
  {
   "cell_type": "code",
   "execution_count": 34,
   "metadata": {},
   "outputs": [],
   "source": [
    "def build_model(df, target, *banned_columns):\n",
    "    regressors = [item for item in df.columns if item not in banned_columns]\n",
    "    return smf.ols('{} ~ {}'.format(target, ' + '.join(regressors)), df)"
   ]
  },
  {
   "cell_type": "code",
   "execution_count": 35,
   "metadata": {},
   "outputs": [
    {
     "data": {
      "text/html": [
       "<table class=\"simpletable\">\n",
       "<caption>OLS Regression Results</caption>\n",
       "<tr>\n",
       "  <th>Dep. Variable:</th>           <td>G3</td>        <th>  R-squared:         </th> <td>   0.312</td>\n",
       "</tr>\n",
       "<tr>\n",
       "  <th>Model:</th>                   <td>OLS</td>       <th>  Adj. R-squared:    </th> <td>   0.201</td>\n",
       "</tr>\n",
       "<tr>\n",
       "  <th>Method:</th>             <td>Least Squares</td>  <th>  F-statistic:       </th> <td>   2.831</td>\n",
       "</tr>\n",
       "<tr>\n",
       "  <th>Date:</th>             <td>Wed, 24 Jul 2019</td> <th>  Prob (F-statistic):</th> <td>6.14e-07</td>\n",
       "</tr>\n",
       "<tr>\n",
       "  <th>Time:</th>                 <td>18:06:59</td>     <th>  Log-Likelihood:    </th> <td> -780.76</td>\n",
       "</tr>\n",
       "<tr>\n",
       "  <th>No. Observations:</th>      <td>   284</td>      <th>  AIC:               </th> <td>   1642.</td>\n",
       "</tr>\n",
       "<tr>\n",
       "  <th>Df Residuals:</th>          <td>   244</td>      <th>  BIC:               </th> <td>   1787.</td>\n",
       "</tr>\n",
       "<tr>\n",
       "  <th>Df Model:</th>              <td>    39</td>      <th>                     </th>     <td> </td>   \n",
       "</tr>\n",
       "<tr>\n",
       "  <th>Covariance Type:</th>      <td>nonrobust</td>    <th>                     </th>     <td> </td>   \n",
       "</tr>\n",
       "</table>\n",
       "<table class=\"simpletable\">\n",
       "<tr>\n",
       "          <td></td>             <th>coef</th>     <th>std err</th>      <th>t</th>      <th>P>|t|</th>  <th>[0.025</th>    <th>0.975]</th>  \n",
       "</tr>\n",
       "<tr>\n",
       "  <th>Intercept</th>         <td>   11.5320</td> <td>    4.796</td> <td>    2.404</td> <td> 0.017</td> <td>    2.085</td> <td>   20.979</td>\n",
       "</tr>\n",
       "<tr>\n",
       "  <th>age</th>               <td>   -0.1608</td> <td>    0.260</td> <td>   -0.618</td> <td> 0.537</td> <td>   -0.673</td> <td>    0.352</td>\n",
       "</tr>\n",
       "<tr>\n",
       "  <th>Medu</th>              <td>    0.5017</td> <td>    0.397</td> <td>    1.265</td> <td> 0.207</td> <td>   -0.279</td> <td>    1.283</td>\n",
       "</tr>\n",
       "<tr>\n",
       "  <th>Fedu</th>              <td>   -0.3060</td> <td>    0.333</td> <td>   -0.920</td> <td> 0.358</td> <td>   -0.961</td> <td>    0.349</td>\n",
       "</tr>\n",
       "<tr>\n",
       "  <th>traveltime</th>        <td>   -0.1333</td> <td>    0.409</td> <td>   -0.326</td> <td> 0.745</td> <td>   -0.940</td> <td>    0.673</td>\n",
       "</tr>\n",
       "<tr>\n",
       "  <th>studytime</th>         <td>    0.3779</td> <td>    0.345</td> <td>    1.094</td> <td> 0.275</td> <td>   -0.302</td> <td>    1.058</td>\n",
       "</tr>\n",
       "<tr>\n",
       "  <th>failures</th>          <td>   -1.4767</td> <td>    0.398</td> <td>   -3.713</td> <td> 0.000</td> <td>   -2.260</td> <td>   -0.693</td>\n",
       "</tr>\n",
       "<tr>\n",
       "  <th>famrel</th>            <td>    0.4857</td> <td>    0.300</td> <td>    1.621</td> <td> 0.106</td> <td>   -0.105</td> <td>    1.076</td>\n",
       "</tr>\n",
       "<tr>\n",
       "  <th>freetime</th>          <td>    0.4721</td> <td>    0.271</td> <td>    1.739</td> <td> 0.083</td> <td>   -0.063</td> <td>    1.007</td>\n",
       "</tr>\n",
       "<tr>\n",
       "  <th>goout</th>             <td>   -1.2396</td> <td>    0.280</td> <td>   -4.434</td> <td> 0.000</td> <td>   -1.790</td> <td>   -0.689</td>\n",
       "</tr>\n",
       "<tr>\n",
       "  <th>Dalc</th>              <td>   -0.5493</td> <td>    0.402</td> <td>   -1.365</td> <td> 0.174</td> <td>   -1.342</td> <td>    0.243</td>\n",
       "</tr>\n",
       "<tr>\n",
       "  <th>Walc</th>              <td>    0.7566</td> <td>    0.295</td> <td>    2.562</td> <td> 0.011</td> <td>    0.175</td> <td>    1.338</td>\n",
       "</tr>\n",
       "<tr>\n",
       "  <th>health</th>            <td>   -0.3936</td> <td>    0.199</td> <td>   -1.976</td> <td> 0.049</td> <td>   -0.786</td> <td>   -0.001</td>\n",
       "</tr>\n",
       "<tr>\n",
       "  <th>absences</th>          <td>    0.0336</td> <td>    0.034</td> <td>    0.977</td> <td> 0.329</td> <td>   -0.034</td> <td>    0.101</td>\n",
       "</tr>\n",
       "<tr>\n",
       "  <th>school_MS</th>         <td>    0.9206</td> <td>    0.938</td> <td>    0.981</td> <td> 0.327</td> <td>   -0.927</td> <td>    2.769</td>\n",
       "</tr>\n",
       "<tr>\n",
       "  <th>sex_M</th>             <td>    1.0108</td> <td>    0.608</td> <td>    1.663</td> <td> 0.098</td> <td>   -0.186</td> <td>    2.208</td>\n",
       "</tr>\n",
       "<tr>\n",
       "  <th>address_R</th>         <td>   -0.8873</td> <td>    0.686</td> <td>   -1.294</td> <td> 0.197</td> <td>   -2.238</td> <td>    0.463</td>\n",
       "</tr>\n",
       "<tr>\n",
       "  <th>famsize_LE3</th>       <td>    0.3597</td> <td>    0.620</td> <td>    0.580</td> <td> 0.562</td> <td>   -0.861</td> <td>    1.580</td>\n",
       "</tr>\n",
       "<tr>\n",
       "  <th>Pstatus_A</th>         <td>    1.0103</td> <td>    0.916</td> <td>    1.103</td> <td> 0.271</td> <td>   -0.793</td> <td>    2.814</td>\n",
       "</tr>\n",
       "<tr>\n",
       "  <th>Mjob_services</th>     <td>    0.4771</td> <td>    0.735</td> <td>    0.649</td> <td> 0.517</td> <td>   -0.971</td> <td>    1.925</td>\n",
       "</tr>\n",
       "<tr>\n",
       "  <th>Mjob_teacher</th>      <td>   -1.3098</td> <td>    0.990</td> <td>   -1.323</td> <td> 0.187</td> <td>   -3.260</td> <td>    0.640</td>\n",
       "</tr>\n",
       "<tr>\n",
       "  <th>Mjob_at_home</th>      <td>   -0.2651</td> <td>    0.842</td> <td>   -0.315</td> <td> 0.753</td> <td>   -1.924</td> <td>    1.393</td>\n",
       "</tr>\n",
       "<tr>\n",
       "  <th>Mjob_health</th>       <td>    1.0952</td> <td>    1.113</td> <td>    0.984</td> <td> 0.326</td> <td>   -1.096</td> <td>    3.287</td>\n",
       "</tr>\n",
       "<tr>\n",
       "  <th>Fjob_services</th>     <td>    0.8480</td> <td>    0.663</td> <td>    1.280</td> <td> 0.202</td> <td>   -0.457</td> <td>    2.153</td>\n",
       "</tr>\n",
       "<tr>\n",
       "  <th>Fjob_teacher</th>      <td>    2.1982</td> <td>    1.120</td> <td>    1.963</td> <td> 0.051</td> <td>   -0.008</td> <td>    4.404</td>\n",
       "</tr>\n",
       "<tr>\n",
       "  <th>Fjob_health</th>       <td>    0.7621</td> <td>    1.340</td> <td>    0.569</td> <td> 0.570</td> <td>   -1.878</td> <td>    3.402</td>\n",
       "</tr>\n",
       "<tr>\n",
       "  <th>Fjob_at_home</th>      <td>    1.4023</td> <td>    1.386</td> <td>    1.012</td> <td> 0.313</td> <td>   -1.327</td> <td>    4.132</td>\n",
       "</tr>\n",
       "<tr>\n",
       "  <th>reason_home</th>       <td>    0.2428</td> <td>    0.665</td> <td>    0.365</td> <td> 0.715</td> <td>   -1.067</td> <td>    1.553</td>\n",
       "</tr>\n",
       "<tr>\n",
       "  <th>reason_reputation</th> <td>    0.9431</td> <td>    0.686</td> <td>    1.375</td> <td> 0.171</td> <td>   -0.408</td> <td>    2.295</td>\n",
       "</tr>\n",
       "<tr>\n",
       "  <th>reason_other</th>      <td>    0.9620</td> <td>    0.951</td> <td>    1.012</td> <td> 0.313</td> <td>   -0.911</td> <td>    2.835</td>\n",
       "</tr>\n",
       "<tr>\n",
       "  <th>guardian_father</th>   <td>   -0.2893</td> <td>    0.674</td> <td>   -0.429</td> <td> 0.668</td> <td>   -1.617</td> <td>    1.038</td>\n",
       "</tr>\n",
       "<tr>\n",
       "  <th>guardian_other</th>    <td>   -0.6460</td> <td>    1.101</td> <td>   -0.587</td> <td> 0.558</td> <td>   -2.815</td> <td>    1.523</td>\n",
       "</tr>\n",
       "<tr>\n",
       "  <th>schoolsup_yes</th>     <td>   -1.0615</td> <td>    0.794</td> <td>   -1.337</td> <td> 0.182</td> <td>   -2.625</td> <td>    0.502</td>\n",
       "</tr>\n",
       "<tr>\n",
       "  <th>famsup_no</th>         <td>    0.9381</td> <td>    0.579</td> <td>    1.621</td> <td> 0.106</td> <td>   -0.202</td> <td>    2.078</td>\n",
       "</tr>\n",
       "<tr>\n",
       "  <th>paid_yes</th>          <td>    0.5265</td> <td>    0.567</td> <td>    0.928</td> <td> 0.354</td> <td>   -0.591</td> <td>    1.644</td>\n",
       "</tr>\n",
       "<tr>\n",
       "  <th>activities_no</th>     <td>    0.6244</td> <td>    0.521</td> <td>    1.199</td> <td> 0.232</td> <td>   -0.402</td> <td>    1.650</td>\n",
       "</tr>\n",
       "<tr>\n",
       "  <th>nursery_no</th>        <td>   -0.0846</td> <td>    0.641</td> <td>   -0.132</td> <td> 0.895</td> <td>   -1.347</td> <td>    1.177</td>\n",
       "</tr>\n",
       "<tr>\n",
       "  <th>higher_no</th>         <td>   -1.7295</td> <td>    1.233</td> <td>   -1.403</td> <td> 0.162</td> <td>   -4.158</td> <td>    0.699</td>\n",
       "</tr>\n",
       "<tr>\n",
       "  <th>internet_no</th>       <td>   -0.4170</td> <td>    0.706</td> <td>   -0.591</td> <td> 0.555</td> <td>   -1.808</td> <td>    0.974</td>\n",
       "</tr>\n",
       "<tr>\n",
       "  <th>romantic_yes</th>      <td>   -0.8878</td> <td>    0.562</td> <td>   -1.581</td> <td> 0.115</td> <td>   -1.994</td> <td>    0.219</td>\n",
       "</tr>\n",
       "</table>\n",
       "<table class=\"simpletable\">\n",
       "<tr>\n",
       "  <th>Omnibus:</th>       <td>12.840</td> <th>  Durbin-Watson:     </th> <td>   1.821</td>\n",
       "</tr>\n",
       "<tr>\n",
       "  <th>Prob(Omnibus):</th> <td> 0.002</td> <th>  Jarque-Bera (JB):  </th> <td>  13.547</td>\n",
       "</tr>\n",
       "<tr>\n",
       "  <th>Skew:</th>          <td>-0.533</td> <th>  Prob(JB):          </th> <td> 0.00114</td>\n",
       "</tr>\n",
       "<tr>\n",
       "  <th>Kurtosis:</th>      <td> 3.085</td> <th>  Cond. No.          </th> <td>    399.</td>\n",
       "</tr>\n",
       "</table><br/><br/>Warnings:<br/>[1] Standard Errors assume that the covariance matrix of the errors is correctly specified."
      ],
      "text/plain": [
       "<class 'statsmodels.iolib.summary.Summary'>\n",
       "\"\"\"\n",
       "                            OLS Regression Results                            \n",
       "==============================================================================\n",
       "Dep. Variable:                     G3   R-squared:                       0.312\n",
       "Model:                            OLS   Adj. R-squared:                  0.201\n",
       "Method:                 Least Squares   F-statistic:                     2.831\n",
       "Date:                Wed, 24 Jul 2019   Prob (F-statistic):           6.14e-07\n",
       "Time:                        18:06:59   Log-Likelihood:                -780.76\n",
       "No. Observations:                 284   AIC:                             1642.\n",
       "Df Residuals:                     244   BIC:                             1787.\n",
       "Df Model:                          39                                         \n",
       "Covariance Type:            nonrobust                                         \n",
       "=====================================================================================\n",
       "                        coef    std err          t      P>|t|      [0.025      0.975]\n",
       "-------------------------------------------------------------------------------------\n",
       "Intercept            11.5320      4.796      2.404      0.017       2.085      20.979\n",
       "age                  -0.1608      0.260     -0.618      0.537      -0.673       0.352\n",
       "Medu                  0.5017      0.397      1.265      0.207      -0.279       1.283\n",
       "Fedu                 -0.3060      0.333     -0.920      0.358      -0.961       0.349\n",
       "traveltime           -0.1333      0.409     -0.326      0.745      -0.940       0.673\n",
       "studytime             0.3779      0.345      1.094      0.275      -0.302       1.058\n",
       "failures             -1.4767      0.398     -3.713      0.000      -2.260      -0.693\n",
       "famrel                0.4857      0.300      1.621      0.106      -0.105       1.076\n",
       "freetime              0.4721      0.271      1.739      0.083      -0.063       1.007\n",
       "goout                -1.2396      0.280     -4.434      0.000      -1.790      -0.689\n",
       "Dalc                 -0.5493      0.402     -1.365      0.174      -1.342       0.243\n",
       "Walc                  0.7566      0.295      2.562      0.011       0.175       1.338\n",
       "health               -0.3936      0.199     -1.976      0.049      -0.786      -0.001\n",
       "absences              0.0336      0.034      0.977      0.329      -0.034       0.101\n",
       "school_MS             0.9206      0.938      0.981      0.327      -0.927       2.769\n",
       "sex_M                 1.0108      0.608      1.663      0.098      -0.186       2.208\n",
       "address_R            -0.8873      0.686     -1.294      0.197      -2.238       0.463\n",
       "famsize_LE3           0.3597      0.620      0.580      0.562      -0.861       1.580\n",
       "Pstatus_A             1.0103      0.916      1.103      0.271      -0.793       2.814\n",
       "Mjob_services         0.4771      0.735      0.649      0.517      -0.971       1.925\n",
       "Mjob_teacher         -1.3098      0.990     -1.323      0.187      -3.260       0.640\n",
       "Mjob_at_home         -0.2651      0.842     -0.315      0.753      -1.924       1.393\n",
       "Mjob_health           1.0952      1.113      0.984      0.326      -1.096       3.287\n",
       "Fjob_services         0.8480      0.663      1.280      0.202      -0.457       2.153\n",
       "Fjob_teacher          2.1982      1.120      1.963      0.051      -0.008       4.404\n",
       "Fjob_health           0.7621      1.340      0.569      0.570      -1.878       3.402\n",
       "Fjob_at_home          1.4023      1.386      1.012      0.313      -1.327       4.132\n",
       "reason_home           0.2428      0.665      0.365      0.715      -1.067       1.553\n",
       "reason_reputation     0.9431      0.686      1.375      0.171      -0.408       2.295\n",
       "reason_other          0.9620      0.951      1.012      0.313      -0.911       2.835\n",
       "guardian_father      -0.2893      0.674     -0.429      0.668      -1.617       1.038\n",
       "guardian_other       -0.6460      1.101     -0.587      0.558      -2.815       1.523\n",
       "schoolsup_yes        -1.0615      0.794     -1.337      0.182      -2.625       0.502\n",
       "famsup_no             0.9381      0.579      1.621      0.106      -0.202       2.078\n",
       "paid_yes              0.5265      0.567      0.928      0.354      -0.591       1.644\n",
       "activities_no         0.6244      0.521      1.199      0.232      -0.402       1.650\n",
       "nursery_no           -0.0846      0.641     -0.132      0.895      -1.347       1.177\n",
       "higher_no            -1.7295      1.233     -1.403      0.162      -4.158       0.699\n",
       "internet_no          -0.4170      0.706     -0.591      0.555      -1.808       0.974\n",
       "romantic_yes         -0.8878      0.562     -1.581      0.115      -1.994       0.219\n",
       "==============================================================================\n",
       "Omnibus:                       12.840   Durbin-Watson:                   1.821\n",
       "Prob(Omnibus):                  0.002   Jarque-Bera (JB):               13.547\n",
       "Skew:                          -0.533   Prob(JB):                      0.00114\n",
       "Kurtosis:                       3.085   Cond. No.                         399.\n",
       "==============================================================================\n",
       "\n",
       "Warnings:\n",
       "[1] Standard Errors assume that the covariance matrix of the errors is correctly specified.\n",
       "\"\"\""
      ]
     },
     "execution_count": 35,
     "metadata": {},
     "output_type": "execute_result"
    }
   ],
   "source": [
    "saturated_model = build_model(df, 'G3', 'G1', 'G2', 'G3').fit()\n",
    "saturated_model.summary()"
   ]
  },
  {
   "cell_type": "markdown",
   "metadata": {},
   "source": [
    "`R-squared` es de 31% para el modelo saturado, es decir, todos los atributos explican `G3` en un 31%. `Adj. R-squared`, el cual penaliza el resultado de `R-squared` por el número de regresores, es de 20%, así que es posible que existan variables que no estén aportando en el modelo.\n",
    "\n",
    "Al ver el valor de los regresores, existen varios que tienen pvalues muy altos. Por ejemplo:"
   ]
  },
  {
   "cell_type": "code",
   "execution_count": 39,
   "metadata": {},
   "outputs": [
    {
     "data": {
      "text/plain": [
       "age                  0.537203\n",
       "Medu                 0.207065\n",
       "Fedu                 0.358343\n",
       "traveltime           0.745010\n",
       "studytime            0.274997\n",
       "famrel               0.106401\n",
       "freetime             0.083258\n",
       "Dalc                 0.173528\n",
       "health               0.049294\n",
       "absences             0.329334\n",
       "school_MS            0.327470\n",
       "sex_M                0.097523\n",
       "address_R            0.196769\n",
       "famsize_LE3          0.562202\n",
       "Pstatus_A            0.270910\n",
       "Mjob_services        0.516991\n",
       "Mjob_teacher         0.187085\n",
       "Mjob_at_home         0.753133\n",
       "Mjob_health          0.325923\n",
       "Fjob_services        0.201757\n",
       "Fjob_teacher         0.050836\n",
       "Fjob_health          0.570102\n",
       "Fjob_at_home         0.312544\n",
       "reason_home          0.715395\n",
       "reason_reputation    0.170504\n",
       "reason_other         0.312676\n",
       "guardian_father      0.668119\n",
       "guardian_other       0.557963\n",
       "schoolsup_yes        0.182437\n",
       "famsup_no            0.106409\n",
       "paid_yes             0.354395\n",
       "activities_no        0.231826\n",
       "nursery_no           0.894994\n",
       "higher_no            0.161964\n",
       "internet_no          0.555375\n",
       "romantic_yes         0.115251\n",
       "dtype: float64"
      ]
     },
     "execution_count": 39,
     "metadata": {},
     "output_type": "execute_result"
    }
   ],
   "source": [
    "def not_significant_pvalues(model):\n",
    "    return model.pvalues[model.pvalues > 0.025]\n",
    "\n",
    "pvalues = not_significant_pvalues(saturated_model)\n",
    "pvalues.T"
   ]
  },
  {
   "cell_type": "markdown",
   "metadata": {},
   "source": [
    "Para todos estos regresores, al 95% de significancia, no hay evidencia suficiente para rechazar la hipótesis nula de que el valor del regresor sea 0.\n",
    "\n",
    "Por lo tanto, todos estos son candidatos a ser eliminados. A continuación crearemos un modelo sin estos:"
   ]
  },
  {
   "cell_type": "code",
   "execution_count": 40,
   "metadata": {},
   "outputs": [
    {
     "data": {
      "text/html": [
       "<table class=\"simpletable\">\n",
       "<caption>OLS Regression Results</caption>\n",
       "<tr>\n",
       "  <th>Dep. Variable:</th>           <td>G3</td>        <th>  R-squared:         </th> <td>   0.158</td>\n",
       "</tr>\n",
       "<tr>\n",
       "  <th>Model:</th>                   <td>OLS</td>       <th>  Adj. R-squared:    </th> <td>   0.149</td>\n",
       "</tr>\n",
       "<tr>\n",
       "  <th>Method:</th>             <td>Least Squares</td>  <th>  F-statistic:       </th> <td>   17.52</td>\n",
       "</tr>\n",
       "<tr>\n",
       "  <th>Date:</th>             <td>Wed, 24 Jul 2019</td> <th>  Prob (F-statistic):</th> <td>1.89e-10</td>\n",
       "</tr>\n",
       "<tr>\n",
       "  <th>Time:</th>                 <td>18:08:44</td>     <th>  Log-Likelihood:    </th> <td> -809.34</td>\n",
       "</tr>\n",
       "<tr>\n",
       "  <th>No. Observations:</th>      <td>   284</td>      <th>  AIC:               </th> <td>   1627.</td>\n",
       "</tr>\n",
       "<tr>\n",
       "  <th>Df Residuals:</th>          <td>   280</td>      <th>  BIC:               </th> <td>   1641.</td>\n",
       "</tr>\n",
       "<tr>\n",
       "  <th>Df Model:</th>              <td>     3</td>      <th>                     </th>     <td> </td>   \n",
       "</tr>\n",
       "<tr>\n",
       "  <th>Covariance Type:</th>      <td>nonrobust</td>    <th>                     </th>     <td> </td>   \n",
       "</tr>\n",
       "</table>\n",
       "<table class=\"simpletable\">\n",
       "<tr>\n",
       "      <td></td>         <th>coef</th>     <th>std err</th>      <th>t</th>      <th>P>|t|</th>  <th>[0.025</th>    <th>0.975]</th>  \n",
       "</tr>\n",
       "<tr>\n",
       "  <th>Intercept</th> <td>   13.0309</td> <td>    0.770</td> <td>   16.922</td> <td> 0.000</td> <td>   11.515</td> <td>   14.547</td>\n",
       "</tr>\n",
       "<tr>\n",
       "  <th>failures</th>  <td>   -2.0436</td> <td>    0.349</td> <td>   -5.859</td> <td> 0.000</td> <td>   -2.730</td> <td>   -1.357</td>\n",
       "</tr>\n",
       "<tr>\n",
       "  <th>goout</th>     <td>   -0.9345</td> <td>    0.262</td> <td>   -3.562</td> <td> 0.000</td> <td>   -1.451</td> <td>   -0.418</td>\n",
       "</tr>\n",
       "<tr>\n",
       "  <th>Walc</th>      <td>    0.4150</td> <td>    0.219</td> <td>    1.892</td> <td> 0.059</td> <td>   -0.017</td> <td>    0.847</td>\n",
       "</tr>\n",
       "</table>\n",
       "<table class=\"simpletable\">\n",
       "<tr>\n",
       "  <th>Omnibus:</th>       <td>17.129</td> <th>  Durbin-Watson:     </th> <td>   1.885</td>\n",
       "</tr>\n",
       "<tr>\n",
       "  <th>Prob(Omnibus):</th> <td> 0.000</td> <th>  Jarque-Bera (JB):  </th> <td>  18.559</td>\n",
       "</tr>\n",
       "<tr>\n",
       "  <th>Skew:</th>          <td>-0.577</td> <th>  Prob(JB):          </th> <td>9.33e-05</td>\n",
       "</tr>\n",
       "<tr>\n",
       "  <th>Kurtosis:</th>      <td> 3.488</td> <th>  Cond. No.          </th> <td>    13.3</td>\n",
       "</tr>\n",
       "</table><br/><br/>Warnings:<br/>[1] Standard Errors assume that the covariance matrix of the errors is correctly specified."
      ],
      "text/plain": [
       "<class 'statsmodels.iolib.summary.Summary'>\n",
       "\"\"\"\n",
       "                            OLS Regression Results                            \n",
       "==============================================================================\n",
       "Dep. Variable:                     G3   R-squared:                       0.158\n",
       "Model:                            OLS   Adj. R-squared:                  0.149\n",
       "Method:                 Least Squares   F-statistic:                     17.52\n",
       "Date:                Wed, 24 Jul 2019   Prob (F-statistic):           1.89e-10\n",
       "Time:                        18:08:44   Log-Likelihood:                -809.34\n",
       "No. Observations:                 284   AIC:                             1627.\n",
       "Df Residuals:                     280   BIC:                             1641.\n",
       "Df Model:                           3                                         \n",
       "Covariance Type:            nonrobust                                         \n",
       "==============================================================================\n",
       "                 coef    std err          t      P>|t|      [0.025      0.975]\n",
       "------------------------------------------------------------------------------\n",
       "Intercept     13.0309      0.770     16.922      0.000      11.515      14.547\n",
       "failures      -2.0436      0.349     -5.859      0.000      -2.730      -1.357\n",
       "goout         -0.9345      0.262     -3.562      0.000      -1.451      -0.418\n",
       "Walc           0.4150      0.219      1.892      0.059      -0.017       0.847\n",
       "==============================================================================\n",
       "Omnibus:                       17.129   Durbin-Watson:                   1.885\n",
       "Prob(Omnibus):                  0.000   Jarque-Bera (JB):               18.559\n",
       "Skew:                          -0.577   Prob(JB):                     9.33e-05\n",
       "Kurtosis:                       3.488   Cond. No.                         13.3\n",
       "==============================================================================\n",
       "\n",
       "Warnings:\n",
       "[1] Standard Errors assume that the covariance matrix of the errors is correctly specified.\n",
       "\"\"\""
      ]
     },
     "execution_count": 40,
     "metadata": {},
     "output_type": "execute_result"
    }
   ],
   "source": [
    "model2 = build_model(df, 'G3', 'G1', 'G2', 'G3', *list(pvalues.index)).fit()\n",
    "model2.summary()"
   ]
  },
  {
   "cell_type": "markdown",
   "metadata": {},
   "source": [
    "Esta vez, el `R-squared` es 20%, cercano al valor ajustado del modelo anterior. Notar que el ajustado sigue siendo un poco menor (18%), y que existen algunos regresores que al 95% no son significantes."
   ]
  },
  {
   "cell_type": "code",
   "execution_count": 41,
   "metadata": {},
   "outputs": [
    {
     "data": {
      "text/plain": [
       "Walc    0.059461\n",
       "dtype: float64"
      ]
     },
     "execution_count": 41,
     "metadata": {},
     "output_type": "execute_result"
    }
   ],
   "source": [
    "pvalues2 = not_significant_pvalues(model2)\n",
    "pvalues2.T"
   ]
  },
  {
   "cell_type": "markdown",
   "metadata": {},
   "source": [
    "Volveremos a excluir estos atributos"
   ]
  },
  {
   "cell_type": "code",
   "execution_count": 42,
   "metadata": {},
   "outputs": [],
   "source": [
    "model3 = build_model(df, 'G3', *['G1', 'G2', 'G3'], *list(pvalues.index), *list(pvalues2.index)).fit()"
   ]
  },
  {
   "cell_type": "code",
   "execution_count": 43,
   "metadata": {},
   "outputs": [
    {
     "data": {
      "text/html": [
       "<table class=\"simpletable\">\n",
       "<caption>OLS Regression Results</caption>\n",
       "<tr>\n",
       "  <th>Dep. Variable:</th>           <td>G3</td>        <th>  R-squared:         </th> <td>   0.147</td>\n",
       "</tr>\n",
       "<tr>\n",
       "  <th>Model:</th>                   <td>OLS</td>       <th>  Adj. R-squared:    </th> <td>   0.141</td>\n",
       "</tr>\n",
       "<tr>\n",
       "  <th>Method:</th>             <td>Least Squares</td>  <th>  F-statistic:       </th> <td>   24.26</td>\n",
       "</tr>\n",
       "<tr>\n",
       "  <th>Date:</th>             <td>Wed, 24 Jul 2019</td> <th>  Prob (F-statistic):</th> <td>1.91e-10</td>\n",
       "</tr>\n",
       "<tr>\n",
       "  <th>Time:</th>                 <td>18:08:54</td>     <th>  Log-Likelihood:    </th> <td> -811.15</td>\n",
       "</tr>\n",
       "<tr>\n",
       "  <th>No. Observations:</th>      <td>   284</td>      <th>  AIC:               </th> <td>   1628.</td>\n",
       "</tr>\n",
       "<tr>\n",
       "  <th>Df Residuals:</th>          <td>   281</td>      <th>  BIC:               </th> <td>   1639.</td>\n",
       "</tr>\n",
       "<tr>\n",
       "  <th>Df Model:</th>              <td>     2</td>      <th>                     </th>     <td> </td>   \n",
       "</tr>\n",
       "<tr>\n",
       "  <th>Covariance Type:</th>      <td>nonrobust</td>    <th>                     </th>     <td> </td>   \n",
       "</tr>\n",
       "</table>\n",
       "<table class=\"simpletable\">\n",
       "<tr>\n",
       "      <td></td>         <th>coef</th>     <th>std err</th>      <th>t</th>      <th>P>|t|</th>  <th>[0.025</th>    <th>0.975]</th>  \n",
       "</tr>\n",
       "<tr>\n",
       "  <th>Intercept</th> <td>   13.2692</td> <td>    0.763</td> <td>   17.387</td> <td> 0.000</td> <td>   11.767</td> <td>   14.772</td>\n",
       "</tr>\n",
       "<tr>\n",
       "  <th>failures</th>  <td>   -1.9836</td> <td>    0.349</td> <td>   -5.685</td> <td> 0.000</td> <td>   -2.670</td> <td>   -1.297</td>\n",
       "</tr>\n",
       "<tr>\n",
       "  <th>goout</th>     <td>   -0.7169</td> <td>    0.237</td> <td>   -3.026</td> <td> 0.003</td> <td>   -1.183</td> <td>   -0.251</td>\n",
       "</tr>\n",
       "</table>\n",
       "<table class=\"simpletable\">\n",
       "<tr>\n",
       "  <th>Omnibus:</th>       <td>23.948</td> <th>  Durbin-Watson:     </th> <td>   1.881</td>\n",
       "</tr>\n",
       "<tr>\n",
       "  <th>Prob(Omnibus):</th> <td> 0.000</td> <th>  Jarque-Bera (JB):  </th> <td>  27.829</td>\n",
       "</tr>\n",
       "<tr>\n",
       "  <th>Skew:</th>          <td>-0.692</td> <th>  Prob(JB):          </th> <td>9.06e-07</td>\n",
       "</tr>\n",
       "<tr>\n",
       "  <th>Kurtosis:</th>      <td> 3.659</td> <th>  Cond. No.          </th> <td>    10.8</td>\n",
       "</tr>\n",
       "</table><br/><br/>Warnings:<br/>[1] Standard Errors assume that the covariance matrix of the errors is correctly specified."
      ],
      "text/plain": [
       "<class 'statsmodels.iolib.summary.Summary'>\n",
       "\"\"\"\n",
       "                            OLS Regression Results                            \n",
       "==============================================================================\n",
       "Dep. Variable:                     G3   R-squared:                       0.147\n",
       "Model:                            OLS   Adj. R-squared:                  0.141\n",
       "Method:                 Least Squares   F-statistic:                     24.26\n",
       "Date:                Wed, 24 Jul 2019   Prob (F-statistic):           1.91e-10\n",
       "Time:                        18:08:54   Log-Likelihood:                -811.15\n",
       "No. Observations:                 284   AIC:                             1628.\n",
       "Df Residuals:                     281   BIC:                             1639.\n",
       "Df Model:                           2                                         \n",
       "Covariance Type:            nonrobust                                         \n",
       "==============================================================================\n",
       "                 coef    std err          t      P>|t|      [0.025      0.975]\n",
       "------------------------------------------------------------------------------\n",
       "Intercept     13.2692      0.763     17.387      0.000      11.767      14.772\n",
       "failures      -1.9836      0.349     -5.685      0.000      -2.670      -1.297\n",
       "goout         -0.7169      0.237     -3.026      0.003      -1.183      -0.251\n",
       "==============================================================================\n",
       "Omnibus:                       23.948   Durbin-Watson:                   1.881\n",
       "Prob(Omnibus):                  0.000   Jarque-Bera (JB):               27.829\n",
       "Skew:                          -0.692   Prob(JB):                     9.06e-07\n",
       "Kurtosis:                       3.659   Cond. No.                         10.8\n",
       "==============================================================================\n",
       "\n",
       "Warnings:\n",
       "[1] Standard Errors assume that the covariance matrix of the errors is correctly specified.\n",
       "\"\"\""
      ]
     },
     "execution_count": 43,
     "metadata": {},
     "output_type": "execute_result"
    }
   ],
   "source": [
    "model3.summary()"
   ]
  },
  {
   "cell_type": "markdown",
   "metadata": {},
   "source": [
    "Todos los regresores de este tercer modelo son significantes al 95%. Observamos que:\n",
    "\n",
    "- `R-squared` es ~`15%`.\n",
    "- `Adj. R-squared` es ~`14%`.\n",
    "\n",
    "Es similar al modelo anterior pero con menos atributos."
   ]
  },
  {
   "cell_type": "markdown",
   "metadata": {},
   "source": [
    "Hacemos el mismo procedimiento para G1 y G2"
   ]
  },
  {
   "cell_type": "code",
   "execution_count": 44,
   "metadata": {},
   "outputs": [],
   "source": [
    "models = {}\n",
    "\n",
    "for target in ['G1', 'G2']:\n",
    "    banned_coefs = []\n",
    "    for i in range(1, 4):\n",
    "        model = build_model(df, target, 'G1', 'G2', 'G3', *banned_coefs).fit()\n",
    "        worst_p_values = list(not_significant_pvalues(model).index)\n",
    "        for coef in worst_p_values:\n",
    "            banned_coefs.append(coef)\n",
    "        models[target + '_' + str(i)] = model"
   ]
  },
  {
   "cell_type": "code",
   "execution_count": 45,
   "metadata": {},
   "outputs": [
    {
     "data": {
      "text/html": [
       "<table class=\"simpletable\">\n",
       "<caption>OLS Regression Results</caption>\n",
       "<tr>\n",
       "  <th>Dep. Variable:</th>           <td>G1</td>        <th>  R-squared:         </th> <td>   0.205</td>\n",
       "</tr>\n",
       "<tr>\n",
       "  <th>Model:</th>                   <td>OLS</td>       <th>  Adj. R-squared:    </th> <td>   0.194</td>\n",
       "</tr>\n",
       "<tr>\n",
       "  <th>Method:</th>             <td>Least Squares</td>  <th>  F-statistic:       </th> <td>   18.00</td>\n",
       "</tr>\n",
       "<tr>\n",
       "  <th>Date:</th>             <td>Wed, 24 Jul 2019</td> <th>  Prob (F-statistic):</th> <td>3.64e-13</td>\n",
       "</tr>\n",
       "<tr>\n",
       "  <th>Time:</th>                 <td>18:09:00</td>     <th>  Log-Likelihood:    </th> <td> -708.02</td>\n",
       "</tr>\n",
       "<tr>\n",
       "  <th>No. Observations:</th>      <td>   284</td>      <th>  AIC:               </th> <td>   1426.</td>\n",
       "</tr>\n",
       "<tr>\n",
       "  <th>Df Residuals:</th>          <td>   279</td>      <th>  BIC:               </th> <td>   1444.</td>\n",
       "</tr>\n",
       "<tr>\n",
       "  <th>Df Model:</th>              <td>     4</td>      <th>                     </th>     <td> </td>   \n",
       "</tr>\n",
       "<tr>\n",
       "  <th>Covariance Type:</th>      <td>nonrobust</td>    <th>                     </th>     <td> </td>   \n",
       "</tr>\n",
       "</table>\n",
       "<table class=\"simpletable\">\n",
       "<tr>\n",
       "        <td></td>           <th>coef</th>     <th>std err</th>      <th>t</th>      <th>P>|t|</th>  <th>[0.025</th>    <th>0.975]</th>  \n",
       "</tr>\n",
       "<tr>\n",
       "  <th>Intercept</th>     <td>   13.1936</td> <td>    0.548</td> <td>   24.069</td> <td> 0.000</td> <td>   12.115</td> <td>   14.273</td>\n",
       "</tr>\n",
       "<tr>\n",
       "  <th>failures</th>      <td>   -1.3059</td> <td>    0.244</td> <td>   -5.357</td> <td> 0.000</td> <td>   -1.786</td> <td>   -0.826</td>\n",
       "</tr>\n",
       "<tr>\n",
       "  <th>goout</th>         <td>   -0.5424</td> <td>    0.166</td> <td>   -3.267</td> <td> 0.001</td> <td>   -0.869</td> <td>   -0.216</td>\n",
       "</tr>\n",
       "<tr>\n",
       "  <th>Fjob_teacher</th>  <td>    1.8159</td> <td>    0.673</td> <td>    2.697</td> <td> 0.007</td> <td>    0.490</td> <td>    3.141</td>\n",
       "</tr>\n",
       "<tr>\n",
       "  <th>schoolsup_yes</th> <td>   -2.1287</td> <td>    0.516</td> <td>   -4.126</td> <td> 0.000</td> <td>   -3.144</td> <td>   -1.113</td>\n",
       "</tr>\n",
       "</table>\n",
       "<table class=\"simpletable\">\n",
       "<tr>\n",
       "  <th>Omnibus:</th>       <td> 5.648</td> <th>  Durbin-Watson:     </th> <td>   2.010</td>\n",
       "</tr>\n",
       "<tr>\n",
       "  <th>Prob(Omnibus):</th> <td> 0.059</td> <th>  Jarque-Bera (JB):  </th> <td>   4.053</td>\n",
       "</tr>\n",
       "<tr>\n",
       "  <th>Skew:</th>          <td> 0.155</td> <th>  Prob(JB):          </th> <td>   0.132</td>\n",
       "</tr>\n",
       "<tr>\n",
       "  <th>Kurtosis:</th>      <td> 2.504</td> <th>  Cond. No.          </th> <td>    13.5</td>\n",
       "</tr>\n",
       "</table><br/><br/>Warnings:<br/>[1] Standard Errors assume that the covariance matrix of the errors is correctly specified."
      ],
      "text/plain": [
       "<class 'statsmodels.iolib.summary.Summary'>\n",
       "\"\"\"\n",
       "                            OLS Regression Results                            \n",
       "==============================================================================\n",
       "Dep. Variable:                     G1   R-squared:                       0.205\n",
       "Model:                            OLS   Adj. R-squared:                  0.194\n",
       "Method:                 Least Squares   F-statistic:                     18.00\n",
       "Date:                Wed, 24 Jul 2019   Prob (F-statistic):           3.64e-13\n",
       "Time:                        18:09:00   Log-Likelihood:                -708.02\n",
       "No. Observations:                 284   AIC:                             1426.\n",
       "Df Residuals:                     279   BIC:                             1444.\n",
       "Df Model:                           4                                         \n",
       "Covariance Type:            nonrobust                                         \n",
       "=================================================================================\n",
       "                    coef    std err          t      P>|t|      [0.025      0.975]\n",
       "---------------------------------------------------------------------------------\n",
       "Intercept        13.1936      0.548     24.069      0.000      12.115      14.273\n",
       "failures         -1.3059      0.244     -5.357      0.000      -1.786      -0.826\n",
       "goout            -0.5424      0.166     -3.267      0.001      -0.869      -0.216\n",
       "Fjob_teacher      1.8159      0.673      2.697      0.007       0.490       3.141\n",
       "schoolsup_yes    -2.1287      0.516     -4.126      0.000      -3.144      -1.113\n",
       "==============================================================================\n",
       "Omnibus:                        5.648   Durbin-Watson:                   2.010\n",
       "Prob(Omnibus):                  0.059   Jarque-Bera (JB):                4.053\n",
       "Skew:                           0.155   Prob(JB):                        0.132\n",
       "Kurtosis:                       2.504   Cond. No.                         13.5\n",
       "==============================================================================\n",
       "\n",
       "Warnings:\n",
       "[1] Standard Errors assume that the covariance matrix of the errors is correctly specified.\n",
       "\"\"\""
      ]
     },
     "execution_count": 45,
     "metadata": {},
     "output_type": "execute_result"
    }
   ],
   "source": [
    "models['G1_3'].summary()"
   ]
  },
  {
   "cell_type": "code",
   "execution_count": 46,
   "metadata": {},
   "outputs": [
    {
     "data": {
      "text/html": [
       "<table class=\"simpletable\">\n",
       "<caption>OLS Regression Results</caption>\n",
       "<tr>\n",
       "  <th>Dep. Variable:</th>           <td>G2</td>        <th>  R-squared:         </th> <td>   0.153</td>\n",
       "</tr>\n",
       "<tr>\n",
       "  <th>Model:</th>                   <td>OLS</td>       <th>  Adj. R-squared:    </th> <td>   0.144</td>\n",
       "</tr>\n",
       "<tr>\n",
       "  <th>Method:</th>             <td>Least Squares</td>  <th>  F-statistic:       </th> <td>   16.82</td>\n",
       "</tr>\n",
       "<tr>\n",
       "  <th>Date:</th>             <td>Wed, 24 Jul 2019</td> <th>  Prob (F-statistic):</th> <td>4.48e-10</td>\n",
       "</tr>\n",
       "<tr>\n",
       "  <th>Time:</th>                 <td>18:09:02</td>     <th>  Log-Likelihood:    </th> <td> -757.28</td>\n",
       "</tr>\n",
       "<tr>\n",
       "  <th>No. Observations:</th>      <td>   284</td>      <th>  AIC:               </th> <td>   1523.</td>\n",
       "</tr>\n",
       "<tr>\n",
       "  <th>Df Residuals:</th>          <td>   280</td>      <th>  BIC:               </th> <td>   1537.</td>\n",
       "</tr>\n",
       "<tr>\n",
       "  <th>Df Model:</th>              <td>     3</td>      <th>                     </th>     <td> </td>   \n",
       "</tr>\n",
       "<tr>\n",
       "  <th>Covariance Type:</th>      <td>nonrobust</td>    <th>                     </th>     <td> </td>   \n",
       "</tr>\n",
       "</table>\n",
       "<table class=\"simpletable\">\n",
       "<tr>\n",
       "      <td></td>         <th>coef</th>     <th>std err</th>      <th>t</th>      <th>P>|t|</th>  <th>[0.025</th>    <th>0.975]</th>  \n",
       "</tr>\n",
       "<tr>\n",
       "  <th>Intercept</th> <td>   14.4578</td> <td>    0.854</td> <td>   16.923</td> <td> 0.000</td> <td>   12.776</td> <td>   16.140</td>\n",
       "</tr>\n",
       "<tr>\n",
       "  <th>failures</th>  <td>   -1.4542</td> <td>    0.290</td> <td>   -5.008</td> <td> 0.000</td> <td>   -2.026</td> <td>   -0.883</td>\n",
       "</tr>\n",
       "<tr>\n",
       "  <th>goout</th>     <td>   -0.6503</td> <td>    0.196</td> <td>   -3.311</td> <td> 0.001</td> <td>   -1.037</td> <td>   -0.264</td>\n",
       "</tr>\n",
       "<tr>\n",
       "  <th>health</th>    <td>   -0.3653</td> <td>    0.159</td> <td>   -2.302</td> <td> 0.022</td> <td>   -0.678</td> <td>   -0.053</td>\n",
       "</tr>\n",
       "</table>\n",
       "<table class=\"simpletable\">\n",
       "<tr>\n",
       "  <th>Omnibus:</th>       <td>13.056</td> <th>  Durbin-Watson:     </th> <td>   1.850</td>\n",
       "</tr>\n",
       "<tr>\n",
       "  <th>Prob(Omnibus):</th> <td> 0.001</td> <th>  Jarque-Bera (JB):  </th> <td>  14.434</td>\n",
       "</tr>\n",
       "<tr>\n",
       "  <th>Skew:</th>          <td>-0.443</td> <th>  Prob(JB):          </th> <td>0.000734</td>\n",
       "</tr>\n",
       "<tr>\n",
       "  <th>Kurtosis:</th>      <td> 3.660</td> <th>  Cond. No.          </th> <td>    21.1</td>\n",
       "</tr>\n",
       "</table><br/><br/>Warnings:<br/>[1] Standard Errors assume that the covariance matrix of the errors is correctly specified."
      ],
      "text/plain": [
       "<class 'statsmodels.iolib.summary.Summary'>\n",
       "\"\"\"\n",
       "                            OLS Regression Results                            \n",
       "==============================================================================\n",
       "Dep. Variable:                     G2   R-squared:                       0.153\n",
       "Model:                            OLS   Adj. R-squared:                  0.144\n",
       "Method:                 Least Squares   F-statistic:                     16.82\n",
       "Date:                Wed, 24 Jul 2019   Prob (F-statistic):           4.48e-10\n",
       "Time:                        18:09:02   Log-Likelihood:                -757.28\n",
       "No. Observations:                 284   AIC:                             1523.\n",
       "Df Residuals:                     280   BIC:                             1537.\n",
       "Df Model:                           3                                         \n",
       "Covariance Type:            nonrobust                                         \n",
       "==============================================================================\n",
       "                 coef    std err          t      P>|t|      [0.025      0.975]\n",
       "------------------------------------------------------------------------------\n",
       "Intercept     14.4578      0.854     16.923      0.000      12.776      16.140\n",
       "failures      -1.4542      0.290     -5.008      0.000      -2.026      -0.883\n",
       "goout         -0.6503      0.196     -3.311      0.001      -1.037      -0.264\n",
       "health        -0.3653      0.159     -2.302      0.022      -0.678      -0.053\n",
       "==============================================================================\n",
       "Omnibus:                       13.056   Durbin-Watson:                   1.850\n",
       "Prob(Omnibus):                  0.001   Jarque-Bera (JB):               14.434\n",
       "Skew:                          -0.443   Prob(JB):                     0.000734\n",
       "Kurtosis:                       3.660   Cond. No.                         21.1\n",
       "==============================================================================\n",
       "\n",
       "Warnings:\n",
       "[1] Standard Errors assume that the covariance matrix of the errors is correctly specified.\n",
       "\"\"\""
      ]
     },
     "execution_count": 46,
     "metadata": {},
     "output_type": "execute_result"
    }
   ],
   "source": [
    "models['G2_3'].summary()"
   ]
  },
  {
   "cell_type": "markdown",
   "metadata": {},
   "source": [
    "### Interpretación de los principales regresores\n",
    "\n",
    "Existen dos regresores que se encuentran en todas las notas:"
   ]
  },
  {
   "cell_type": "markdown",
   "metadata": {},
   "source": [
    "- `failures`: cantidad de cursos reprobados.\n",
    "- `goout`: salidas con amigos."
   ]
  },
  {
   "cell_type": "markdown",
   "metadata": {},
   "source": [
    "#### Notas primer semeste (G1)"
   ]
  },
  {
   "cell_type": "markdown",
   "metadata": {},
   "source": [
    "#### Notas segundo semeste (G2)"
   ]
  },
  {
   "cell_type": "markdown",
   "metadata": {},
   "source": [
    "#### Nota final (G3)"
   ]
  },
  {
   "cell_type": "code",
   "execution_count": 49,
   "metadata": {},
   "outputs": [
    {
     "data": {
      "text/html": [
       "<table class=\"simpletable\">\n",
       "<caption>OLS Regression Results</caption>\n",
       "<tr>\n",
       "  <th>Dep. Variable:</th>           <td>G3</td>        <th>  R-squared:         </th> <td>   0.159</td>\n",
       "</tr>\n",
       "<tr>\n",
       "  <th>Model:</th>                   <td>OLS</td>       <th>  Adj. R-squared:    </th> <td>   0.150</td>\n",
       "</tr>\n",
       "<tr>\n",
       "  <th>Method:</th>             <td>Least Squares</td>  <th>  F-statistic:       </th> <td>   17.62</td>\n",
       "</tr>\n",
       "<tr>\n",
       "  <th>Date:</th>             <td>Wed, 24 Jul 2019</td> <th>  Prob (F-statistic):</th> <td>1.67e-10</td>\n",
       "</tr>\n",
       "<tr>\n",
       "  <th>Time:</th>                 <td>18:12:40</td>     <th>  Log-Likelihood:    </th> <td> -809.21</td>\n",
       "</tr>\n",
       "<tr>\n",
       "  <th>No. Observations:</th>      <td>   284</td>      <th>  AIC:               </th> <td>   1626.</td>\n",
       "</tr>\n",
       "<tr>\n",
       "  <th>Df Residuals:</th>          <td>   280</td>      <th>  BIC:               </th> <td>   1641.</td>\n",
       "</tr>\n",
       "<tr>\n",
       "  <th>Df Model:</th>              <td>     3</td>      <th>                     </th>     <td> </td>   \n",
       "</tr>\n",
       "<tr>\n",
       "  <th>Covariance Type:</th>      <td>nonrobust</td>    <th>                     </th>     <td> </td>   \n",
       "</tr>\n",
       "</table>\n",
       "<table class=\"simpletable\">\n",
       "<tr>\n",
       "       <td></td>         <th>coef</th>     <th>std err</th>      <th>t</th>      <th>P>|t|</th>  <th>[0.025</th>    <th>0.975]</th>  \n",
       "</tr>\n",
       "<tr>\n",
       "  <th>Intercept</th>  <td>   11.0677</td> <td>    0.289</td> <td>   38.346</td> <td> 0.000</td> <td>   10.500</td> <td>   11.636</td>\n",
       "</tr>\n",
       "<tr>\n",
       "  <th>failures</th>   <td>   -2.0799</td> <td>    0.352</td> <td>   -5.912</td> <td> 0.000</td> <td>   -2.772</td> <td>   -1.387</td>\n",
       "</tr>\n",
       "<tr>\n",
       "  <th>freetime_5</th> <td>    2.7398</td> <td>    0.866</td> <td>    3.165</td> <td> 0.002</td> <td>    1.036</td> <td>    4.444</td>\n",
       "</tr>\n",
       "<tr>\n",
       "  <th>goout_5</th>    <td>   -2.0883</td> <td>    0.813</td> <td>   -2.570</td> <td> 0.011</td> <td>   -3.688</td> <td>   -0.489</td>\n",
       "</tr>\n",
       "</table>\n",
       "<table class=\"simpletable\">\n",
       "<tr>\n",
       "  <th>Omnibus:</th>       <td>21.168</td> <th>  Durbin-Watson:     </th> <td>   1.920</td>\n",
       "</tr>\n",
       "<tr>\n",
       "  <th>Prob(Omnibus):</th> <td> 0.000</td> <th>  Jarque-Bera (JB):  </th> <td>  23.943</td>\n",
       "</tr>\n",
       "<tr>\n",
       "  <th>Skew:</th>          <td>-0.645</td> <th>  Prob(JB):          </th> <td>6.32e-06</td>\n",
       "</tr>\n",
       "<tr>\n",
       "  <th>Kurtosis:</th>      <td> 3.599</td> <th>  Cond. No.          </th> <td>    4.24</td>\n",
       "</tr>\n",
       "</table><br/><br/>Warnings:<br/>[1] Standard Errors assume that the covariance matrix of the errors is correctly specified."
      ],
      "text/plain": [
       "<class 'statsmodels.iolib.summary.Summary'>\n",
       "\"\"\"\n",
       "                            OLS Regression Results                            \n",
       "==============================================================================\n",
       "Dep. Variable:                     G3   R-squared:                       0.159\n",
       "Model:                            OLS   Adj. R-squared:                  0.150\n",
       "Method:                 Least Squares   F-statistic:                     17.62\n",
       "Date:                Wed, 24 Jul 2019   Prob (F-statistic):           1.67e-10\n",
       "Time:                        18:12:40   Log-Likelihood:                -809.21\n",
       "No. Observations:                 284   AIC:                             1626.\n",
       "Df Residuals:                     280   BIC:                             1641.\n",
       "Df Model:                           3                                         \n",
       "Covariance Type:            nonrobust                                         \n",
       "==============================================================================\n",
       "                 coef    std err          t      P>|t|      [0.025      0.975]\n",
       "------------------------------------------------------------------------------\n",
       "Intercept     11.0677      0.289     38.346      0.000      10.500      11.636\n",
       "failures      -2.0799      0.352     -5.912      0.000      -2.772      -1.387\n",
       "freetime_5     2.7398      0.866      3.165      0.002       1.036       4.444\n",
       "goout_5       -2.0883      0.813     -2.570      0.011      -3.688      -0.489\n",
       "==============================================================================\n",
       "Omnibus:                       21.168   Durbin-Watson:                   1.920\n",
       "Prob(Omnibus):                  0.000   Jarque-Bera (JB):               23.943\n",
       "Skew:                          -0.645   Prob(JB):                     6.32e-06\n",
       "Kurtosis:                       3.599   Cond. No.                         4.24\n",
       "==============================================================================\n",
       "\n",
       "Warnings:\n",
       "[1] Standard Errors assume that the covariance matrix of the errors is correctly specified.\n",
       "\"\"\""
      ]
     },
     "execution_count": 49,
     "metadata": {},
     "output_type": "execute_result"
    }
   ],
   "source": [
    "numeric2 = [\n",
    "    'Medu',\n",
    "    'Fedu',\n",
    "    'traveltime',\n",
    "    'studytime',\n",
    "    'famrel',\n",
    "    'freetime',\n",
    "    'goout',\n",
    "    'Dalc',\n",
    "    'Walc',\n",
    "    'health',\n",
    "]\n",
    "\n",
    "df_b = nicos.get_dummies(df, numeric2)\n",
    "\n",
    "models2 = {}\n",
    "\n",
    "for target in ['G1', 'G2', 'G3']:\n",
    "    banned_coefs = []\n",
    "    for i in range(1, 4):\n",
    "        model = build_model(df_b, target, 'G1', 'G2', 'G3', *banned_coefs).fit()\n",
    "        worst_p_values = list(not_significant_pvalues(model).index)\n",
    "        for coef in worst_p_values:\n",
    "            banned_coefs.append(coef)\n",
    "        models2[target + '_' + str(i)] = model\n",
    "\n",
    "models2['G3_3'].summary()"
   ]
  },
  {
   "cell_type": "code",
   "execution_count": null,
   "metadata": {},
   "outputs": [],
   "source": []
  }
 ],
 "metadata": {
  "kernelspec": {
   "display_name": "Python 3",
   "language": "python",
   "name": "python3"
  },
  "language_info": {
   "codemirror_mode": {
    "name": "ipython",
    "version": 3
   },
   "file_extension": ".py",
   "mimetype": "text/x-python",
   "name": "python",
   "nbconvert_exporter": "python",
   "pygments_lexer": "ipython3",
   "version": "3.6.8"
  }
 },
 "nbformat": 4,
 "nbformat_minor": 2
}
