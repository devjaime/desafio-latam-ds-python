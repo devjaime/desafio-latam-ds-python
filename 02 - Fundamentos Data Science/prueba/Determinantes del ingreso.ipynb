{
 "cells": [
  {
   "cell_type": "markdown",
   "metadata": {},
   "source": [
    "# Desafío 1: Determinantes del ingreso"
   ]
  },
  {
   "cell_type": "markdown",
   "metadata": {},
   "source": [
    "## Preliminares"
   ]
  },
  {
   "cell_type": "markdown",
   "metadata": {},
   "source": [
    "### Problema\n",
    "\n",
    "El problema consiste en el desarrollo de un modelo predictivo de **clasificación** para saber, en base a atributos sociodemográficos, si el salario de un sujeto está sobre o bajo los 50.000 dólares anuales.\n",
    "\n",
    "A continuación se presenta el modelo a estimar:\n",
    "\n",
    "$$\\log\\left(\\frac{p({ income=1})}{1 - p({ income=1})}\\right)={{\\beta }_{0} + \\sum_{i=1} {\\beta }_{i} \\cdot {X_{i}}}$$\n",
    "\n",
    "Donde $X_{i}$ corresponden a los atributos sociodemográficos e $income$ es 1 cuando un sujeto está bajo los 50.000 dólares anuales y 0 si no.\n",
    "\n",
    "### Métricas de desempeño\n",
    "\n",
    "Como este es un problema de clasificación, nos centraremos en la predicción de la clasificación para una nueva observación. Para lo cual se utilizarán las siguientes métricas:\n",
    "\n",
    "- Matrix de confusión: cantidad de observaciones predichas de forma correcta.\n",
    "- Accuracy (exactitud): porcentaje de casos predichos correctamente por sobre el total de casos.\n",
    "- Precision: mide la fracción de predicciones correctas entre las etiquetas positivas.\n",
    "- Recall: Mide la fraccion de verdaderos positivos predichos por el modelo.\n",
    "- F1: representa la media armónica entre Precision y Recall (es decir, una medida general de la presición).\n",
    "- ROC (en particular, _AUC_): evalúa la relación entre ambos errores (falsos positivos y falso negativo) condicional en todo el rango del clasificador.\n",
    "\n",
    "Debido a que este modelo será utilizado para erradicar las diferencias socieconómicas, lo importante es no centrarse en la exactitud de la predicción, si no que poner especial énfasis en $precision$ y $recall$. Si solo nos centráramos en la exactitud, puede pasar que tengamos muchos falsos negativos con lo cual podríamos dejar fuera a personas que necesitan ayuda.\n",
    "\n",
    "### Descripción de la base de datos\n",
    "\n",
    "- `age`: Edad del individuo.\n",
    "- `workclass`: Naturaleza de la organización que emplea al individuo.\n",
    "- `education`: Nivel educacional del individuo:Bachelors (Licenciado), Some-college (Superior incompleta), 11th (3ro medio), HS-grad (Secundaria completa), Prof-school (Escuela profesional), Assoc-acdm (Técnico superior administrativo) , Assoc-voc (Técnico superior vocacional), 9th (1ro medio), 7th-8th (7mo-8vo), 12th (4to medio), Masters (Maestría de postgrado), 1st-4th (1ro-4to básico), 10th(2do medio), Doctorate (Doctorado), 5th-6th (5to-6to), Preschool (Preescolar).\n",
    "- `capital-gains`: Ingresos generados por inversiones fuera del trabajo asalariado = Ingresos generados por inversiones fuera del trabajo asalariado.\n",
    "- `capital-losses`: Pérdidas generadas por inversiones fuera del trabajo asalariado.\n",
    "- `fnlwgt` : Ponderador muestral.\n",
    "- `marital-status`: Estado civil del individuo: Married-civ-spouse (Casado/a régimen civil), Divorced (Divorciado/a), Never-married (Soltero/a), Separated (Separado/a), Widowed (Viudo/a), Married-spouse-absent (Casado con esposo/a ausente), Married-AF-spouse (Casado/a régimen castrense).\n",
    "- `occupation`: Ocupación del individuo: Tech-support (Soporte técnico), Craft-repair (Reparaciones), Other-service (Otros servicios), Sales (Ventas), Exec-managerial (Ejecutivo administrativos), Prof-specialty (Profesores), Handlers-cleaners (Aseo y ornato), Machine-opinspct (Inspectores de maquinarias), Adm-clerical (Administrativos servicio al cliente), Farmingfishing (Pesca-ganadería), Transport-moving (Transporte), Priv-house-serv (Asesor del hogar), Protective-serv (servicios de seguridad), Armed-Forces (Fuerzas armadas).\n",
    "- `relationship`: Relación respecto a su familia Wife(Esposa), Own-child (hijo único), Husband (Esposo), Not-in-family (No pertenece a la familia), Other-relative (Familiar de otro tipo), Unmarried (Soltero).\n",
    "- `race`: Raza del encuestado White(Blanco caucásico), Asian-Pac-Islander (Isleño del Asia Pacífico), Amer-Indian-Eskimo (Pertenenciente a pueblos originarios), Other (Otro grupo), Black (Afroamericano).\n",
    "- `sex`: Sexo del encuestado.\n",
    "- `hours-per-week`: Cantidad de horas trabajadas por semana.\n",
    "- `native-country`: País de origen. United-States, Cambodia, England, Puerto-Rico, Canada, Germany, Outlying-US(Guam-USVI-etc), India, Japan, Greece, South, China, Cuba, Iran, Honduras, Philippines, Italy, Poland, Jamaica, Vietnam, Mexico, Portugal, Ireland, France, Dominican-Republic, Laos, Ecuador, Taiwan, Haiti, Columbia, Hungary, Guatemala, Nicaragua, Scotland, Thailand, Yugoslavia, El-Salvador, Trinadad&Tobago, Peru, Hong, HolandNetherlands.\n",
    "- `income`: <=50K Si el individuo percibe ingresos inferiores a 50.000 dólares anuales, >50K si el individuo percibe ingresos superiores a 50.000 dólares anuales. (**Vector Objetivo**)"
   ]
  },
  {
   "cell_type": "markdown",
   "metadata": {},
   "source": [
    "## Aspectos computacionales"
   ]
  },
  {
   "cell_type": "markdown",
   "metadata": {},
   "source": [
    "### Librerías a utilizar\n",
    "\n",
    "- `pandas`: manipulación y análisis de datos.\n",
    "- `numpy`: biblioteca de funciones matemáticas de alto nivel para operar con vectores o matrices.\n",
    "- `scipy.stats`: contiene una gran cantidad de distribuciones de probabilidad y de funciones estadísticas.\n",
    "- `matplotlib.pyplot`: nos permite mostrar gráficos.\n",
    "- `seaborn`: librería especializada para gráficos estadísticos.\n",
    "- `sklearn`: herramientas para análisis de datos y minería de datos. En particular se utilizará:\n",
    "    - `linear_model`: módulo para trabajar con regresión donde el valor target es una combinación lineal de los features. Utilizaremos en este caso `LogisticRegression`.\n",
    "    - `metrics`: módulo para obtener métricas de nuestros modelos (`roc_curve`, `roc_auc_score`, `confusion_matrix`, `classification_report`).\n",
    "    - `model_selection`: de aquí se utilizará `train_test_split` para dividir nuestro datos en un set de entrenamiento y en un set de validación.\n",
    "    - `preprocessing`: funciones para transformar datos en una representación más adecuada para los estimadores.\n",
    "- `statsmodel`: provee clases y funciones para la estimación de distintos modelos estadísticos, así como para la realización de pruebas estadísticas y la exploración de datos estadísticos.\n",
    "- `missingno`: librería para la visualización de datos perdidos.\n",
    "- `factor_analyzer`: librería para el análisis factorial.\n",
    "- `warnings`: será utilizada para evitar avisos de deprecación."
   ]
  },
  {
   "cell_type": "code",
   "execution_count": 1,
   "metadata": {},
   "outputs": [],
   "source": [
    "import pandas as pd\n",
    "import numpy as np\n",
    "import scipy.stats as stats\n",
    "import matplotlib.pyplot as plt\n",
    "import seaborn as sns\n",
    "from sklearn.linear_model import LogisticRegression \n",
    "from sklearn.model_selection import train_test_split\n",
    "from sklearn.preprocessing import StandardScaler\n",
    "from sklearn.metrics import classification_report, roc_curve, confusion_matrix,roc_auc_score\n",
    "import statsmodels.api as sm\n",
    "import statsmodels.formula.api as smf\n",
    "import factor_analyzer as factor\n",
    "import missingno as msngo\n",
    "import warnings\n",
    "import auxiliary as nicos\n",
    "\n",
    "warnings.filterwarnings('ignore')"
   ]
  },
  {
   "cell_type": "markdown",
   "metadata": {},
   "source": [
    "### Proceso de preprocesamiento y recodificación de datos\n",
    "\n",
    "El proceso de preprocesamiento y recodificación de los datos consistirá en lo siguiente:\n",
    "\n",
    "1. Análisis de cada columna (tipos de datos)\n",
    "2. Los casos perdidos que están codificados como `?` serán transformados a `NaN`.\n",
    "3. Se recodificarán las siguientes variables:\n",
    "    - `occupation` debe recodificarse como collars siguiendo una nomenclatura similar a:\n",
    "        - white-collar $\\leftarrow$ Prof-specialty, Exec-managerial, Adm-clerical, Sales, Tech-support.\n",
    "        - blue-collar $\\leftarrow$ Craft-repair, Machine-op-inspct, Transport-moving, Handlers-cleaners, Farming-fishing, Protective-serv, Priv-house-serv.\n",
    "        - others $\\leftarrow$ Other-service, Armed-Forces\n",
    "    - `workclass` debe recodificarse como workclass_recod siguiendo una nomenclatura similar a:\n",
    "        - federal-gov $\\leftarrow$ Federal-gov.\n",
    "        - state-level-gov $\\leftarrow$ State-gov, Local-gov.\n",
    "        - self-employed $\\leftarrow$ Self-emp-inc, Self-emp-not-inc\n",
    "        - unemployed $\\leftarrow$ Never-worked, Without-pay.\n",
    "    - `education` debe recodificarse como educ_recod siguiendo una nomenclatura similar a:\n",
    "        - preschool $\\leftarrow$ Preschool\n",
    "        - elementary-school $\\leftarrow$ 1st-4th, 5th-6th\n",
    "        - high-school $\\leftarrow$ 7th-8th, 9th, 10th,11th, 12th, HS-grad\n",
    "        - college $\\leftarrow$ Assoc-voc, Assoc-acdm, Some-college\n",
    "        - university $\\leftarrow$ Bachelors, Masters, Prof-school, Doctorate\n",
    "    - `marital-status` debe recodificarse como civstatus siguiendo una nomenclatura similar a :\n",
    "        - married $\\leftarrow$ Married-civ-spouse, Married-spouse-absent, Married-AFspouse\n",
    "        - divorced $\\leftarrow$ Divorced\n",
    "        - separated $\\leftarrow$ Separated\n",
    "        - widowed $\\leftarrow$ Widowed.\n",
    "    - `native-country` debe recodificarse como region donde cada país debe asignarse a uno de los 5 continentes.\n",
    "    - `income` debe recodificarse de forma binaria.\n",
    "3. Para las columnas que guardan valores categóricos, dependiendo del significado de la columna, se crearán nuevas columnas binarias para cada categoría o se asignará valores ordinales."
   ]
  },
  {
   "cell_type": "markdown",
   "metadata": {},
   "source": [
    "### Funciones\n",
    "\n",
    "- `describe_columns(df)`, función que dado un `DataFrame` `df` reporta las medidas descriptivas de cada columna. Para columnas con valores numéricos, utilizará `describe`, mientras para las columnas con atributos discretos utilizará `value_counts`.\n",
    "- `plot_columns_behaviour(df)`, función que dado un `DataFrame` `df`, grafica histogramas para los atributos contínuos y gráficos de barra los discretos."
   ]
  },
  {
   "cell_type": "code",
   "execution_count": 2,
   "metadata": {
    "scrolled": true
   },
   "outputs": [
    {
     "data": {
      "text/html": [
       "<div>\n",
       "<style scoped>\n",
       "    .dataframe tbody tr th:only-of-type {\n",
       "        vertical-align: middle;\n",
       "    }\n",
       "\n",
       "    .dataframe tbody tr th {\n",
       "        vertical-align: top;\n",
       "    }\n",
       "\n",
       "    .dataframe thead th {\n",
       "        text-align: right;\n",
       "    }\n",
       "</style>\n",
       "<table border=\"1\" class=\"dataframe\">\n",
       "  <thead>\n",
       "    <tr style=\"text-align: right;\">\n",
       "      <th></th>\n",
       "      <th>age</th>\n",
       "      <th>workclass</th>\n",
       "      <th>fnlwgt</th>\n",
       "      <th>education</th>\n",
       "      <th>educational-num</th>\n",
       "      <th>marital-status</th>\n",
       "      <th>occupation</th>\n",
       "      <th>relationship</th>\n",
       "      <th>race</th>\n",
       "      <th>gender</th>\n",
       "      <th>capital-gain</th>\n",
       "      <th>capital-loss</th>\n",
       "      <th>hours-per-week</th>\n",
       "      <th>native-country</th>\n",
       "      <th>income</th>\n",
       "    </tr>\n",
       "  </thead>\n",
       "  <tbody>\n",
       "    <tr>\n",
       "      <th>0</th>\n",
       "      <td>25</td>\n",
       "      <td>Private</td>\n",
       "      <td>226802</td>\n",
       "      <td>11th</td>\n",
       "      <td>7</td>\n",
       "      <td>Never-married</td>\n",
       "      <td>Machine-op-inspct</td>\n",
       "      <td>Own-child</td>\n",
       "      <td>Black</td>\n",
       "      <td>Male</td>\n",
       "      <td>0</td>\n",
       "      <td>0</td>\n",
       "      <td>40</td>\n",
       "      <td>United-States</td>\n",
       "      <td>&lt;=50K</td>\n",
       "    </tr>\n",
       "    <tr>\n",
       "      <th>1</th>\n",
       "      <td>38</td>\n",
       "      <td>Private</td>\n",
       "      <td>89814</td>\n",
       "      <td>HS-grad</td>\n",
       "      <td>9</td>\n",
       "      <td>Married-civ-spouse</td>\n",
       "      <td>Farming-fishing</td>\n",
       "      <td>Husband</td>\n",
       "      <td>White</td>\n",
       "      <td>Male</td>\n",
       "      <td>0</td>\n",
       "      <td>0</td>\n",
       "      <td>50</td>\n",
       "      <td>United-States</td>\n",
       "      <td>&lt;=50K</td>\n",
       "    </tr>\n",
       "    <tr>\n",
       "      <th>2</th>\n",
       "      <td>28</td>\n",
       "      <td>Local-gov</td>\n",
       "      <td>336951</td>\n",
       "      <td>Assoc-acdm</td>\n",
       "      <td>12</td>\n",
       "      <td>Married-civ-spouse</td>\n",
       "      <td>Protective-serv</td>\n",
       "      <td>Husband</td>\n",
       "      <td>White</td>\n",
       "      <td>Male</td>\n",
       "      <td>0</td>\n",
       "      <td>0</td>\n",
       "      <td>40</td>\n",
       "      <td>United-States</td>\n",
       "      <td>&gt;50K</td>\n",
       "    </tr>\n",
       "    <tr>\n",
       "      <th>3</th>\n",
       "      <td>44</td>\n",
       "      <td>Private</td>\n",
       "      <td>160323</td>\n",
       "      <td>Some-college</td>\n",
       "      <td>10</td>\n",
       "      <td>Married-civ-spouse</td>\n",
       "      <td>Machine-op-inspct</td>\n",
       "      <td>Husband</td>\n",
       "      <td>Black</td>\n",
       "      <td>Male</td>\n",
       "      <td>7688</td>\n",
       "      <td>0</td>\n",
       "      <td>40</td>\n",
       "      <td>United-States</td>\n",
       "      <td>&gt;50K</td>\n",
       "    </tr>\n",
       "    <tr>\n",
       "      <th>4</th>\n",
       "      <td>18</td>\n",
       "      <td>?</td>\n",
       "      <td>103497</td>\n",
       "      <td>Some-college</td>\n",
       "      <td>10</td>\n",
       "      <td>Never-married</td>\n",
       "      <td>?</td>\n",
       "      <td>Own-child</td>\n",
       "      <td>White</td>\n",
       "      <td>Female</td>\n",
       "      <td>0</td>\n",
       "      <td>0</td>\n",
       "      <td>30</td>\n",
       "      <td>United-States</td>\n",
       "      <td>&lt;=50K</td>\n",
       "    </tr>\n",
       "  </tbody>\n",
       "</table>\n",
       "</div>"
      ],
      "text/plain": [
       "   age  workclass  fnlwgt     education  educational-num      marital-status  \\\n",
       "0   25    Private  226802          11th                7       Never-married   \n",
       "1   38    Private   89814       HS-grad                9  Married-civ-spouse   \n",
       "2   28  Local-gov  336951    Assoc-acdm               12  Married-civ-spouse   \n",
       "3   44    Private  160323  Some-college               10  Married-civ-spouse   \n",
       "4   18          ?  103497  Some-college               10       Never-married   \n",
       "\n",
       "          occupation relationship   race  gender  capital-gain  capital-loss  \\\n",
       "0  Machine-op-inspct    Own-child  Black    Male             0             0   \n",
       "1    Farming-fishing      Husband  White    Male             0             0   \n",
       "2    Protective-serv      Husband  White    Male             0             0   \n",
       "3  Machine-op-inspct      Husband  Black    Male          7688             0   \n",
       "4                  ?    Own-child  White  Female             0             0   \n",
       "\n",
       "   hours-per-week native-country income  \n",
       "0              40  United-States  <=50K  \n",
       "1              50  United-States  <=50K  \n",
       "2              40  United-States   >50K  \n",
       "3              40  United-States   >50K  \n",
       "4              30  United-States  <=50K  "
      ]
     },
     "execution_count": 2,
     "metadata": {},
     "output_type": "execute_result"
    }
   ],
   "source": [
    "original_df = pd.read_csv('income-db.csv')\n",
    "original_df.head(5)"
   ]
  },
  {
   "cell_type": "markdown",
   "metadata": {},
   "source": [
    "#### Análisis de cada columna"
   ]
  },
  {
   "cell_type": "code",
   "execution_count": 3,
   "metadata": {},
   "outputs": [
    {
     "name": "stdout",
     "output_type": "stream",
     "text": [
      "<class 'pandas.core.frame.DataFrame'>\n",
      "RangeIndex: 48842 entries, 0 to 48841\n",
      "Data columns (total 15 columns):\n",
      "age                48842 non-null int64\n",
      "workclass          48842 non-null object\n",
      "fnlwgt             48842 non-null int64\n",
      "education          48842 non-null object\n",
      "educational-num    48842 non-null int64\n",
      "marital-status     48842 non-null object\n",
      "occupation         48842 non-null object\n",
      "relationship       48842 non-null object\n",
      "race               48842 non-null object\n",
      "gender             48842 non-null object\n",
      "capital-gain       48842 non-null int64\n",
      "capital-loss       48842 non-null int64\n",
      "hours-per-week     48842 non-null int64\n",
      "native-country     48842 non-null object\n",
      "income             48842 non-null object\n",
      "dtypes: int64(6), object(9)\n",
      "memory usage: 5.6+ MB\n"
     ]
    }
   ],
   "source": [
    "original_df.info()"
   ]
  },
  {
   "cell_type": "markdown",
   "metadata": {},
   "source": [
    "#### Recodificación de casos perdidos"
   ]
  },
  {
   "cell_type": "code",
   "execution_count": 4,
   "metadata": {},
   "outputs": [
    {
     "name": "stdout",
     "output_type": "stream",
     "text": [
      "workclass tiene 2799 casos perdidos que serán recodificados a None\n",
      "occupation tiene 10 casos perdidos que serán recodificados a None\n",
      "native-country tiene 811 casos perdidos que serán recodificados a None\n"
     ]
    }
   ],
   "source": [
    "df = original_df.copy()\n",
    "for col in df:\n",
    "    missing = df[col] == '?'\n",
    "    missing_count = sum(missing)\n",
    "    if missing_count > 0:\n",
    "        print(col, 'tiene', missing_count, 'casos perdidos que serán recodificados a None')\n",
    "        df[missing] = None"
   ]
  },
  {
   "cell_type": "markdown",
   "metadata": {},
   "source": [
    "#### Recodificación de variables"
   ]
  },
  {
   "cell_type": "code",
   "execution_count": 5,
   "metadata": {},
   "outputs": [],
   "source": [
    "# Guardamos las reglas de recodificación\n",
    "recodification_rules = {\n",
    "    'occupation': {\n",
    "        'to': 'collars',\n",
    "        'rules': {\n",
    "            'white-collar': [\n",
    "                'Prof-specialty',\n",
    "                'Exec-managerial',\n",
    "                'Adm-clerical',\n",
    "                'Sales',\n",
    "                'Tech-support'\n",
    "            ],\n",
    "            'blue-collar': [\n",
    "                'Craft-repair',\n",
    "                'Machine-op-inspct',\n",
    "                'Transport-moving',\n",
    "                'Handlers-cleaners',\n",
    "                'Farming-fishing',\n",
    "                'Protective-serv',\n",
    "                'Priv-house-serv'],\n",
    "            'others': [\n",
    "                'Other-service',\n",
    "                'Armed-Forces'\n",
    "            ],\n",
    "        },\n",
    "    },\n",
    "    'workclass': {\n",
    "        'to': 'workclass_recod',\n",
    "        'rules': {\n",
    "            'private': ['Private'],\n",
    "            'federal-gov': ['Federal-gov'],\n",
    "            'state-level-gov': ['State-gov', 'Local-gov'],\n",
    "            'self-employed': ['Self-emp-inc', 'Self-emp-not-inc'],\n",
    "            'unemployed': ['Never-worked', 'Without-pay'],\n",
    "        },\n",
    "    },\n",
    "    'education': {\n",
    "        'to': 'educ_recod',\n",
    "        'rules': {\n",
    "            'preschool': ['Preschool'],\n",
    "            'elementary-school': ['1st-4th', '5th-6th'],\n",
    "            'high-school': ['7th-8th', '9th', '10th', '11th', '12th', 'HS-grad'],\n",
    "            'college': ['Assoc-voc', 'Assoc-acdm', 'Some-college'],\n",
    "            'university': ['Bachelors', 'Masters', 'Prof-school', 'Doctorate'],\n",
    "        },\n",
    "    },\n",
    "    'marital-status': {\n",
    "        'to': 'civstatus',\n",
    "        'rules': {\n",
    "            'married': ['Married-civ-spouse', 'Married-spouse-absent', 'Married-AF-spouse'],\n",
    "            'divorced': ['Divorced'],\n",
    "            'separated': ['Separated'],\n",
    "            'widowed': ['Widowed'],\n",
    "            'never-married': ['Never-married'],\n",
    "        },\n",
    "    },\n",
    "    'income': {\n",
    "        'to': 'income',\n",
    "        'rules': {\n",
    "            1: ['>50K'],\n",
    "            0: ['<=50K'],\n",
    "        },\n",
    "    },\n",
    "    'native-country': {\n",
    "        'to': 'continent',\n",
    "        'rules': {\n",
    "            'asia': [\n",
    "                'Philippines',\n",
    "                'India',\n",
    "                'China',\n",
    "                'Japan',\n",
    "                'Vietnam',\n",
    "                'Iran',\n",
    "                'Taiwan',\n",
    "                'Thailand',\n",
    "                'Hong',\n",
    "                'Cambodia',\n",
    "                'Laos',\n",
    "            ],\n",
    "            'australia': ['Outlying-US(Guam-USVI-etc)'],\n",
    "            'europe': [\n",
    "                'Germany',\n",
    "                'England',\n",
    "                'Italy',\n",
    "                'Poland',\n",
    "                'Portugal',\n",
    "                'Greece',\n",
    "                'France',\n",
    "                'Ireland',\n",
    "                'Yugoslavia',\n",
    "                'Scotland',\n",
    "                'Hungary',\n",
    "                'Holand-Netherlands',\n",
    "            ],\n",
    "            'north-america': [\n",
    "                'United-States',\n",
    "                'Mexico',\n",
    "                'Puerto-Rico',\n",
    "                'Canada',\n",
    "                'El-Salvador',\n",
    "                'Jamaica',\n",
    "                'Dominican-Republic',\n",
    "                'Guatemala',\n",
    "                'Haiti',\n",
    "                'Nicaragua',\n",
    "                'Honduras',\n",
    "            ],\n",
    "            'south-america': [\n",
    "                'Cuba',\n",
    "                'South',\n",
    "                'Columbia',\n",
    "                'Peru',\n",
    "                'Ecuador',\n",
    "                'Trinadad&Tobago',\n",
    "            ],\n",
    "        },\n",
    "    },\n",
    "}"
   ]
  },
  {
   "cell_type": "code",
   "execution_count": 6,
   "metadata": {},
   "outputs": [
    {
     "name": "stdout",
     "output_type": "stream",
     "text": [
      "Recodificando occupation a collars\n",
      "white-collar    24360\n",
      "blue-collar     16040\n",
      "others           4822\n",
      "Name: collars, dtype: int64 \n",
      "\n",
      "Recodificando workclass a workclass_recod\n",
      "private            33307\n",
      "self-employed       5442\n",
      "state-level-gov     5046\n",
      "federal-gov         1406\n",
      "unemployed            21\n",
      "Name: workclass_recod, dtype: int64 \n",
      "\n",
      "Recodificando education a educ_recod\n",
      "high-school          19701\n",
      "college              13365\n",
      "university           11413\n",
      "elementary-school      671\n",
      "preschool               72\n",
      "Name: educ_recod, dtype: int64 \n",
      "\n",
      "Recodificando marital-status a civstatus\n",
      "married          21639\n",
      "never-married    14598\n",
      "divorced          6297\n",
      "separated         1411\n",
      "widowed           1277\n",
      "Name: civstatus, dtype: int64 \n",
      "\n",
      "Recodificando income a income\n",
      "0    34014\n",
      "1    11208\n",
      "Name: income, dtype: int64 \n",
      "\n",
      "Recodificando native-country a continent\n",
      "north-america    43102\n",
      "asia               930\n",
      "europe             738\n",
      "south-america      430\n",
      "australia           22\n",
      "Name: continent, dtype: int64 \n",
      "\n"
     ]
    }
   ],
   "source": [
    "# Recodificamos:\n",
    "\n",
    "df_recod = df.copy()\n",
    "\n",
    "for original_column in recodification_rules:\n",
    "    new_column = recodification_rules[original_column]['to']\n",
    "    rules = recodification_rules[original_column]['rules']\n",
    "    \n",
    "    print('Recodificando', original_column, 'a', new_column)\n",
    "\n",
    "    df_recod[new_column] = None\n",
    "\n",
    "    for new_value, original_values in rules.items():\n",
    "        df_recod.loc[df[original_column].isin(original_values), new_column] = new_value\n",
    "\n",
    "    print(df_recod[new_column].value_counts(), '\\n')"
   ]
  },
  {
   "cell_type": "markdown",
   "metadata": {},
   "source": [
    "#### Binarización"
   ]
  },
  {
   "cell_type": "code",
   "execution_count": 32,
   "metadata": {},
   "outputs": [],
   "source": [
    "unnecessary_columns = list(filter(lambda x: x != 'income', recodification_rules.keys()))\n",
    "df_recod_clean = df_recod.drop(columns=unnecessary_columns)\n",
    "\n",
    "df = nicos.get_dummies(df_recod_clean)"
   ]
  },
  {
   "cell_type": "code",
   "execution_count": 33,
   "metadata": {},
   "outputs": [
    {
     "data": {
      "text/html": [
       "<div>\n",
       "<style scoped>\n",
       "    .dataframe tbody tr th:only-of-type {\n",
       "        vertical-align: middle;\n",
       "    }\n",
       "\n",
       "    .dataframe tbody tr th {\n",
       "        vertical-align: top;\n",
       "    }\n",
       "\n",
       "    .dataframe thead th {\n",
       "        text-align: right;\n",
       "    }\n",
       "</style>\n",
       "<table border=\"1\" class=\"dataframe\">\n",
       "  <thead>\n",
       "    <tr style=\"text-align: right;\">\n",
       "      <th></th>\n",
       "      <th>age</th>\n",
       "      <th>fnlwgt</th>\n",
       "      <th>educational-num</th>\n",
       "      <th>capital-gain</th>\n",
       "      <th>capital-loss</th>\n",
       "      <th>hours-per-week</th>\n",
       "      <th>income</th>\n",
       "      <th>relationship_Not-in-family</th>\n",
       "      <th>relationship_Own-child</th>\n",
       "      <th>relationship_Unmarried</th>\n",
       "      <th>...</th>\n",
       "      <th>educ_recod_elementary-school</th>\n",
       "      <th>educ_recod_preschool</th>\n",
       "      <th>civstatus_never-married</th>\n",
       "      <th>civstatus_divorced</th>\n",
       "      <th>civstatus_separated</th>\n",
       "      <th>civstatus_widowed</th>\n",
       "      <th>continent_asia</th>\n",
       "      <th>continent_europe</th>\n",
       "      <th>continent_south-america</th>\n",
       "      <th>continent_australia</th>\n",
       "    </tr>\n",
       "  </thead>\n",
       "  <tbody>\n",
       "    <tr>\n",
       "      <th>0</th>\n",
       "      <td>25.0</td>\n",
       "      <td>226802.0</td>\n",
       "      <td>7.0</td>\n",
       "      <td>0.0</td>\n",
       "      <td>0.0</td>\n",
       "      <td>40.0</td>\n",
       "      <td>0</td>\n",
       "      <td>0</td>\n",
       "      <td>1</td>\n",
       "      <td>0</td>\n",
       "      <td>...</td>\n",
       "      <td>0</td>\n",
       "      <td>0</td>\n",
       "      <td>1</td>\n",
       "      <td>0</td>\n",
       "      <td>0</td>\n",
       "      <td>0</td>\n",
       "      <td>0</td>\n",
       "      <td>0</td>\n",
       "      <td>0</td>\n",
       "      <td>0</td>\n",
       "    </tr>\n",
       "    <tr>\n",
       "      <th>1</th>\n",
       "      <td>38.0</td>\n",
       "      <td>89814.0</td>\n",
       "      <td>9.0</td>\n",
       "      <td>0.0</td>\n",
       "      <td>0.0</td>\n",
       "      <td>50.0</td>\n",
       "      <td>0</td>\n",
       "      <td>0</td>\n",
       "      <td>0</td>\n",
       "      <td>0</td>\n",
       "      <td>...</td>\n",
       "      <td>0</td>\n",
       "      <td>0</td>\n",
       "      <td>0</td>\n",
       "      <td>0</td>\n",
       "      <td>0</td>\n",
       "      <td>0</td>\n",
       "      <td>0</td>\n",
       "      <td>0</td>\n",
       "      <td>0</td>\n",
       "      <td>0</td>\n",
       "    </tr>\n",
       "    <tr>\n",
       "      <th>2</th>\n",
       "      <td>28.0</td>\n",
       "      <td>336951.0</td>\n",
       "      <td>12.0</td>\n",
       "      <td>0.0</td>\n",
       "      <td>0.0</td>\n",
       "      <td>40.0</td>\n",
       "      <td>1</td>\n",
       "      <td>0</td>\n",
       "      <td>0</td>\n",
       "      <td>0</td>\n",
       "      <td>...</td>\n",
       "      <td>0</td>\n",
       "      <td>0</td>\n",
       "      <td>0</td>\n",
       "      <td>0</td>\n",
       "      <td>0</td>\n",
       "      <td>0</td>\n",
       "      <td>0</td>\n",
       "      <td>0</td>\n",
       "      <td>0</td>\n",
       "      <td>0</td>\n",
       "    </tr>\n",
       "    <tr>\n",
       "      <th>3</th>\n",
       "      <td>44.0</td>\n",
       "      <td>160323.0</td>\n",
       "      <td>10.0</td>\n",
       "      <td>7688.0</td>\n",
       "      <td>0.0</td>\n",
       "      <td>40.0</td>\n",
       "      <td>1</td>\n",
       "      <td>0</td>\n",
       "      <td>0</td>\n",
       "      <td>0</td>\n",
       "      <td>...</td>\n",
       "      <td>0</td>\n",
       "      <td>0</td>\n",
       "      <td>0</td>\n",
       "      <td>0</td>\n",
       "      <td>0</td>\n",
       "      <td>0</td>\n",
       "      <td>0</td>\n",
       "      <td>0</td>\n",
       "      <td>0</td>\n",
       "      <td>0</td>\n",
       "    </tr>\n",
       "    <tr>\n",
       "      <th>5</th>\n",
       "      <td>34.0</td>\n",
       "      <td>198693.0</td>\n",
       "      <td>6.0</td>\n",
       "      <td>0.0</td>\n",
       "      <td>0.0</td>\n",
       "      <td>30.0</td>\n",
       "      <td>0</td>\n",
       "      <td>1</td>\n",
       "      <td>0</td>\n",
       "      <td>0</td>\n",
       "      <td>...</td>\n",
       "      <td>0</td>\n",
       "      <td>0</td>\n",
       "      <td>1</td>\n",
       "      <td>0</td>\n",
       "      <td>0</td>\n",
       "      <td>0</td>\n",
       "      <td>0</td>\n",
       "      <td>0</td>\n",
       "      <td>0</td>\n",
       "      <td>0</td>\n",
       "    </tr>\n",
       "  </tbody>\n",
       "</table>\n",
       "<p>5 rows × 35 columns</p>\n",
       "</div>"
      ],
      "text/plain": [
       "    age    fnlwgt  educational-num  capital-gain  capital-loss  \\\n",
       "0  25.0  226802.0              7.0           0.0           0.0   \n",
       "1  38.0   89814.0              9.0           0.0           0.0   \n",
       "2  28.0  336951.0             12.0           0.0           0.0   \n",
       "3  44.0  160323.0             10.0        7688.0           0.0   \n",
       "5  34.0  198693.0              6.0           0.0           0.0   \n",
       "\n",
       "   hours-per-week  income  relationship_Not-in-family  relationship_Own-child  \\\n",
       "0            40.0       0                           0                       1   \n",
       "1            50.0       0                           0                       0   \n",
       "2            40.0       1                           0                       0   \n",
       "3            40.0       1                           0                       0   \n",
       "5            30.0       0                           1                       0   \n",
       "\n",
       "   relationship_Unmarried  ...  educ_recod_elementary-school  \\\n",
       "0                       0  ...                             0   \n",
       "1                       0  ...                             0   \n",
       "2                       0  ...                             0   \n",
       "3                       0  ...                             0   \n",
       "5                       0  ...                             0   \n",
       "\n",
       "   educ_recod_preschool  civstatus_never-married  civstatus_divorced  \\\n",
       "0                     0                        1                   0   \n",
       "1                     0                        0                   0   \n",
       "2                     0                        0                   0   \n",
       "3                     0                        0                   0   \n",
       "5                     0                        1                   0   \n",
       "\n",
       "   civstatus_separated  civstatus_widowed  continent_asia  continent_europe  \\\n",
       "0                    0                  0               0                 0   \n",
       "1                    0                  0               0                 0   \n",
       "2                    0                  0               0                 0   \n",
       "3                    0                  0               0                 0   \n",
       "5                    0                  0               0                 0   \n",
       "\n",
       "   continent_south-america  continent_australia  \n",
       "0                        0                    0  \n",
       "1                        0                    0  \n",
       "2                        0                    0  \n",
       "3                        0                    0  \n",
       "5                        0                    0  \n",
       "\n",
       "[5 rows x 35 columns]"
      ]
     },
     "execution_count": 33,
     "metadata": {},
     "output_type": "execute_result"
    }
   ],
   "source": [
    "df.head(5)"
   ]
  },
  {
   "cell_type": "markdown",
   "metadata": {},
   "source": [
    "## Descripción\n",
    "\n",
    "### Análisis de valores perdidos\n",
    "\n",
    "Vamos a ver cómo se distribuyen los datos perdidos a lo largo del dataset:"
   ]
  },
  {
   "cell_type": "code",
   "execution_count": 34,
   "metadata": {},
   "outputs": [
    {
     "data": {
      "image/png": "[encoded data removed]",
      "text/plain": [
       "<Figure size 1800x720 with 2 Axes>"
      ]
     },
     "metadata": {
      "needs_background": "light"
     },
     "output_type": "display_data"
    }
   ],
   "source": [
    "msngo.matrix(df_recod_clean);"
   ]
  },
  {
   "cell_type": "markdown",
   "metadata": {},
   "source": [
    "Los datos perdidos están distribuidos a lo largo de todas las variables del dataframe. ¿Cuál será la cantidad?"
   ]
  },
  {
   "cell_type": "code",
   "execution_count": 35,
   "metadata": {},
   "outputs": [
    {
     "name": "stdout",
     "output_type": "stream",
     "text": [
      "Los datos perdidos son 3620 (%7.411653904426518)\n"
     ]
    }
   ],
   "source": [
    "lost = df_recod_clean.shape[0] - df_recod_clean.dropna().shape[0]\n",
    "print('Los datos perdidos son', lost, '(%{})'.format(100 * lost / df_recod_clean.shape[0]))"
   ]
  },
  {
   "cell_type": "markdown",
   "metadata": {},
   "source": [
    "Son sólo el 7% y como se distribuyen columna a columna no hay mucho que hacer, así que podemos eliminarlos con seguridad.\n",
    "\n",
    "Notar que esto ya se hizo con anterioridad, y el resultado final quedó guardado en la variable `df`:"
   ]
  },
  {
   "cell_type": "code",
   "execution_count": 36,
   "metadata": {},
   "outputs": [
    {
     "name": "stdout",
     "output_type": "stream",
     "text": [
      "True\n"
     ]
    }
   ],
   "source": [
    "print(lost + df.shape[0] == df_recod_clean.shape[0])"
   ]
  },
  {
   "cell_type": "markdown",
   "metadata": {},
   "source": [
    "### Análisis descriptivo"
   ]
  },
  {
   "cell_type": "markdown",
   "metadata": {},
   "source": [
    "Ahora veremos un análisis descriptivo de las variables del dataset. \n",
    "\n",
    "Para esto, me basaré el dataframe `df_recod` (aunque sin datos perdidos) para facilidad de análisis."
   ]
  },
  {
   "cell_type": "code",
   "execution_count": 37,
   "metadata": {},
   "outputs": [],
   "source": [
    "data = df_recod_clean.dropna().infer_objects()"
   ]
  },
  {
   "cell_type": "markdown",
   "metadata": {},
   "source": [
    "### Inspección visual vector objetivo\n",
    "\n",
    "Nuestro vector objetivo es `income`, el cual es una variable binaria. Veamos como se distribuye:"
   ]
  },
  {
   "cell_type": "code",
   "execution_count": 38,
   "metadata": {},
   "outputs": [
    {
     "data": {
      "image/png": "[encoded data removed]",
      "text/plain": [
       "<Figure size 432x288 with 1 Axes>"
      ]
     },
     "metadata": {
      "needs_background": "light"
     },
     "output_type": "display_data"
    }
   ],
   "source": [
    "sns.countplot(x=data['income']);"
   ]
  },
  {
   "cell_type": "markdown",
   "metadata": {},
   "source": [
    "Las personas con ingreso >= 50k corresponden a aproximadamente un 25% del dataset."
   ]
  },
  {
   "cell_type": "markdown",
   "metadata": {},
   "source": [
    "### Inspeción visual de Variables"
   ]
  },
  {
   "cell_type": "code",
   "execution_count": 39,
   "metadata": {},
   "outputs": [
    {
     "data": {
      "image/png": "[encoded data removed]",
      "text/plain": [
       "<Figure size 1080x720 with 5 Axes>"
      ]
     },
     "metadata": {
      "needs_background": "light"
     },
     "output_type": "display_data"
    }
   ],
   "source": [
    "numeric_columns = ['age', 'fnlwgt', 'capital-gain', 'capital-loss', 'hours-per-week']\n",
    "nicos.plot_columns_behaviour(data[numeric_columns], 'numeric')"
   ]
  },
  {
   "cell_type": "markdown",
   "metadata": {},
   "source": [
    "- Los gráficos que se ven más simétricos son el de la edad y de la cantidad de horas trabajadas.\n",
    "- La edad de los sujetos de la muestra se encuentra mayoritaria mente entre el rango 25 - 55 años.\n",
    "    - Se puede ver que desde aproximadamente los 50 años la frecuencia comienza a disminuir considerablemente. \n",
    "    - Existen algunos outliers > 80 años\n",
    "- La mayoría de las personas no tiene ingresos adicionales al trabajo asalariado, pero existen personas en la muestra que ganan cerca de 20k, y otras pocas cercanas a 100k.\n",
    "- La mayoría de las personas no tiene pérdidas de capital, pero existen unos pocos que sí.\n",
    "- La mayortía de las personas trabajan alrededor de 40 horas semanales, pero existen algunos outliers que trabajan cerca de 60 horas.\n",
    "\n",
    "De hecho si vemos el `skew`, la edad y las horas trabajadas < 0.5:"
   ]
  },
  {
   "cell_type": "code",
   "execution_count": 40,
   "metadata": {},
   "outputs": [
    {
     "data": {
      "text/plain": [
       "age                0.532816\n",
       "fnlwgt             1.447516\n",
       "capital-gain      11.789002\n",
       "capital-loss       4.516304\n",
       "hours-per-week     0.340545\n",
       "dtype: float64"
      ]
     },
     "execution_count": 40,
     "metadata": {},
     "output_type": "execute_result"
    }
   ],
   "source": [
    "data[numeric_columns].skew()"
   ]
  },
  {
   "cell_type": "markdown",
   "metadata": {},
   "source": [
    "¿Existe alguna correlación entre estas variables?"
   ]
  },
  {
   "cell_type": "code",
   "execution_count": 41,
   "metadata": {},
   "outputs": [
    {
     "data": {
      "text/plain": [
       "<matplotlib.axes._subplots.AxesSubplot at 0x1c2fb589b0>"
      ]
     },
     "execution_count": 41,
     "metadata": {},
     "output_type": "execute_result"
    },
    {
     "data": {
      "image/png": "[encoded data removed]",
      "text/plain": [
       "<Figure size 432x288 with 2 Axes>"
      ]
     },
     "metadata": {
      "needs_background": "light"
     },
     "output_type": "display_data"
    }
   ],
   "source": [
    "sns.heatmap(data[numeric_columns].corr(), annot=True)"
   ]
  },
  {
   "cell_type": "markdown",
   "metadata": {},
   "source": [
    "No, no se ven correlaciones 😀"
   ]
  },
  {
   "cell_type": "markdown",
   "metadata": {},
   "source": [
    "Para el resto de las variables, crearemos gráficos donde se comparará la frecuencia de cada variable categórica en 3 grupos:\n",
    "\n",
    "- Ingresos menores 50k (`income = 0`)\n",
    "- Ingresos mayores o iguales a 50k (`income = 1`)\n",
    "- Global (independiente del `income`)"
   ]
  },
  {
   "cell_type": "code",
   "execution_count": 42,
   "metadata": {
    "scrolled": false
   },
   "outputs": [
    {
     "data": {
      "image/png": "[encoded data removed]",
      "text/plain": [
       "<Figure size 1080x1080 with 9 Axes>"
      ]
     },
     "metadata": {
      "needs_background": "light"
     },
     "output_type": "display_data"
    }
   ],
   "source": [
    "object_columns = list(filter(lambda x: data[x].dtype == np.object, data.columns))\n",
    "grouped_by_income = data.groupby(\"income\")\n",
    "n_cols = 3\n",
    "n_rows = int(np.ceil(len(object_columns) / n_cols))\n",
    "\n",
    "fig, axes = plt.subplots(n_rows, n_cols, figsize=(15,15))\n",
    "\n",
    "for i, col_name in enumerate(object_columns):\n",
    "    n_row = int(i / n_cols)\n",
    "    ax = axes[n_row, i % n_cols]\n",
    "    g = grouped_by_income[col_name].value_counts(normalize=True).unstack()\n",
    "    g = g.rename(index={0: '< 50k', 1: '>= 50k'})\n",
    "    \n",
    "    row = data[col_name].value_counts(normalize=True).to_frame()[col_name]\n",
    "    row.name = 'all'\n",
    "    g = g.append(row)\n",
    "    g.plot.bar(ax=ax);\n",
    "\n",
    "axes[n_rows - 1, n_cols - 1].set_visible(False)\n",
    "fig.tight_layout();"
   ]
  },
  {
   "cell_type": "markdown",
   "metadata": {},
   "source": [
    "### Observaciones\n",
    "\n",
    "- La relación entre el encuestado y su familia:\n",
    "    - A nivel global, está bien distribuida, donde la mayoría son esposos (la mayoría de los encuestados son hombres).\n",
    "    - Para income >= 50k, la diferencia aumenta muchísimo. La mayor frecuencia se lo llevan los esposos y las esposas.\n",
    "- La raza del encuestado\n",
    "    - En todos los grupos se encuentra sobrerepresentada por los blancos.\n",
    "    - La distribución tiende a ser similar en los 3 grupos, aunque hay una menor frecuencia de sujetos con raza negra para ingresos superiores.\n",
    "- El género:\n",
    "    - A nivel global, sólo cerca del 33% son mujeres.\n",
    "    - Para income >= 50k, hay mucho más hombres que mujeres.\n",
    "- Profesiones:\n",
    "    - La mayoría trabaja en profesiones `white-collar`.\n",
    "    - Las observaciones `white-collar` aumentan considerablemente en el grupo de `income = 1`, mientras que `others` disminuye drásticamente.\n",
    "- Sector de trabajo:\n",
    "    - La mayoría trabaja en el sector privado, y muy pocos están cesantes.\n",
    "    - La clase `federal-gov` está representada muy similar en los distintos grupos de income.\n",
    "    - La clase frecuencia de la clase `private` disminuye en el grupo `income = 1` para repartirse en los grupos, mayoritariamente en `self-employed`\n",
    "- Estudios:\n",
    "    - La mayoría salió del colegio y estudios superiores.\n",
    "    - Muy pocos se quedaron en la educación básica.\n",
    "    - Prácticamente nadie que haya estudiado hasta la prescuela tiene ingresos superiores a 50k, y una pequeña cantidad (cercano al 0%) que llegó a la básica se encuentra en dicho grupo.\n",
    "    - Aquellos que no continuaron estudios universitarios pero que llegaron hasta college, tienen una frecuencia muy similar en los dos grupos de ingreso.\n",
    "    - Aquellos con estudios superiores tienen una frecuencia mucho mayor en el grupo de ingresos superiores a 50k en comparación al grupo `income = 0`.\n",
    "- Estado civil:\n",
    "    - A nivel global: la mayoría está casado, seguido por aquellos que nunca lo hicieron. La tercera categoría no menor es la de divorciados.\n",
    "    - En el grupo de ingresos < 50k: la tendencia se parece a la global.\n",
    "    - En el grupo de ingresos >= 50k: la tendencia se rompe y los casados son los con mayor frecuencia.\n",
    "- Continente: \n",
    "    - Sobrerepresentado por los norteamericanos.\n",
    "    - La tendencia a nivel global es muy parecida en ambos grupos."
   ]
  },
  {
   "cell_type": "markdown",
   "metadata": {},
   "source": [
    "Finalmente, ¿cómo es la correlación a nivel global de nuestro dataframe?"
   ]
  },
  {
   "cell_type": "code",
   "execution_count": 43,
   "metadata": {},
   "outputs": [
    {
     "data": {
      "image/png": "[encoded data removed]",
      "text/plain": [
       "<Figure size 1080x360 with 2 Axes>"
      ]
     },
     "metadata": {
      "needs_background": "light"
     },
     "output_type": "display_data"
    }
   ],
   "source": [
    "nicos.plot_main_correlations(df)"
   ]
  },
  {
   "cell_type": "markdown",
   "metadata": {},
   "source": [
    "Las principales correlaciones que se ven:\n",
    "\n",
    "- Para edades altas, vivir con tu hijo tiende a ser falso, al igual que nunca haberse casado.\n",
    "- Para un alto nivel educacional, la mayoría tiende a ser universitarios.\n",
    "- Las personas que viven en asia, tienden a ser de raza asiática. "
   ]
  },
  {
   "cell_type": "markdown",
   "metadata": {},
   "source": [
    "Modelación descriptiva\n",
    "---"
   ]
  },
  {
   "cell_type": "markdown",
   "metadata": {},
   "source": [
    "### Modelación de regresión"
   ]
  },
  {
   "cell_type": "code",
   "execution_count": 48,
   "metadata": {},
   "outputs": [],
   "source": [
    "def build_model(df, target, *banned_columns):\n",
    "    regressors = [item for item in df.columns if item not in banned_columns]\n",
    "    return smf.logit('{} ~ {}'.format(target, ' + '.join(regressors)), df)\n",
    "\n",
    "def not_significant_pvalues(model, alpha = 0.025):\n",
    "    pvalues_df = model.pvalues.to_frame()\n",
    "    pvalues_df = pvalues_df[pvalues_df > alpha].dropna()\n",
    "    return pvalues_df\n",
    "\n",
    "models = {}"
   ]
  },
  {
   "cell_type": "code",
   "execution_count": 49,
   "metadata": {},
   "outputs": [
    {
     "name": "stdout",
     "output_type": "stream",
     "text": [
      "Optimization terminated successfully.\n",
      "         Current function value: 0.331496\n",
      "         Iterations 11\n"
     ]
    },
    {
     "data": {
      "text/html": [
       "<table class=\"simpletable\">\n",
       "<caption>Logit Regression Results</caption>\n",
       "<tr>\n",
       "  <th>Dep. Variable:</th>        <td>income</td>      <th>  No. Observations:  </th>  <td> 45222</td> \n",
       "</tr>\n",
       "<tr>\n",
       "  <th>Model:</th>                 <td>Logit</td>      <th>  Df Residuals:      </th>  <td> 45187</td> \n",
       "</tr>\n",
       "<tr>\n",
       "  <th>Method:</th>                 <td>MLE</td>       <th>  Df Model:          </th>  <td>    34</td> \n",
       "</tr>\n",
       "<tr>\n",
       "  <th>Date:</th>            <td>Wed, 24 Jul 2019</td> <th>  Pseudo R-squ.:     </th>  <td>0.4080</td> \n",
       "</tr>\n",
       "<tr>\n",
       "  <th>Time:</th>                <td>17:54:33</td>     <th>  Log-Likelihood:    </th> <td> -14991.</td>\n",
       "</tr>\n",
       "<tr>\n",
       "  <th>converged:</th>             <td>True</td>       <th>  LL-Null:           </th> <td> -25322.</td>\n",
       "</tr>\n",
       "<tr>\n",
       "  <th>Covariance Type:</th>     <td>nonrobust</td>    <th>  LLR p-value:       </th>  <td> 0.000</td> \n",
       "</tr>\n",
       "</table>\n",
       "<table class=\"simpletable\">\n",
       "<tr>\n",
       "                <td></td>                   <th>coef</th>     <th>std err</th>      <th>z</th>      <th>P>|z|</th>  <th>[0.025</th>    <th>0.975]</th>  \n",
       "</tr>\n",
       "<tr>\n",
       "  <th>Intercept</th>                     <td>   -5.5773</td> <td>    0.175</td> <td>  -31.922</td> <td> 0.000</td> <td>   -5.920</td> <td>   -5.235</td>\n",
       "</tr>\n",
       "<tr>\n",
       "  <th>age</th>                           <td>    0.0254</td> <td>    0.001</td> <td>   18.733</td> <td> 0.000</td> <td>    0.023</td> <td>    0.028</td>\n",
       "</tr>\n",
       "<tr>\n",
       "  <th>fnlwgt</th>                        <td> 7.531e-07</td> <td>  1.4e-07</td> <td>    5.377</td> <td> 0.000</td> <td> 4.79e-07</td> <td> 1.03e-06</td>\n",
       "</tr>\n",
       "<tr>\n",
       "  <th>educationalnum</th>                <td>    0.2768</td> <td>    0.016</td> <td>   17.247</td> <td> 0.000</td> <td>    0.245</td> <td>    0.308</td>\n",
       "</tr>\n",
       "<tr>\n",
       "  <th>capitalgain</th>                   <td>    0.0003</td> <td> 8.61e-06</td> <td>   36.862</td> <td> 0.000</td> <td>    0.000</td> <td>    0.000</td>\n",
       "</tr>\n",
       "<tr>\n",
       "  <th>capitalloss</th>                   <td>    0.0007</td> <td> 3.08e-05</td> <td>   21.288</td> <td> 0.000</td> <td>    0.001</td> <td>    0.001</td>\n",
       "</tr>\n",
       "<tr>\n",
       "  <th>hoursperweek</th>                  <td>    0.0296</td> <td>    0.001</td> <td>   22.457</td> <td> 0.000</td> <td>    0.027</td> <td>    0.032</td>\n",
       "</tr>\n",
       "<tr>\n",
       "  <th>relationship_Notinfamily</th>      <td>   -0.9582</td> <td>    0.134</td> <td>   -7.150</td> <td> 0.000</td> <td>   -1.221</td> <td>   -0.696</td>\n",
       "</tr>\n",
       "<tr>\n",
       "  <th>relationship_Ownchild</th>         <td>   -1.9375</td> <td>    0.166</td> <td>  -11.647</td> <td> 0.000</td> <td>   -2.264</td> <td>   -1.611</td>\n",
       "</tr>\n",
       "<tr>\n",
       "  <th>relationship_Unmarried</th>        <td>   -1.1886</td> <td>    0.151</td> <td>   -7.894</td> <td> 0.000</td> <td>   -1.484</td> <td>   -0.893</td>\n",
       "</tr>\n",
       "<tr>\n",
       "  <th>relationship_Wife</th>             <td>    1.0596</td> <td>    0.084</td> <td>   12.590</td> <td> 0.000</td> <td>    0.895</td> <td>    1.225</td>\n",
       "</tr>\n",
       "<tr>\n",
       "  <th>relationship_Otherrelative</th>    <td>   -1.4156</td> <td>    0.187</td> <td>   -7.558</td> <td> 0.000</td> <td>   -1.783</td> <td>   -1.049</td>\n",
       "</tr>\n",
       "<tr>\n",
       "  <th>race_Black</th>                    <td>   -0.2417</td> <td>    0.063</td> <td>   -3.839</td> <td> 0.000</td> <td>   -0.365</td> <td>   -0.118</td>\n",
       "</tr>\n",
       "<tr>\n",
       "  <th>race_AsianPacIslander</th>         <td>    0.2305</td> <td>    0.129</td> <td>    1.790</td> <td> 0.073</td> <td>   -0.022</td> <td>    0.483</td>\n",
       "</tr>\n",
       "<tr>\n",
       "  <th>race_AmerIndianEskimo</th>         <td>   -0.5100</td> <td>    0.180</td> <td>   -2.838</td> <td> 0.005</td> <td>   -0.862</td> <td>   -0.158</td>\n",
       "</tr>\n",
       "<tr>\n",
       "  <th>race_Other</th>                    <td>   -0.2368</td> <td>    0.206</td> <td>   -1.150</td> <td> 0.250</td> <td>   -0.640</td> <td>    0.167</td>\n",
       "</tr>\n",
       "<tr>\n",
       "  <th>gender_Female</th>                 <td>   -0.7793</td> <td>    0.064</td> <td>  -12.123</td> <td> 0.000</td> <td>   -0.905</td> <td>   -0.653</td>\n",
       "</tr>\n",
       "<tr>\n",
       "  <th>collars_bluecollar</th>            <td>   -0.6022</td> <td>    0.035</td> <td>  -17.019</td> <td> 0.000</td> <td>   -0.672</td> <td>   -0.533</td>\n",
       "</tr>\n",
       "<tr>\n",
       "  <th>collars_others</th>                <td>   -1.3279</td> <td>    0.086</td> <td>  -15.481</td> <td> 0.000</td> <td>   -1.496</td> <td>   -1.160</td>\n",
       "</tr>\n",
       "<tr>\n",
       "  <th>workclass_recod_selfemployed</th>  <td>   -0.3408</td> <td>    0.042</td> <td>   -8.066</td> <td> 0.000</td> <td>   -0.424</td> <td>   -0.258</td>\n",
       "</tr>\n",
       "<tr>\n",
       "  <th>workclass_recod_statelevelgov</th> <td>   -0.0771</td> <td>    0.046</td> <td>   -1.680</td> <td> 0.093</td> <td>   -0.167</td> <td>    0.013</td>\n",
       "</tr>\n",
       "<tr>\n",
       "  <th>workclass_recod_federalgov</th>    <td>    0.4439</td> <td>    0.075</td> <td>    5.920</td> <td> 0.000</td> <td>    0.297</td> <td>    0.591</td>\n",
       "</tr>\n",
       "<tr>\n",
       "  <th>workclass_recod_unemployed</th>    <td>   -1.1121</td> <td>    0.800</td> <td>   -1.390</td> <td> 0.164</td> <td>   -2.680</td> <td>    0.456</td>\n",
       "</tr>\n",
       "<tr>\n",
       "  <th>educ_recod_college</th>            <td>    0.0643</td> <td>    0.047</td> <td>    1.375</td> <td> 0.169</td> <td>   -0.027</td> <td>    0.156</td>\n",
       "</tr>\n",
       "<tr>\n",
       "  <th>educ_recod_university</th>         <td>    0.1520</td> <td>    0.086</td> <td>    1.766</td> <td> 0.077</td> <td>   -0.017</td> <td>    0.321</td>\n",
       "</tr>\n",
       "<tr>\n",
       "  <th>educ_recod_elementaryschool</th>   <td>    0.2154</td> <td>    0.223</td> <td>    0.965</td> <td> 0.334</td> <td>   -0.222</td> <td>    0.653</td>\n",
       "</tr>\n",
       "<tr>\n",
       "  <th>educ_recod_preschool</th>          <td>   -3.9145</td> <td>    4.042</td> <td>   -0.968</td> <td> 0.333</td> <td>  -11.838</td> <td>    4.009</td>\n",
       "</tr>\n",
       "<tr>\n",
       "  <th>civstatus_nevermarried</th>        <td>   -1.2948</td> <td>    0.137</td> <td>   -9.466</td> <td> 0.000</td> <td>   -1.563</td> <td>   -1.027</td>\n",
       "</tr>\n",
       "<tr>\n",
       "  <th>civstatus_divorced</th>            <td>   -0.8092</td> <td>    0.139</td> <td>   -5.842</td> <td> 0.000</td> <td>   -1.081</td> <td>   -0.538</td>\n",
       "</tr>\n",
       "<tr>\n",
       "  <th>civstatus_separated</th>           <td>   -0.8358</td> <td>    0.178</td> <td>   -4.685</td> <td> 0.000</td> <td>   -1.185</td> <td>   -0.486</td>\n",
       "</tr>\n",
       "<tr>\n",
       "  <th>civstatus_widowed</th>             <td>   -0.7206</td> <td>    0.176</td> <td>   -4.093</td> <td> 0.000</td> <td>   -1.066</td> <td>   -0.376</td>\n",
       "</tr>\n",
       "<tr>\n",
       "  <th>continent_asia</th>                <td>   -0.3832</td> <td>    0.147</td> <td>   -2.603</td> <td> 0.009</td> <td>   -0.672</td> <td>   -0.095</td>\n",
       "</tr>\n",
       "<tr>\n",
       "  <th>continent_europe</th>              <td>    0.1985</td> <td>    0.106</td> <td>    1.877</td> <td> 0.061</td> <td>   -0.009</td> <td>    0.406</td>\n",
       "</tr>\n",
       "<tr>\n",
       "  <th>continent_southamerica</th>        <td>   -0.7723</td> <td>    0.176</td> <td>   -4.376</td> <td> 0.000</td> <td>   -1.118</td> <td>   -0.426</td>\n",
       "</tr>\n",
       "<tr>\n",
       "  <th>continent_australia</th>           <td>   -0.9903</td> <td>    1.072</td> <td>   -0.924</td> <td> 0.355</td> <td>   -3.091</td> <td>    1.110</td>\n",
       "</tr>\n",
       "</table>"
      ],
      "text/plain": [
       "<class 'statsmodels.iolib.summary.Summary'>\n",
       "\"\"\"\n",
       "                           Logit Regression Results                           \n",
       "==============================================================================\n",
       "Dep. Variable:                 income   No. Observations:                45222\n",
       "Model:                          Logit   Df Residuals:                    45187\n",
       "Method:                           MLE   Df Model:                           34\n",
       "Date:                Wed, 24 Jul 2019   Pseudo R-squ.:                  0.4080\n",
       "Time:                        17:54:33   Log-Likelihood:                -14991.\n",
       "converged:                       True   LL-Null:                       -25322.\n",
       "Covariance Type:            nonrobust   LLR p-value:                     0.000\n",
       "=================================================================================================\n",
       "                                    coef    std err          z      P>|z|      [0.025      0.975]\n",
       "-------------------------------------------------------------------------------------------------\n",
       "Intercept                        -5.5773      0.175    -31.922      0.000      -5.920      -5.235\n",
       "age                               0.0254      0.001     18.733      0.000       0.023       0.028\n",
       "fnlwgt                         7.531e-07    1.4e-07      5.377      0.000    4.79e-07    1.03e-06\n",
       "educationalnum                    0.2768      0.016     17.247      0.000       0.245       0.308\n",
       "capitalgain                       0.0003   8.61e-06     36.862      0.000       0.000       0.000\n",
       "capitalloss                       0.0007   3.08e-05     21.288      0.000       0.001       0.001\n",
       "hoursperweek                      0.0296      0.001     22.457      0.000       0.027       0.032\n",
       "relationship_Notinfamily         -0.9582      0.134     -7.150      0.000      -1.221      -0.696\n",
       "relationship_Ownchild            -1.9375      0.166    -11.647      0.000      -2.264      -1.611\n",
       "relationship_Unmarried           -1.1886      0.151     -7.894      0.000      -1.484      -0.893\n",
       "relationship_Wife                 1.0596      0.084     12.590      0.000       0.895       1.225\n",
       "relationship_Otherrelative       -1.4156      0.187     -7.558      0.000      -1.783      -1.049\n",
       "race_Black                       -0.2417      0.063     -3.839      0.000      -0.365      -0.118\n",
       "race_AsianPacIslander             0.2305      0.129      1.790      0.073      -0.022       0.483\n",
       "race_AmerIndianEskimo            -0.5100      0.180     -2.838      0.005      -0.862      -0.158\n",
       "race_Other                       -0.2368      0.206     -1.150      0.250      -0.640       0.167\n",
       "gender_Female                    -0.7793      0.064    -12.123      0.000      -0.905      -0.653\n",
       "collars_bluecollar               -0.6022      0.035    -17.019      0.000      -0.672      -0.533\n",
       "collars_others                   -1.3279      0.086    -15.481      0.000      -1.496      -1.160\n",
       "workclass_recod_selfemployed     -0.3408      0.042     -8.066      0.000      -0.424      -0.258\n",
       "workclass_recod_statelevelgov    -0.0771      0.046     -1.680      0.093      -0.167       0.013\n",
       "workclass_recod_federalgov        0.4439      0.075      5.920      0.000       0.297       0.591\n",
       "workclass_recod_unemployed       -1.1121      0.800     -1.390      0.164      -2.680       0.456\n",
       "educ_recod_college                0.0643      0.047      1.375      0.169      -0.027       0.156\n",
       "educ_recod_university             0.1520      0.086      1.766      0.077      -0.017       0.321\n",
       "educ_recod_elementaryschool       0.2154      0.223      0.965      0.334      -0.222       0.653\n",
       "educ_recod_preschool             -3.9145      4.042     -0.968      0.333     -11.838       4.009\n",
       "civstatus_nevermarried           -1.2948      0.137     -9.466      0.000      -1.563      -1.027\n",
       "civstatus_divorced               -0.8092      0.139     -5.842      0.000      -1.081      -0.538\n",
       "civstatus_separated              -0.8358      0.178     -4.685      0.000      -1.185      -0.486\n",
       "civstatus_widowed                -0.7206      0.176     -4.093      0.000      -1.066      -0.376\n",
       "continent_asia                   -0.3832      0.147     -2.603      0.009      -0.672      -0.095\n",
       "continent_europe                  0.1985      0.106      1.877      0.061      -0.009       0.406\n",
       "continent_southamerica           -0.7723      0.176     -4.376      0.000      -1.118      -0.426\n",
       "continent_australia              -0.9903      1.072     -0.924      0.355      -3.091       1.110\n",
       "=================================================================================================\n",
       "\"\"\""
      ]
     },
     "execution_count": 49,
     "metadata": {},
     "output_type": "execute_result"
    }
   ],
   "source": [
    "models['result_1'] = build_model(df, 'income', 'income').fit()\n",
    "models['result_1'].summary()"
   ]
  },
  {
   "cell_type": "markdown",
   "metadata": {},
   "source": [
    "Los regresores no significativos al 95% son:"
   ]
  },
  {
   "cell_type": "code",
   "execution_count": 53,
   "metadata": {},
   "outputs": [
    {
     "data": {
      "text/plain": [
       "Index(['race_AsianPacIslander', 'race_Other', 'workclass_recod_statelevelgov',\n",
       "       'workclass_recod_unemployed', 'educ_recod_college',\n",
       "       'educ_recod_university', 'educ_recod_elementaryschool',\n",
       "       'educ_recod_preschool', 'continent_europe', 'continent_australia'],\n",
       "      dtype='object')"
      ]
     },
     "execution_count": 53,
     "metadata": {},
     "output_type": "execute_result"
    }
   ],
   "source": [
    "banned_columns = models['result_1'].pvalues[models['result_1'].pvalues > 0.025].index\n",
    "banned_columns"
   ]
  },
  {
   "cell_type": "markdown",
   "metadata": {},
   "source": [
    "Construimos un nuevo modelo quitando estos"
   ]
  },
  {
   "cell_type": "code",
   "execution_count": 54,
   "metadata": {},
   "outputs": [
    {
     "name": "stdout",
     "output_type": "stream",
     "text": [
      "Optimization terminated successfully.\n",
      "         Current function value: 0.331746\n",
      "         Iterations 9\n"
     ]
    },
    {
     "data": {
      "text/html": [
       "<table class=\"simpletable\">\n",
       "<caption>Logit Regression Results</caption>\n",
       "<tr>\n",
       "  <th>Dep. Variable:</th>        <td>income</td>      <th>  No. Observations:  </th>  <td> 45222</td> \n",
       "</tr>\n",
       "<tr>\n",
       "  <th>Model:</th>                 <td>Logit</td>      <th>  Df Residuals:      </th>  <td> 45197</td> \n",
       "</tr>\n",
       "<tr>\n",
       "  <th>Method:</th>                 <td>MLE</td>       <th>  Df Model:          </th>  <td>    24</td> \n",
       "</tr>\n",
       "<tr>\n",
       "  <th>Date:</th>            <td>Wed, 24 Jul 2019</td> <th>  Pseudo R-squ.:     </th>  <td>0.4075</td> \n",
       "</tr>\n",
       "<tr>\n",
       "  <th>Time:</th>                <td>17:57:27</td>     <th>  Log-Likelihood:    </th> <td> -15002.</td>\n",
       "</tr>\n",
       "<tr>\n",
       "  <th>converged:</th>             <td>True</td>       <th>  LL-Null:           </th> <td> -25322.</td>\n",
       "</tr>\n",
       "<tr>\n",
       "  <th>Covariance Type:</th>     <td>nonrobust</td>    <th>  LLR p-value:       </th>  <td> 0.000</td> \n",
       "</tr>\n",
       "</table>\n",
       "<table class=\"simpletable\">\n",
       "<tr>\n",
       "                <td></td>                  <th>coef</th>     <th>std err</th>      <th>z</th>      <th>P>|z|</th>  <th>[0.025</th>    <th>0.975]</th>  \n",
       "</tr>\n",
       "<tr>\n",
       "  <th>Intercept</th>                    <td>   -5.7349</td> <td>    0.130</td> <td>  -44.104</td> <td> 0.000</td> <td>   -5.990</td> <td>   -5.480</td>\n",
       "</tr>\n",
       "<tr>\n",
       "  <th>age</th>                          <td>    0.0253</td> <td>    0.001</td> <td>   18.780</td> <td> 0.000</td> <td>    0.023</td> <td>    0.028</td>\n",
       "</tr>\n",
       "<tr>\n",
       "  <th>fnlwgt</th>                       <td> 7.464e-07</td> <td>  1.4e-07</td> <td>    5.338</td> <td> 0.000</td> <td> 4.72e-07</td> <td> 1.02e-06</td>\n",
       "</tr>\n",
       "<tr>\n",
       "  <th>educationalnum</th>               <td>    0.2982</td> <td>    0.007</td> <td>   41.516</td> <td> 0.000</td> <td>    0.284</td> <td>    0.312</td>\n",
       "</tr>\n",
       "<tr>\n",
       "  <th>capitalgain</th>                  <td>    0.0003</td> <td>  8.6e-06</td> <td>   36.892</td> <td> 0.000</td> <td>    0.000</td> <td>    0.000</td>\n",
       "</tr>\n",
       "<tr>\n",
       "  <th>capitalloss</th>                  <td>    0.0007</td> <td> 3.08e-05</td> <td>   21.290</td> <td> 0.000</td> <td>    0.001</td> <td>    0.001</td>\n",
       "</tr>\n",
       "<tr>\n",
       "  <th>hoursperweek</th>                 <td>    0.0297</td> <td>    0.001</td> <td>   22.480</td> <td> 0.000</td> <td>    0.027</td> <td>    0.032</td>\n",
       "</tr>\n",
       "<tr>\n",
       "  <th>relationship_Notinfamily</th>     <td>   -0.9470</td> <td>    0.134</td> <td>   -7.076</td> <td> 0.000</td> <td>   -1.209</td> <td>   -0.685</td>\n",
       "</tr>\n",
       "<tr>\n",
       "  <th>relationship_Ownchild</th>        <td>   -1.9235</td> <td>    0.166</td> <td>  -11.586</td> <td> 0.000</td> <td>   -2.249</td> <td>   -1.598</td>\n",
       "</tr>\n",
       "<tr>\n",
       "  <th>relationship_Unmarried</th>       <td>   -1.1794</td> <td>    0.150</td> <td>   -7.842</td> <td> 0.000</td> <td>   -1.474</td> <td>   -0.885</td>\n",
       "</tr>\n",
       "<tr>\n",
       "  <th>relationship_Wife</th>            <td>    1.0583</td> <td>    0.084</td> <td>   12.583</td> <td> 0.000</td> <td>    0.893</td> <td>    1.223</td>\n",
       "</tr>\n",
       "<tr>\n",
       "  <th>relationship_Otherrelative</th>   <td>   -1.4020</td> <td>    0.187</td> <td>   -7.480</td> <td> 0.000</td> <td>   -1.769</td> <td>   -1.035</td>\n",
       "</tr>\n",
       "<tr>\n",
       "  <th>race_Black</th>                   <td>   -0.2526</td> <td>    0.063</td> <td>   -4.022</td> <td> 0.000</td> <td>   -0.376</td> <td>   -0.130</td>\n",
       "</tr>\n",
       "<tr>\n",
       "  <th>race_AmerIndianEskimo</th>        <td>   -0.5251</td> <td>    0.179</td> <td>   -2.926</td> <td> 0.003</td> <td>   -0.877</td> <td>   -0.173</td>\n",
       "</tr>\n",
       "<tr>\n",
       "  <th>gender_Female</th>                <td>   -0.7853</td> <td>    0.064</td> <td>  -12.233</td> <td> 0.000</td> <td>   -0.911</td> <td>   -0.660</td>\n",
       "</tr>\n",
       "<tr>\n",
       "  <th>collars_bluecollar</th>           <td>   -0.6135</td> <td>    0.035</td> <td>  -17.499</td> <td> 0.000</td> <td>   -0.682</td> <td>   -0.545</td>\n",
       "</tr>\n",
       "<tr>\n",
       "  <th>collars_others</th>               <td>   -1.3328</td> <td>    0.086</td> <td>  -15.564</td> <td> 0.000</td> <td>   -1.501</td> <td>   -1.165</td>\n",
       "</tr>\n",
       "<tr>\n",
       "  <th>workclass_recod_selfemployed</th> <td>   -0.3279</td> <td>    0.042</td> <td>   -7.884</td> <td> 0.000</td> <td>   -0.409</td> <td>   -0.246</td>\n",
       "</tr>\n",
       "<tr>\n",
       "  <th>workclass_recod_federalgov</th>   <td>    0.4570</td> <td>    0.074</td> <td>    6.143</td> <td> 0.000</td> <td>    0.311</td> <td>    0.603</td>\n",
       "</tr>\n",
       "<tr>\n",
       "  <th>civstatus_nevermarried</th>       <td>   -1.2982</td> <td>    0.137</td> <td>   -9.500</td> <td> 0.000</td> <td>   -1.566</td> <td>   -1.030</td>\n",
       "</tr>\n",
       "<tr>\n",
       "  <th>civstatus_divorced</th>           <td>   -0.8204</td> <td>    0.138</td> <td>   -5.931</td> <td> 0.000</td> <td>   -1.092</td> <td>   -0.549</td>\n",
       "</tr>\n",
       "<tr>\n",
       "  <th>civstatus_separated</th>          <td>   -0.8504</td> <td>    0.178</td> <td>   -4.772</td> <td> 0.000</td> <td>   -1.200</td> <td>   -0.501</td>\n",
       "</tr>\n",
       "<tr>\n",
       "  <th>civstatus_widowed</th>            <td>   -0.7314</td> <td>    0.176</td> <td>   -4.157</td> <td> 0.000</td> <td>   -1.076</td> <td>   -0.387</td>\n",
       "</tr>\n",
       "<tr>\n",
       "  <th>continent_asia</th>               <td>   -0.1943</td> <td>    0.100</td> <td>   -1.947</td> <td> 0.051</td> <td>   -0.390</td> <td>    0.001</td>\n",
       "</tr>\n",
       "<tr>\n",
       "  <th>continent_southamerica</th>       <td>   -0.7122</td> <td>    0.172</td> <td>   -4.141</td> <td> 0.000</td> <td>   -1.049</td> <td>   -0.375</td>\n",
       "</tr>\n",
       "</table>"
      ],
      "text/plain": [
       "<class 'statsmodels.iolib.summary.Summary'>\n",
       "\"\"\"\n",
       "                           Logit Regression Results                           \n",
       "==============================================================================\n",
       "Dep. Variable:                 income   No. Observations:                45222\n",
       "Model:                          Logit   Df Residuals:                    45197\n",
       "Method:                           MLE   Df Model:                           24\n",
       "Date:                Wed, 24 Jul 2019   Pseudo R-squ.:                  0.4075\n",
       "Time:                        17:57:27   Log-Likelihood:                -15002.\n",
       "converged:                       True   LL-Null:                       -25322.\n",
       "Covariance Type:            nonrobust   LLR p-value:                     0.000\n",
       "================================================================================================\n",
       "                                   coef    std err          z      P>|z|      [0.025      0.975]\n",
       "------------------------------------------------------------------------------------------------\n",
       "Intercept                       -5.7349      0.130    -44.104      0.000      -5.990      -5.480\n",
       "age                              0.0253      0.001     18.780      0.000       0.023       0.028\n",
       "fnlwgt                        7.464e-07    1.4e-07      5.338      0.000    4.72e-07    1.02e-06\n",
       "educationalnum                   0.2982      0.007     41.516      0.000       0.284       0.312\n",
       "capitalgain                      0.0003    8.6e-06     36.892      0.000       0.000       0.000\n",
       "capitalloss                      0.0007   3.08e-05     21.290      0.000       0.001       0.001\n",
       "hoursperweek                     0.0297      0.001     22.480      0.000       0.027       0.032\n",
       "relationship_Notinfamily        -0.9470      0.134     -7.076      0.000      -1.209      -0.685\n",
       "relationship_Ownchild           -1.9235      0.166    -11.586      0.000      -2.249      -1.598\n",
       "relationship_Unmarried          -1.1794      0.150     -7.842      0.000      -1.474      -0.885\n",
       "relationship_Wife                1.0583      0.084     12.583      0.000       0.893       1.223\n",
       "relationship_Otherrelative      -1.4020      0.187     -7.480      0.000      -1.769      -1.035\n",
       "race_Black                      -0.2526      0.063     -4.022      0.000      -0.376      -0.130\n",
       "race_AmerIndianEskimo           -0.5251      0.179     -2.926      0.003      -0.877      -0.173\n",
       "gender_Female                   -0.7853      0.064    -12.233      0.000      -0.911      -0.660\n",
       "collars_bluecollar              -0.6135      0.035    -17.499      0.000      -0.682      -0.545\n",
       "collars_others                  -1.3328      0.086    -15.564      0.000      -1.501      -1.165\n",
       "workclass_recod_selfemployed    -0.3279      0.042     -7.884      0.000      -0.409      -0.246\n",
       "workclass_recod_federalgov       0.4570      0.074      6.143      0.000       0.311       0.603\n",
       "civstatus_nevermarried          -1.2982      0.137     -9.500      0.000      -1.566      -1.030\n",
       "civstatus_divorced              -0.8204      0.138     -5.931      0.000      -1.092      -0.549\n",
       "civstatus_separated             -0.8504      0.178     -4.772      0.000      -1.200      -0.501\n",
       "civstatus_widowed               -0.7314      0.176     -4.157      0.000      -1.076      -0.387\n",
       "continent_asia                  -0.1943      0.100     -1.947      0.051      -0.390       0.001\n",
       "continent_southamerica          -0.7122      0.172     -4.141      0.000      -1.049      -0.375\n",
       "================================================================================================\n",
       "\"\"\""
      ]
     },
     "execution_count": 54,
     "metadata": {},
     "output_type": "execute_result"
    }
   ],
   "source": [
    "models['result_2'] = build_model(df, 'income', 'income', *banned_columns).fit()\n",
    "models['result_2'].summary()"
   ]
  },
  {
   "cell_type": "markdown",
   "metadata": {},
   "source": [
    "En este caso solo existe un `p-value` no significativo:"
   ]
  },
  {
   "cell_type": "code",
   "execution_count": 59,
   "metadata": {},
   "outputs": [
    {
     "data": {
      "text/plain": [
       "Index(['continent_asia'], dtype='object')"
      ]
     },
     "execution_count": 59,
     "metadata": {},
     "output_type": "execute_result"
    }
   ],
   "source": [
    "banned_columns_2 = models['result_2'].pvalues[models['result_2'].pvalues > 0.025].index\n",
    "banned_columns_2"
   ]
  },
  {
   "cell_type": "code",
   "execution_count": 60,
   "metadata": {},
   "outputs": [
    {
     "name": "stdout",
     "output_type": "stream",
     "text": [
      "Optimization terminated successfully.\n",
      "         Current function value: 0.331789\n",
      "         Iterations 9\n"
     ]
    },
    {
     "data": {
      "text/html": [
       "<table class=\"simpletable\">\n",
       "<caption>Logit Regression Results</caption>\n",
       "<tr>\n",
       "  <th>Dep. Variable:</th>        <td>income</td>      <th>  No. Observations:  </th>  <td> 45222</td> \n",
       "</tr>\n",
       "<tr>\n",
       "  <th>Model:</th>                 <td>Logit</td>      <th>  Df Residuals:      </th>  <td> 45198</td> \n",
       "</tr>\n",
       "<tr>\n",
       "  <th>Method:</th>                 <td>MLE</td>       <th>  Df Model:          </th>  <td>    23</td> \n",
       "</tr>\n",
       "<tr>\n",
       "  <th>Date:</th>            <td>Wed, 24 Jul 2019</td> <th>  Pseudo R-squ.:     </th>  <td>0.4075</td> \n",
       "</tr>\n",
       "<tr>\n",
       "  <th>Time:</th>                <td>17:59:13</td>     <th>  Log-Likelihood:    </th> <td> -15004.</td>\n",
       "</tr>\n",
       "<tr>\n",
       "  <th>converged:</th>             <td>True</td>       <th>  LL-Null:           </th> <td> -25322.</td>\n",
       "</tr>\n",
       "<tr>\n",
       "  <th>Covariance Type:</th>     <td>nonrobust</td>    <th>  LLR p-value:       </th>  <td> 0.000</td> \n",
       "</tr>\n",
       "</table>\n",
       "<table class=\"simpletable\">\n",
       "<tr>\n",
       "                <td></td>                  <th>coef</th>     <th>std err</th>      <th>z</th>      <th>P>|z|</th>  <th>[0.025</th>    <th>0.975]</th>  \n",
       "</tr>\n",
       "<tr>\n",
       "  <th>Intercept</th>                    <td>   -5.7302</td> <td>    0.130</td> <td>  -44.088</td> <td> 0.000</td> <td>   -5.985</td> <td>   -5.475</td>\n",
       "</tr>\n",
       "<tr>\n",
       "  <th>age</th>                          <td>    0.0253</td> <td>    0.001</td> <td>   18.805</td> <td> 0.000</td> <td>    0.023</td> <td>    0.028</td>\n",
       "</tr>\n",
       "<tr>\n",
       "  <th>fnlwgt</th>                       <td> 7.487e-07</td> <td>  1.4e-07</td> <td>    5.355</td> <td> 0.000</td> <td> 4.75e-07</td> <td> 1.02e-06</td>\n",
       "</tr>\n",
       "<tr>\n",
       "  <th>educationalnum</th>               <td>    0.2970</td> <td>    0.007</td> <td>   41.532</td> <td> 0.000</td> <td>    0.283</td> <td>    0.311</td>\n",
       "</tr>\n",
       "<tr>\n",
       "  <th>capitalgain</th>                  <td>    0.0003</td> <td> 8.59e-06</td> <td>   36.912</td> <td> 0.000</td> <td>    0.000</td> <td>    0.000</td>\n",
       "</tr>\n",
       "<tr>\n",
       "  <th>capitalloss</th>                  <td>    0.0007</td> <td> 3.08e-05</td> <td>   21.288</td> <td> 0.000</td> <td>    0.001</td> <td>    0.001</td>\n",
       "</tr>\n",
       "<tr>\n",
       "  <th>hoursperweek</th>                 <td>    0.0297</td> <td>    0.001</td> <td>   22.510</td> <td> 0.000</td> <td>    0.027</td> <td>    0.032</td>\n",
       "</tr>\n",
       "<tr>\n",
       "  <th>relationship_Notinfamily</th>     <td>   -0.9601</td> <td>    0.134</td> <td>   -7.180</td> <td> 0.000</td> <td>   -1.222</td> <td>   -0.698</td>\n",
       "</tr>\n",
       "<tr>\n",
       "  <th>relationship_Ownchild</th>        <td>   -1.9373</td> <td>    0.166</td> <td>  -11.673</td> <td> 0.000</td> <td>   -2.263</td> <td>   -1.612</td>\n",
       "</tr>\n",
       "<tr>\n",
       "  <th>relationship_Unmarried</th>       <td>   -1.1946</td> <td>    0.150</td> <td>   -7.950</td> <td> 0.000</td> <td>   -1.489</td> <td>   -0.900</td>\n",
       "</tr>\n",
       "<tr>\n",
       "  <th>relationship_Wife</th>            <td>    1.0562</td> <td>    0.084</td> <td>   12.560</td> <td> 0.000</td> <td>    0.891</td> <td>    1.221</td>\n",
       "</tr>\n",
       "<tr>\n",
       "  <th>relationship_Otherrelative</th>   <td>   -1.4267</td> <td>    0.187</td> <td>   -7.632</td> <td> 0.000</td> <td>   -1.793</td> <td>   -1.060</td>\n",
       "</tr>\n",
       "<tr>\n",
       "  <th>race_Black</th>                   <td>   -0.2486</td> <td>    0.063</td> <td>   -3.962</td> <td> 0.000</td> <td>   -0.372</td> <td>   -0.126</td>\n",
       "</tr>\n",
       "<tr>\n",
       "  <th>race_AmerIndianEskimo</th>        <td>   -0.5220</td> <td>    0.179</td> <td>   -2.909</td> <td> 0.004</td> <td>   -0.874</td> <td>   -0.170</td>\n",
       "</tr>\n",
       "<tr>\n",
       "  <th>gender_Female</th>                <td>   -0.7837</td> <td>    0.064</td> <td>  -12.211</td> <td> 0.000</td> <td>   -0.910</td> <td>   -0.658</td>\n",
       "</tr>\n",
       "<tr>\n",
       "  <th>collars_bluecollar</th>           <td>   -0.6129</td> <td>    0.035</td> <td>  -17.486</td> <td> 0.000</td> <td>   -0.682</td> <td>   -0.544</td>\n",
       "</tr>\n",
       "<tr>\n",
       "  <th>collars_others</th>               <td>   -1.3395</td> <td>    0.086</td> <td>  -15.648</td> <td> 0.000</td> <td>   -1.507</td> <td>   -1.172</td>\n",
       "</tr>\n",
       "<tr>\n",
       "  <th>workclass_recod_selfemployed</th> <td>   -0.3268</td> <td>    0.042</td> <td>   -7.859</td> <td> 0.000</td> <td>   -0.408</td> <td>   -0.245</td>\n",
       "</tr>\n",
       "<tr>\n",
       "  <th>workclass_recod_federalgov</th>   <td>    0.4568</td> <td>    0.074</td> <td>    6.138</td> <td> 0.000</td> <td>    0.311</td> <td>    0.603</td>\n",
       "</tr>\n",
       "<tr>\n",
       "  <th>civstatus_nevermarried</th>       <td>   -1.2830</td> <td>    0.136</td> <td>   -9.400</td> <td> 0.000</td> <td>   -1.551</td> <td>   -1.016</td>\n",
       "</tr>\n",
       "<tr>\n",
       "  <th>civstatus_divorced</th>           <td>   -0.8040</td> <td>    0.138</td> <td>   -5.820</td> <td> 0.000</td> <td>   -1.075</td> <td>   -0.533</td>\n",
       "</tr>\n",
       "<tr>\n",
       "  <th>civstatus_separated</th>          <td>   -0.8357</td> <td>    0.178</td> <td>   -4.693</td> <td> 0.000</td> <td>   -1.185</td> <td>   -0.487</td>\n",
       "</tr>\n",
       "<tr>\n",
       "  <th>civstatus_widowed</th>            <td>   -0.7163</td> <td>    0.176</td> <td>   -4.075</td> <td> 0.000</td> <td>   -1.061</td> <td>   -0.372</td>\n",
       "</tr>\n",
       "<tr>\n",
       "  <th>continent_southamerica</th>       <td>   -0.7068</td> <td>    0.172</td> <td>   -4.111</td> <td> 0.000</td> <td>   -1.044</td> <td>   -0.370</td>\n",
       "</tr>\n",
       "</table>"
      ],
      "text/plain": [
       "<class 'statsmodels.iolib.summary.Summary'>\n",
       "\"\"\"\n",
       "                           Logit Regression Results                           \n",
       "==============================================================================\n",
       "Dep. Variable:                 income   No. Observations:                45222\n",
       "Model:                          Logit   Df Residuals:                    45198\n",
       "Method:                           MLE   Df Model:                           23\n",
       "Date:                Wed, 24 Jul 2019   Pseudo R-squ.:                  0.4075\n",
       "Time:                        17:59:13   Log-Likelihood:                -15004.\n",
       "converged:                       True   LL-Null:                       -25322.\n",
       "Covariance Type:            nonrobust   LLR p-value:                     0.000\n",
       "================================================================================================\n",
       "                                   coef    std err          z      P>|z|      [0.025      0.975]\n",
       "------------------------------------------------------------------------------------------------\n",
       "Intercept                       -5.7302      0.130    -44.088      0.000      -5.985      -5.475\n",
       "age                              0.0253      0.001     18.805      0.000       0.023       0.028\n",
       "fnlwgt                        7.487e-07    1.4e-07      5.355      0.000    4.75e-07    1.02e-06\n",
       "educationalnum                   0.2970      0.007     41.532      0.000       0.283       0.311\n",
       "capitalgain                      0.0003   8.59e-06     36.912      0.000       0.000       0.000\n",
       "capitalloss                      0.0007   3.08e-05     21.288      0.000       0.001       0.001\n",
       "hoursperweek                     0.0297      0.001     22.510      0.000       0.027       0.032\n",
       "relationship_Notinfamily        -0.9601      0.134     -7.180      0.000      -1.222      -0.698\n",
       "relationship_Ownchild           -1.9373      0.166    -11.673      0.000      -2.263      -1.612\n",
       "relationship_Unmarried          -1.1946      0.150     -7.950      0.000      -1.489      -0.900\n",
       "relationship_Wife                1.0562      0.084     12.560      0.000       0.891       1.221\n",
       "relationship_Otherrelative      -1.4267      0.187     -7.632      0.000      -1.793      -1.060\n",
       "race_Black                      -0.2486      0.063     -3.962      0.000      -0.372      -0.126\n",
       "race_AmerIndianEskimo           -0.5220      0.179     -2.909      0.004      -0.874      -0.170\n",
       "gender_Female                   -0.7837      0.064    -12.211      0.000      -0.910      -0.658\n",
       "collars_bluecollar              -0.6129      0.035    -17.486      0.000      -0.682      -0.544\n",
       "collars_others                  -1.3395      0.086    -15.648      0.000      -1.507      -1.172\n",
       "workclass_recod_selfemployed    -0.3268      0.042     -7.859      0.000      -0.408      -0.245\n",
       "workclass_recod_federalgov       0.4568      0.074      6.138      0.000       0.311       0.603\n",
       "civstatus_nevermarried          -1.2830      0.136     -9.400      0.000      -1.551      -1.016\n",
       "civstatus_divorced              -0.8040      0.138     -5.820      0.000      -1.075      -0.533\n",
       "civstatus_separated             -0.8357      0.178     -4.693      0.000      -1.185      -0.487\n",
       "civstatus_widowed               -0.7163      0.176     -4.075      0.000      -1.061      -0.372\n",
       "continent_southamerica          -0.7068      0.172     -4.111      0.000      -1.044      -0.370\n",
       "================================================================================================\n",
       "\"\"\""
      ]
     },
     "execution_count": 60,
     "metadata": {},
     "output_type": "execute_result"
    }
   ],
   "source": [
    "models['result_3'] = build_model(df, 'income', 'income', *banned_columns, *banned_columns_2).fit()\n",
    "models['result_3'].summary()"
   ]
  },
  {
   "cell_type": "markdown",
   "metadata": {},
   "source": [
    "Llegamos finalmente a un modelo donde todos los regresores son significativos al 95%:"
   ]
  },
  {
   "cell_type": "code",
   "execution_count": 61,
   "metadata": {},
   "outputs": [
    {
     "data": {
      "text/plain": [
       "Series([], dtype: float64)"
      ]
     },
     "execution_count": 61,
     "metadata": {},
     "output_type": "execute_result"
    }
   ],
   "source": [
    "models['result_3'].pvalues[models['result_3'].pvalues > 0.025]"
   ]
  },
  {
   "cell_type": "code",
   "execution_count": null,
   "metadata": {},
   "outputs": [],
   "source": []
  }
 ],
 "metadata": {
  "kernelspec": {
   "display_name": "Python 3",
   "language": "python",
   "name": "python3"
  },
  "language_info": {
   "codemirror_mode": {
    "name": "ipython",
    "version": 3
   },
   "file_extension": ".py",
   "mimetype": "text/x-python",
   "name": "python",
   "nbconvert_exporter": "python",
   "pygments_lexer": "ipython3",
   "version": "3.6.8"
  }
 },
 "nbformat": 4,
 "nbformat_minor": 2
}
