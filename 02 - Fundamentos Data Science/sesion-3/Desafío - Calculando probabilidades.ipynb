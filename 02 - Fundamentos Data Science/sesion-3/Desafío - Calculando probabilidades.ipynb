{
 "cells": [
  {
   "cell_type": "markdown",
   "metadata": {},
   "source": [
    "# Desafío - Calculando probabilidades\n",
    "\n",
    "## Desafío 1: Lectura de archivos\n",
    "\n",
    "- Importe pandas y numpy siguiendo las convenciones."
   ]
  },
  {
   "cell_type": "code",
   "execution_count": 1,
   "metadata": {},
   "outputs": [],
   "source": [
    "import pandas as pd\n",
    "import numpy as np"
   ]
  },
  {
   "cell_type": "markdown",
   "metadata": {},
   "source": [
    "- Lea la base de datos worldcup2014.csv y asígnela a un objeto df ."
   ]
  },
  {
   "cell_type": "code",
   "execution_count": 2,
   "metadata": {},
   "outputs": [],
   "source": [
    "df = pd.read_csv('worldcup2014.csv')"
   ]
  },
  {
   "cell_type": "markdown",
   "metadata": {},
   "source": [
    "- Solicite las primeras 5 observaciones con head"
   ]
  },
  {
   "cell_type": "code",
   "execution_count": 3,
   "metadata": {},
   "outputs": [
    {
     "data": {
      "text/html": [
       "<div>\n",
       "<style scoped>\n",
       "    .dataframe tbody tr th:only-of-type {\n",
       "        vertical-align: middle;\n",
       "    }\n",
       "\n",
       "    .dataframe tbody tr th {\n",
       "        vertical-align: top;\n",
       "    }\n",
       "\n",
       "    .dataframe thead th {\n",
       "        text-align: right;\n",
       "    }\n",
       "</style>\n",
       "<table border=\"1\" class=\"dataframe\">\n",
       "  <thead>\n",
       "    <tr style=\"text-align: right;\">\n",
       "      <th></th>\n",
       "      <th>team</th>\n",
       "      <th>continent</th>\n",
       "      <th>group</th>\n",
       "      <th>group_pos</th>\n",
       "      <th>cantidad_juegos</th>\n",
       "      <th>juegos_ganados</th>\n",
       "      <th>juegos_empatados</th>\n",
       "      <th>juegos_perdidos</th>\n",
       "      <th>goles_favor</th>\n",
       "      <th>goles_contra</th>\n",
       "      <th>goles_diferencia</th>\n",
       "      <th>puntos</th>\n",
       "      <th>clasificado</th>\n",
       "    </tr>\n",
       "  </thead>\n",
       "  <tbody>\n",
       "    <tr>\n",
       "      <th>0</th>\n",
       "      <td>Brazil</td>\n",
       "      <td>southamerica</td>\n",
       "      <td>A</td>\n",
       "      <td>1</td>\n",
       "      <td>3</td>\n",
       "      <td>2</td>\n",
       "      <td>1</td>\n",
       "      <td>0</td>\n",
       "      <td>7</td>\n",
       "      <td>2</td>\n",
       "      <td>5</td>\n",
       "      <td>7</td>\n",
       "      <td>1</td>\n",
       "    </tr>\n",
       "    <tr>\n",
       "      <th>1</th>\n",
       "      <td>Mexico</td>\n",
       "      <td>northamerica</td>\n",
       "      <td>A</td>\n",
       "      <td>2</td>\n",
       "      <td>3</td>\n",
       "      <td>2</td>\n",
       "      <td>1</td>\n",
       "      <td>0</td>\n",
       "      <td>4</td>\n",
       "      <td>1</td>\n",
       "      <td>3</td>\n",
       "      <td>7</td>\n",
       "      <td>1</td>\n",
       "    </tr>\n",
       "    <tr>\n",
       "      <th>2</th>\n",
       "      <td>Croatia</td>\n",
       "      <td>europe</td>\n",
       "      <td>A</td>\n",
       "      <td>3</td>\n",
       "      <td>3</td>\n",
       "      <td>1</td>\n",
       "      <td>0</td>\n",
       "      <td>2</td>\n",
       "      <td>6</td>\n",
       "      <td>6</td>\n",
       "      <td>0</td>\n",
       "      <td>3</td>\n",
       "      <td>0</td>\n",
       "    </tr>\n",
       "    <tr>\n",
       "      <th>3</th>\n",
       "      <td>Cameroon</td>\n",
       "      <td>africa</td>\n",
       "      <td>A</td>\n",
       "      <td>4</td>\n",
       "      <td>3</td>\n",
       "      <td>0</td>\n",
       "      <td>0</td>\n",
       "      <td>3</td>\n",
       "      <td>1</td>\n",
       "      <td>9</td>\n",
       "      <td>−8</td>\n",
       "      <td>0</td>\n",
       "      <td>0</td>\n",
       "    </tr>\n",
       "    <tr>\n",
       "      <th>4</th>\n",
       "      <td>Netherlands</td>\n",
       "      <td>europe</td>\n",
       "      <td>B</td>\n",
       "      <td>1</td>\n",
       "      <td>3</td>\n",
       "      <td>3</td>\n",
       "      <td>0</td>\n",
       "      <td>0</td>\n",
       "      <td>10</td>\n",
       "      <td>3</td>\n",
       "      <td>7</td>\n",
       "      <td>9</td>\n",
       "      <td>1</td>\n",
       "    </tr>\n",
       "  </tbody>\n",
       "</table>\n",
       "</div>"
      ],
      "text/plain": [
       "          team     continent group  group_pos  cantidad_juegos  \\\n",
       "0       Brazil  southamerica     A          1                3   \n",
       "1       Mexico  northamerica     A          2                3   \n",
       "2      Croatia        europe     A          3                3   \n",
       "3     Cameroon        africa     A          4                3   \n",
       "4  Netherlands        europe     B          1                3   \n",
       "\n",
       "   juegos_ganados  juegos_empatados  juegos_perdidos  goles_favor  \\\n",
       "0               2                 1                0            7   \n",
       "1               2                 1                0            4   \n",
       "2               1                 0                2            6   \n",
       "3               0                 0                3            1   \n",
       "4               3                 0                0           10   \n",
       "\n",
       "   goles_contra goles_diferencia  puntos  clasificado  \n",
       "0             2                5       7            1  \n",
       "1             1                3       7            1  \n",
       "2             6                0       3            0  \n",
       "3             9               −8       0            0  \n",
       "4             3                7       9            1  "
      ]
     },
     "execution_count": 3,
     "metadata": {},
     "output_type": "execute_result"
    }
   ],
   "source": [
    "df.head(5)"
   ]
  },
  {
   "cell_type": "markdown",
   "metadata": {},
   "source": [
    "## Desafío 2: Estime las frecuencias de continent"
   ]
  },
  {
   "cell_type": "markdown",
   "metadata": {},
   "source": [
    "Utilice `value_counts`"
   ]
  },
  {
   "cell_type": "code",
   "execution_count": 4,
   "metadata": {},
   "outputs": [
    {
     "data": {
      "text/plain": [
       "europe          13\n",
       "southamerica     6\n",
       "africa           5\n",
       "northamerica     4\n",
       "asia             4\n",
       "Name: continent, dtype: int64"
      ]
     },
     "execution_count": 4,
     "metadata": {},
     "output_type": "execute_result"
    }
   ],
   "source": [
    "df['continent'].value_counts()"
   ]
  },
  {
   "cell_type": "markdown",
   "metadata": {},
   "source": [
    "¿Cuál es el continente con una mayor presencia en la muestra?"
   ]
  },
  {
   "cell_type": "code",
   "execution_count": 5,
   "metadata": {},
   "outputs": [
    {
     "data": {
      "text/plain": [
       "'europe'"
      ]
     },
     "execution_count": 5,
     "metadata": {},
     "output_type": "execute_result"
    }
   ],
   "source": [
    "df['continent'].value_counts().idxmax()"
   ]
  },
  {
   "cell_type": "markdown",
   "metadata": {},
   "source": [
    "¿Cuál es la probabilidad de elegir un equipo asiático al azar?"
   ]
  },
  {
   "cell_type": "code",
   "execution_count": 6,
   "metadata": {},
   "outputs": [
    {
     "name": "stdout",
     "output_type": "stream",
     "text": [
      "La probabilidad de elegir un equipo asiático al azar es 12.5%\n"
     ]
    }
   ],
   "source": [
    "print(\"La probabilidad de elegir un equipo asiático al azar es {}%\".format(100 * df['continent'].value_counts(normalize=True)['asia']))"
   ]
  },
  {
   "cell_type": "markdown",
   "metadata": {},
   "source": [
    "¿Cuál es la probabilidad de elegir un equipo africano al azar?"
   ]
  },
  {
   "cell_type": "code",
   "execution_count": 7,
   "metadata": {},
   "outputs": [
    {
     "name": "stdout",
     "output_type": "stream",
     "text": [
      "La probabilidad de elegir un equipo africano al azar es 15.625%\n"
     ]
    }
   ],
   "source": [
    "print(\"La probabilidad de elegir un equipo africano al azar es {}%\".format(100 * df['continent'].value_counts(normalize=True)['africa']))"
   ]
  },
  {
   "cell_type": "markdown",
   "metadata": {},
   "source": [
    "## Desafío 3: Probabilidades por continente\n",
    "\n",
    "Por cada continente, genere un nuevo objeto que almacene sólo las observaciones del continente."
   ]
  },
  {
   "cell_type": "code",
   "execution_count": 8,
   "metadata": {},
   "outputs": [],
   "source": [
    "europe = df[df['continent'] == 'europe']\n",
    "southamerica = df[df['continent'] == 'southamerica']\n",
    "africa = df[df['continent'] == 'africa']\n",
    "northamerica = df[df['continent'] == 'northamerica']\n",
    "asia = df[df['continent'] == 'asia']"
   ]
  },
  {
   "cell_type": "markdown",
   "metadata": {},
   "source": [
    "## Desafío 4: Calcule la probabilidad de clasificación a la siguiente ronda"
   ]
  },
  {
   "cell_type": "markdown",
   "metadata": {},
   "source": [
    "- Pase todos los objetos creados en un loop que imprima la probabilidad de pasar a la siguiente ronda por continente."
   ]
  },
  {
   "cell_type": "code",
   "execution_count": 9,
   "metadata": {},
   "outputs": [
    {
     "name": "stdout",
     "output_type": "stream",
     "text": [
      "La probabilidad de pasar a la siguiente ronda para europe es de 46%\n",
      "La probabilidad de pasar a la siguiente ronda para southamerica es de 83%\n",
      "La probabilidad de pasar a la siguiente ronda para africa es de 40%\n",
      "La probabilidad de pasar a la siguiente ronda para northamerica es de 75%\n",
      "La probabilidad de pasar a la siguiente ronda para asia es de 0%\n"
     ]
    }
   ],
   "source": [
    "continents = [europe, southamerica, africa, northamerica, asia]\n",
    "\n",
    "probabilities = [(continent.iloc[0]['continent'], round(100 * continent['clasificado'].mean()))\n",
    "                 for continent in continents]\n",
    "\n",
    "for name, prob in probabilities:\n",
    "    print(\"La probabilidad de pasar a la siguiente ronda para {} es de {}%\".format(name, prob))"
   ]
  },
  {
   "cell_type": "markdown",
   "metadata": {},
   "source": [
    "- ¿Cuáles fueron los dos continentes que tuvieron la mayor probabilidad de clasificar?"
   ]
  },
  {
   "cell_type": "code",
   "execution_count": 10,
   "metadata": {},
   "outputs": [
    {
     "name": "stdout",
     "output_type": "stream",
     "text": [
      "Los dos continentes con mayor probabilidad de clasificar fueron: \n",
      "\t southamerica (con 83%)\n",
      "\t northamerica (con 75%)\n"
     ]
    }
   ],
   "source": [
    "print(\"Los dos continentes con mayor probabilidad de clasificar fueron: \")\n",
    "\n",
    "for name, prob in sorted(probabilities, key=lambda x: x[0], reverse=True)[:2]:\n",
    "    print(\"\\t\", name, \"(con {}%)\".format(prob))"
   ]
  },
  {
   "cell_type": "markdown",
   "metadata": {},
   "source": [
    "- ¿Cuál fue la probabilidad de no clasificar un país europeo?"
   ]
  },
  {
   "cell_type": "code",
   "execution_count": 11,
   "metadata": {},
   "outputs": [
    {
     "name": "stdout",
     "output_type": "stream",
     "text": [
      "La probabilidad de no clasificar de un país europeo es 54%\n"
     ]
    }
   ],
   "source": [
    "print(\"La probabilidad de no clasificar de un país europeo es {}%\".format(100 - probabilities[0][1]))"
   ]
  },
  {
   "cell_type": "markdown",
   "metadata": {},
   "source": [
    "## Desafío 5: Refactorización\n",
    "\n",
    "- A continuación se presenta un loop que cuenta las probabilidades de juegos ganados. Se pide que `value_counts` cuente los juegos no ganados y ganados, ignorando de la cantidad de juegos"
   ]
  },
  {
   "cell_type": "code",
   "execution_count": 12,
   "metadata": {},
   "outputs": [
    {
     "name": "stdout",
     "output_type": "stream",
     "text": [
      "1    0.6\n",
      "0    0.4\n",
      "Name: juegos_ganados, dtype: float64\n",
      "1    0.461538\n",
      "2    0.230769\n",
      "3    0.153846\n",
      "0    0.153846\n",
      "Name: juegos_ganados, dtype: float64\n",
      "0    1.0\n",
      "Name: juegos_ganados, dtype: float64\n",
      "2    0.50\n",
      "1    0.25\n",
      "0    0.25\n",
      "Name: juegos_ganados, dtype: float64\n",
      "2    0.500000\n",
      "3    0.333333\n",
      "1    0.166667\n",
      "Name: juegos_ganados, dtype: float64\n"
     ]
    }
   ],
   "source": [
    "for d in [africa, europe, asia, northamerica, southamerica]:\n",
    "    print(d['juegos_ganados'].value_counts('%'))"
   ]
  },
  {
   "cell_type": "markdown",
   "metadata": {},
   "source": [
    "- Para ello puede utilizar np.where , que devuelve un array con valores imputados cuando se satisface una condición. En este caso debemos clasificar como 0 cuando los juegos ganados sean igual a 0, y 1 cuando sean igual o mayor a 1.\n",
    "- Este array es difícil de trabajar, por lo que pueden transformarlo con pd.Series para utilizar value_counts."
   ]
  },
  {
   "cell_type": "code",
   "execution_count": 13,
   "metadata": {},
   "outputs": [
    {
     "name": "stdout",
     "output_type": "stream",
     "text": [
      "Para europe:\n",
      "  La probabilidad de ganar al menos un juego es 85%\n",
      "  La probabilidad de perder todos los juegos es 15%\n",
      "Para southamerica:\n",
      "  La probabilidad de ganar al menos un juego es 100%\n",
      "  La probabilidad de perder todos los juegos es 0%\n",
      "Para africa:\n",
      "  La probabilidad de ganar al menos un juego es 60%\n",
      "  La probabilidad de perder todos los juegos es 40%\n",
      "Para northamerica:\n",
      "  La probabilidad de ganar al menos un juego es 75%\n",
      "  La probabilidad de perder todos los juegos es 25%\n",
      "Para asia:\n",
      "  La probabilidad de ganar al menos un juego es 0%\n",
      "  La probabilidad de perder todos los juegos es 100%\n"
     ]
    }
   ],
   "source": [
    "for continent in continents:\n",
    "    result = pd.Series(np.where(continent['juegos_ganados'] > 0, 1, 0))\n",
    "    print('Para {}:'.format(continent.iloc[0]['continent']))\n",
    "    counts = result.value_counts(normalize=True)\n",
    "    win_ratio = counts.get(1)\n",
    "    win_percent = (win_ratio and int(round(100 * win_ratio))) or 0\n",
    "    lost_ratio = counts.get(0)\n",
    "    lost_percent = (lost_ratio and int(round(100 * lost_ratio))) or 0\n",
    "    print('  La probabilidad de ganar al menos un juego es {}%'.format(win_percent))\n",
    "    print('  La probabilidad de perder todos los juegos es {}%'.format(lost_percent))"
   ]
  },
  {
   "cell_type": "markdown",
   "metadata": {},
   "source": [
    "En base a la refactorización del código, responda lo siguiente:"
   ]
  },
  {
   "cell_type": "markdown",
   "metadata": {},
   "source": [
    "_¿Qué continente tuvo una mayor probabilidad de ganar juegos?_\n",
    "\n",
    "El continente con mayor probabilidad de ganar juegos fue **Southamerica**"
   ]
  },
  {
   "cell_type": "markdown",
   "metadata": {},
   "source": [
    "_¿Qué continente presentó un nivel similar entre juegos ganados y perdidos?_"
   ]
  },
  {
   "cell_type": "markdown",
   "metadata": {},
   "source": [
    "Lo más similar es **áfrica**, que ganó el 60% y perdió el 40%"
   ]
  },
  {
   "cell_type": "markdown",
   "metadata": {},
   "source": [
    "- Utilize el código para el caso de juegos perdidos y analize el continente con una mayor probabilidad de perder."
   ]
  },
  {
   "cell_type": "code",
   "execution_count": 14,
   "metadata": {},
   "outputs": [
    {
     "name": "stdout",
     "output_type": "stream",
     "text": [
      "Para europe:\n",
      "  La probabilidad de tener al menos un juego perdido es 69%\n",
      "  La probabilidad de no tener juegos perdidos es 31%\n",
      "Para southamerica:\n",
      "  La probabilidad de tener al menos un juego perdido es 50%\n",
      "  La probabilidad de no tener juegos perdidos es 50%\n",
      "Para africa:\n",
      "  La probabilidad de tener al menos un juego perdido es 100%\n",
      "  La probabilidad de no tener juegos perdidos es 0%\n",
      "Para northamerica:\n",
      "  La probabilidad de tener al menos un juego perdido es 50%\n",
      "  La probabilidad de no tener juegos perdidos es 50%\n",
      "Para asia:\n",
      "  La probabilidad de tener al menos un juego perdido es 100%\n",
      "  La probabilidad de no tener juegos perdidos es 0%\n"
     ]
    }
   ],
   "source": [
    "for continent in continents:\n",
    "    result = pd.Series(np.where(continent['juegos_perdidos'] > 0, 1, 0))\n",
    "    print('Para {}:'.format(continent.iloc[0]['continent']))\n",
    "    counts = result.value_counts(normalize=True)\n",
    "    win_ratio = counts.get(1)\n",
    "    win_percent = (win_ratio and int(round(100 * win_ratio))) or 0\n",
    "    lost_ratio = counts.get(0)\n",
    "    lost_percent = (lost_ratio and int(round(100 * lost_ratio))) or 0\n",
    "    print('  La probabilidad de tener al menos un juego perdido es {}%'.format(win_percent))\n",
    "    print('  La probabilidad de no tener juegos perdidos es {}%'.format(lost_percent))"
   ]
  },
  {
   "cell_type": "markdown",
   "metadata": {},
   "source": [
    "El continente con una mayor probabilidad de perder es **Asia**, con un 100% de probabilidad 😂"
   ]
  }
 ],
 "metadata": {
  "kernelspec": {
   "display_name": "Python 3",
   "language": "python",
   "name": "python3"
  },
  "language_info": {
   "codemirror_mode": {
    "name": "ipython",
    "version": 3
   },
   "file_extension": ".py",
   "mimetype": "text/x-python",
   "name": "python",
   "nbconvert_exporter": "python",
   "pygments_lexer": "ipython3",
   "version": "3.7.3"
  }
 },
 "nbformat": 4,
 "nbformat_minor": 2
}
